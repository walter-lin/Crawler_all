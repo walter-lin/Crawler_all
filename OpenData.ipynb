{
  "nbformat": 4,
  "nbformat_minor": 0,
  "metadata": {
    "kernelspec": {
      "display_name": "Python 3",
      "language": "python",
      "name": "python3"
    },
    "language_info": {
      "codemirror_mode": {
        "name": "ipython",
        "version": 3
      },
      "file_extension": ".py",
      "mimetype": "text/x-python",
      "name": "python",
      "nbconvert_exporter": "python",
      "pygments_lexer": "ipython3",
      "version": "3.8.6"
    },
    "colab": {
      "name": "OpenData.ipynb",
      "provenance": [],
      "collapsed_sections": [],
      "toc_visible": true,
      "include_colab_link": true
    }
  },
  "cells": [
    {
      "cell_type": "markdown",
      "metadata": {
        "id": "view-in-github",
        "colab_type": "text"
      },
      "source": [
        "<a href=\"https://colab.research.google.com/github/walter-lin/Crawler_all/blob/main/OpenData.ipynb\" target=\"_parent\"><img src=\"https://colab.research.google.com/assets/colab-badge.svg\" alt=\"Open In Colab\"/></a>"
      ]
    },
    {
      "cell_type": "markdown",
      "metadata": {
        "id": "6K8adJukE9GV"
      },
      "source": [
        "#成大"
      ]
    },
    {
      "cell_type": "markdown",
      "metadata": {
        "id": "ff72zwtxHbtr"
      },
      "source": [
        "#requests、json 功能研究"
      ]
    },
    {
      "cell_type": "code",
      "metadata": {
        "colab": {
          "base_uri": "https://localhost:8080/"
        },
        "id": "2tmPwkhMFuCF",
        "outputId": "82d0963a-01be-4026-e0a4-87a65fe765e6"
      },
      "source": [
        "!pip install requests #安裝requests套件"
      ],
      "execution_count": null,
      "outputs": [
        {
          "output_type": "stream",
          "text": [
            "Requirement already satisfied: requests in /usr/local/lib/python3.6/dist-packages (2.23.0)\n",
            "Requirement already satisfied: urllib3!=1.25.0,!=1.25.1,<1.26,>=1.21.1 in /usr/local/lib/python3.6/dist-packages (from requests) (1.24.3)\n",
            "Requirement already satisfied: certifi>=2017.4.17 in /usr/local/lib/python3.6/dist-packages (from requests) (2020.12.5)\n",
            "Requirement already satisfied: idna<3,>=2.5 in /usr/local/lib/python3.6/dist-packages (from requests) (2.10)\n",
            "Requirement already satisfied: chardet<4,>=3.0.2 in /usr/local/lib/python3.6/dist-packages (from requests) (3.0.4)\n"
          ],
          "name": "stdout"
        }
      ]
    },
    {
      "cell_type": "code",
      "metadata": {
        "id": "sADpGG1PFGB1"
      },
      "source": [
        "import requests \r\n",
        "import json #將py物件(dict)與jason左轉換。方法：.dumps() .loads()"
      ],
      "execution_count": null,
      "outputs": []
    },
    {
      "cell_type": "code",
      "metadata": {
        "colab": {
          "base_uri": "https://localhost:8080/"
        },
        "id": "4AhpT3tcGyyb",
        "outputId": "361cdfe7-272d-4c7c-8379-b0443d1e8b3b"
      },
      "source": [
        "Data ={'a':1,'b':2,'c':3,'d':4,'e':5}\r\n",
        "text = json.dumps(Data) #將 Python 物件編碼成 JSON 字串\r\n",
        "print(text)"
      ],
      "execution_count": null,
      "outputs": [
        {
          "output_type": "stream",
          "text": [
            "{\"a\": 1, \"b\": 2, \"c\": 3, \"d\": 4, \"e\": 5}\n"
          ],
          "name": "stdout"
        }
      ]
    },
    {
      "cell_type": "code",
      "metadata": {
        "id": "zRgjmy94MS0V"
      },
      "source": [
        "#json vs dict\r\n",
        "#https://www.itread01.com/study/python-json.html"
      ],
      "execution_count": null,
      "outputs": []
    },
    {
      "cell_type": "code",
      "metadata": {
        "id": "ZLJzHSBVMdg0"
      },
      "source": [
        "#為了方便測試json to dict功能，匯入轉檔過的json檔來進行測試\r\n",
        "from google.colab import files #匯入colab上傳檔案套件\r\n",
        "\r\n",
        "uploaded = files.upload() #開啟上傳介面並載入\r\n",
        "for fn in uploaded.keys():  #顯示上傳檔案大小\r\n",
        "  print('User uploaded file \"{name}\" with length {length} bytes'.format(\r\n",
        "      name=fn, length=len(uploaded[fn])))"
      ],
      "execution_count": null,
      "outputs": []
    },
    {
      "cell_type": "code",
      "metadata": {
        "id": "q2B2zKK7rgzB"
      },
      "source": [
        "#測試有問題，保留由後面範例測試功能\r\n",
        "from pprint import pprint\r\n",
        "import pandas as pd\r\n",
        "\r\n",
        "json = pd.read_json('./csvjson.json') #將json解析為py的dict\r\n",
        "pprint(json) #pprint會把jason資料整理得較為好看"
      ],
      "execution_count": null,
      "outputs": []
    },
    {
      "cell_type": "code",
      "metadata": {
        "id": "-h_N2jWlrzaw"
      },
      "source": [
        "#requests套件學習\r\n",
        "import requests  \r\n",
        "r = requests.get('https://www.google.com.tw/')"
      ],
      "execution_count": null,
      "outputs": []
    },
    {
      "cell_type": "code",
      "metadata": {
        "colab": {
          "base_uri": "https://localhost:8080/"
        },
        "id": "KJRLbbWpoS0k",
        "outputId": "54455ac3-2747-43f9-8468-8f7396b7b0ef"
      },
      "source": [
        "print(r) # 伺服器回應的狀態碼 #顯示200代表沒問題"
      ],
      "execution_count": null,
      "outputs": [
        {
          "output_type": "stream",
          "text": [
            "<Response [200]>\n"
          ],
          "name": "stdout"
        }
      ]
    },
    {
      "cell_type": "code",
      "metadata": {
        "colab": {
          "base_uri": "https://localhost:8080/"
        },
        "id": "qkcxcpUZLk3A",
        "outputId": "fc3cc998-e13f-4997-daef-f4bad21c13fb"
      },
      "source": [
        "# 伺服器回應的狀態碼 #顯示200代表沒問題\r\n",
        "print(r.status_code)"
      ],
      "execution_count": null,
      "outputs": [
        {
          "output_type": "stream",
          "text": [
            "200\n"
          ],
          "name": "stdout"
        }
      ]
    },
    {
      "cell_type": "code",
      "metadata": {
        "colab": {
          "base_uri": "https://localhost:8080/"
        },
        "id": "glRHLNKeLvq3",
        "outputId": "60c29d9b-82c9-476f-caeb-2328b0b273f6"
      },
      "source": [
        "# 檢查狀態碼是否 OK\r\n",
        "if r.status_code == requests.codes.ok:\r\n",
        "  print(\"OK\")\r\n",
        "#https://blog.gtwang.org/programming/python-requests-module-tutorial/"
      ],
      "execution_count": null,
      "outputs": [
        {
          "output_type": "stream",
          "text": [
            "OK\n"
          ],
          "name": "stdout"
        }
      ]
    },
    {
      "cell_type": "code",
      "metadata": {
        "id": "W4Vh93rfzZxy"
      },
      "source": [
        "# 輸出網頁 HTML 原始碼\r\n",
        "pprint(r.text)"
      ],
      "execution_count": null,
      "outputs": []
    },
    {
      "cell_type": "code",
      "metadata": {
        "id": "YD0xp_Nqnti2"
      },
      "source": [
        "#因為格式為 HTML 所以我們以 .text 屬性擷取為 str 資料型態"
      ],
      "execution_count": null,
      "outputs": []
    },
    {
      "cell_type": "code",
      "metadata": {
        "colab": {
          "base_uri": "https://localhost:8080/"
        },
        "id": "DQ4TEOdmMEqA",
        "outputId": "a20b3ab6-6b7d-4aad-c0dd-b48b65079a02"
      },
      "source": [
        "r = requests.post(\"https://www.cjcu.edu.tw/\")\r\n",
        "print('url:',r) \r\n",
        "print('- '*30)\r\n",
        "print('url:',r.url) #網址\r\n",
        "print('- '*30)\r\n",
        "print('url:',r.status_code) #狀態碼\r\n",
        "print('- '*30)\r\n",
        "print('url:',r.reason) #描述"
      ],
      "execution_count": null,
      "outputs": [
        {
          "output_type": "stream",
          "text": [
            "url: <Response [200]>\n",
            "- - - - - - - - - - - - - - - - - - - - - - - - - - - - - - \n",
            "url: https://www.cjcu.edu.tw/\n",
            "- - - - - - - - - - - - - - - - - - - - - - - - - - - - - - \n",
            "url: 200\n",
            "- - - - - - - - - - - - - - - - - - - - - - - - - - - - - - \n",
            "url: OK\n"
          ],
          "name": "stdout"
        }
      ]
    },
    {
      "cell_type": "markdown",
      "metadata": {
        "id": "iDpHuaCZPFgg"
      },
      "source": [
        "**狀代碼：**\r\n",
        "\r\n",
        "1xx 訊息 ：請求已被伺服器端接收\r\n",
        "\r\n",
        "2xx 成功：請求已被伺服器端理解並接受 成功：請求已被伺服器端理解並接受\r\n",
        "\r\n",
        "3xx 重新導向：需要後續操作才能完成這一請求 重新導向：需要後續操作才能完成這一請求\r\n",
        "\r\n",
        "4xx 請求錯誤：含有語法或者無被執行 請求錯誤：含有語法或者無被執行\r\n",
        "\r\n",
        "5xx 伺服器錯誤：在處理某個正確請求時發生（不知道 伺服器錯誤：在處理某個正確請求時發生（不知道 伺服器錯誤：在處理某個正確請求時發生（不知道 伺服器錯誤：在處理某個正確請求時發生（不知道 伺服器錯誤：在處理某個正確請求時發生（不知道 如何處理、 HTTP HTTP 版本不對等的錯誤 版本不對等的錯誤 ）\r\n",
        "\r\n",
        "example：\r\n",
        "200 OK: 請求成功\r\n",
        "404 Not Found：找不到請求資源\r\n"
      ]
    },
    {
      "cell_type": "markdown",
      "metadata": {
        "id": "HJkfQ70uMY2A"
      },
      "source": [
        "## Practice 1"
      ]
    },
    {
      "cell_type": "code",
      "metadata": {
        "colab": {
          "base_uri": "https://localhost:8080/"
        },
        "id": "qWEV-gj-VIZB",
        "outputId": "f97e4544-0cc3-4828-ffc5-6f04d8ef65e5"
      },
      "source": [
        "#練習，使用api\r\n",
        "#https://reqres.in/\r\n",
        "import requests \r\n",
        "import json\r\n",
        "\r\n",
        "url =\"https://reqres.in/api/users\"\r\n",
        "\r\n",
        "r = requests.get(url)\r\n",
        "api_name = json.loads(r.text) #將json檔轉為python字典檔\r\n",
        "\r\n",
        "from pprint import pprint\r\n",
        "pprint(api_name)"
      ],
      "execution_count": null,
      "outputs": [
        {
          "output_type": "stream",
          "text": [
            "{'data': [{'avatar': 'https://reqres.in/img/faces/1-image.jpg',\n",
            "           'email': 'george.bluth@reqres.in',\n",
            "           'first_name': 'George',\n",
            "           'id': 1,\n",
            "           'last_name': 'Bluth'},\n",
            "          {'avatar': 'https://reqres.in/img/faces/2-image.jpg',\n",
            "           'email': 'janet.weaver@reqres.in',\n",
            "           'first_name': 'Janet',\n",
            "           'id': 2,\n",
            "           'last_name': 'Weaver'},\n",
            "          {'avatar': 'https://reqres.in/img/faces/3-image.jpg',\n",
            "           'email': 'emma.wong@reqres.in',\n",
            "           'first_name': 'Emma',\n",
            "           'id': 3,\n",
            "           'last_name': 'Wong'},\n",
            "          {'avatar': 'https://reqres.in/img/faces/4-image.jpg',\n",
            "           'email': 'eve.holt@reqres.in',\n",
            "           'first_name': 'Eve',\n",
            "           'id': 4,\n",
            "           'last_name': 'Holt'},\n",
            "          {'avatar': 'https://reqres.in/img/faces/5-image.jpg',\n",
            "           'email': 'charles.morris@reqres.in',\n",
            "           'first_name': 'Charles',\n",
            "           'id': 5,\n",
            "           'last_name': 'Morris'},\n",
            "          {'avatar': 'https://reqres.in/img/faces/6-image.jpg',\n",
            "           'email': 'tracey.ramos@reqres.in',\n",
            "           'first_name': 'Tracey',\n",
            "           'id': 6,\n",
            "           'last_name': 'Ramos'}],\n",
            " 'page': 1,\n",
            " 'per_page': 6,\n",
            " 'support': {'text': 'To keep ReqRes free, contributions towards server costs '\n",
            "                     'are appreciated!',\n",
            "             'url': 'https://reqres.in/#support-heading'},\n",
            " 'total': 12,\n",
            " 'total_pages': 2}\n"
          ],
          "name": "stdout"
        }
      ]
    },
    {
      "cell_type": "code",
      "metadata": {
        "id": "sAK25LlNHAeY",
        "colab": {
          "base_uri": "https://localhost:8080/"
        },
        "outputId": "c5feb7a2-6c14-491b-c75a-de74c47e6b24"
      },
      "source": [
        "r = requests.get(url)\r\n",
        "api_name = json.loads(r.text) #將json檔轉為python字典檔\r\n",
        "\r\n",
        "from pprint import pprint\r\n",
        "print('拆解：')\r\n",
        "pprint(api_name['data'])\r\n",
        "print('- '*30)\r\n",
        "pprint(api_name['data'][2])\r\n",
        "print('- '*30)\r\n",
        "pprint(api_name['data'][2]['id'])\r\n",
        "print('- '*30)"
      ],
      "execution_count": null,
      "outputs": [
        {
          "output_type": "stream",
          "text": [
            "拆解：\n",
            "[{'avatar': 'https://reqres.in/img/faces/1-image.jpg',\n",
            "  'email': 'george.bluth@reqres.in',\n",
            "  'first_name': 'George',\n",
            "  'id': 1,\n",
            "  'last_name': 'Bluth'},\n",
            " {'avatar': 'https://reqres.in/img/faces/2-image.jpg',\n",
            "  'email': 'janet.weaver@reqres.in',\n",
            "  'first_name': 'Janet',\n",
            "  'id': 2,\n",
            "  'last_name': 'Weaver'},\n",
            " {'avatar': 'https://reqres.in/img/faces/3-image.jpg',\n",
            "  'email': 'emma.wong@reqres.in',\n",
            "  'first_name': 'Emma',\n",
            "  'id': 3,\n",
            "  'last_name': 'Wong'},\n",
            " {'avatar': 'https://reqres.in/img/faces/4-image.jpg',\n",
            "  'email': 'eve.holt@reqres.in',\n",
            "  'first_name': 'Eve',\n",
            "  'id': 4,\n",
            "  'last_name': 'Holt'},\n",
            " {'avatar': 'https://reqres.in/img/faces/5-image.jpg',\n",
            "  'email': 'charles.morris@reqres.in',\n",
            "  'first_name': 'Charles',\n",
            "  'id': 5,\n",
            "  'last_name': 'Morris'},\n",
            " {'avatar': 'https://reqres.in/img/faces/6-image.jpg',\n",
            "  'email': 'tracey.ramos@reqres.in',\n",
            "  'first_name': 'Tracey',\n",
            "  'id': 6,\n",
            "  'last_name': 'Ramos'}]\n",
            "- - - - - - - - - - - - - - - - - - - - - - - - - - - - - - \n",
            "{'avatar': 'https://reqres.in/img/faces/3-image.jpg',\n",
            " 'email': 'emma.wong@reqres.in',\n",
            " 'first_name': 'Emma',\n",
            " 'id': 3,\n",
            " 'last_name': 'Wong'}\n",
            "- - - - - - - - - - - - - - - - - - - - - - - - - - - - - - \n",
            "3\n",
            "- - - - - - - - - - - - - - - - - - - - - - - - - - - - - - \n"
          ],
          "name": "stdout"
        }
      ]
    },
    {
      "cell_type": "code",
      "metadata": {
        "colab": {
          "base_uri": "https://localhost:8080/"
        },
        "id": "jGPkbUytKW2e",
        "outputId": "66b2d0bb-c699-4580-bc3e-bfd8d44c8d63"
      },
      "source": [
        "# post，對應api功能為create\r\n",
        "user = {\"name\": \"morpheus\",\"job\": \"leader\"}\r\n",
        "r = requests.post(url,user)\r\n",
        "api_name = json.loads(r.text)\r\n",
        "\r\n",
        "from pprint import pprint\r\n",
        "pprint(api_name)"
      ],
      "execution_count": null,
      "outputs": [
        {
          "output_type": "stream",
          "text": [
            "{'createdAt': '2021-01-03T17:02:14.411Z',\n",
            " 'id': '37',\n",
            " 'job': 'leader',\n",
            " 'name': 'morpheus'}\n"
          ],
          "name": "stdout"
        }
      ]
    },
    {
      "cell_type": "code",
      "metadata": {
        "id": "Tujc7exwMOkd"
      },
      "source": [
        "# put,對應網站功能為updata\r\n",
        "user = {\"name\": \"morpheus\",\"job\": \"zion resident\"}\r\n",
        "r = requests.put(url,user)\r\n",
        "api_name = json.loads(r.text)\r\n",
        "\r\n",
        "from pprint import pprint\r\n",
        "pprint(api_name)"
      ],
      "execution_count": null,
      "outputs": []
    },
    {
      "cell_type": "markdown",
      "metadata": {
        "id": "sw6kytFMm-er"
      },
      "source": [
        "##Pactice 2"
      ]
    },
    {
      "cell_type": "code",
      "metadata": {
        "colab": {
          "base_uri": "https://localhost:8080/"
        },
        "id": "Ce6LSPo_Npi1",
        "outputId": "68546217-58ce-43b0-e6fd-aff10cd44f1e"
      },
      "source": [
        "#練習，github\r\n",
        "from pprint import pprint\r\n",
        "import requests \r\n",
        "url = 'https://api.github.com/repos/pydata/pandas/milestones/28/labels' \r\n",
        "resp = requests.get(url)\r\n",
        "data = resp.json()\r\n",
        "pprint(data[2])\r\n",
        "print('- '*30)\r\n",
        "pprint(data[2]['name'])\r\n",
        "print('- '*30)\r\n",
        "pprint(type(data[1:3]))\r\n",
        "pprint(data[1:3])"
      ],
      "execution_count": null,
      "outputs": [
        {
          "output_type": "stream",
          "text": [
            "{'color': 'FCE94F',\n",
            " 'default': False,\n",
            " 'description': 'Internal refactoring of code',\n",
            " 'id': 127681,\n",
            " 'name': 'Refactor',\n",
            " 'node_id': 'MDU6TGFiZWwxMjc2ODE=',\n",
            " 'url': 'https://api.github.com/repos/pandas-dev/pandas/labels/Refactor'}\n",
            "- - - - - - - - - - - - - - - - - - - - - - - - - - - - - - \n",
            "'Refactor'\n",
            "- - - - - - - - - - - - - - - - - - - - - - - - - - - - - - \n",
            "<class 'list'>\n",
            "[{'color': '4E9A06',\n",
            "  'default': False,\n",
            "  'description': None,\n",
            "  'id': 76812,\n",
            "  'name': 'Enhancement',\n",
            "  'node_id': 'MDU6TGFiZWw3NjgxMg==',\n",
            "  'url': 'https://api.github.com/repos/pandas-dev/pandas/labels/Enhancement'},\n",
            " {'color': 'FCE94F',\n",
            "  'default': False,\n",
            "  'description': 'Internal refactoring of code',\n",
            "  'id': 127681,\n",
            "  'name': 'Refactor',\n",
            "  'node_id': 'MDU6TGFiZWwxMjc2ODE=',\n",
            "  'url': 'https://api.github.com/repos/pandas-dev/pandas/labels/Refactor'}]\n"
          ],
          "name": "stdout"
        }
      ]
    },
    {
      "cell_type": "markdown",
      "metadata": {
        "id": "mIZUNpMTnDrd"
      },
      "source": [
        "##Pactice 3"
      ]
    },
    {
      "cell_type": "code",
      "metadata": {
        "id": "iVZUNVYgPfjv",
        "colab": {
          "base_uri": "https://localhost:8080/"
        },
        "outputId": "cb6d0d03-88f4-4614-aa7a-3f3ec8227353"
      },
      "source": [
        "#練習，台灣證券交易所\r\n",
        "import requests\r\n",
        "url = 'http://www.twse.com.tw/exchangeReport/MI_INDEX?respones=json&date=20101202'\r\n",
        "resp = requests.get(url+'type=ALLBUT0999')\r\n",
        "data = resp.json()\r\n",
        "data"
      ],
      "execution_count": null,
      "outputs": [
        {
          "output_type": "execute_result",
          "data": {
            "text/plain": [
              "{'alignsStyle7': [['center', 'center', 'center', 'center'],\n",
              "  ['left', 'right', 'right', 'right'],\n",
              "  [16, 8, 8, 6]],\n",
              " 'data7': [['1.一般股票', '168,267,985,867', '4,793,269,325', '1,248,983'],\n",
              "  ['2.台灣存託憑證', '1,320,204,238', '80,261,512', '19,493'],\n",
              "  ['3.受益憑證', '935,240', '123,000', '32'],\n",
              "  ['4.ETF', '1,022,543,116', '28,728,765', '5,780'],\n",
              "  ['5.受益證券', '32,950,320', '2,820,000', '314'],\n",
              "  ['6.變更交易股票', '11,664,119', '2,395,643', '806'],\n",
              "  ['7.認購(售)權證', '1,616,055,470', '1,466,834,000', '48,171'],\n",
              "  ['8.轉換公司債', 0, 0, 0],\n",
              "  ['9.附認股權特別股', 0, 0, 0],\n",
              "  ['10.附認股權公司債', 0, 0, 0],\n",
              "  ['11.認股權憑證', 0, 0, 0],\n",
              "  ['12.公司債', 0, 0, 0],\n",
              "  ['13.ETN', 0, 0, 0],\n",
              "  ['證券合計(1+6)', '168,279,649,986', '4,795,664,968', '1,249,789'],\n",
              "  ['總計(1~13)', '172,272,338,370', '6,374,432,245', '1,323,579']],\n",
              " 'date': '20101202',\n",
              " 'fields7': ['成交統計', '成交金額(元)', '成交股數(股)', '成交筆數'],\n",
              " 'notes7': ['\"漲跌價差\"為當日收盤價與前一日收盤價比較。', '\"無比價\"含前一日無收盤價、當日除權、除息、新上市、恢復交易者。'],\n",
              " 'params': {'action': 'MI_INDEX',\n",
              "  'controller': 'exchangeReport',\n",
              "  'date': '20101202',\n",
              "  'format': None,\n",
              "  'lang': 'zh',\n",
              "  'respones': 'json',\n",
              "  'type': 'MS'},\n",
              " 'stat': 'OK',\n",
              " 'subtitle7': '099年12月02日 大盤統計資訊'}"
            ]
          },
          "metadata": {
            "tags": []
          },
          "execution_count": 24
        }
      ]
    },
    {
      "cell_type": "markdown",
      "metadata": {
        "id": "8PpitkkonI5K"
      },
      "source": [
        "##Pactice 4"
      ]
    },
    {
      "cell_type": "code",
      "metadata": {
        "id": "o7-xL7_1h0JC"
      },
      "source": [
        "#練習，dcard\r\n",
        "from pprint import pprint\r\n",
        "import requests \r\n",
        "import json \r\n",
        "url = 'https://www.dcard.tw/' \r\n",
        "dcard_api = url + '_api/posts?popular=true'\r\n",
        "num_page=20\r\n",
        "posts = list(requests.get(dcard_api).json())  \r\n",
        "for ii in range(1,num_page):\r\n",
        "  lastpost_id =posts[-1]['id']\r\n",
        "  posts += list(requests.get(dcard_api+'&before='+str(lastpost_id)).json())\r\n",
        "# pprint(posts[0])\r\n",
        "print('- '*15+'mediaMeta'+'- '*15)\r\n",
        "pprint(posts[0]['mediaMeta'])\r\n",
        "print('- '*15+' [1] '+'- '*15)\r\n",
        "pprint(posts[0]['mediaMeta'][1])\r\n",
        "print('- '*15+' croppingWindow '+'- '*15)\r\n",
        "pprint(posts[0]['mediaMeta'][1]['croppingWindow'])\r\n",
        "print('- '*15+' width '+'- '*15)\r\n",
        "pprint(posts[0]['mediaMeta'][1]['croppingWindow']['width'])"
      ],
      "execution_count": null,
      "outputs": []
    },
    {
      "cell_type": "markdown",
      "metadata": {
        "id": "wQ3UQctqnPhh"
      },
      "source": [
        "#beautifulsoup4 功能研究\r\n",
        "\r\n",
        "\r\n"
      ]
    },
    {
      "cell_type": "code",
      "metadata": {
        "colab": {
          "base_uri": "https://localhost:8080/"
        },
        "id": "eHB2lW55yDAK",
        "outputId": "612931be-562b-45e2-fb3f-b5b9975018ec"
      },
      "source": [
        "!pip install beautifulsoup4 #安裝beautifulsoup4"
      ],
      "execution_count": null,
      "outputs": [
        {
          "output_type": "stream",
          "text": [
            "Requirement already satisfied: beautifulsoup4 in /usr/local/lib/python3.6/dist-packages (4.6.3)\n"
          ],
          "name": "stdout"
        }
      ]
    },
    {
      "cell_type": "code",
      "metadata": {
        "id": "bb4A_BHoyRQS"
      },
      "source": [
        "#練習，成大版標題\r\n",
        "import requests\r\n",
        "from bs4 import BeautifulSoup\r\n",
        "\r\n",
        "url = 'https://www.ptt.cc/bbs/NCKU/index.html'\r\n",
        "soup = BeautifulSoup(requests.get(url).text,'lxml')\r\n",
        "q = soup.find_all(class_='title')\r\n",
        "\r\n",
        "for title in soup.find_all(class_='title'):\r\n",
        "  print(title.text.replace('\\n','')) #過程參考\"拆解研究\""
      ],
      "execution_count": null,
      "outputs": []
    },
    {
      "cell_type": "code",
      "metadata": {
        "id": "i1Z1pKT_ylmL"
      },
      "source": [
        "print(soup.prettify()) #.prettify()將結果整理得比較漂亮"
      ],
      "execution_count": null,
      "outputs": []
    },
    {
      "cell_type": "markdown",
      "metadata": {
        "id": "j84GfPj5Ql_b"
      },
      "source": [
        "**取得html標籤**"
      ]
    },
    {
      "cell_type": "code",
      "metadata": {
        "colab": {
          "base_uri": "https://localhost:8080/"
        },
        "id": "0K9L4qmRzGx_",
        "outputId": "9068ca06-fa0e-41b2-d896-2bd1e94c3cd0"
      },
      "source": [
        "print(soup.title) #取得html標籤"
      ],
      "execution_count": null,
      "outputs": [
        {
          "output_type": "stream",
          "text": [
            "<title>看板 NCKU 文章列表 - 批踢踢實業坊</title>\n"
          ],
          "name": "stdout"
        }
      ]
    },
    {
      "cell_type": "markdown",
      "metadata": {
        "id": "WqDBVNTlRAkU"
      },
      "source": [
        "**取得標籤內的內容**"
      ]
    },
    {
      "cell_type": "code",
      "metadata": {
        "colab": {
          "base_uri": "https://localhost:8080/"
        },
        "id": "dKXTpiB-3Jju",
        "outputId": "ef3236a6-71b1-42fd-e235-0cf782fb7a44"
      },
      "source": [
        "print(soup.title.text) #取得標籤裡的文字內容"
      ],
      "execution_count": null,
      "outputs": [
        {
          "output_type": "stream",
          "text": [
            "看板 NCKU 文章列表 - 批踢踢實業坊\n"
          ],
          "name": "stdout"
        }
      ]
    },
    {
      "cell_type": "markdown",
      "metadata": {
        "id": "UCH2viLYSVTa"
      },
      "source": [
        "**搜尋\"所有\"標籤節點，並儲存成list**"
      ]
    },
    {
      "cell_type": "code",
      "metadata": {
        "colab": {
          "base_uri": "https://localhost:8080/"
        },
        "id": "eKITUTmrStCi",
        "outputId": "4779d4b0-758a-4aaf-dc0e-089e271d73f9"
      },
      "source": [
        "print(soup.find_all('a'))"
      ],
      "execution_count": null,
      "outputs": [
        {
          "output_type": "stream",
          "text": [
            "[<a href=\"/bbs/\" id=\"logo\">批踢踢實業坊</a>, <a class=\"board\" href=\"/bbs/NCKU/index.html\"><span class=\"board-label\">看板 </span>NCKU</a>, <a class=\"right small\" href=\"/about.html\">關於我們</a>, <a class=\"right small\" href=\"/contact.html\">聯絡資訊</a>, <a class=\"btn selected\" href=\"/bbs/NCKU/index.html\">看板</a>, <a class=\"btn\" href=\"/man/NCKU/index.html\">精華區</a>, <a class=\"btn wide\" href=\"/bbs/NCKU/index1.html\">最舊</a>, <a class=\"btn wide\" href=\"/bbs/NCKU/index142.html\">‹ 上頁</a>, <a class=\"btn wide disabled\">下頁 ›</a>, <a class=\"btn wide\" href=\"/bbs/NCKU/index.html\">最新</a>, <a href=\"/bbs/NCKU/M.1608624585.A.361.html\">[閒聊] 慟！要放寒假了 人生悲劇</a>, <a href=\"/bbs/NCKU/search?q=thread%3A%5B%E9%96%92%E8%81%8A%5D+%E6%85%9F%EF%BC%81%E8%A6%81%E6%94%BE%E5%AF%92%E5%81%87%E4%BA%86+%E4%BA%BA%E7%94%9F%E6%82%B2%E5%8A%87\">搜尋同標題文章</a>, <a href=\"/bbs/NCKU/search?q=author%3Ajoey890309\">搜尋看板內 joey890309 的文章</a>, <a href=\"/bbs/NCKU/M.1608735597.A.CD1.html\">[閒聊] 聖誕快樂</a>, <a href=\"/bbs/NCKU/search?q=thread%3A%5B%E9%96%92%E8%81%8A%5D+%E8%81%96%E8%AA%95%E5%BF%AB%E6%A8%82\">搜尋同標題文章</a>, <a href=\"/bbs/NCKU/search?q=author%3Acksix67\">搜尋看板內 cksix67 的文章</a>, <a href=\"/bbs/NCKU/M.1608831165.A.62C.html\">感受痛苦吧</a>, <a href=\"/bbs/NCKU/search?q=thread%3A%E6%84%9F%E5%8F%97%E7%97%9B%E8%8B%A6%E5%90%A7\">搜尋同標題文章</a>, <a href=\"/bbs/NCKU/search?q=author%3Amarchs24145\">搜尋看板內 marchs24145 的文章</a>, <a href=\"/bbs/NCKU/M.1608860817.A.7F8.html\">[閒聊] 應景一下</a>, <a href=\"/bbs/NCKU/search?q=thread%3A%5B%E9%96%92%E8%81%8A%5D+%E6%87%89%E6%99%AF%E4%B8%80%E4%B8%8B\">搜尋同標題文章</a>, <a href=\"/bbs/NCKU/search?q=author%3Aunilions68\">搜尋看板內 unilions68 的文章</a>, <a href=\"/bbs/NCKU/M.1608884451.A.AEA.html\">[姆咪] 這是我寫的一首小詩</a>, <a href=\"/bbs/NCKU/search?q=thread%3A%5B%E5%A7%86%E5%92%AA%5D+%E9%80%99%E6%98%AF%E6%88%91%E5%AF%AB%E7%9A%84%E4%B8%80%E9%A6%96%E5%B0%8F%E8%A9%A9\">搜尋同標題文章</a>, <a href=\"/bbs/NCKU/search?q=author%3Aejsucocky\">搜尋看板內 ejsucocky 的文章</a>, <a href=\"/bbs/NCKU/M.1608890421.A.867.html\">[姆咪] 姆咪</a>, <a href=\"/bbs/NCKU/search?q=thread%3A%5B%E5%A7%86%E5%92%AA%5D+%E5%A7%86%E5%92%AA\">搜尋同標題文章</a>, <a href=\"/bbs/NCKU/search?q=author%3Alavender13\">搜尋看板內 lavender13 的文章</a>, <a href=\"/bbs/NCKU/M.1608908078.A.359.html\">[新聞] 成大斥資7.98億 新建東寧學生宿舍</a>, <a href=\"/bbs/NCKU/search?q=thread%3A%5B%E6%96%B0%E8%81%9E%5D+%E6%88%90%E5%A4%A7%E6%96%A5%E8%B3%877.98%E5%84%84+%E6%96%B0%E5%BB%BA%E6%9D%B1%E5%AF%A7%E5%AD%B8%E7%94%9F%E5%AE%BF%E8%88%8D\">搜尋同標題文章</a>, <a href=\"/bbs/NCKU/search?q=author%3Araistlinwolf\">搜尋看板內 raistlinwolf 的文章</a>, <a href=\"/bbs/NCKU/M.1609329615.A.F01.html\">[閒聊] 2020最後一篇文</a>, <a href=\"/bbs/NCKU/search?q=thread%3A%5B%E9%96%92%E8%81%8A%5D+2020%E6%9C%80%E5%BE%8C%E4%B8%80%E7%AF%87%E6%96%87\">搜尋同標題文章</a>, <a href=\"/bbs/NCKU/search?q=author%3Aunilions68\">搜尋看板內 unilions68 的文章</a>, <a href=\"/bbs/NCKU/M.1609357545.A.DEA.html\">[問題] 欸欸！天氣怎麼冷怎麼辦！</a>, <a href=\"/bbs/NCKU/search?q=thread%3A%5B%E5%95%8F%E9%A1%8C%5D+%E6%AC%B8%E6%AC%B8%EF%BC%81%E5%A4%A9%E6%B0%A3%E6%80%8E%E9%BA%BC%E5%86%B7%E6%80%8E%E9%BA%BC%E8%BE%A6%EF%BC%81\">搜尋同標題文章</a>, <a href=\"/bbs/NCKU/search?q=author%3Alavender13\">搜尋看板內 lavender13 的文章</a>, <a href=\"/bbs/NCKU/M.1609430050.A.53A.html\">[閒聊] 2020最後一篇文</a>, <a href=\"/bbs/NCKU/search?q=thread%3A%5B%E9%96%92%E8%81%8A%5D+2020%E6%9C%80%E5%BE%8C%E4%B8%80%E7%AF%87%E6%96%87\">搜尋同標題文章</a>, <a href=\"/bbs/NCKU/search?q=author%3Aunilions68\">搜尋看板內 unilions68 的文章</a>, <a href=\"/bbs/NCKU/M.1609430947.A.5CA.html\">[閒聊] 2021第一篇文</a>, <a href=\"/bbs/NCKU/search?q=thread%3A%5B%E9%96%92%E8%81%8A%5D+2021%E7%AC%AC%E4%B8%80%E7%AF%87%E6%96%87\">搜尋同標題文章</a>, <a href=\"/bbs/NCKU/search?q=author%3Aunilions68\">搜尋看板內 unilions68 的文章</a>, <a href=\"/bbs/NCKU/M.1609649754.A.A80.html\">[閒聊] 今天的事</a>, <a href=\"/bbs/NCKU/search?q=thread%3A%5B%E9%96%92%E8%81%8A%5D+%E4%BB%8A%E5%A4%A9%E7%9A%84%E4%BA%8B\">搜尋同標題文章</a>, <a href=\"/bbs/NCKU/search?q=author%3Alavender13\">搜尋看板內 lavender13 的文章</a>, <a href=\"/bbs/NCKU/M.1609675046.A.1F6.html\">[閒聊] 寒假要幹嘛？？？</a>, <a href=\"/bbs/NCKU/search?q=thread%3A%5B%E9%96%92%E8%81%8A%5D+%E5%AF%92%E5%81%87%E8%A6%81%E5%B9%B9%E5%98%9B%EF%BC%9F%EF%BC%9F%EF%BC%9F\">搜尋同標題文章</a>, <a href=\"/bbs/NCKU/search?q=author%3Arefrain5566\">搜尋看板內 refrain5566 的文章</a>, <a href=\"/bbs/NCKU/M.1609737172.A.E05.html\">[問題] 欸! 上必修課後面同學唱聖誕歌怎麼辦?</a>, <a href=\"/bbs/NCKU/search?q=thread%3A%5B%E5%95%8F%E9%A1%8C%5D+%E6%AC%B8%21+%E4%B8%8A%E5%BF%85%E4%BF%AE%E8%AA%B2%E5%BE%8C%E9%9D%A2%E5%90%8C%E5%AD%B8%E5%94%B1%E8%81%96%E8%AA%95%E6%AD%8C%E6%80%8E%E9%BA%BC%E8%BE%A6%3F\">搜尋同標題文章</a>, <a href=\"/bbs/NCKU/search?q=author%3Aspikes9933\">搜尋看板內 spikes9933 的文章</a>, <a href=\"/bbs/NCKU/M.1609761482.A.06A.html\">[問題] ㄏㄨ卡shaか？</a>, <a href=\"/bbs/NCKU/search?q=thread%3A%5B%E5%95%8F%E9%A1%8C%5D+%E3%84%8F%E3%84%A8%E5%8D%A1sha%E3%81%8B%EF%BC%9F\">搜尋同標題文章</a>, <a href=\"/bbs/NCKU/search?q=author%3Aejsucocky\">搜尋看板內 ejsucocky 的文章</a>, <a href=\"/bbs/NCKU/M.1609827345.A.287.html\">[閒聊] かもめ展翅高迴遠飛</a>, <a href=\"/bbs/NCKU/search?q=thread%3A%5B%E9%96%92%E8%81%8A%5D+%E3%81%8B%E3%82%82%E3%82%81%E5%B1%95%E7%BF%85%E9%AB%98%E8%BF%B4%E9%81%A0%E9%A3%9B\">搜尋同標題文章</a>, <a href=\"/bbs/NCKU/search?q=author%3Amarchs24145\">搜尋看板內 marchs24145 的文章</a>, <a href=\"/bbs/NCKU/M.1609841798.A.5B7.html\">[閒聊] 要出發了</a>, <a href=\"/bbs/NCKU/search?q=thread%3A%5B%E9%96%92%E8%81%8A%5D+%E8%A6%81%E5%87%BA%E7%99%BC%E4%BA%86\">搜尋同標題文章</a>, <a href=\"/bbs/NCKU/search?q=author%3Achiao0901\">搜尋看板內 chiao0901 的文章</a>, <a href=\"/bbs/NCKU/M.1609853464.A.465.html\">[閒聊] 2021 置底閒聊</a>, <a href=\"/bbs/NCKU/search?q=thread%3A%5B%E9%96%92%E8%81%8A%5D+2021+%E7%BD%AE%E5%BA%95%E9%96%92%E8%81%8A\">搜尋同標題文章</a>, <a href=\"/bbs/NCKU/search?q=author%3AXuxxin\">搜尋看板內 Xuxxin 的文章</a>, <a href=\"/bbs/NCKU/M.1609906833.A.270.html\">[閒聊] 萬五放空自豪三輩子！</a>, <a href=\"/bbs/NCKU/search?q=thread%3A%5B%E9%96%92%E8%81%8A%5D+%E8%90%AC%E4%BA%94%E6%94%BE%E7%A9%BA%E8%87%AA%E8%B1%AA%E4%B8%89%E8%BC%A9%E5%AD%90%EF%BC%81\">搜尋同標題文章</a>, <a href=\"/bbs/NCKU/search?q=author%3AAllBlack\">搜尋看板內 AllBlack 的文章</a>, <a href=\"/bbs/NCKU/M.1609925757.A.730.html\">[閒聊] 欸欸成式語言拉</a>, <a href=\"/bbs/NCKU/search?q=thread%3A%5B%E9%96%92%E8%81%8A%5D+%E6%AC%B8%E6%AC%B8%E6%88%90%E5%BC%8F%E8%AA%9E%E8%A8%80%E6%8B%89\">搜尋同標題文章</a>, <a href=\"/bbs/NCKU/search?q=author%3Atibo96033\">搜尋看板內 tibo96033 的文章</a>, <a href=\"/bbs/NCKU/M.1551772145.A.17F.html\">[公告]成大板板規 </a>, <a href=\"/bbs/NCKU/search?q=thread%3A%5B%E5%85%AC%E5%91%8A%5D%E6%88%90%E5%A4%A7%E6%9D%BF%E6%9D%BF%E8%A6%8F+\">搜尋同標題文章</a>, <a href=\"/bbs/NCKU/search?q=author%3AXuxxin\">搜尋看板內 Xuxxin 的文章</a>, <a href=\"/bbs/NCKU/M.1609853464.A.465.html\">[閒聊] 2021 置底閒聊</a>, <a href=\"/bbs/NCKU/search?q=thread%3A%5B%E9%96%92%E8%81%8A%5D+2021+%E7%BD%AE%E5%BA%95%E9%96%92%E8%81%8A\">搜尋同標題文章</a>, <a href=\"/bbs/NCKU/search?q=author%3AXuxxin\">搜尋看板內 Xuxxin 的文章</a>]\n"
          ],
          "name": "stdout"
        }
      ]
    },
    {
      "cell_type": "code",
      "metadata": {
        "id": "3MN0C_aCd02r"
      },
      "source": [
        "list = soup.find_all('a')\r\n",
        "for i in list: #逐一取出並印出\r\n",
        "  print(i)"
      ],
      "execution_count": null,
      "outputs": []
    },
    {
      "cell_type": "markdown",
      "metadata": {
        "id": "KcYv1z_oR_55"
      },
      "source": [
        "**搜尋\"第一個\"標籤節點**\r\n",
        "\r\n",
        "\r\n",
        "\r\n"
      ]
    },
    {
      "cell_type": "code",
      "metadata": {
        "colab": {
          "base_uri": "https://localhost:8080/"
        },
        "id": "6InsgdwCRiTy",
        "outputId": "8d6f969b-4e69-4149-b0df-a3700f6f563b"
      },
      "source": [
        "print(soup.find('a')) #第一個節點"
      ],
      "execution_count": null,
      "outputs": [
        {
          "output_type": "stream",
          "text": [
            "<a href=\"/bbs/\" id=\"logo\">批踢踢實業坊</a>\n"
          ],
          "name": "stdout"
        }
      ]
    },
    {
      "cell_type": "markdown",
      "metadata": {
        "id": "Mq-gUAm2Wpdi"
      },
      "source": [
        "**只找2個**"
      ]
    },
    {
      "cell_type": "code",
      "metadata": {
        "colab": {
          "base_uri": "https://localhost:8080/"
        },
        "id": "nJ55HJ2SWpJ2",
        "outputId": "bc21bd29-5c34-4b6f-eb34-1ca546452919"
      },
      "source": [
        "soup.find_all('a',limit=2)"
      ],
      "execution_count": null,
      "outputs": [
        {
          "output_type": "execute_result",
          "data": {
            "text/plain": [
              "[<a href=\"/bbs/\" id=\"logo\">批踢踢實業坊</a>,\n",
              " <a class=\"board\" href=\"/bbs/NCKU/index.html\"><span class=\"board-label\">看板 </span>NCKU</a>]"
            ]
          },
          "metadata": {
            "tags": []
          },
          "execution_count": 9
        }
      ]
    },
    {
      "cell_type": "markdown",
      "metadata": {
        "id": "Ksmse7lTaZsz"
      },
      "source": [
        "**同時搜尋多個標籤**"
      ]
    },
    {
      "cell_type": "code",
      "metadata": {
        "id": "JM3WRhyDadDR"
      },
      "source": [
        "list = soup.find_all(['title','a'],limit=20) #搜尋標題和超連結，限定數量20個\r\n",
        "for i in list: #逐行印出\r\n",
        "  print(i)"
      ],
      "execution_count": null,
      "outputs": []
    },
    {
      "cell_type": "markdown",
      "metadata": {
        "id": "2ulWJkcNXI7C"
      },
      "source": [
        "**取出tag內的屬性** "
      ]
    },
    {
      "cell_type": "code",
      "metadata": {
        "colab": {
          "base_uri": "https://localhost:8080/"
        },
        "id": "G5N5OS_mdU84",
        "outputId": "6ae44c31-702a-46b8-8259-2a128003e9c5"
      },
      "source": [
        "print(soup.find_all('a',href=\"/bbs/\")) #搜尋 href 屬性為 /bbs/ 的 a 節點\r\n",
        "print(soup.find_all(href=\"/bbs/\"))"
      ],
      "execution_count": null,
      "outputs": [
        {
          "output_type": "stream",
          "text": [
            "[<a href=\"/bbs/\" id=\"logo\">批踢踢實業坊</a>]\n",
            "[<a href=\"/bbs/\" id=\"logo\">批踢踢實業坊</a>]\n"
          ],
          "name": "stdout"
        }
      ]
    },
    {
      "cell_type": "code",
      "metadata": {
        "colab": {
          "base_uri": "https://localhost:8080/"
        },
        "id": "4UHfSYUkefQD",
        "outputId": "3a1124ed-1354-49f5-840d-94f5c25eadb8"
      },
      "source": [
        "print(soup.find(href=\"/bbs/\"))"
      ],
      "execution_count": null,
      "outputs": [
        {
          "output_type": "stream",
          "text": [
            "<a href=\"/bbs/\" id=\"logo\">批踢踢實業坊</a>\n"
          ],
          "name": "stdout"
        }
      ]
    },
    {
      "cell_type": "code",
      "metadata": {
        "colab": {
          "base_uri": "https://localhost:8080/"
        },
        "id": "hRFo0-wiXH9S",
        "outputId": "3a731764-4b06-48de-f885-e85b828645d0"
      },
      "source": [
        "print(soup.find('a').get('href'))\r\n",
        "print(soup.find('a').get('id'))\r\n",
        "#dict.get(key, default=None)"
      ],
      "execution_count": null,
      "outputs": [
        {
          "output_type": "stream",
          "text": [
            "/bbs/\n",
            "logo\n"
          ],
          "name": "stdout"
        }
      ]
    },
    {
      "cell_type": "code",
      "metadata": {
        "colab": {
          "base_uri": "https://localhost:8080/"
        },
        "id": "WkpujW6fhY8l",
        "outputId": "5a591232-bd5e-4430-d214-6e2c98b5d8ad"
      },
      "source": [
        "#利用迴圈尋找節點\r\n",
        "list = soup.find_all('a',limit=2)\r\n",
        "for i in list: #逐一搜尋<節點 屬性>再逐一印出\r\n",
        "  print(soup.find('a').get('id'))"
      ],
      "execution_count": null,
      "outputs": [
        {
          "output_type": "stream",
          "text": [
            "logo\n",
            "logo\n"
          ],
          "name": "stdout"
        }
      ]
    },
    {
      "cell_type": "markdown",
      "metadata": {
        "id": "cNP1uagJMz7t"
      },
      "source": [
        "###拆解研究"
      ]
    },
    {
      "cell_type": "code",
      "metadata": {
        "id": "Te-IlO2ANCFw"
      },
      "source": [
        "import requests\r\n",
        "from bs4 import BeautifulSoup\r\n",
        "\r\n",
        "url = 'https://www.ptt.cc/bbs/NCKU/index.html'\r\n",
        "soup = BeautifulSoup(requests.get(url).text,'lxml')\r\n",
        "soup.find_all #顯示所有原始碼"
      ],
      "execution_count": null,
      "outputs": []
    },
    {
      "cell_type": "code",
      "metadata": {
        "colab": {
          "base_uri": "https://localhost:8080/"
        },
        "id": "XkGwq111M-Hb",
        "outputId": "5450b41f-350a-44c5-a768-8dfcd318f8fd"
      },
      "source": [
        "q = soup.find_all('div',class_='title') #找div標籤中class屬性為'title'的結果 #<div>為標籤 #標籤中有class或id等屬性\r\n",
        "q"
      ],
      "execution_count": null,
      "outputs": [
        {
          "output_type": "execute_result",
          "data": {
            "text/plain": [
              "[<div class=\"title\">\n",
              " <a href=\"/bbs/NCKU/M.1609906833.A.270.html\">[閒聊] 萬五放空自豪三輩子！</a>\n",
              " </div>, <div class=\"title\">\n",
              " <a href=\"/bbs/NCKU/M.1609925757.A.730.html\">[閒聊] 欸欸成式語言拉</a>\n",
              " </div>, <div class=\"title\">\n",
              " <a href=\"/bbs/NCKU/M.1551772145.A.17F.html\">[公告]成大板板規 </a>\n",
              " </div>, <div class=\"title\">\n",
              " <a href=\"/bbs/NCKU/M.1609853464.A.465.html\">[閒聊] 2021 置底閒聊</a>\n",
              " </div>]"
            ]
          },
          "metadata": {
            "tags": []
          },
          "execution_count": 38
        }
      ]
    },
    {
      "cell_type": "code",
      "metadata": {
        "colab": {
          "base_uri": "https://localhost:8080/"
        },
        "id": "EcXU4COiN7BK",
        "outputId": "b710ffe0-0512-40fc-dcfc-bb3b9fc1594a"
      },
      "source": [
        "q = soup.find_all(class_='title') #無其他標籤有相同屬性，因此這邊div可省略\r\n",
        "q #其結果為一陣列"
      ],
      "execution_count": null,
      "outputs": [
        {
          "output_type": "execute_result",
          "data": {
            "text/plain": [
              "[<div class=\"title\">\n",
              " <a href=\"/bbs/NCKU/M.1609906833.A.270.html\">[閒聊] 萬五放空自豪三輩子！</a>\n",
              " </div>, <div class=\"title\">\n",
              " <a href=\"/bbs/NCKU/M.1609925757.A.730.html\">[閒聊] 欸欸成式語言拉</a>\n",
              " </div>, <div class=\"title\">\n",
              " <a href=\"/bbs/NCKU/M.1551772145.A.17F.html\">[公告]成大板板規 </a>\n",
              " </div>, <div class=\"title\">\n",
              " <a href=\"/bbs/NCKU/M.1609853464.A.465.html\">[閒聊] 2021 置底閒聊</a>\n",
              " </div>]"
            ]
          },
          "metadata": {
            "tags": []
          },
          "execution_count": 39
        }
      ]
    },
    {
      "cell_type": "code",
      "metadata": {
        "colab": {
          "base_uri": "https://localhost:8080/"
        },
        "id": "P_3KUnL6OmGN",
        "outputId": "a233b6cb-2cf5-446a-ff5e-18f73ed34364"
      },
      "source": [
        "q[0]"
      ],
      "execution_count": null,
      "outputs": [
        {
          "output_type": "execute_result",
          "data": {
            "text/plain": [
              "<div class=\"title\">\n",
              "<a href=\"/bbs/NCKU/M.1609906833.A.270.html\">[閒聊] 萬五放空自豪三輩子！</a>\n",
              "</div>"
            ]
          },
          "metadata": {
            "tags": []
          },
          "execution_count": 42
        }
      ]
    },
    {
      "cell_type": "code",
      "metadata": {
        "colab": {
          "base_uri": "https://localhost:8080/"
        },
        "id": "OAdTowlGOGCy",
        "outputId": "e6ae2460-2fd7-42da-88d0-317609b63223"
      },
      "source": [
        "type(q[0]) #屬性為BeautifulSoup 物件"
      ],
      "execution_count": null,
      "outputs": [
        {
          "output_type": "execute_result",
          "data": {
            "text/plain": [
              "bs4.element.Tag"
            ]
          },
          "metadata": {
            "tags": []
          },
          "execution_count": 41
        }
      ]
    },
    {
      "cell_type": "code",
      "metadata": {
        "colab": {
          "base_uri": "https://localhost:8080/",
          "height": 35
        },
        "id": "lkCFVizHOovd",
        "outputId": "1e085f2d-a2c7-4f8c-e735-6fe1a50825ba"
      },
      "source": [
        "q[0].text"
      ],
      "execution_count": null,
      "outputs": [
        {
          "output_type": "execute_result",
          "data": {
            "application/vnd.google.colaboratory.intrinsic+json": {
              "type": "string"
            },
            "text/plain": [
              "'\\n[閒聊] 萬五放空自豪三輩子！\\n'"
            ]
          },
          "metadata": {
            "tags": []
          },
          "execution_count": 48
        }
      ]
    },
    {
      "cell_type": "code",
      "metadata": {
        "colab": {
          "base_uri": "https://localhost:8080/",
          "height": 35
        },
        "id": "8QYb5eRyr_ss",
        "outputId": "3d5d7243-908d-483a-e203-ccb6da4d16f6"
      },
      "source": [
        "q[0].text.replace('\\n','')"
      ],
      "execution_count": null,
      "outputs": [
        {
          "output_type": "execute_result",
          "data": {
            "application/vnd.google.colaboratory.intrinsic+json": {
              "type": "string"
            },
            "text/plain": [
              "'[閒聊] 萬五放空自豪三輩子！'"
            ]
          },
          "metadata": {
            "tags": []
          },
          "execution_count": 50
        }
      ]
    },
    {
      "cell_type": "markdown",
      "metadata": {
        "id": "NsX4EpkdGjdc"
      },
      "source": [
        "#利用urllib讀取長榮大學網站"
      ]
    },
    {
      "cell_type": "code",
      "metadata": {
        "id": "xlgenG7FEMur",
        "colab": {
          "base_uri": "https://localhost:8080/"
        },
        "outputId": "80d253df-2119-4695-82b0-b0602b0e40a8"
      },
      "source": [
        "#網路連線\n",
        "import urllib .request as request\n",
        "src=\"https://www.cjcu.edu.tw/\"\n",
        "with request.urlopen(src)as response:\n",
        "    data=response.read() #取得長榮大學網站的原始碼(HTML、CSS、JASON) \n",
        "print(data)"
      ],
      "execution_count": null,
      "outputs": [
        {
          "output_type": "stream",
          "text": [
            "b'<!DOCTYPE html>\\r\\n\\r\\n<html lang=\"zh-TW\">\\r\\n<head>\\r\\n\\t\\t<meta http-equiv=\"X-UA-Compatible\" content=\"IE=edge,Chrome=1\" />\\r\\n\\t<meta charset=\"UTF-8\">\\r\\n<meta http-equiv=\"X-UA-Compatible\" content=\"IE=edge\">\\r\\n<meta name=\"viewport\" content=\"width=device-width, initial-scale=1\">\\r\\n<meta name=\"description\" content=\"\\xe9\\x95\\xb7\\xe6\\xa6\\xae\\xe5\\xa4\\xa7\\xe5\\xad\\xb8-\\xe6\\xb7\\xb1\\xe8\\x80\\x95\\xe5\\x9c\\xa8\\xe5\\x9c\\xb0\\xef\\xbc\\x8c\\xe9\\x80\\xa3\\xe7\\xb5\\x90\\xe5\\x9c\\x8b\\xe9\\x9a\\x9b\\xef\\xbc\\x8c\\xe6\\x88\\x90\\xe7\\x82\\xba\\xe7\\xa4\\xbe\\xe6\\x9c\\x83\\xe8\\xb2\\xac\\xe4\\xbb\\xbb\\xe9\\xa0\\x98\\xe8\\x88\\xaa\\xe5\\xa4\\xa7\\xe5\\xad\\xb8\">\\r\\n<meta name=\"keywords\" content=\"\\xe9\\x95\\xb7\\xe6\\xa6\\xae,\\xe9\\x95\\xb7\\xe6\\xa6\\xae\\xe5\\xa4\\xa7\\xe5\\xad\\xb8,\\xe5\\x9f\\xba\\xe7\\x9d\\xa3\\xe6\\x95\\x99\\xe5\\xa4\\xa7\\xe5\\xad\\xb8,\\xe7\\xa4\\xbe\\xe6\\x9c\\x83\\xe8\\xb2\\xac\\xe4\\xbb\\xbb,cjcu,CJCU,Chang Jung Christian University\">\\r\\n<meta name=\"author\" content=\"\\xe9\\x95\\xb7\\xe6\\xa6\\xae\\xe5\\xa4\\xa7\\xe5\\xad\\xb8\\xe5\\x9c\\x96\\xe6\\x9b\\xb8\\xe8\\xb3\\x87\\xe8\\xa8\\x8a\\xe8\\x99\\x95\" />\\r\\n<meta name=\"robots\" content=\"all\" />\\r\\n<meta property=\"og:site_name\" content=\"\\xe9\\x95\\xb7\\xe6\\xa6\\xae\\xe5\\xa4\\xa7\\xe5\\xad\\xb8\">\\r\\n<meta property=\"og:url\" itemprop=\"url\" content=\"http://www.cjcu.edu.tw/\" />\\r\\n<meta property=\"og:title\" itemprop=\"name\" content=\"\\xe9\\x95\\xb7\\xe6\\xa6\\xae\\xe5\\xa4\\xa7\\xe5\\xad\\xb8-\\xe9\\xa6\\x96\\xe9\\xa0\\x81\" />\\r\\n<meta property=\"og:image\" itemprop=\"image\" content=\"./images/logo-xl.jpg\" />\\r\\n<!--<meta property=\"og:image\" itemprop=\"image\" content=\"./images/logo.png\" />\\r\\n<meta property=\"og:image:width\" content=\"1200\"/>\\r\\n<meta property=\"og:image:height\" content=\"628\"/>\\r\\n-->\\r\\n<meta property=\"og:type\" content=\"article\" />\\r\\n<meta name=\"description\" content=\"\\xe9\\x95\\xb7\\xe6\\xa6\\xae\\xe5\\xa4\\xa7\\xe5\\xad\\xb8-\\xe6\\xb7\\xb1\\xe8\\x80\\x95\\xe5\\x9c\\xa8\\xe5\\x9c\\xb0\\xef\\xbc\\x8c\\xe9\\x80\\xa3\\xe7\\xb5\\x90\\xe5\\x9c\\x8b\\xe9\\x9a\\x9b\\xef\\xbc\\x8c\\xe6\\x88\\x90\\xe7\\x82\\xba\\xe7\\xa4\\xbe\\xe6\\x9c\\x83\\xe8\\xb2\\xac\\xe4\\xbb\\xbb\\xe9\\xa0\\x98\\xe8\\x88\\xaa\\xe5\\xa4\\xa7\\xe5\\xad\\xb8\">\\r\\n<meta property=\"og:description\" itemprop=\"description\" content=\"\\xe9\\x95\\xb7\\xe6\\xa6\\xae\\xe5\\xa4\\xa7\\xe5\\xad\\xb8 \\xe6\\xb7\\xb1\\xe8\\x80\\x95\\xe5\\x9c\\xa8\\xe5\\x9c\\xb0\\xef\\xbc\\x8c\\xe9\\x80\\xa3\\xe7\\xb5\\x90\\xe5\\x9c\\x8b\\xe9\\x9a\\x9b\\xef\\xbc\\x8c\\xe6\\x88\\x90\\xe7\\x82\\xba\\xe7\\xa4\\xbe\\xe6\\x9c\\x83\\xe8\\xb2\\xac\\xe4\\xbb\\xbb\\xe9\\xa0\\x98\\xe8\\x88\\xaa\\xe5\\xa4\\xa7\\xe5\\xad\\xb8\" />\\r\\n\\r\\n<link rel=\"icon\" href=\"./images/icon/favicon.ico\">\\r\\n<meta http-equiv=\"cache-control\" content=\"no-cache\" />\\r\\n<meta http-equiv=\"expires\" content=\"0\" /> \\r\\n\\r\\n<title>\\xe9\\xa6\\x96\\xe9\\xa0\\x81-\\xe9\\x95\\xb7\\xe6\\xa6\\xae\\xe5\\xa4\\xa7\\xe5\\xad\\xb8</title>\\r\\n\\t\\r\\n\\t\\r\\n\\t\\t\\t\\t\\t\\t\\t\\t\\t\\t\\t\\t\\t\\t\\t\\t\\t\\t\\t\\r\\n<link href=\"./css/styles/style.css?v=a2785123a1607096302\" rel=\"stylesheet\" />\\r\\n<link href=\"./css/styles/style2.css?v=a2785123a1606060945\" rel=\"stylesheet\" />\\r\\n<link href=\"./css/styles/style-front.css?v=a2785123a1606060945\" rel=\"stylesheet\" />\\r\\n<link href=\"./css/styles/style-mobile.css?v=a2785123a1593062748\" rel=\"stylesheet\" />\\r\\n<link href=\"./css/styles/style-mobile-btn.css?v=a2785123a1607096302\" rel=\"stylesheet\" />\\r\\n<link href=\"./css/styles/style-academy.css?v=a2785123a1593062748\" rel=\"stylesheet\" />\\r\\n<link href=\"./libs/fontawesome/css/all.min.css?v=1593062748\" rel=\"stylesheet\" />\\r\\n<link href=\"./libs/fontawesome/css/brands.css?v=1593062748\" rel=\"stylesheet\" />\\r\\n<!--<link href=\"./css/styles/style-gray.css?v=a2785123a1607096302\" rel=\"stylesheet\" />-->\\r\\n\\r\\n<!--[if lt IE 9]><script src=\"~/js/Scripts/html5.js\"></script><![endif]-->\\r\\n<script type=\"text/javascript\" src=\"./js/Scripts/jquery-1.11.1.min.js\"></script>\\r\\n<script type=\"text/javascript\" src=\"./js/Scripts/jquery-migrate-1.2.1.min.js\"></script>\\r\\n<script type=\"text/javascript\" src=\"./js/Scripts/weya.js\"></script> \\r\\n\\r\\n\\r\\n<!-- Global site tag (gtag.js) - Google Ads: 761907490 -->\\r\\n<script async src=\"https://www.googletagmanager.com/gtag/js?id=AW-761907490\"></script>\\r\\n<script>\\r\\n  window.dataLayer = window.dataLayer || [];\\r\\n  function gtag(){dataLayer.push(arguments);}\\r\\n  gtag(\\'js\\', new Date());\\r\\n\\r\\n  gtag(\\'config\\', \\'AW-761907490\\');\\r\\n</script>\\r\\n\\r\\n<!-- Global site tag (gtag.js) - Google Analytics -->\\r\\n<script async src=\"https://www.googletagmanager.com/gtag/js?id=UA-130210965-1\"></script>\\r\\n<script>\\r\\n  window.dataLayer = window.dataLayer || [];\\r\\n  function gtag(){dataLayer.push(arguments);}\\r\\n  gtag(\\'js\\', new Date());\\r\\n\\r\\n  gtag(\\'config\\', \\'UA-130210965-1\\');\\r\\n</script>\\r\\n\\r\\n<!-- Global site tag (gtag.js) - Google Analytics -->\\r\\n<script async src=\"https://www.googletagmanager.com/gtag/js?id=UA-130210965-12\"></script>\\r\\n<script>\\r\\n  window.dataLayer = window.dataLayer || [];\\r\\n  function gtag(){dataLayer.push(arguments);}\\r\\n  gtag(\\'js\\', new Date());\\r\\n\\r\\n  gtag(\\'config\\', \\'UA-130210965-12\\');\\r\\n</script>\\r\\n\\r\\n\\r\\n<!-- Global site tag (gtag.js) - Google Analytics -->\\r\\n<!--\\r\\n<script async src=\"https://www.googletagmanager.com/gtag/js?id=UA-130210965-2\"></script>\\r\\n<script>\\r\\n  window.dataLayer = window.dataLayer || [];\\r\\n  function gtag(){dataLayer.push(arguments);}\\r\\n  gtag(\\'js\\', new Date());\\r\\n\\r\\n  gtag(\\'config\\', \\'UA-130210965-2\\');\\r\\n</script>\\r\\n-->\\r\\n\\r\\n\\r\\n<script type=\"text/javascript\" charset=\"utf-8\">\\r\\nfunction show_mobile_btn() {\\r\\n\\tvar switchBtn = $(\\'.mobile_btn\\');\\r\\n\\tif\\t(switchBtn.hasClass(\\'opennav\\')){\\r\\n\\t\\t$(\\'.mobile_btn\\').animate({ right: -200 }, 200).removeClass(\\'opennav\\');\\r\\n\\t\\tdocument.getElementById(\"mySidebar\").style.width = \"0px\";\\r\\n\\t\\tdocument.getElementById(\"navbar-w-2\").style.background = \"\";\\r\\n\\t}\\r\\n\\telse {\\r\\n\\t\\t$(\\'.mobile_btn\\').animate({ right: 0 }, 200).addClass(\"opennav \");\\r\\n  \\tdocument.getElementById(\"mySidebar\").style.width = \"180px\";\\r\\n\\t\\tdocument.getElementById(\"navbar-w-2\").style.background = \"#ffffff\";\\r\\n\\t}\\r\\n\\t\\r\\n\\t\\r\\n}\\r\\n</script>\\t<!-- grayscale -->\\r\\n\\t<!--\\r\\n\\t<link rel=\"stylesheet\" href=\"https://cdnjs.cloudflare.com/ajax/libs/jquery.gray/1.6.0/css/gray.min.css\">\\r\\n\\t<script src=\"https://code.jquery.com/jquery-3.1.0.min.js\"></script>\\r\\n\\t<script src=\"https://cdnjs.cloudflare.com/ajax/libs/jquery.gray/1.6.0/js/jquery.gray.min.js\">\\r\\n\\t-->\\r\\n\\t</script>\\r\\n\\t\\r\\n\\t<!--[if lt IE 9] >\\r\\n\\t<script src=\"./js/html5shiv-master/src/html5shiv.js\"></script>\\r\\n\\t<[endif]--> \\r\\n</head>\\r\\n<body class=\"frontpage\">\\r\\n\\t<!-- <div class=\"cleaner padded-b5\"></div> -->\\r\\n\\t\\t<div>\\r\\n\\t\\t<script type=\"text/javascript\">\\r\\n\\tvar prevScrollpos = window.pageYOffset;\\r\\n\\twindow.onscroll = function() {\\r\\n\\t\\tvar currentScrollPos = window.pageYOffset;\\r\\n\\t\\t/*if (prevScrollpos > currentScrollPos) { */\\r\\n\\t\\tif (currentScrollPos < 80) {\\r\\n\\t\\t\\tdocument.getElementById(\"navbar-w\").style.background = \"\";/*default none, gray module #ffffff*/\\r\\n\\t\\t} else {\\r\\n\\t\\t\\tdocument.getElementById(\"navbar-w\").style.background = \"#ffffff\";\\r\\n\\t\\t\\t\\r\\n\\t\\t}\\r\\n\\t\\tprevScrollpos = currentScrollPos;\\r\\n\\t}\\r\\n</script>\\r\\n\\r\\n<div class=\"fg-header\">\\r\\n  <div class=\"\" id=\"navbar-w-2\">\\r\\n    <div class=\"\" id=\"navbar-w-1a\">\\r\\n      <div class=\"\" id=\"navbar-w\">\\r\\n        <div class=\"col-md-5 logo\">\\r\\n       \\t\\t \\t<a href=\"./index.php\">\\r\\n\\t\\t\\t\\r\\n\\t\\t<img src=\"./images/logo-O1.png?v=1593062748\" alt=\"\\xe9\\x95\\xb7\\xe6\\xa6\\xae\\xe5\\xa4\\xa7\\xe5\\xad\\xb8\\xe6\\xa0\\xa1\\xe5\\xbe\\xbd-\\xe5\\x9b\\x9e\\xe9\\xa6\\x96\\xe9\\xa0\\x81\"  class=\\'grayscale\\' />\\r\\n\\t\\t<img src=\"./cjcu_logo/cjcu_banner_zh_en_r.png?v=1593062748\" alt=\"\\xe9\\x95\\xb7\\xe6\\xa6\\xae\\xe5\\xa4\\xa7\\xe5\\xad\\xb8\\xe6\\x9b\\xb8\\xe6\\xb3\\x95\\xe9\\xa1\\x8c\\xe5\\xad\\x97\" class=\\'grayscale\\'  />\\r\\n\\t\\t<a href=\"news-detail.php?id=FC,3276\"><img src=\"./images/qsrank.png?v=\" alt=\"QS Rank\" class=\\'markv grayscale\\' /></a>\\r\\n\\t\\t<a href=\"news-detail.php?id=FC,200001851\"><img src=\"./images/qsstar4.png?v=\" alt=\"QS Star 4\" class=\\'markh grayscale\\' /></a>\\r\\n\\t</a>\\t\\t\\t\\t</div>\\r\\n\\t\\t\\t\\t\\t<!--<div class=\"col-md-5 hidden-xs\">\\r\\n\\t\\t\\t\\t\\t\\t</div>-->\\r\\n        <div>\\r\\n\\r\\n\\r\\n          <div class=\"mobile_btn \" onclick=\"show_mobile_btn()\">\\r\\n            <div class=\"bar1\"></div>\\r\\n            <div class=\"bar2\"></div>\\r\\n            <div class=\"bar3\"></div>\\r\\n          </div>\\r\\n        \\r\\n          <div id=\"mySidebar\" class=\"sidebar\">\\r\\n            <!--<a href=\"javascript:void(0)\" class=\"closebtn\" onclick=\"closeNav()\">&times;</a> -->\\t\\r\\n            <ul>\\r\\n              <li><a id=\\'nav_1\\' href=\"./index.php\" >\\xe5\\x9b\\x9e\\xe9\\xa6\\x96\\xe9\\xa0\\x81</a></li>\\r\\n\\t\\t\\t\\t\\t\\t\\t<li><a id=\\'nav_1\\' href=\"./about01.php\" >\\xe9\\x97\\x9c\\xe6\\x96\\xbc\\xe9\\x95\\xb7\\xe6\\xa6\\xae</a></li>\\r\\n<li><a id=\\'nav_2\\' href=\"./feature01.php\">\\xe7\\x89\\xb9\\xe8\\x89\\xb2\\xe9\\x95\\xb7\\xe6\\xa6\\xae</a></li>\\r\\n<li><a id=\\'nav_3\\' href=\"./academy_db.php\">\\xe6\\x95\\x99\\xe5\\xad\\xb8\\xe7\\xa0\\x94\\xe7\\xa9\\xb6</a></li>\\r\\n<li><a id=\\'nav_4\\' href=\"./administrative_db.php\">\\xe8\\xa1\\x8c\\xe6\\x94\\xbf\\xe6\\x94\\xaf\\xe6\\x8f\\xb4</a></li>\\r\\n<li><a id=\\'nav_5\\' href=\"http://dweb.cjcu.edu.tw/intl\"  target=\"_blank\">\\xe5\\x9c\\x8b\\xe9\\x9a\\x9b\\xe4\\xba\\xa4\\xe6\\xb5\\x81</a></li>\\r\\n<li><a id=\\'nav_6\\' href=\"http://dweb.cjcu.edu.tw/admission\"  target=\"_blank\">\\xe6\\x8b\\x9b\\xe7\\x94\\x9f\\xe8\\xb3\\x87\\xe8\\xa8\\x8a</a></li>\\r\\n<!--<li><a id=\\'nav_7\\' href=\"news.php\">\\xe6\\x96\\xb0\\xe8\\x81\\x9e\\xe4\\xb8\\xad\\xe5\\xbf\\x83</a></li>-->\\r\\n<li><a id=\\'nav_8\\' href=\"https://dweb.cjcu.edu.tw/security?lang=zh-TW\"  target=\"_blank\">\\xe6\\xa0\\xa1\\xe5\\x9c\\x92\\xe5\\xae\\x89\\xe5\\x85\\xa8</a></li>\\r\\n<li><a id=\\'nav_9\\' href=\"./service.php\">\\xe6\\xa0\\xa1\\xe5\\x9c\\x92\\xe6\\x9c\\x8d\\xe5\\x8b\\x99</a></li>\\r\\n\\r\\n<li><a id=\\'nav_10\\' href=\"/newstu\"  target=\"_blank\">\\xe6\\x96\\xb0\\xe7\\x94\\x9f\\xe5\\xb0\\x88\\xe5\\x8d\\x80</a></li>\\r\\n<li><a id=\\'nav_11\\' href=\"https://dweb.cjcu.edu.tw/containment/\"  target=\"_blank\">\\xe9\\x98\\xb2\\xe7\\x96\\xab\\xe5\\xb0\\x88\\xe5\\x8d\\x80</a></li>\\r\\n<li><a id=\\'nav_12\\' href=\"./public.php\">\\xe5\\x85\\xac\\xe9\\x96\\x8b\\xe8\\xb3\\x87\\xe8\\xa8\\x8a</a></li>\\r\\n<li><a id=\\'nav_13\\' href=\"./guest03.php\">\\xe8\\xa8\\xaa\\xe5\\xae\\xa2\\xe5\\x85\\xa5\\xe5\\x8f\\xa3</a></li>\\r\\n              \\r\\n<li><a id=\\'nav_7\\' href=\"./news.php\">\\xe6\\x96\\xb0\\xe8\\x81\\x9e\\xe4\\xb8\\xad\\xe5\\xbf\\x83</a></li>\\r\\n<li><a href=\\'http://cjcu.tw/s/cjcutv\\'>CJCUTV</a></li>\\r\\n<li><a href=\\'./lang.php\\' >Language</a></li>\\r\\n            </ul>\\r\\n          </div>\\r\\n        </div>\\r\\n        <div class=\"cleaner\"></div>\\r\\n      </div>\\r\\n    </div>\\r\\n  </div>\\r\\n</div>\\r\\n<style>\\r\\n.floatnav-right, .floatnav-left {\\r\\n  width: 160px;\\r\\n  position: fixed;\\r\\n  z-index: 995;\\r\\n  bottom: 18%;\\r\\n  overflow-x: hidden;\\r\\n  padding: 2px ;\\r\\n}\\r\\n\\t\\r\\n\\t.floatnav-right {  right: 0px;}\\r\\n\\t.floatnav-left {  left: 0px;}\\r\\n\\r\\n.floatnav-right a,\\r\\n.floatnav-left a {\\r\\n  padding: 2px ;\\r\\n\\tmargin:auto;\\r\\n  text-decoration: none;\\r\\n  font-size: 100%;\\r\\n  color: #9d0e35; /* 9d0e35 777777 by gray */\\r\\n\\tdisplay: block;\\r\\n\\tline-height: normal;\\r\\n\\tfont-weight:bold;\\r\\n}\\r\\n\\t.floatnav-right a {  background: #FFFBCF; /* ff0 eee by gray */}\\r\\n\\t.floatnav-left img {  width:70% ;}\\r\\n\\r\\n\\r\\n.floatnav-right a:hover {\\r\\n  color: #064579; /* 064579 777777 by gray */;\\r\\n}\\r\\n\\r\\n.qsrank-close {\\r\\n  padding: 0px;\\r\\n  float: left;\\r\\n}\\r\\n.qsrank-close button {\\r\\n    width: 4vh;\\r\\n    padding: 0px;\\r\\n\\t\\tpadding-bottom: 10px;\\r\\n    border: none;\\r\\n    background: rgba(0, 0, 0, 0.0001);\\r\\n    color: #f1f1f1;\\r\\n    cursor: pointer;\\r\\n}\\t\\r\\n@media screen and (max-width: 768px) {\\r\\n\\t.floatnav-right{\\r\\n\\t  width: 110px;\\r\\n  \\tbottom: 15%;\\r\\n\\t}\\r\\n\\t.floatnav-right a {\\r\\n\\t\\tfont-size: 75%;\\r\\n\\t}\\t\\r\\n\\r\\n\\t.floatnav-left\\t{\\r\\n\\t\\twidth: 70px;\\r\\n  \\tbottom: 13%;\\r\\n\\t\\tbackground-color: hsla(0,0%,98%,0.75);\\r\\n\\t}\\r\\n\\t.floatnav-left img\\t{\\r\\n\\t\\twidth: 100%;\\t\\r\\n\\t}\\r\\n\\t.qsrank-close button {\\r\\n\\t\\t\\tcolor: #595959;\\r\\n\\t    padding: 0px;\\r\\n\\t}\\t\\r\\n\\r\\n}\\r\\n</style>\\r\\n\\r\\n<!--\\r\\n<div id=\"qsrank-close\" class=\"floatnav-left\">\\r\\n\\r\\n\\t<a href=\"news-detail.php?id=FC,3276\"><img src=\"./images/qsrank.png?v=\" alt=\"QS Rank\" class=\\'markv grayscale\\' /></a>\\r\\n\\t<a href=\"news-detail.php?id=FC,200001851\"><img src=\"./images/qsstar4.png?v=\" alt=\"QS Star 4\" class=\\'markh grayscale\\' /></a>\\r\\n\\t<div class=\"qsrank-close\">\\r\\n\\t\\t<button onclick=\"qs_close()\"><i class=\"fas fa-times-circle\"></i></button>\\r\\n\\t</div>\\r\\n</div>\\r\\n-->\\r\\n\\r\\n\\r\\n\\r\\n<div class=\"floatnav-right\">\\r\\n  <a href=\"https://dweb.cjcu.edu.tw/security?lang=zh-TW\" target=\"_blank\">\\r\\n  \\t<i class=\"fas fa-shield-alt\"></i>\\r\\n\\t\\t\\xe6\\xa0\\xa1\\xe5\\x9c\\x92\\xe5\\xae\\x89\\xe5\\x85\\xa8<BR/>\\r\\n\\t\\tCampus Security\\r\\n  </a>\\r\\n\\t<BR/>\\r\\n\\t<a href=\"https://dweb.cjcu.edu.tw/containment/\" target=\"_blank\">\\r\\n  \\t<i class=\"fas fa-exclamation-triangle\"></i>\\r\\n\\t\\t\\xe9\\x98\\xb2\\xe7\\x96\\xab\\xe5\\xb0\\x88\\xe5\\x8d\\x80<BR/>\\r\\n    COVID-19\\r\\n  </a>\\r\\n</div>\\r\\n<script>\\r\\n\\t// Get the button\\r\\n\\tfunction qs_close(){\\r\\n\\t\\tdocument.getElementById(\"qsrank-close\").style.display=\"none\";\\r\\n\\t}\\r\\n</script>\\t\\r\\n\\t\\t\\r\\n    \\r\\n\\r\\n\\r\\n\\t\\t<!-- \\xe9\\x95\\xb7\\xe6\\xa6\\xae\\xe5\\xa4\\xa7\\xe5\\xad\\xb8\\xe6\\x9b\\xb8\\xe6\\xb3\\x95\\xe9\\xa1\\x8c\\xe5\\xad\\x97 -->\\r\\n\\t\\t<div class=\"fg-logo-font\">\\r\\n\\t\\t\\t<img src=\"./cjcu_logo/60/cjcu_banner_zh_en_w.png?v=1593062748\" alt=\"\\xe9\\x95\\xb7\\xe6\\xa6\\xae\\xe5\\xa4\\xa7\\xe5\\xad\\xb8\\xe6\\x9b\\xb8\\xe6\\xb3\\x95\\xe9\\xa1\\x8c\\xe5\\xad\\x97\" />\\r\\n\\t\\t</div>\\r\\n\\t\\t\\r\\n\\t\\t\\r\\n    <script type=\"text/javascript\" language=\"javascript\">\\r\\n\\t\\tfunction pict_close_func(){\\r\\n\\t\\t\\tdocument.getElementById(\"pict-close\").style.display=\"none\";\\r\\n\\t\\t\\tdocument.getElementById(\"video-close\").style.display=\"none\";\\r\\n\\t\\t\\tdocument.getElementById(\"fg-content-free-close\").style.display=\"none\";\\r\\n\\t\\t\\tdocument.getElementById(\"navbar-w-1a\").style.background = \"#ffffff\";\\r\\n\\t\\t\\tdocument.getElementById(\"navbar-w-1a-header\").style.display = \"block\";\\r\\n\\t\\t}\\r\\n\\t\\t</script>\\r\\n\\t\\t<div id=\"pict-close\" class=\"enable-mobile-sm\">\\r\\n  <div class=\"slider-close\">\\r\\n    <button onclick=\"pict_close_func()\"><i class=\"fas fa-times-circle\"></i></button>\\r\\n  </div>\\r\\n  <div class=\"slider_container\">\\r\\n\\r\\n          <div>\\r\\n        <a href=\"./index.php\">\\r\\n\\t\\t\\t\\t\\t          <img src=\"/img_slide/8.jpg?v=1610267564\">\\r\\n        </a>\\r\\n        </div>\\r\\n          <div>\\r\\n        <a href=\"./index.php\">\\r\\n\\t\\t\\t\\t\\t          <img src=\"/img_slide/9.jpg?v=1610267564\">\\r\\n        </a>\\r\\n        </div>\\r\\n          <div>\\r\\n        <a href=\"./index.php\">\\r\\n\\t\\t\\t\\t\\t          <img src=\"/img_slide/10.jpg?v=1610267564\">\\r\\n        </a>\\r\\n        </div>\\r\\n          <div>\\r\\n        <a href=\"./index.php\">\\r\\n\\t\\t\\t\\t\\t          <img src=\"/img_slide/1.jpg?v=1610267564\">\\r\\n        </a>\\r\\n        </div>\\r\\n          <div>\\r\\n        <a href=\"./index.php\">\\r\\n\\t\\t\\t\\t\\t          <img src=\"/img_slide/2.jpg?v=1610267564\">\\r\\n        </a>\\r\\n        </div>\\r\\n          <div>\\r\\n        <a href=\"./index.php\">\\r\\n\\t\\t\\t\\t\\t          <img src=\"/img_slide/3.jpg?v=1610267564\">\\r\\n        </a>\\r\\n        </div>\\r\\n          <div>\\r\\n        <a href=\"./index.php\">\\r\\n\\t\\t\\t\\t\\t          <img src=\"/img_slide/4.jpg?v=1610267564\">\\r\\n        </a>\\r\\n        </div>\\r\\n          <div>\\r\\n        <a href=\"./index.php\">\\r\\n\\t\\t\\t\\t\\t          <img src=\"/img_slide/5.jpg?v=1610267564\">\\r\\n        </a>\\r\\n        </div>\\r\\n          <div>\\r\\n        <a href=\"./index.php\">\\r\\n\\t\\t\\t\\t\\t          <img src=\"/img_slide/6.jpg?v=1610267564\">\\r\\n        </a>\\r\\n        </div>\\r\\n          <div>\\r\\n        <a href=\"./index.php\">\\r\\n\\t\\t\\t\\t\\t          <img src=\"/img_slide/7.jpg?v=1610267564\">\\r\\n        </a>\\r\\n        </div>\\r\\n    </div><!-- end of .slider_container -->\\r\\n</div>\\r\\n\\r\\n\\t\\r\\n\\t\\t\\r\\n \\r\\n\\t\\t<div id=\"video-close\" class=\"hidden-mobile-sm\">\\r\\n\\r\\n  <div class=\"slider_container \">\\r\\n\\t\\t<!--<video autoplay muted loop controls preload=\"ture\" tabindex=\"0\" id=\"myVideo\" src=\"/img_fg/video/cjcu-20200328.mp4\" type=\"video/mp4\">\\r\\n\\t\\t</video> -->\\r\\n\\t\\t<video autoplay muted loop controls preload=\"ture\" tabindex=\"0\" id=\"myVideo\" >\\r\\n\\t\\t\\t<source src=\"/img_fg/video/cjcu-20200423.mp4\" type=\"video/mp4\" >\\r\\n\\t\\t\\t<source src=\"/img_fg/video/cjcu-20200423.ogv\" type=\"video/ogg\" >\\r\\n\\t\\t\\t<source src=\"/img_fg/video/cjcu-20200423.webm\" type=\"video/webm\" >\\r\\n\\t\\t\\t\\xe6\\x82\\xa8\\xe7\\x9a\\x84\\xe7\\x80\\x8f\\xe8\\xa6\\xbd\\xe5\\x99\\xa8\\xe4\\xb8\\x8d\\xe6\\x94\\xaf\\xe6\\x8f\\xb4HTML 5\\xe5\\xbd\\xb1\\xe7\\x89\\x87\\xe6\\x92\\xad\\xe6\\x94\\xbe\\xe6\\xa8\\x99\\xe7\\xb1\\xa4<video>\\xe6\\xa0\\xbc\\xe5\\xbc\\x8f\\xe3\\x80\\x82\\r\\n  \\t\\tYour browser doesn\\'t support the <video> tag.\\t\\t\\t\\r\\n\\t\\t</video>\\r\\n  </div><!-- end of .slider_container -->\\r\\n\\t\\r\\n\\t<div class=\"video-content\">\\r\\n\\t  <!--<h1>Heading</h1>-->\\r\\n\\t\\t<p ><a href=\"https://youtu.be/efYqVwoXDEs\" target=\"_blank\" class=\"video-content-word\">\\xe5\\xae\\x8c\\xe6\\x95\\xb4\\xe7\\x89\\x88\\xe8\\xab\\x8b\\xe9\\xbb\\x9e\\xe9\\x80\\x99\\xe8\\xa3\\xa1 click Here!!</a></p>  \\r\\n    \\r\\n\\t  <!-- Use a button to pause/play the video with JavaScript -->\\r\\n\\t  <button id=\"myBtn\" onclick=\"myFunction()\"><i class=\"fas fa-pause-circle fa-6px\"></i></button>\\r\\n\\t</div>\\r\\n  <div class=\"video-close\">\\r\\n\\t\\t<p></p>\\r\\n    <button onclick=\"pict_close_func()\"><i class=\"fas fa-times-circle\"></i></button>\\r\\n  </div>\\t\\r\\n\\t\\r\\n<script>\\r\\n// Get the video\\r\\nvar video = document.getElementById(\"myVideo\");\\r\\n\\r\\n// Get the button\\r\\nvar btn = document.getElementById(\"myBtn\");\\r\\n\\r\\n// Pause and play the video, and change the button text\\r\\nfunction myFunction() {\\r\\n\\tif (video.paused) {\\r\\n\\t\\tvideo.play();\\r\\n\\t\\tbtn.innerHTML = \"<i class=\\\\\"fas fa-pause-circle fa-6px\\\\\"></i>\";\\r\\n\\t} \\r\\n\\telse {\\r\\n\\t\\tvideo.pause();\\r\\n\\t\\tbtn.innerHTML = \"<i class=\\\\\"fas fa-play-circle fa-6px\\\\\"></i>\";\\r\\n\\t}\\r\\n}\\r\\nfunction pict_close_func(){\\r\\n\\tif (video.paused) {\\r\\n\\t\\tvideo.play();\\r\\n\\t\\tbtn.innerHTML = \"<i class=\\\\\"fas fa-pause-circle fa-6px\\\\\"></i>\";\\r\\n\\t} \\r\\n\\telse {\\r\\n\\t\\tvideo.pause();\\r\\n\\t\\tbtn.innerHTML = \"<i class=\\\\\"fas fa-play-circle fa-6px\\\\\"></i>\";\\r\\n\\t}\\r\\n\\tdocument.getElementById(\"video-close\").style.display=\"none\";\\r\\n\\tdocument.getElementById(\"fg-content-free-close\").style.display=\"none\";\\r\\n\\tdocument.getElementById(\"navbar-w-1a\").style.background = \"#ffffff\";\\r\\n\\tdocument.getElementById(\"navbar-w-1a-header\").style.display = \"block\";\\r\\n}\\r\\n</script>\\r\\n</div>\\r\\n\\t\\t\\r\\n \\r\\n\\t\\t \\r\\n\\t\\t\\r\\n\\t\\t<div class=\"cleaner nopadded\"></div>\\r\\n\\t\\t\\t  <div>\\r\\n\\t\\t\\t<a href=\"./index.php#main\" >\\r\\n\\t\\t\\t<div class=\"fg-content-free-up\" id=\"fg-content-free-close\">  <!-- //for video block -->\\r\\n\\t\\t\\t</div>\\r\\n\\r\\n\\t\\t\\t<div class=\"fg-content-free-dn\" id=\"fg-content-free-close\">\\r\\n\\t\\t\\t<!--\\r\\n\\t\\t\\t\\t<div class=\"fg-kind\">\\r\\n\\t\\t\\t\\t\\t\\t\\t\\t</div>\\r\\n\\t\\t\\t-->\\r\\n\\t\\t\\t</div>\\r\\n\\t\\t\\t</a>\\r\\n\\t\\t</div>\\t\\t \\r\\n\\r\\n\\t\\t<div class=\"no-slider-header\" id=\"navbar-w-1a-header\"></div>\\r\\n    <a name=\"main\" class=\"fg-name\"></a>\\r\\n\\t\\t<div class=\"cleaner nopadded\"></div>\\r\\n\\t\\t<div class=\"col-sm-12 padded-5 bg-color-white fg-content nopadded\">\\r\\n\\t\\t\\t<!--<div class=\"col-sm-1 nopadded \"> </div>-->\\r\\n\\t\\t\\t<div class=\"cc\">\\r\\n\\t\\t\\t\\t<div class=\"cleaner nopadded\"></div>\\r\\n\\t\\t\\t\\t<ul >\\r\\n\\t\\t\\t\\t\\t\\t\\t\\t\\t\\t<li class=\"fg-block clearfix\">\\r\\n            <div class=\"width-1400\">\\r\\n              <div class=\"cleaner nopadded enable-mobile-xs enable-mobile-md\"></div> \\r\\n              <!--<div class=\"col-md-1 nopadded \"></div>-->\\t\\t\\t\\t\\t\\t\\t\\t\\t\\r\\n              <div class=\"col-md-12 nopadded\">\\t\\t\\t\\t\\t\\r\\n                <script src=\"https://ajax.googleapis.com/ajax/libs/jquery/3.3.1/jquery.min.js\"></script>\\r\\n\\t<script src=\"https://maxcdn.bootstrapcdn.com/bootstrap/3.3.7/js/bootstrap.min.js\"></script>\\t\\t\\t\\t\\t\\t\\t\\t\\t\\t\\t\\t\\t\\t\\t\\t\\t\\t\\t\\t\\t\\t\\t\\t\\t\\t\\t\\t\\t\\r\\n\\r\\n<script>\\r\\n$(function(){\\r\\n\\t\\t// \\xe5\\x88\\x9d\\xe5\\xa7\\x8b\\xe5\\x8c\\x96\\xe8\\xbd\\xae\\xe6\\x92\\xad\\r\\n\\t\\t$(\\'#myCarousel\\').carousel({\\r\\n\\t\\t\\t\\tinterval: 3000  //\\xe8\\xbc\\xaa\\xe6\\x92\\xad\\xe7\\xa7\\x92\\xe6\\x95\\xb8 \\r\\n\\t\\t});\\r\\n});\\r\\n</script>\\r\\n\\r\\n\\r\\n  \\r\\n<div class=\"mobile-slider\">  <!--width-->\\r\\n\\t<div id=\"myCarousel\" class=\"carousel slide\" data-ride=\"carousel\">\\r\\n\\t\\t<!-- Indicators -->\\r\\n\\t\\t<!--\\r\\n\\t\\t<ol class=\"carousel-indicators\">\\r\\n\\t\\t\\t\\t\\t\\t\\t\\t<li data-target=\"#myCarousel\" data-slide-to=\"0\" class=\"active\"></li>\\r\\n\\t\\t\\t\\t\\t\\t\\t\\t<li data-target=\"#myCarousel\" data-slide-to=\"1\"></li>\\r\\n\\t\\t\\t\\t\\t\\t\\t\\t<li data-target=\"#myCarousel\" data-slide-to=\"2\"></li>\\r\\n\\t\\t\\t\\t\\t\\t\\t\\t<li data-target=\"#myCarousel\" data-slide-to=\"3\"></li>\\r\\n\\t\\t\\t\\t\\t\\t\\t\\t<li data-target=\"#myCarousel\" data-slide-to=\"4\"></li>\\r\\n\\t\\t\\t\\t\\t\\t\\t\\t<li data-target=\"#myCarousel\" data-slide-to=\"5\"></li>\\r\\n\\t\\t\\t\\t\\t\\t\\t\\t<li data-target=\"#myCarousel\" data-slide-to=\"6\"></li>\\r\\n\\t\\t\\t\\t\\t\\t\\t\\t<li data-target=\"#myCarousel\" data-slide-to=\"7\"></li>\\r\\n\\t\\t\\t\\t\\t\\t\\t\\t<li data-target=\"#myCarousel\" data-slide-to=\"8\"></li>\\r\\n\\t\\t\\t\\t\\t</ol>\\r\\n\\t\\t-->\\r\\n\\r\\n\\t\\t<!-- Wrapper for slides -->\\r\\n\\t\\t<div class=\"carousel-inner\">\\r\\n\\t\\t\\t\\t\\t\\t\\t\\t<div class=\"item active\">\\r\\n\\t\\t\\t\\t\\t\\r\\n\\t\\t\\t\\t\\t<a href=\"#\" target=\"\">\\r\\n\\t\\t\\t\\t\\t\\t<img src=\"https://dweb.cjcu.edu.tw/ShepherdFiles/B2503/CJCUPIC/2020112717341555.jpg\" alt=\"\" />\\r\\n\\t\\t\\t\\t\\t\\t\\t\\t\\t\\t\\t</a>\\r\\n\\t\\t\\t\\t</div>\\r\\n\\t\\t\\t\\t\\t\\t\\t\\t<div class=\"item \">\\r\\n\\t\\t\\t\\t\\t\\r\\n\\t\\t\\t\\t\\t<a href=\"https://www.facebook.com/admissioncjcu1116\" target=\"_blank\">\\r\\n\\t\\t\\t\\t\\t\\t<img src=\"https://dweb.cjcu.edu.tw/ShepherdFiles/B2503/CJCUPIC/20210105165809984.jpg\" alt=\"\" />\\r\\n\\t\\t\\t\\t\\t\\t\\t\\t\\t\\t\\t</a>\\r\\n\\t\\t\\t\\t</div>\\r\\n\\t\\t\\t\\t\\t\\t\\t\\t<div class=\"item \">\\r\\n\\t\\t\\t\\t\\t\\r\\n\\t\\t\\t\\t\\t<a href=\"https://www.facebook.com/admissioncjcu1116\" target=\"_blank\">\\r\\n\\t\\t\\t\\t\\t\\t<img src=\"https://dweb.cjcu.edu.tw/ShepherdFiles/B2503/CJCUPIC/20201231194832275.jpg\" alt=\"\" />\\r\\n\\t\\t\\t\\t\\t\\t\\t\\t\\t\\t\\t</a>\\r\\n\\t\\t\\t\\t</div>\\r\\n\\t\\t\\t\\t\\t\\t\\t\\t<div class=\"item \">\\r\\n\\t\\t\\t\\t\\t\\r\\n\\t\\t\\t\\t\\t<a href=\"http://admission.cjcu.edu.tw/admissions/WebForms/News/NS0010M.aspx\" target=\"_blank\">\\r\\n\\t\\t\\t\\t\\t\\t<img src=\"https://dweb.cjcu.edu.tw/ShepherdFiles/B2503/CJCUPIC/20201201175402959.jpg\" alt=\"\" />\\r\\n\\t\\t\\t\\t\\t\\t\\t\\t\\t\\t\\t</a>\\r\\n\\t\\t\\t\\t</div>\\r\\n\\t\\t\\t\\t\\t\\t\\t\\t<div class=\"item \">\\r\\n\\t\\t\\t\\t\\t\\r\\n\\t\\t\\t\\t\\t<a href=\"#\" target=\"\">\\r\\n\\t\\t\\t\\t\\t\\t<img src=\"https://dweb.cjcu.edu.tw/ShepherdFiles/B2503/CJCUPIC/20201120172043232.jpg\" alt=\"\" />\\r\\n\\t\\t\\t\\t\\t\\t\\t\\t\\t\\t\\t</a>\\r\\n\\t\\t\\t\\t</div>\\r\\n\\t\\t\\t\\t\\t\\t\\t\\t<div class=\"item \">\\r\\n\\t\\t\\t\\t\\t\\r\\n\\t\\t\\t\\t\\t<a href=\"#\" target=\"\">\\r\\n\\t\\t\\t\\t\\t\\t<img src=\"https://dweb.cjcu.edu.tw/ShepherdFiles/B2503/CJCUPIC/20201120172008471.jpg\" alt=\"\" />\\r\\n\\t\\t\\t\\t\\t\\t\\t\\t\\t\\t\\t</a>\\r\\n\\t\\t\\t\\t</div>\\r\\n\\t\\t\\t\\t\\t\\t\\t\\t<div class=\"item \">\\r\\n\\t\\t\\t\\t\\t\\r\\n\\t\\t\\t\\t\\t<a href=\"#\" target=\"\">\\r\\n\\t\\t\\t\\t\\t\\t<img src=\"https://dweb.cjcu.edu.tw/ShepherdFiles/B2503/CJCUPIC/20201120173445783.jpg\" alt=\"\" />\\r\\n\\t\\t\\t\\t\\t\\t\\t\\t\\t\\t\\t</a>\\r\\n\\t\\t\\t\\t</div>\\r\\n\\t\\t\\t\\t\\t\\t\\t\\t<div class=\"item \">\\r\\n\\t\\t\\t\\t\\t\\r\\n\\t\\t\\t\\t\\t<a href=\"#\" target=\"\">\\r\\n\\t\\t\\t\\t\\t\\t<img src=\"https://dweb.cjcu.edu.tw/ShepherdFiles/B2503/CJCUPIC/20210108101736907.jpg\" alt=\"\" />\\r\\n\\t\\t\\t\\t\\t\\t\\t\\t\\t\\t\\t</a>\\r\\n\\t\\t\\t\\t</div>\\r\\n\\t\\t\\t\\t\\t\\t\\t\\t<div class=\"item \">\\r\\n\\t\\t\\t\\t\\t\\r\\n\\t\\t\\t\\t\\t<a href=\"#\" target=\"\">\\r\\n\\t\\t\\t\\t\\t\\t<img src=\"https://dweb.cjcu.edu.tw/ShepherdFiles/B2503/CJCUPIC/20210108101452828.jpg\" alt=\"\" />\\r\\n\\t\\t\\t\\t\\t\\t\\t\\t\\t\\t\\t</a>\\r\\n\\t\\t\\t\\t</div>\\r\\n\\t\\t\\t\\t\\t\\t</div><!-- carousel-inner -->\\r\\n\\r\\n\\t\\t\\t<!-- Left and right controls -->\\r\\n\\t\\t\\t<a class=\"left carousel-control\" href=\"#myCarousel\" data-slide=\"prev\">\\r\\n\\t\\t\\t<span class=\"glyphicon glyphicon-chevron-left icon-prev\"></span>\\r\\n\\t\\t\\t<!--<span class=\"sr-only\">Previous</span>-->\\r\\n\\t\\t\\t</a>\\r\\n\\t\\t\\t\\r\\n\\t\\t\\t<a class=\"right carousel-control\" href=\"#myCarousel\" data-slide=\"next\">\\r\\n\\t\\t\\t<span class=\"glyphicon glyphicon-chevron-right icon-next\"></span>\\r\\n\\t\\t\\t<!--<span class=\"sr-only\">Next</span>-->\\r\\n\\t\\t\\t</a>\\r\\n\\t\\t</div><!-- carousel slide-->\\r\\n\\t</div><!--mobile-slider -->\\r\\n              </div>\\r\\n              <!--<div class=\"col-md-1 nopadded \"></div>-->\\t\\t\\t\\t\\t\\t\\t\\t\\t\\r\\n\\t\\t\\t\\t\\t\\t</div>\\r\\n\\t\\t\\t\\t\\t\\t<div class=\"cleaner nopadded enable-mobile-xs\"> </div>\\t\\r\\n\\t\\t\\t\\t\\t</li>\\t\\t\\t\\t\\r\\n\\t\\t\\t\\t\\t\\r\\n\\t\\t\\t\\t\\t\\t\\t\\t\\t\\t<!--\\r\\n\\t\\t\\t\\t\\t<li class=\"fg-block \">\\r\\n            <div class=\"width-1400\">\\r\\n\\t\\t\\t\\t\\t\\t\\t<div class=\"col-md-12 nopadded \">\\r\\n\\t\\t\\t\\t\\t\\t\\t\\t\\t\\t\\t\\t\\t\\t\\t</div>\\r\\n\\t\\t\\t\\t\\t\\t</div>\\r\\n\\t\\t\\t\\t\\t</li>\\t\\r\\n\\t\\t\\t\\t\\t-->\\r\\n\\t\\t\\t\\t\\t\\r\\n\\t\\t\\t\\t\\t\\t\\t\\t\\t\\t<li class=\"fg-block \">\\r\\n            <div class=\"width-1400\">\\r\\n              <div class=\"col-md-12 col-full-at-1000 nopadded \">\\r\\n                <div class=\"col-md-12 nopadded \">\\r\\n                  <h2 class=\"fg-title f-color-gray\"><span>\\xe6\\xa0\\xa1\\xe5\\x9c\\x92\\xe8\\xa8\\x8a\\xe6\\x81\\xaf</span></h2>\\r\\n                </div>\\r\\n                <div class=\"cleaner nopadded enable-mobile-xs enable-mobile-md\"></div> \\r\\n                <div class=\"col-md-12 nopadded \">\\r\\n                  \\t\\t\\t\\t\\t\\r\\n\\r\\n\\t<ul>\\r\\n\\t\\t\\t<li class=\"fg-news-item\" >\\t\\r\\n\\t\\t\\t<div class=\"padded-5 height-focus\" >\\t\\r\\n\\t\\t\\t\\t<div class=\"nopadded\">\\r\\n\\t\\t\\t\\t\\t<div class=\"post-date-2 \">\\r\\n\\t\\t\\t\\t\\t\\t\\t\\t\\t\\t\\t\\t\\t\\r\\n\\t\\t\\t\\t\\t\\t<p><font class=\"month\">Jan</font><font class=\"day\">08</font></p>\\r\\n\\t\\t\\t\\t\\t\\t\\t\\t\\t\\t</div>\\r\\n\\t\\t\\t\\t</div>\\r\\n\\t\\t\\t\\t<!--<a href=\"news-fodetail.php?newstype=FC&newsid=3582\">-->\\r\\n\\t\\t\\t\\t<div class=\"mobile-foucs-2\">\\r\\n\\t\\t\\t\\t\\t<a href=\"news-detail.php?id=FC,3582\">\\r\\n\\t\\t\\t\\t\\t<img src=\"https://dweb.cjcu.edu.tw/ShepherdFiles/B1202/SpotLight/2021010814084896.jpg\" alt=\"\\xe9\\x95\\xb7\\xe6\\xa6\\xae\\xe5\\xa4\\xa7\\xe5\\xad\\xb8\\xe4\\xb8\\x80\\xe6\\x9c\\x9f\\xe4\\xb8\\x80\\xe6\\x9c\\x83\\xe6\\x89\\xad\\xe8\\x9b\\x8b\\xe6\\xb4\\xbb\\xe5\\x8b\\x95 \\xc2\\xa0\\xe7\\xa9\\x8d\\xe6\\x9c\\xa8\\xe6\\x8c\\x91\\xe6\\x88\\xb0\\xe8\\xb3\\xbd\\xe8\\xb2\\xa1\\xe9\\x87\\x91\\xe7\\xb3\\xbb\\xe6\\x9e\\x97\\xe6\\x97\\xbb\\xe8\\x90\\xb1\\xe7\\x8d\\xb2switch\"  class=\"grayscale\" >\\r\\n\\t\\t\\t\\t\\t</a>\\r\\n\\t\\t\\t\\t</div>\\r\\n\\t\\t\\t\\t<div class=\"cleaner padded-b10 hidden-mobile-xs\"></div>\\r\\n\\t\\t\\t\\t<div class=\"cleaner nopadded\"></div>\\r\\n\\t\\t\\t\\t<div class=\"mobile-foucs-fg-lr10\">\\r\\n\\t\\t\\t\\t\\t<div class=\"topic\">\\r\\n\\t\\t\\t\\t\\t\\t<a href=\"news-detail.php?id=FC,3582\">\\r\\n\\t\\t\\t\\t\\t\\t\\xe9\\x95\\xb7\\xe6\\xa6\\xae\\xe5\\xa4\\xa7\\xe5\\xad\\xb8\\xe4\\xb8\\x80\\xe6\\x9c\\x9f\\xe4\\xb8\\x80\\xe6\\x9c\\x83\\xe6\\x89\\xad\\xe8\\x9b\\x8b\\xe6\\xb4\\xbb\\xe5\\x8b\\x95 \\xc2\\xa0\\xe7\\xa9\\x8d\\xe6\\x9c\\xa8\\xe6\\x8c\\x91\\xe6\\x88\\xb0\\xe8\\xb3\\xbd\\xe8\\xb2\\xa1\\xe9\\x87\\x91\\xe7\\xb3\\xbb\\xe6\\x9e\\x97\\xe6\\x97\\xbb\\xe8\\x90\\xb1\\xe7\\x8d\\xb2switch\\t\\t\\t\\t\\t\\t</a>\\r\\n\\t\\t\\t\\t\\t</div>\\r\\n\\t\\t\\t\\t\\t<!--<div class=\"hidden-mobile-xs\"><small>2021/01/08</small></div>-->\\r\\n\\t\\t\\t\\t\\t<!--<div class=\"\">\\xe3\\x80\\x94\\xe5\\x85\\xa5\\xe5\\xad\\xb8\\xe8\\x99\\x95\\xe3\\x80\\x81\\xe5\\x85\\xac\\xe9\\x97\\x9c\\xe7\\xb5\\x84\\xe5\\xa0\\xb1\\xe5\\xb0\\x8e\\xe3\\x80\\x95\\r\\n\\r\\n&nbsp; &nbsp; \\xe8\\xbf\\x8e\\xe6\\x8e\\xa5\\xe6\\x96\\xb0\\xe7\\x9a\\x84\\xe4\\xb8\\x80\\xe5\\xb9\\xb4\\xe4\\xbe\\x86\\xe8\\x87\\xa8\\xef\\xbc\\x8c\\xe9\\x95\\xb7\\xe6\\xa6\\xae\\xe5\\xa4\\xa7\\xe5\\xad\\xb8\\xe5\\x85\\xa5\\xe5\\xad\\xb8\\xe8\\x99\\x95\\xe6\\x96\\xbc8\\xe6\\x97\\xa5\\xe5\\x9c\\xa8\\xe6\\x85\\x8e\\xe8\\xa1\\x8c\\xe9\\x90\\x98\\xe5\\x89\\x8d\\xe5\\xbb\\xa3\\xe5\\xa0\\xb4\\xe8\\x88\\x89\\xe8\\xbe\\xa6\\xe3\\x80\\x8c\\xe6\\x96\\xb0\\xe6\\x98\\xa5\\xe4\\xb8\\x80\\xe6\\x9c\\x9f\\xe4\\xb8\\x80\\xe6\\x9c\\x83\\xe3\\x80\\x8d\\xe6\\xb4\\xbb\\xe5\\x8b\\x95\\xef\\xbc\\x8c\\xe7\\x8f\\xbe\\xe5\\xa0\\xb4\\xe5\\x9c\\xa8\\xe3\\x80\\x8c\\xe4\\xb8\\x80\\xe6\\x9c\\x9f\\xe4\\xb8\\x80\\xe6\\x9c\\x83\\xe3\\x80\\x8d\\xe5\\xbd\\xa9\\xe7\\xb9\\xaa\\xe5\\xb7\\xb4...</div> -->\\r\\n\\t\\t\\t\\t\\t<div><div class=\"news_keyword\"><ul><i class=\"fas fa-tags\"></i>  <li><a href=\"news.php?id=A0\">\\xe7\\x84\\xa6\\xe9\\xbb\\x9e\\xe6\\x96\\xb0\\xe8\\x81\\x9e</a></li></ul></div></div> \\t\\t\\t\\t</div>\\r\\n\\t\\t\\t</div>\\r\\n\\t\\t</li>\\r\\n\\t\\t\\t\\t<!--<div class=\"cleaner nopadded enable-mobile-xs\"></div>  -->\\r\\n\\t\\t\\t<li class=\"fg-news-item\" >\\t\\r\\n\\t\\t\\t<div class=\"padded-5 height-focus\" >\\t\\r\\n\\t\\t\\t\\t<div class=\"nopadded\">\\r\\n\\t\\t\\t\\t\\t<div class=\"post-date-2 \">\\r\\n\\t\\t\\t\\t\\t\\t\\t\\t\\t\\t\\t\\t\\t\\r\\n\\t\\t\\t\\t\\t\\t<p><font class=\"month\">Jan</font><font class=\"day\">08</font></p>\\r\\n\\t\\t\\t\\t\\t\\t\\t\\t\\t\\t</div>\\r\\n\\t\\t\\t\\t</div>\\r\\n\\t\\t\\t\\t<!--<a href=\"news-fodetail.php?newstype=FC&newsid=3575\">-->\\r\\n\\t\\t\\t\\t<div class=\"mobile-foucs-2\">\\r\\n\\t\\t\\t\\t\\t<a href=\"news-detail.php?id=FC,3575\">\\r\\n\\t\\t\\t\\t\\t<img src=\"https://dweb.cjcu.edu.tw/ShepherdFiles/B1202/SpotLight/20210108101001258.jpg\" alt=\"\\xe3\\x80\\x8c\\xe5\\xad\\xb8\\xe7\\xbf\\x92\\xe4\\xb8\\x8d\\xe4\\xb8\\xad\\xe6\\x96\\xb7\\xe3\\x80\\x81\\xe5\\xad\\xb8\\xe7\\xbf\\x92\\xe7\\x84\\xa1\\xe5\\x9c\\x8b\\xe7\\x95\\x8c\\xe3\\x80\\x8d\\xe5\\x9c\\x8b\\xe9\\x9a\\x9b\\xe8\\x99\\x952020\\xe7\\xa7\\x8b\\xe5\\xad\\xa3\\xe4\\xba\\xa4\\xe6\\x8f\\x9b\\xe7\\x94\\x9f\\xe7\\xb5\\x90\\xe6\\xa5\\xad\\xe5\\xbc\\x8f \\xe7\\xb6\\xb2\\xe8\\xb7\\xaf\\xe4\\xb8\\xb2\\xe9\\x80\\xa3\\xe6\\xb5\\xb7\\xe5\\xa4\\x96\\xe4\\xba\\xa4\\xe6\\x8f\\x9b\\xe7\\x94\\x9f\"  class=\"grayscale\" >\\r\\n\\t\\t\\t\\t\\t</a>\\r\\n\\t\\t\\t\\t</div>\\r\\n\\t\\t\\t\\t<div class=\"cleaner padded-b10 hidden-mobile-xs\"></div>\\r\\n\\t\\t\\t\\t<div class=\"cleaner nopadded\"></div>\\r\\n\\t\\t\\t\\t<div class=\"mobile-foucs-fg-lr10\">\\r\\n\\t\\t\\t\\t\\t<div class=\"topic\">\\r\\n\\t\\t\\t\\t\\t\\t<a href=\"news-detail.php?id=FC,3575\">\\r\\n\\t\\t\\t\\t\\t\\t\\xe3\\x80\\x8c\\xe5\\xad\\xb8\\xe7\\xbf\\x92\\xe4\\xb8\\x8d\\xe4\\xb8\\xad\\xe6\\x96\\xb7\\xe3\\x80\\x81\\xe5\\xad\\xb8\\xe7\\xbf\\x92\\xe7\\x84\\xa1\\xe5\\x9c\\x8b\\xe7\\x95\\x8c\\xe3\\x80\\x8d\\xe5\\x9c\\x8b\\xe9\\x9a\\x9b\\xe8\\x99\\x952020\\xe7\\xa7\\x8b\\xe5\\xad\\xa3\\xe4\\xba\\xa4\\xe6\\x8f\\x9b\\xe7\\x94\\x9f\\xe7\\xb5\\x90\\xe6\\xa5\\xad\\xe5\\xbc\\x8f \\xe7\\xb6\\xb2\\xe8\\xb7\\xaf\\xe4\\xb8\\xb2\\xe9\\x80\\xa3\\xe6\\xb5\\xb7\\xe5\\xa4\\x96\\xe4\\xba\\xa4\\xe6\\x8f\\x9b\\xe7\\x94\\x9f\\t\\t\\t\\t\\t\\t</a>\\r\\n\\t\\t\\t\\t\\t</div>\\r\\n\\t\\t\\t\\t\\t<!--<div class=\"hidden-mobile-xs\"><small>2021/01/08</small></div>-->\\r\\n\\t\\t\\t\\t\\t<!--<div class=\"\">&nbsp;\\xe3\\x80\\x94\\xe5\\x9c\\x8b\\xe9\\x9a\\x9b\\xe8\\x99\\x95\\xe5\\xa0\\xb1\\xe5\\xb0\\x8e\\xe3\\x80\\x95\\r\\n\\r\\n\\r\\n\\r\\n&nbsp; &nbsp;\\xe9\\x95\\xb7\\xe6\\xa6\\xae\\xe5\\xa4\\xa7\\xe5\\xad\\xb8\\xe5\\x9c\\x8b\\xe9\\x9a\\x9b\\xe4\\xba\\xa4\\xe6\\xb5\\x81\\xe8\\x88\\x87\\xe5\\x85\\xa9\\xe5\\xb2\\xb8\\xe4\\xba\\x8b\\xe5\\x8b\\x99\\xe8\\x99\\x954\\xe6\\x97\\xa5\\xe8\\xbe\\xa6\\xe7\\x90\\x86\\xe3\\x80\\x8c2020\\xe7\\xa7\\x8b\\xe5\\xad\\xa3\\xe4\\xba\\xa4\\xe6\\x8f\\x9b\\xe7\\x94\\x9f\\xe7\\xb5\\x90\\xe6\\xa5\\xad\\xe5\\xbc\\x8f\\xe3\\x80\\x8d\\xef\\xbc\\x8c\\xe6\\xad\\xa4\\xe6\\xac\\xa1\\xe5\\x85\\xb1\\xe6\\x9c\\x897\\xe4\\xbd\\x8d\\xe4\\xbe\\x86\\xe8\\x87\\xaa\\xe5\\x8d\\xb0\\xe5\\xb0\\xbc\\xe7\\x9a\\x84\\xe4\\xba\\xa4\\xe6\\x8f\\x9b...</div> -->\\r\\n\\t\\t\\t\\t\\t<div><div class=\"news_keyword\"><ul><i class=\"fas fa-tags\"></i>  <li><a href=\"news.php?id=A2004\">\\xe5\\x9c\\x8b\\xe9\\x9a\\x9b\\xe5\\x8f\\x83\\xe8\\x88\\x87</a></li></ul></div></div> \\t\\t\\t\\t</div>\\r\\n\\t\\t\\t</div>\\r\\n\\t\\t</li>\\r\\n\\t\\t\\t\\t<!--<div class=\"cleaner nopadded enable-mobile-xs\"></div>  -->\\r\\n\\t\\t\\t<li class=\"fg-news-item\" >\\t\\r\\n\\t\\t\\t<div class=\"padded-5 height-focus\" >\\t\\r\\n\\t\\t\\t\\t<div class=\"nopadded\">\\r\\n\\t\\t\\t\\t\\t<div class=\"post-date-2 \">\\r\\n\\t\\t\\t\\t\\t\\t\\t\\t\\t\\t\\t\\t\\t\\r\\n\\t\\t\\t\\t\\t\\t<p><font class=\"month\">Jan</font><font class=\"day\">07</font></p>\\r\\n\\t\\t\\t\\t\\t\\t\\t\\t\\t\\t</div>\\r\\n\\t\\t\\t\\t</div>\\r\\n\\t\\t\\t\\t<!--<a href=\"news-fodetail.php?newstype=FC&newsid=3573\">-->\\r\\n\\t\\t\\t\\t<div class=\"mobile-foucs-2\">\\r\\n\\t\\t\\t\\t\\t<a href=\"news-detail.php?id=FC,3573\">\\r\\n\\t\\t\\t\\t\\t<img src=\"https://dweb.cjcu.edu.tw/ShepherdFiles/B1202/SpotLight/20210107152532406.jpg\" alt=\"\\xe5\\xad\\xb8\\xe8\\x8f\\xaf\\xe8\\xaa\\x9e\\xe6\\x8b\\x89\\xe8\\xbf\\x91\\xe4\\xb8\\x96\\xe7\\x95\\x8c\\xe8\\xb7\\x9d\\xe9\\x9b\\xa2 \\xe9\\x95\\xb7\\xe6\\xa6\\xae\\xe5\\xa4\\xa7\\xe5\\xad\\xb8\\xe8\\x8f\\xaf\\xe8\\xaa\\x9e\\xe4\\xb8\\xad\\xe5\\xbf\\x83\\xe8\\x88\\x89\\xe8\\xbe\\xa6\\xe8\\xb7\\xa8\\xe5\\xb9\\xb4\\xe7\\xb7\\x9a\\xe4\\xb8\\x8a\\xe8\\x8f\\xaf\\xe8\\xaa\\x9e\\xe8\\xaa\\xb2\"  class=\"grayscale\" >\\r\\n\\t\\t\\t\\t\\t</a>\\r\\n\\t\\t\\t\\t</div>\\r\\n\\t\\t\\t\\t<div class=\"cleaner padded-b10 hidden-mobile-xs\"></div>\\r\\n\\t\\t\\t\\t<div class=\"cleaner nopadded\"></div>\\r\\n\\t\\t\\t\\t<div class=\"mobile-foucs-fg-lr10\">\\r\\n\\t\\t\\t\\t\\t<div class=\"topic\">\\r\\n\\t\\t\\t\\t\\t\\t<a href=\"news-detail.php?id=FC,3573\">\\r\\n\\t\\t\\t\\t\\t\\t\\xe5\\xad\\xb8\\xe8\\x8f\\xaf\\xe8\\xaa\\x9e\\xe6\\x8b\\x89\\xe8\\xbf\\x91\\xe4\\xb8\\x96\\xe7\\x95\\x8c\\xe8\\xb7\\x9d\\xe9\\x9b\\xa2 \\xe9\\x95\\xb7\\xe6\\xa6\\xae\\xe5\\xa4\\xa7\\xe5\\xad\\xb8\\xe8\\x8f\\xaf\\xe8\\xaa\\x9e\\xe4\\xb8\\xad\\xe5\\xbf\\x83\\xe8\\x88\\x89\\xe8\\xbe\\xa6\\xe8\\xb7\\xa8\\xe5\\xb9\\xb4\\xe7\\xb7\\x9a\\xe4\\xb8\\x8a\\xe8\\x8f\\xaf\\xe8\\xaa\\x9e\\xe8\\xaa\\xb2\\t\\t\\t\\t\\t\\t</a>\\r\\n\\t\\t\\t\\t\\t</div>\\r\\n\\t\\t\\t\\t\\t<!--<div class=\"hidden-mobile-xs\"><small>2021/01/07</small></div>-->\\r\\n\\t\\t\\t\\t\\t<!--<div class=\"\">\\xe3\\x80\\x94\\xe8\\x8f\\xaf\\xe8\\xaa\\x9e\\xe4\\xb8\\xad\\xe5\\xbf\\x83\\xe5\\xa0\\xb1\\xe5\\xb0\\x8e\\xe3\\x80\\x95&nbsp;&nbsp;\\r\\n\\r\\n&nbsp; &nbsp;\\xe6\\x96\\xb0\\xe7\\x9a\\x84\\xe4\\xb8\\x80\\xe5\\xb9\\xb4\\xe5\\xbe\\x9e\\xe5\\xad\\xb8\\xe8\\x8f\\xaf\\xe8\\xaa\\x9e\\xe9\\x96\\x8b\\xe5\\xa7\\x8b\\xef\\xbc\\x8c\\xe9\\x95\\xb7\\xe6\\xa6\\xae\\xe5\\xa4\\xa7\\xe5\\xad\\xb8\\xe8\\x8f\\xaf\\xe8\\xaa\\x9e\\xe6\\x96\\x87\\xe6\\x95\\x99\\xe8\\x82\\xb2\\xe4\\xb8\\xad\\xe5\\xbf\\x83\\xe6\\x96\\xbc109\\xe5\\xb9\\xb412\\xe6\\x9c\\x8829\\xe6\\x97\\xa5\\xe8\\x87\\xb3110\\xe5\\xb9\\xb41\\xe6\\x9c\\x883\\xe6\\x97\\xa5\\xe8\\x88\\x89...</div> -->\\r\\n\\t\\t\\t\\t\\t<div><div class=\"news_keyword\"><ul><i class=\"fas fa-tags\"></i>  <li><a href=\"news.php?id=A2004\">\\xe5\\x9c\\x8b\\xe9\\x9a\\x9b\\xe5\\x8f\\x83\\xe8\\x88\\x87</a></li></ul></div></div> \\t\\t\\t\\t</div>\\r\\n\\t\\t\\t</div>\\r\\n\\t\\t</li>\\r\\n\\t\\t\\t\\t<!--<div class=\"cleaner nopadded enable-mobile-xs\"></div>  -->\\r\\n\\t\\t\\t<li class=\"fg-news-item\" >\\t\\r\\n\\t\\t\\t<div class=\"padded-5 height-focus\" >\\t\\r\\n\\t\\t\\t\\t<div class=\"nopadded\">\\r\\n\\t\\t\\t\\t\\t<div class=\"post-date-2 \">\\r\\n\\t\\t\\t\\t\\t\\t\\t\\t\\t\\t\\t<p><font class=\"month\">Jan</font><font class=\"day\">06</font></p>\\r\\n\\t\\t\\t\\t\\t\\t\\t\\t\\t\\t</div>\\r\\n\\t\\t\\t\\t</div>\\r\\n\\t\\t\\t\\t<!--<a href=\"news-fodetail.php?newstype=FC&newsid=3564\">-->\\r\\n\\t\\t\\t\\t<div class=\"mobile-foucs-2\">\\r\\n\\t\\t\\t\\t\\t<a href=\"news-detail.php?id=FC,3564\">\\r\\n\\t\\t\\t\\t\\t<img src=\"https://dweb.cjcu.edu.tw/ShepherdFiles/B1202/SpotLight/20210105224341729.jpg\" alt=\"\\xe9\\x95\\xb7\\xe6\\xa6\\xae\\xe5\\xa4\\xa7\\xe5\\xad\\xb8\\xe3\\x80\\x8c\\xe5\\xad\\xb8\\xe9\\x99\\xa2\\xe4\\xbe\\x86\\xe9\\x80\\x97\\xe9\\x99\\xa3\\xe3\\x80\\x8d\\xe7\\xb7\\x9a\\xe4\\xb8\\x8a\\xe7\\xaf\\x80\\xe7\\x9b\\xae\\xe9\\xa6\\x96\\xe6\\x92\\xad  \\xe7\\xbe\\x8e\\xe8\\xa1\\x93\\xe5\\xad\\xb8\\xe9\\x99\\xa2\\xe6\\x9c\\xaa\\xe4\\xbe\\x86\\xe5\\xb0\\xb1\\xe6\\xa5\\xad\\xe7\\xb2\\xbe\\xe5\\xbd\\xa9\\xe5\\xa4\\x9a\\xe5\\x85\\x83\"  class=\"grayscale\" >\\r\\n\\t\\t\\t\\t\\t</a>\\r\\n\\t\\t\\t\\t</div>\\r\\n\\t\\t\\t\\t<div class=\"cleaner padded-b10 hidden-mobile-xs\"></div>\\r\\n\\t\\t\\t\\t<div class=\"cleaner nopadded\"></div>\\r\\n\\t\\t\\t\\t<div class=\"mobile-foucs-fg-lr10\">\\r\\n\\t\\t\\t\\t\\t<div class=\"topic\">\\r\\n\\t\\t\\t\\t\\t\\t<a href=\"news-detail.php?id=FC,3564\">\\r\\n\\t\\t\\t\\t\\t\\t\\xe9\\x95\\xb7\\xe6\\xa6\\xae\\xe5\\xa4\\xa7\\xe5\\xad\\xb8\\xe3\\x80\\x8c\\xe5\\xad\\xb8\\xe9\\x99\\xa2\\xe4\\xbe\\x86\\xe9\\x80\\x97\\xe9\\x99\\xa3\\xe3\\x80\\x8d\\xe7\\xb7\\x9a\\xe4\\xb8\\x8a\\xe7\\xaf\\x80\\xe7\\x9b\\xae\\xe9\\xa6\\x96\\xe6\\x92\\xad  \\xe7\\xbe\\x8e\\xe8\\xa1\\x93\\xe5\\xad\\xb8\\xe9\\x99\\xa2\\xe6\\x9c\\xaa\\xe4\\xbe\\x86\\xe5\\xb0\\xb1\\xe6\\xa5\\xad\\xe7\\xb2\\xbe\\xe5\\xbd\\xa9\\xe5\\xa4\\x9a\\xe5\\x85\\x83\\t\\t\\t\\t\\t\\t</a>\\r\\n\\t\\t\\t\\t\\t</div>\\r\\n\\t\\t\\t\\t\\t<!--<div class=\"hidden-mobile-xs\"><small>2021/01/05</small></div>-->\\r\\n\\t\\t\\t\\t\\t<!--<div class=\"\">\\xe3\\x80\\x94\\xe5\\x85\\xac\\xe9\\x97\\x9c\\xe7\\xb5\\x84\\xe5\\xa0\\xb1\\xe5\\xb0\\x8e\\xe3\\x80\\x95&nbsp; \\r\\n\\r\\n&nbsp; &nbsp; \\xe7\\x82\\xba\\xe8\\xae\\x93\\xe9\\xab\\x98\\xe4\\xb8\\xad\\xe7\\x94\\x9f\\xe6\\x9b\\xb4\\xe4\\xba\\x86\\xe8\\xa7\\xa3\\xe7\\xb3\\xbb\\xe6\\x89\\x80\\xe7\\x89\\xb9\\xe8\\x89\\xb2\\xef\\xbc\\x8c\\xe9\\x95\\xb7\\xe6\\xa6\\xae\\xe5\\xa4\\xa7\\xe5\\xad\\xb8\\xe5\\x85\\xa5\\xe5\\xad\\xb8\\xe6\\x9c\\x8d\\xe5\\x8b\\x99\\xe8\\x99\\x95\\xe5\\x9c\\xa8\\xe7\\xb2\\x89\\xe5\\xb0\\x88\\xe9\\x80\\xb2\\xe8\\xa1\\x8c\\xe7\\x9b\\xb4\\xe6\\x92\\xad\\xe3\\x80\\x8c\\xe5\\x85\\xa5\\xe5\\xad\\xb8\\xe9\\xbb\\x9e\\xe9\\xbb\\x9e\\xe5\\x90\\x8dPART1\\xe3\\x80\\x8d-\\xe3\\x80\\x8c\\xe5\\xad\\xb8\\xe9\\x99\\xa2\\xe4\\xbe\\x86\\xe9\\x80\\x97\\xe9\\x99\\xa3...</div> -->\\r\\n\\t\\t\\t\\t\\t<div><div class=\"news_keyword\"><ul><i class=\"fas fa-tags\"></i>  <li><a href=\"news.php?id=D9000\">\\xe7\\xb3\\xbb\\xe6\\x89\\x80\\xe4\\xba\\xae\\xe9\\xbb\\x9e</a></li></ul></div></div> \\t\\t\\t\\t</div>\\r\\n\\t\\t\\t</div>\\r\\n\\t\\t</li>\\r\\n\\t\\t<div class=\"cleaner\"></div>\\t\\t<!--<div class=\"cleaner nopadded enable-mobile-xs\"></div>  -->\\r\\n\\t</ul>\\r\\n                  <div class=\"col-sm-12 t-right\">\\r\\n                    <i class=\"fas fa-caret-square-down\"></i> \\r\\n                    <a href=\"news.php?id=FC\">more...</a>\\r\\n                  </div>\\r\\n                </div>\\r\\n              </div>\\r\\n              <div class=\"cleaner nopadded enable-mobile-xs\"> </div>\\r\\n           \\t</div>\\r\\n          </li>\\r\\n\\t\\t\\t\\t\\t<li class=\"fg-block \">\\r\\n            <div class=\"width-1400\">\\r\\n\\t\\t\\t\\t\\t\\t\\t<div class=\"col-md-12 col-full-at-1000 nopadded \">\\r\\n                <div class=\"col-md-12 nopadded \">\\r\\n                  <h2 class=\"fg-title f-color-gray\"><span>\\xe5\\x9c\\x8b\\xe9\\x9a\\x9b\\xe4\\xba\\xa4\\xe6\\xb5\\x81</span></h2>\\r\\n                </div>\\r\\n                <div class=\"cleaner nopadded enable-mobile-xs enable-mobile-md\"></div> \\r\\n                <div class=\"col-md-12 nopadded \">\\r\\n                  \\t\\t\\t\\t\\t\\r\\n\\r\\n<ul>\\r\\n\\t      <li class=\"fg-news-int-item\" >\\r\\n        <div class=\"padded-5 height-focus\" >\\t\\r\\n          <div class=\"nopadded\">\\r\\n            <!--<div class=\"post-date-2\">\\r\\n              <p><font class=\"month\">Jan</font><font class=\"day\">05</font>\\t\\t\\t\\t\\t\\t\\t\\r\\n            </div> -->\\r\\n          </div>\\r\\n          <!--<a href=\"news-fodetail.php?newstype=FC&newsid=200003560\">-->\\r\\n          <div class=\"mobile-foucs-2\">\\r\\n            <!--<a href=\"news-detail.php?id=FC,200003560\"> -->\\r\\n            <a href=\"news.php?id=IN\">\\r\\n            <img src=\"https://dweb.cjcu.edu.tw/ShepherdFiles/B1202/SpotLight/20210105165544469.jpg\" alt=\"\\xe9\\x95\\xb7\\xe6\\xa6\\xae\\xe5\\xa4\\xa7\\xe5\\xad\\xb8\\xe8\\x88\\x87\\xe9\\x9f\\x93\\xe5\\x9c\\x8b\\xe8\\x81\\x96\\xe5\\x85\\xac\\xe6\\x9c\\x83\\xe5\\xa4\\xa7\\xe5\\xad\\xb8\\xe5\\x90\\x88\\xe4\\xbd\\x9c \\xe7\\xb7\\x9a\\xe4\\xb8\\x8a\\xe8\\x8f\\xaf\\xe8\\xaa\\x9e\\xe5\\xb0\\x88\\xe7\\x8f\\xad\\xe5\\x95\\x9f\\xe5\\x8b\\x95\"  class=\"grayscale\" >\\r\\n            </a>\\r\\n          </div>\\r\\n          <div class=\"cleaner padded-b10 hidden-mobile-xs\"></div>\\r\\n          <div class=\"cleaner nopadded\"></div>\\r\\n          <div class=\"mobile-foucs-fg-lr10\">\\r\\n            <div class=\"topic\">\\r\\n              <!--<a href=\"news-detail.php?id=FC,200003560\"> -->\\r\\n              <a href=\"news.php?id=IN\">\\r\\n              \\xe9\\x95\\xb7\\xe6\\xa6\\xae\\xe5\\xa4\\xa7\\xe5\\xad\\xb8\\xe8\\x88\\x87\\xe9\\x9f\\x93\\xe5\\x9c\\x8b\\xe8\\x81\\x96\\xe5\\x85\\xac\\xe6\\x9c\\x83\\xe5\\xa4\\xa7\\xe5\\xad\\xb8\\xe5\\x90\\x88\\xe4\\xbd\\x9c \\xe7\\xb7\\x9a\\xe4\\xb8\\x8a\\xe8\\x8f\\xaf\\xe8\\xaa\\x9e\\xe5\\xb0\\x88\\xe7\\x8f\\xad\\xe5\\x95\\x9f\\xe5\\x8b\\x95              </a>\\r\\n            </div>\\r\\n            <!--<div class=\"hidden-mobile-xs\"><small>2021/01/05</small></div>-->\\r\\n            <!--<div class=\"\">&nbsp;\\xe3\\x80\\x94\\xe8\\x8f\\xaf\\xe8\\xaa\\x9e\\xe4\\xb8\\xad\\xe5\\xbf\\x83\\xe5\\xa0\\xb1\\xe5\\xb0\\x8e\\xe3\\x80\\x95&nbsp;&nbsp;\\r\\n\\r\\n&nbsp; &nbsp; \\xe6\\x96\\xb0\\xe5\\x86\\xa0\\xe8\\x82\\xba\\xe7\\x82\\x8e\\xe6\\xaa\\x94\\xe4\\xb8\\x8d\\xe4\\xbd\\x8f\\xe8\\x8f\\xaf\\xe8\\xaa\\x9e\\xe5\\xad\\xb8\\xe7\\xbf\\x92\\xe7\\x86\\xb1\\xe6\\xbd\\xae\\xef\\xbc\\x81\\xe9\\x95\\xb7\\xe6\\xa6\\xae\\xe5\\xa4\\xa7\\xe5\\xad\\xb8\\xe8\\x8f\\xaf\\xe8\\xaa\\x9e\\xe4\\xb8\\xad\\xe5\\xbf\\x83\\xe8\\x88\\x87\\xe9\\x9f\\x93\\xe5\\x9c\\x8b\\xe8\\x81\\x96\\xe5\\x85\\xac\\xe6\\x9c\\x83\\xe5\\xa4\\xa7\\xe5\\xad\\xb8\\xe5\\x90\\x88\\xe4\\xbd\\x9c\\xe8\\x88\\x89\\xe8\\xbe\\xa6\\xe7\\x82\\xba\\xe6\\x9c\\x9f...</div> -->\\r\\n            <!--<div><div class=\"news_keyword\"><ul><i class=\"fas fa-tags\"></i>  <li><a href=\"news.php?id=A2004\">\\xe5\\x9c\\x8b\\xe9\\x9a\\x9b\\xe5\\x8f\\x83\\xe8\\x88\\x87</a></li></ul></div></div> -->\\r\\n          </div>\\r\\n        </div>\\r\\n      </li>\\r\\n\\t\\t\\t      <li class=\"fg-news-int-item\" >\\r\\n        <div class=\"padded-5 height-focus\" >\\t\\r\\n          <div class=\"nopadded\">\\r\\n            <!--<div class=\"post-date-2\">\\r\\n              <p><font class=\"month\">Dec</font><font class=\"day\">18</font>\\t\\t\\t\\t\\t\\t\\t\\r\\n            </div> -->\\r\\n          </div>\\r\\n          <!--<a href=\"news-fodetail.php?newstype=FC&newsid=200003462\">-->\\r\\n          <div class=\"mobile-foucs-2\">\\r\\n            <!--<a href=\"news-detail.php?id=FC,200003462\"> -->\\r\\n            <a href=\"news.php?id=IN\">\\r\\n            <img src=\"https://dweb.cjcu.edu.tw/ShepherdFiles/B1202/SpotLight/20201218182619976.jpg\" alt=\"\\xe7\\xac\\xac\\xe4\\xba\\x8c\\xe5\\xb1\\x86Vtuber\\xe8\\xa7\\x92\\xe8\\x89\\xb2\\xe8\\xa8\\xad\\xe8\\xa8\\x88\\xe7\\xab\\xb6\\xe8\\xb3\\xbd  \\xe9\\x95\\xb7\\xe6\\xa6\\xae\\xe5\\xa4\\xa7\\xe5\\xad\\xb8\\xe8\\xb3\\x87\\xe8\\xa8\\xad\\xe9\\x99\\xa2\\xe5\\xaa\\x92\\xe9\\xab\\x94\\xe7\\xb3\\xbb\\xe9\\x99\\xb3\\xe6\\x80\\xa1\\xe8\\x93\\x81\\xe7\\x8d\\xb2\\xe5\\xa4\\xa7\\xe5\\xad\\xb8\\xe7\\xb5\\x84\\xe9\\x87\\x91\\xe7\\x89\\x8c\"  class=\"grayscale\" >\\r\\n            </a>\\r\\n          </div>\\r\\n          <div class=\"cleaner padded-b10 hidden-mobile-xs\"></div>\\r\\n          <div class=\"cleaner nopadded\"></div>\\r\\n          <div class=\"mobile-foucs-fg-lr10\">\\r\\n            <div class=\"topic\">\\r\\n              <!--<a href=\"news-detail.php?id=FC,200003462\"> -->\\r\\n              <a href=\"news.php?id=IN\">\\r\\n              \\xe7\\xac\\xac\\xe4\\xba\\x8c\\xe5\\xb1\\x86Vtuber\\xe8\\xa7\\x92\\xe8\\x89\\xb2\\xe8\\xa8\\xad\\xe8\\xa8\\x88\\xe7\\xab\\xb6\\xe8\\xb3\\xbd  \\xe9\\x95\\xb7\\xe6\\xa6\\xae\\xe5\\xa4\\xa7\\xe5\\xad\\xb8\\xe8\\xb3\\x87\\xe8\\xa8\\xad\\xe9\\x99\\xa2\\xe5\\xaa\\x92\\xe9\\xab\\x94\\xe7\\xb3\\xbb\\xe9\\x99\\xb3\\xe6\\x80\\xa1\\xe8\\x93\\x81\\xe7\\x8d\\xb2\\xe5\\xa4\\xa7\\xe5\\xad\\xb8\\xe7\\xb5\\x84\\xe9\\x87\\x91\\xe7\\x89\\x8c              </a>\\r\\n            </div>\\r\\n            <!--<div class=\"hidden-mobile-xs\"><small>2020/12/18</small></div>-->\\r\\n            <!--<div class=\"\">\\xe3\\x80\\x94\\xe5\\x85\\xac\\xe9\\x97\\x9c\\xe7\\xb5\\x84\\xe5\\xa0\\xb1\\xe5\\xb0\\x8e\\xe3\\x80\\x95\\r\\n\\r\\n&nbsp;&nbsp;&nbsp; \\xe7\\x94\\xb1\\xe9\\x95\\xb7\\xe6\\xa6\\xae\\xe5\\xa4\\xa7\\xe5\\xad\\xb8\\xe5\\x89\\xb5\\xe6\\x96\\xb0\\xe8\\x82\\xb2\\xe6\\x88\\x90\\xe4\\xb8\\xad\\xe5\\xbf\\x83\\xe8\\x88\\x87\\xe8\\xa7\\x92\\xe5\\xb7\\x9d\\xe5\\x9c\\x8b\\xe9\\x9a\\x9b\\xe5\\x8b\\x95\\xe6\\xbc\\xab\\xe6\\x95\\x99\\xe8\\x82\\xb2\\xe5\\x85\\xb1\\xe5\\x90\\x8c\\xe8\\xbe\\xa6\\xe7\\x90\\x86\\xe4\\xb9\\x8b\\xe3\\x80\\x8c\\xe7\\xac\\xac\\xe4\\xba\\x8c\\xe5\\xb1\\x86Vtuber\\xe8\\xa7\\x92\\xe8\\x89\\xb2\\xe8\\xa8\\xad\\xe8\\xa8\\x88\\xe7\\xab\\xb6\\xe8\\xb3\\xbd\\xe3\\x80\\x8d\\xef\\xbc\\x8c\\xe6\\x9c\\xac\\xe6\\xac\\xa1\\xe7\\xab\\xb6\\xe8\\xb3\\xbd\\xe4\\xb8\\xbb\\xe9\\xa1\\x8c\\xe4\\xbb\\xa5...</div> -->\\r\\n            <!--<div><div class=\"news_keyword\"><ul><i class=\"fas fa-tags\"></i>  <li><a href=\"news.php?id=A2003\">\\xe7\\x94\\xa2\\xe7\\xa0\\x94\\xe7\\xb2\\xbe\\xe5\\xaf\\xa6</a></li><li><a href=\"news.php?id=A2004\">\\xe5\\x9c\\x8b\\xe9\\x9a\\x9b\\xe5\\x8f\\x83\\xe8\\x88\\x87</a></li></ul></div></div> -->\\r\\n          </div>\\r\\n        </div>\\r\\n      </li>\\r\\n\\t\\t\\t      <li class=\"fg-news-int-item\" >\\r\\n        <div class=\"padded-5 height-focus\" >\\t\\r\\n          <div class=\"nopadded\">\\r\\n            <!--<div class=\"post-date-2\">\\r\\n              <p><font class=\"month\">Dec</font><font class=\"day\">17</font>\\t\\t\\t\\t\\t\\t\\t\\r\\n            </div> -->\\r\\n          </div>\\r\\n          <!--<a href=\"news-fodetail.php?newstype=FC&newsid=200003444\">-->\\r\\n          <div class=\"mobile-foucs-2\">\\r\\n            <!--<a href=\"news-detail.php?id=FC,200003444\"> -->\\r\\n            <a href=\"news.php?id=IN\">\\r\\n            <img src=\"https://dweb.cjcu.edu.tw/ShepherdFiles/B1202/SpotLight/20201217203216960.jpg\" alt=\"\\xe9\\xab\\x94\\xe9\\xa9\\x97\\xe6\\x97\\xa5\\xe6\\x9c\\xac\\xe6\\x96\\x87\\xe5\\x8c\\x96  \\xe9\\x95\\xb7\\xe6\\xa6\\xae\\xe5\\xa4\\xa7\\xe5\\xad\\xb8\\xe6\\x87\\x89\\xe6\\x97\\xa5\\xe7\\xb3\\xbb\\xe8\\x88\\x89\\xe8\\xbe\\xa6\\xe5\\xb0\\x8f\\xe5\\xb0\\x8f\\xe7\\xa5\\xad\\xe5\\x85\\xb8\"  class=\"grayscale\" >\\r\\n            </a>\\r\\n          </div>\\r\\n          <div class=\"cleaner padded-b10 hidden-mobile-xs\"></div>\\r\\n          <div class=\"cleaner nopadded\"></div>\\r\\n          <div class=\"mobile-foucs-fg-lr10\">\\r\\n            <div class=\"topic\">\\r\\n              <!--<a href=\"news-detail.php?id=FC,200003444\"> -->\\r\\n              <a href=\"news.php?id=IN\">\\r\\n              \\xe9\\xab\\x94\\xe9\\xa9\\x97\\xe6\\x97\\xa5\\xe6\\x9c\\xac\\xe6\\x96\\x87\\xe5\\x8c\\x96  \\xe9\\x95\\xb7\\xe6\\xa6\\xae\\xe5\\xa4\\xa7\\xe5\\xad\\xb8\\xe6\\x87\\x89\\xe6\\x97\\xa5\\xe7\\xb3\\xbb\\xe8\\x88\\x89\\xe8\\xbe\\xa6\\xe5\\xb0\\x8f\\xe5\\xb0\\x8f\\xe7\\xa5\\xad\\xe5\\x85\\xb8              </a>\\r\\n            </div>\\r\\n            <!--<div class=\"hidden-mobile-xs\"><small>2020/12/17</small></div>-->\\r\\n            <!--<div class=\"\">\\xe3\\x80\\x94\\xe5\\x85\\xac\\xe9\\x97\\x9c\\xe7\\xb5\\x84\\xe5\\xa0\\xb1\\xe5\\xb0\\x8e\\xe3\\x80\\x95\\r\\n\\r\\n&nbsp;&nbsp;&nbsp; \\xe5\\x8f\\x97\\xe5\\x88\\xb0\\xe7\\x96\\xab\\xe6\\x83\\x85\\xe5\\xbd\\xb1\\xe9\\x9f\\xbf\\xef\\xbc\\x8c\\xe8\\xae\\x93\\xe6\\xa0\\xa1\\xe5\\x9c\\x92\\xe5\\xb8\\xab\\xe7\\x94\\x9f\\xe7\\x84\\xa1\\xe6\\xb3\\x95\\xe8\\xb5\\xb0\\xe5\\x87\\xba\\xe5\\x9c\\x8b\\xe9\\x96\\x80\\xe5\\x8f\\x83\\xe8\\x88\\x87\\xe5\\xaf\\xa6\\xe9\\xab\\x94\\xe7\\x9a\\x84\\xe5\\x9c\\x8b\\xe9\\x9a\\x9b\\xe4\\xba\\xa4\\xe6\\xb5\\x81\\xef\\xbc\\x8c\\xe9\\x95\\xb7\\xe6\\xa6\\xae\\xe5\\xa4\\xa7\\xe5\\xad\\xb8\\xe6\\x87\\x89\\xe6\\x97\\xa5\\xe7\\xb3\\xbb\\xe6\\x96\\xbc17\\xe6\\x97\\xa5\\xe5\\x82\\x8d\\xe6\\x99\\x9a\\xe8\\xb5\\xb7\\xe8\\x88\\x89\\xe8\\xbe\\xa6\\xe3\\x80\\x8c\\xe5\\xb0\\x8f\\xe5\\xb0\\x8f\\xe7\\xa5\\xad\\xe5\\x85\\xb8\\xe3\\x80\\x8d...</div> -->\\r\\n            <!--<div><div class=\"news_keyword\"><ul><i class=\"fas fa-tags\"></i>  <li><a href=\"news.php?id=A2004\">\\xe5\\x9c\\x8b\\xe9\\x9a\\x9b\\xe5\\x8f\\x83\\xe8\\x88\\x87</a></li><li><a href=\"news.php?id=D9000\">\\xe7\\xb3\\xbb\\xe6\\x89\\x80\\xe4\\xba\\xae\\xe9\\xbb\\x9e</a></li></ul></div></div> -->\\r\\n          </div>\\r\\n        </div>\\r\\n      </li>\\r\\n\\t\\t\\t      <li class=\"fg-news-int-item\" >\\r\\n        <div class=\"padded-5 height-focus\" >\\t\\r\\n          <div class=\"nopadded\">\\r\\n            <!--<div class=\"post-date-2\">\\r\\n              <p><font class=\"month\">Dec</font><font class=\"day\">17</font>\\t\\t\\t\\t\\t\\t\\t\\r\\n            </div> -->\\r\\n          </div>\\r\\n          <!--<a href=\"news-fodetail.php?newstype=FC&newsid=200003443\">-->\\r\\n          <div class=\"mobile-foucs-2\">\\r\\n            <!--<a href=\"news-detail.php?id=FC,200003443\"> -->\\r\\n            <a href=\"news.php?id=IN\">\\r\\n            <img src=\"https://dweb.cjcu.edu.tw/ShepherdFiles/B1202/SpotLight/20201217164054150.jpg\" alt=\"\\xe8\\xbe\\xb2\\xe7\\x94\\xb0\\xe8\\xa3\\xa1\\xe7\\x9a\\x84\\xe3\\x80\\x8c\\xe9\\x9d\\x9e\\xe5\\x9a\\x90\\xe9\\xa5\\x97\\xe5\\xae\\xb4\\xe3\\x80\\x8d \\xe9\\x95\\xb7\\xe6\\xa6\\xae\\xe5\\xa4\\xa7\\xe5\\xad\\xb8\\xe8\\x88\\x87\\xe5\\x9c\\xa8\\xe5\\x9c\\xb0\\xe8\\xbe\\xb2\\xe6\\xb0\\x91\\xe5\\xb1\\x95\\xe7\\x8f\\xbe\\xe5\\x9c\\xa8\\xe5\\x9c\\xb0\\xe8\\xbe\\xb2\\xe6\\xa5\\xad\\xe6\\x88\\x90\\xe6\\x9e\\x9c\"  class=\"grayscale\" >\\r\\n            </a>\\r\\n          </div>\\r\\n          <div class=\"cleaner padded-b10 hidden-mobile-xs\"></div>\\r\\n          <div class=\"cleaner nopadded\"></div>\\r\\n          <div class=\"mobile-foucs-fg-lr10\">\\r\\n            <div class=\"topic\">\\r\\n              <!--<a href=\"news-detail.php?id=FC,200003443\"> -->\\r\\n              <a href=\"news.php?id=IN\">\\r\\n              \\xe8\\xbe\\xb2\\xe7\\x94\\xb0\\xe8\\xa3\\xa1\\xe7\\x9a\\x84\\xe3\\x80\\x8c\\xe9\\x9d\\x9e\\xe5\\x9a\\x90\\xe9\\xa5\\x97\\xe5\\xae\\xb4\\xe3\\x80\\x8d \\xe9\\x95\\xb7\\xe6\\xa6\\xae\\xe5\\xa4\\xa7\\xe5\\xad\\xb8\\xe8\\x88\\x87\\xe5\\x9c\\xa8\\xe5\\x9c\\xb0\\xe8\\xbe\\xb2\\xe6\\xb0\\x91\\xe5\\xb1\\x95\\xe7\\x8f\\xbe\\xe5\\x9c\\xa8\\xe5\\x9c\\xb0\\xe8\\xbe\\xb2\\xe6\\xa5\\xad\\xe6\\x88\\x90\\xe6\\x9e\\x9c              </a>\\r\\n            </div>\\r\\n            <!--<div class=\"hidden-mobile-xs\"><small>2020/12/17</small></div>-->\\r\\n            <!--<div class=\"\">\\xe3\\x80\\x94\\xe7\\xb6\\xa0\\xe8\\x89\\xb2\\xe5\\xa4\\xa7\\xe6\\xad\\xa6\\xe5\\xb4\\x99\\xe7\\xa4\\xbe\\xe5\\x8d\\x80\\xe6\\x8e\\xa8\\xe5\\x8b\\x95\\xe8\\xbe\\xa6\\xe5\\x85\\xac\\xe5\\xae\\xa4\\xe5\\xa0\\xb1\\xe5\\xb0\\x8e\\xe3\\x80\\x95\\r\\n\\r\\n&nbsp;&nbsp;&nbsp; \\xe9\\x95\\xb7\\xe6\\xa6\\xae\\xe5\\xa4\\xa7\\xe5\\xad\\xb8USR(\\xe5\\xa4\\xa7\\xe5\\xad\\xb8\\xe5\\xaf\\xa6\\xe8\\xb8\\x90\\xe7\\xa4\\xbe\\xe6\\x9c\\x83\\xe8\\xb2\\xac\\xe4\\xbb\\xbb)\\xe7\\xb6\\xa0\\xe8\\x89\\xb2\\xe5\\xa4\\xa7\\xe6\\xad\\xa6\\xe5\\xb4\\x99\\xe7\\xa4\\xbe\\xe5\\x8d\\x80\\xe6\\x8e\\xa8\\xe5\\x8b\\x95\\xe8\\xbe\\xa6\\xe5\\x85\\xac\\xe5\\xae\\xa4\\xe6\\x96\\xbc13\\xe6\\x97\\xa5\\xef\\xbc\\x8c\\xe8\\x88\\x87\\xe6\\xad\\xb8\\xe4\\xbb\\x81\\xe5\\x9c\\xa8\\xe5\\x9c\\xb0\\xe7\\xb5\\x84\\xe7\\xb9\\x94...</div> -->\\r\\n            <!--<div><div class=\"news_keyword\"><ul><i class=\"fas fa-tags\"></i>  <li><a href=\"news.php?id=A2004\">\\xe5\\x9c\\x8b\\xe9\\x9a\\x9b\\xe5\\x8f\\x83\\xe8\\x88\\x87</a></li><li><a href=\"news.php?id=A2006\">\\xe7\\xa4\\xbe\\xe6\\x9c\\x83\\xe8\\xb2\\xac\\xe4\\xbb\\xbb</a></li></ul></div></div> -->\\r\\n          </div>\\r\\n        </div>\\r\\n      </li>\\r\\n\\t\\t<div class=\"cleaner\"></div>\\t\\t<!--<div class=\"cleaner nopadded enable-mobile-xs\"></div>  -->\\r\\n</ul>\\r\\n                </div>\\r\\n                <div class=\"cleaner nopadded enable-mobile-xs\"> </div>\\t\\t\\t\\t\\t\\t\\t\\r\\n              </div>\\r\\n\\t\\t\\t\\t\\t\\t</div>\\r\\n\\t\\t\\t\\t\\t</li>\\r\\n\\t\\t\\t\\t\\t\\t\\t\\t\\t\\r\\n\\t\\t\\t\\t\\t<!--\\r\\n\\t\\t\\t\\t\\t\\t\\t\\t\\t\\t<li class=\"fg-block clearfix\"> \\r\\n\\t\\t\\t\\t\\t\\t<div class=\"col-md-1 nopadded \">\\r\\n\\t\\t\\t\\t\\t\\t\\t<h2 class=\"fg-title f-color-gray\"><span>\\xe7\\x84\\xa6\\xe9\\xbb\\x9e\\xe6\\x96\\xb0\\xe8\\x81\\x9e</span></h2>\\r\\n\\t\\t\\t\\t\\t\\t</div>\\r\\n\\t\\t\\t\\t\\t\\t<div class=\"cleaner nopadded enable-mobile-xs enable-mobile-sm\"></div> \\r\\n\\t\\t\\t\\t\\t\\t<div class=\"col-md-11 nopadded \">\\r\\n\\t\\t\\t\\t\\t\\t\\t\\t\\t\\t\\t\\t\\t</div>\\r\\n\\t\\t\\t\\t\\t\\t<div class=\"col-sm-12 t-right\">\\r\\n\\t\\t\\t\\t\\t\\t\\t<i class=\"fas fa-caret-square-down\"></i> \\r\\n\\t\\t\\t\\t\\t\\t\\t<a href=\"news.php?id=A0\">more...</a>\\r\\n\\t\\t\\t\\t\\t\\t</div>\\r\\n\\t\\t\\t\\t\\t\\t<div class=\"cleaner nopadded enable-mobile-xs\"> </div>\\t\\r\\n\\t\\t\\t\\t\\t</li>\\r\\n\\t\\t\\t\\t\\t-->\\r\\n\\t\\t\\t\\t\\t<!--<div class=\"cleaner padded-t10  enable-mobile-xs enable-mobile-sm\"></div>-->\\r\\n\\t\\t\\t\\t\\r\\n\\t\\t\\t\\t\\t\\t\\t\\t\\t\\t<li class=\"fg-block loading clearfix\"> \\r\\n            <div class=\"width-1400\">\\r\\n              <div class=\"col-md-12 nopadded \">\\r\\n                <h2 class=\"fg-title f-color-gray\"><span>\\xe5\\xad\\xb8\\xe9\\x99\\xa2\\xe7\\xb3\\xbb\\xe6\\x89\\x80</span></h2></div>\\r\\n              <div class=\"cleaner nopadded enable-mobile-xs enable-mobile-md\"></div> \\r\\n              <div class=\"col-md-12 nopadded \">\\r\\n                \\t\\t<ul>\\r\\n\\t\\t\\t<li class=\"fg-acad-item padded-10\" >\\r\\n\\t\\t\\t\\t<h3>\\xe4\\xbb\\x80\\xe9\\xba\\xbc\\xe5\\xad\\xb8\\xe7\\xb3\\xbb\\xe9\\x81\\xa9\\xe5\\x90\\x88\\xe6\\x82\\xa8? </h3><h3>\\xe6\\x82\\xa8\\xe7\\x8f\\xbe\\xe5\\x9c\\xa8\\xe5\\xb0\\x8d\\xe4\\xbb\\x80\\xe9\\xba\\xbc\\xe6\\x84\\x9f\\xe8\\x88\\x88\\xe8\\xb6\\xa3\\xef\\xbc\\x9f</h3>\\r\\n\\t\\t\\t\\t\\xe6\\x82\\xa8\\xe5\\x8f\\xaf\\xe4\\xbb\\xa5\\xe9\\x80\\x8f\\xe9\\x81\\x8e\\xe5\\xad\\xb8\\xe9\\x99\\xa2/\\xe5\\xad\\xb8\\xe7\\xb3\\xbb\\xe7\\x9a\\x84\\xe4\\xbb\\x8b\\xe7\\xb4\\xb9\\xef\\xbc\\x8c\\xe4\\xba\\x86\\xe8\\xa7\\xa3\\xe4\\xb8\\x80\\xe4\\xb8\\x8b\\xe5\\xad\\xb8\\xe7\\xb3\\xbb\\xe7\\x9a\\x84\\xe7\\x89\\xb9\\xe9\\xbb\\x9e\\xe3\\x80\\x81\\xe5\\xb0\\x88\\xe9\\x95\\xb7\\xef\\xbc\\x8c\\xe5\\xa6\\x82\\xe6\\x9e\\x9c\\xe8\\xae\\x93\\xe6\\x82\\xa8\\xe6\\x84\\x9f\\xe5\\x88\\xb0\\xe8\\x88\\x88\\xe5\\xa5\\xae\\xef\\xbc\\x8c\\xe9\\x82\\xa3\\xe8\\xa1\\xa8\\xe7\\xa4\\xba\\xe9\\x80\\x99\\xe5\\x80\\x8b\\xe5\\xad\\xb8\\xe7\\xb3\\xbb\\xe9\\x81\\xa9\\xe5\\x90\\x88\\xe6\\x82\\xa8\\xe3\\x80\\x82\\r\\n\\t\\t\\t\\t<h3>\\xe6\\xad\\xa1\\xe8\\xbf\\x8e\\xe5\\x8a\\xa0\\xe5\\x85\\xa5\\xe9\\x95\\xb7\\xe6\\xa6\\xae\\xe5\\xa4\\xa7\\xe5\\xad\\xb8\\xe7\\x9a\\x84\\xe5\\xa4\\xa7\\xe5\\xae\\xb6\\xe5\\xba\\xad</h3>\\r\\n\\t\\t\\t</li>\\r\\n\\t\\t\\t<li class=\"fg-acad-item padded-10\" >\\r\\n\\t\\t\\t\\t<!--<a href=\"academy_db.php#college\">-->\\r\\n\\t\\t\\t\\t<div class=\"col-md-12 nopadded topic font120 font-bold\" >\\r\\n\\t\\t\\t\\t\\t<!--<a href=\"academy_db.php#college\">\\xe4\\xbe\\x9d\\xe6\\x93\\x9a\\xe5\\xad\\xb8\\xe9\\x99\\xa2\\xe6\\x9f\\xa5\\xe8\\xa9\\xa2</a> -->\\r\\n          \\xe4\\xbe\\x9d\\xe6\\x93\\x9a\\xe5\\xad\\xb8\\xe9\\x99\\xa2\\xe6\\x9f\\xa5\\xe8\\xa9\\xa2\\r\\n\\t\\t\\t\\t</div>\\r\\n\\t\\t\\t\\t\\t<!--<span class=\"square fg-academy-icon-list\">\\r\\n\\t\\t\\t\\t\\t\\t\\t\\t\\t\\t\\t\\t\\t<img src=\"images/academy_.jpg\" alt=\"\\xe5\\xad\\xb8\\xe9\\x99\\xa2\\xe5\\x96\\xae\\xe4\\xbd\\x8d\\xe5\\x9c\\x96\\xe7\\xa4\\xba\" >\\r\\n\\t\\t\\t\\t\\t\\t\\t\\t\\t\\t\\t</span>-->\\r\\n\\t\\t\\t\\t<!--<div class=\"col-md-12 nopadded fg-academy-tab square\" >\\r\\n\\t\\t\\t\\t\\t\\t\\t\\t\\t</div>-->\\r\\n\\t\\t\\t\\t\\t\\t\\t\\t<div class=\"col-md-12 nopadded fg-academy-tab square\"><button class=\"color-set-0a\" onclick=\"openlist(\\'C0100\\')\">\\xe7\\xae\\xa1\\xe7\\x90\\x86</button>\\n<button class=\"color-set-0a\" onclick=\"openlist(\\'C0200\\')\">\\xe5\\x81\\xa5\\xe5\\xba\\xb7\\xe7\\xa7\\x91\\xe5\\xad\\xb8</button>\\n<button class=\"color-set-0a\" onclick=\"openlist(\\'C0300\\')\">\\xe4\\xba\\xba\\xe6\\x96\\x87\\xe7\\xa4\\xbe\\xe6\\x9c\\x83</button>\\n<button class=\"color-set-0a\" onclick=\"openlist(\\'C0400\\')\">\\xe8\\xb3\\x87\\xe8\\xa8\\x8a\\xe6\\x9a\\xa8\\xe8\\xa8\\xad\\xe8\\xa8\\x88</button>\\n<button class=\"color-set-0a\" onclick=\"openlist(\\'C0500\\')\">\\xe7\\xa5\\x9e\\xe5\\xad\\xb8</button>\\n<button class=\"color-set-0a\" onclick=\"openlist(\\'C0600\\')\">\\xe6\\xb0\\xb8\\xe7\\xba\\x8c\\xe6\\x95\\x99\\xe8\\x82\\xb2</button>\\n<button class=\"color-set-0a\" onclick=\"openlist(\\'C0700\\')\">\\xe7\\x92\\xb0\\xe5\\xa2\\x83\\xe6\\x95\\x99\\xe8\\x82\\xb2</button>\\n<button class=\"color-set-0a\" onclick=\"openlist(\\'C0800\\')\">\\xe5\\x9c\\x8b\\xe9\\x9a\\x9b\\xe5\\x95\\x86\\xe5\\xad\\xb8</button>\\n<button class=\"color-set-0a\" onclick=\"openlist(\\'C0900\\')\">\\xe5\\xae\\x89\\xe5\\x85\\xa8\\xe8\\xa1\\x9b\\xe7\\x94\\x9f\\xe7\\xa7\\x91\\xe5\\xad\\xb8</button>\\n<button class=\"color-set-0a\" onclick=\"openlist(\\'C1000\\')\">\\xe7\\xbe\\x8e\\xe8\\xa1\\x93</button>\\n</div><div class=\"cleaner\"> </div>\\r\\n\\t\\t<div id=\"C0100\" class=\"tab-content open-list clearfix shadow_block\" style=\"display: none;\" >\\r\\n\\t\\t<div class=\"cleaner padded-b5\"></div>\\r\\n\\t\\t<div class=\"col-sm-12 nopadded clearfix\"><ul class=\"list-item font110\">\\n\\r\\n\\t\\t\\t\\t\\t<li class=\"iicon1\"><a href=\"https://www.cjcu.edu.tw/com?lang=zh-TW\" target=\"_blank\">\\xe7\\xae\\xa1\\xe7\\x90\\x86\\xe5\\xad\\xb8\\xe9\\x99\\xa2</a></li>\\n\\r\\n\\t\\t\\t\\t<ul>\\n<li><a href=\"https://www.cjcu.edu.tw/bom?lang=zh-TW\" target=\"_blank\">\\xe7\\xae\\xa1\\xe7\\x90\\x86\\xe5\\xad\\xb8\\xe9\\x99\\xa2\\xe7\\xb6\\x93\\xe7\\x87\\x9f\\xe7\\xae\\xa1\\xe7\\x90\\x86\\xe5\\x8d\\x9a\\xe5\\xa3\\xab\\xe7\\x8f\\xad</a></li>\\n<li><a href=\"https://www.cjcu.edu.tw/bom?lang=zh-TW\" target=\"_blank\">\\xe7\\xae\\xa1\\xe7\\x90\\x86\\xe5\\xad\\xb8\\xe9\\x99\\xa2\\xe7\\xb6\\x93\\xe7\\x87\\x9f\\xe7\\xae\\xa1\\xe7\\x90\\x86\\xe7\\xa2\\xa9\\xe5\\xa3\\xab\\xe7\\x8f\\xad</a></li>\\n<li><a href=\"https://www.cjcu.edu.tw/bom?lang=zh-TW\" target=\"_blank\">\\xe7\\xb6\\x93\\xe7\\x87\\x9f\\xe7\\xae\\xa1\\xe7\\x90\\x86\\xe7\\xa0\\x94\\xe7\\xa9\\xb6\\xe6\\x89\\x80(\\xe7\\xa2\\xa9\\xe3\\x80\\x81\\xe5\\x8d\\x9a)</a></li>\\n<li><a href=\"https://www.cjcu.edu.tw/emba?lang=zh-TW\" target=\"_blank\">\\xe9\\xab\\x98\\xe9\\x9a\\x8e\\xe7\\xae\\xa1\\xe7\\x90\\x86\\xe7\\xa2\\xa9\\xe5\\xa3\\xab\\xe5\\x9c\\xa8\\xe8\\x81\\xb7\\xe5\\xb0\\x88\\xe7\\x8f\\xad(EMBA)</a></li>\\n<li><a href=\"https://www.cjcu.edu.tw/ba?lang=zh-TW\" target=\"_blank\">\\xe4\\xbc\\x81\\xe6\\xa5\\xad\\xe7\\xae\\xa1\\xe7\\x90\\x86\\xe5\\xad\\xb8\\xe7\\xb3\\xbb</a></li>\\n<li><a href=\"https://www.cjcu.edu.tw/ib?lang=zh-TW\" target=\"_blank\">\\xe5\\x9c\\x8b\\xe9\\x9a\\x9b\\xe4\\xbc\\x81\\xe6\\xa5\\xad\\xe5\\xad\\xb8\\xe7\\xb3\\xbb</a></li>\\n<li><a href=\"https://www.cjcu.edu.tw/ac?lang=zh-TW\" target=\"_blank\">\\xe6\\x9c\\x83\\xe8\\xa8\\x88\\xe8\\xb3\\x87\\xe8\\xa8\\x8a\\xe5\\xad\\xb8\\xe7\\xb3\\xbb</a></li>\\n<li><a href=\"https://www.cjcu.edu.tw/amm?lang=zh-TW\" target=\"_blank\">\\xe8\\x88\\xaa\\xe9\\x81\\x8b\\xe7\\xae\\xa1\\xe7\\x90\\x86\\xe5\\xad\\xb8\\xe7\\xb3\\xbb(\\xe7\\xa2\\xa9)</a></li>\\n<li><a href=\"https://www.cjcu.edu.tw/lmd?lang=zh-TW\" target=\"_blank\">\\xe5\\x9c\\x9f\\xe5\\x9c\\xb0\\xe7\\xae\\xa1\\xe7\\x90\\x86\\xe8\\x88\\x87\\xe9\\x96\\x8b\\xe7\\x99\\xbc\\xe5\\xad\\xb8\\xe7\\xb3\\xbb(\\xe7\\xa2\\xa9\\xe3\\x80\\x81\\xe7\\xa2\\xa9\\xe5\\xb0\\x88)</a></li>\\n<li><a href=\"https://www.cjcu.edu.tw/finance?lang=zh-TW\" target=\"_blank\">\\xe8\\xb2\\xa1\\xe5\\x8b\\x99\\xe9\\x87\\x91\\xe8\\x9e\\x8d\\xe5\\xad\\xb8\\xe7\\xb3\\xbb</a></li>\\n<li><a href=\"https://www.cjcu.edu.tw/iam?lang=zh-TW\" target=\"_blank\">\\xe5\\x89\\xb5\\xe6\\x96\\xb0\\xe6\\x87\\x89\\xe7\\x94\\xa8\\xe7\\xae\\xa1\\xe7\\x90\\x86\\xe5\\xad\\xb8\\xe7\\xb3\\xbb</a></li>\\n<li><a href=\"https://www.cjcu.edu.tw/lim?lang=zh-TW\" target=\"_blank\">\\xe8\\xa7\\x80\\xe5\\x85\\x89\\xe8\\x88\\x87\\xe9\\xa4\\x90\\xe9\\xa3\\xb2\\xe7\\xae\\xa1\\xe7\\x90\\x86\\xe5\\xad\\xb8\\xe7\\xb3\\xbb</a></li>\\n<li><a href=\"https://www.cjcu.edu.tw/bdpotm?lang=zh-TW\" target=\"_blank\">\\xe7\\xa7\\x91\\xe6\\x8a\\x80\\xe7\\xae\\xa1\\xe7\\x90\\x86\\xe5\\xad\\xb8\\xe4\\xbd\\x8d\\xe5\\xad\\xb8\\xe7\\xa8\\x8b</a></li>\\n<li><a href=\"https://www.cjcu.edu.tw/ref?lang=zh-TW\" target=\"_blank\">\\xe4\\xb8\\x8d\\xe5\\x8b\\x95\\xe7\\x94\\xa2\\xe8\\xb2\\xa1\\xe5\\x8b\\x99\\xe9\\x87\\x91\\xe8\\x9e\\x8d\\xe5\\xad\\xb8\\xe5\\xa3\\xab\\xe5\\xad\\xb8\\xe4\\xbd\\x8d\\xe5\\xad\\xb8\\xe7\\xa8\\x8b</a></li>\\n<li><a href=\"https://www.cjcu.edu.tw/ifbm?lang=zh-TW\" target=\"_blank\">\\xe5\\x9c\\x8b\\xe9\\x9a\\x9b\\xe8\\xb2\\xa1\\xe5\\x8b\\x99\\xe8\\x88\\x87\\xe5\\x95\\x86\\xe5\\x8b\\x99\\xe7\\xae\\xa1\\xe7\\x90\\x86\\xe5\\xad\\xb8\\xe5\\xa3\\xab\\xe5\\xad\\xb8\\xe4\\xbd\\x8d\\xe5\\xad\\xb8\\xe7\\xa8\\x8b</a></li>\\n<li><a href=\"https://www.cjcu.edu.tw/mice?lang=zh-TW\" target=\"_blank\">\\xe5\\x9c\\x8b\\xe9\\x9a\\x9b\\xe6\\x9c\\x83\\xe5\\xb1\\x95\\xe7\\xae\\xa1\\xe7\\x90\\x86\\xe5\\xad\\xb8\\xe5\\xa3\\xab\\xe5\\xad\\xb8\\xe4\\xbd\\x8d\\xe5\\xad\\xb8\\xe7\\xa8\\x8b</a></li>\\n<li><a href=\"https://www.cjcu.edu.tw/icdpm?lang=zh-TW\" target=\"_blank\">\\xe7\\xb6\\x9c\\xe5\\x90\\x88\\xe7\\x81\\xbd\\xe5\\xae\\xb3\\xe9\\x98\\xb2\\xe6\\xb8\\x9b\\xe5\\x9c\\x8b\\xe9\\x9a\\x9b\\xe7\\xa2\\xa9\\xe5\\xa3\\xab\\xe5\\xad\\xb8\\xe4\\xbd\\x8d\\xe5\\xad\\xb8\\xe7\\xa8\\x8b</a></li>\\n<li><a href=\"https://www.cjcu.edu.tw/yunus?lang=zh-TW\" target=\"_blank\">\\xe5\\xb0\\xa4\\xe5\\x8a\\xaa\\xe6\\x96\\xaf\\xe7\\xa4\\xbe\\xe6\\x9c\\x83\\xe4\\xbc\\x81\\xe6\\xa5\\xad\\xe7\\xa0\\x94\\xe7\\xa9\\xb6\\xe4\\xb8\\xad\\xe5\\xbf\\x83</a></li>\\n</ul>\\n</ul></div></div>\\n\\r\\n\\t\\t<div id=\"C0200\" class=\"tab-content open-list clearfix shadow_block\" style=\"display: none;\" >\\r\\n\\t\\t<div class=\"cleaner padded-b5\"></div>\\r\\n\\t\\t<div class=\"col-sm-12 nopadded clearfix\"><ul class=\"list-item font110\">\\n\\r\\n\\t\\t\\t\\t\\t<li class=\"iicon1\"><a href=\"https://www.cjcu.edu.tw/chs?lang=zh-TW\" target=\"_blank\">\\xe5\\x81\\xa5\\xe5\\xba\\xb7\\xe7\\xa7\\x91\\xe5\\xad\\xb8\\xe5\\xad\\xb8\\xe9\\x99\\xa2</a></li>\\n\\r\\n\\t\\t\\t\\t<ul>\\n<li><a href=\"https://www.cjcu.edu.tw/gims?lang=zh-TW\" target=\"_blank\">\\xe9\\x86\\xab\\xe5\\xad\\xb8\\xe7\\xa0\\x94\\xe7\\xa9\\xb6\\xe6\\x89\\x80</a></li>\\n<li><a href=\"https://www.cjcu.edu.tw/hca?lang=zh-TW\" target=\"_blank\">\\xe9\\x86\\xab\\xe5\\x8b\\x99\\xe7\\xae\\xa1\\xe7\\x90\\x86\\xe5\\xad\\xb8\\xe7\\xb3\\xbb(\\xe7\\xa2\\xa9\\xe3\\x80\\x81\\xe7\\xa2\\xa9\\xe5\\xb0\\x88)</a></li>\\n<li><a href=\"https://www.cjcu.edu.tw/nurse?lang=zh-TW\" target=\"_blank\">\\xe8\\xad\\xb7\\xe7\\x90\\x86\\xe5\\xad\\xb8\\xe7\\xb3\\xbb(\\xe7\\xa2\\xa9)</a></li>\\n<li><a href=\"https://www.cjcu.edu.tw/biosci?lang=zh-TW\" target=\"_blank\">\\xe7\\x94\\x9f\\xe7\\x89\\xa9\\xe7\\xa7\\x91\\xe6\\x8a\\x80\\xe5\\xad\\xb8\\xe7\\xb3\\xbb</a></li>\\n<li><a href=\"https://www.cjcu.edu.tw/h-dop?lang=zh-TW\" target=\"_blank\">\\xe5\\x81\\xa5\\xe5\\xba\\xb7\\xe5\\xbf\\x83\\xe7\\x90\\x86\\xe5\\xad\\xb8\\xe7\\xb3\\xbb</a></li>\\n<li><a href=\"https://www.cjcu.edu.tw/nut?lang=zh-TW\" target=\"_blank\">\\xe4\\xbf\\x9d\\xe5\\x81\\xa5\\xe7\\x87\\x9f\\xe9\\xa4\\x8a\\xe5\\xad\\xb8\\xe7\\xb3\\xbb</a></li>\\n<li><a href=\"https://www.cjcu.edu.tw/pihid?lang=zh-TW\" target=\"_blank\">\\xe9\\x86\\xab\\xe8\\x97\\xa5\\xe7\\xa7\\x91\\xe5\\xad\\xb8\\xe7\\x94\\xa2\\xe6\\xa5\\xad\\xe5\\xad\\xb8\\xe7\\xb3\\xbb</a></li>\\n<li><a href=\"https://www.cjcu.edu.tw/pihid?lang=zh-TW\" target=\"_blank\">\\xe9\\x86\\xab\\xe8\\x97\\xa5\\xe7\\xa7\\x91\\xe5\\xad\\xb8\\xe7\\x94\\xa2\\xe6\\xa5\\xad\\xe5\\xad\\xb8\\xe5\\xa3\\xab\\xe5\\xad\\xb8\\xe4\\xbd\\x8d\\xe5\\xad\\xb8\\xe7\\xa8\\x8b</a></li>\\n<li><a href=\"https://www.cjcu.edu.tw/mshc?lang=zh-TW\" target=\"_blank\">\\xe9\\x86\\xab\\xe5\\xad\\xb8\\xe7\\xa4\\xbe\\xe6\\x9c\\x83\\xe6\\x9a\\xa8\\xe5\\x81\\xa5\\xe5\\xba\\xb7\\xe7\\x85\\xa7\\xe8\\xad\\xb7\\xe5\\xad\\xb8\\xe5\\xa3\\xab\\xe5\\xad\\xb8\\xe4\\xbd\\x8d\\xe5\\xad\\xb8\\xe7\\xa8\\x8b</a></li>\\n<li><a href=\"https://www.cjcu.edu.tw/oia?lang=zh-TW\" target=\"_blank\">\\xe8\\x98\\xad\\xe8\\x8a\\xb1\\xe7\\x94\\xa2\\xe6\\xa5\\xad\\xe6\\x87\\x89\\xe7\\x94\\xa8\\xe5\\xad\\xb8\\xe5\\xa3\\xab\\xe5\\xad\\xb8\\xe4\\xbd\\x8d\\xe5\\xad\\xb8\\xe7\\xa8\\x8b</a></li>\\n<li><a href=\"https://www.cjcu.edu.tw/craft?lang=zh-TW\" target=\"_blank\">\\xe7\\xb2\\xbe\\xe9\\x87\\x80\\xe7\\x99\\xbc\\xe9\\x85\\xb5\\xe7\\xa0\\x94\\xe7\\xa9\\xb6\\xe4\\xb8\\xad\\xe5\\xbf\\x83</a></li>\\n</ul>\\n</ul></div></div>\\n\\r\\n\\t\\t<div id=\"C0300\" class=\"tab-content open-list clearfix shadow_block\" style=\"display: none;\" >\\r\\n\\t\\t<div class=\"cleaner padded-b5\"></div>\\r\\n\\t\\t<div class=\"col-sm-12 nopadded clearfix\"><ul class=\"list-item font110\">\\n\\r\\n\\t\\t\\t\\t\\t<li class=\"iicon1\"><a href=\"https://www.cjcu.edu.tw/hass?lang=zh-TW\" target=\"_blank\">\\xe4\\xba\\xba\\xe6\\x96\\x87\\xe7\\xa4\\xbe\\xe6\\x9c\\x83\\xe5\\xad\\xb8\\xe9\\x99\\xa2</a></li>\\n\\r\\n\\t\\t\\t\\t<ul>\\n<li><a href=\"https://www.cjcu.edu.tw/taiwan?lang=zh-TW\" target=\"_blank\">\\xe5\\x8f\\xb0\\xe7\\x81\\xa3\\xe7\\xa0\\x94\\xe7\\xa9\\xb6\\xe6\\x89\\x80</a></li>\\n<li><a href=\"https://www.cjcu.edu.tw/gimc?lang=zh-TW\" target=\"_blank\">\\xe5\\xa4\\xa7\\xe7\\x9c\\xbe\\xe5\\x82\\xb3\\xe6\\x92\\xad\\xe5\\xad\\xb8\\xe7\\xb3\\xbb</a></li>\\n<li><a href=\"https://www.cjcu.edu.tw/dtis?lang=zh-TW\" target=\"_blank\">\\xe7\\xbf\\xbb\\xe8\\xad\\xaf\\xe5\\xad\\xb8\\xe7\\xb3\\xbb(\\xe7\\xa2\\xa9\\xe3\\x80\\x81\\xe7\\xa2\\xa9\\xe5\\xb0\\x88)</a></li>\\n<li><a href=\"https://www.cjcu.edu.tw/sw?lang=zh-TW\" target=\"_blank\">\\xe7\\xa4\\xbe\\xe6\\x9c\\x83\\xe5\\xb7\\xa5\\xe4\\xbd\\x9c\\xe5\\xad\\xb8\\xe7\\xb3\\xbb(\\xe7\\xa2\\xa9)</a></li>\\n<li><a href=\"https://www.cjcu.edu.tw/japanese?lang=zh-TW\" target=\"_blank\">\\xe6\\x87\\x89\\xe7\\x94\\xa8\\xe6\\x97\\xa5\\xe8\\xaa\\x9e\\xe5\\xad\\xb8\\xe7\\xb3\\xbb(\\xe7\\xa2\\xa9)</a></li>\\n<li><a href=\"https://www.cjcu.edu.tw/dap?lang=zh-TW\" target=\"_blank\">\\xe6\\x87\\x89\\xe7\\x94\\xa8\\xe5\\x93\\xb2\\xe5\\xad\\xb8\\xe7\\xb3\\xbb</a></li>\\n<li><a href=\"https://www.cjcu.edu.tw/srm?lang=zh-TW\" target=\"_blank\">\\xe9\\x81\\x8b\\xe5\\x8b\\x95\\xe7\\xab\\xb6\\xe6\\x8a\\x80\\xe5\\xad\\xb8\\xe7\\xb3\\xbb(\\xe9\\x80\\xb2\\xe4\\xbf\\xae\\xe3\\x80\\x81\\xe7\\xa2\\xa9)</a></li>\\n<li><a href=\"https://www.cjcu.edu.tw/saci?lang=zh-TW\" target=\"_blank\">\\xe6\\x9d\\xb1\\xe5\\x8d\\x97\\xe4\\xba\\x9e\\xe6\\x96\\x87\\xe5\\x8c\\x96\\xe8\\x88\\x87\\xe7\\x94\\xa2\\xe6\\xa5\\xad\\xe5\\xad\\xb8\\xe5\\xa3\\xab\\xe5\\xad\\xb8\\xe4\\xbd\\x8d\\xe5\\xad\\xb8\\xe7\\xa8\\x8b</a></li>\\n<li><a href=\"https://www.cjcu.edu.tw/star?lang=zh-TW\" target=\"_blank\">\\xe9\\x95\\xb7\\xe6\\xa6\\xae\\xe4\\xb9\\x8b\\xe8\\x81\\xb2\\xe9\\x9b\\xbb\\xe5\\x8f\\xb0</a></li>\\n</ul>\\n</ul></div></div>\\n\\r\\n\\t\\t<div id=\"C0400\" class=\"tab-content open-list clearfix shadow_block\" style=\"display: none;\" >\\r\\n\\t\\t<div class=\"cleaner padded-b5\"></div>\\r\\n\\t\\t<div class=\"col-sm-12 nopadded clearfix\"><ul class=\"list-item font110\">\\n\\r\\n\\t\\t\\t\\t\\t<li class=\"iicon1\"><a href=\"https://www.cjcu.edu.tw/sid?lang=zh-TW\" target=\"_blank\">\\xe8\\xb3\\x87\\xe8\\xa8\\x8a\\xe6\\x9a\\xa8\\xe8\\xa8\\xad\\xe8\\xa8\\x88\\xe5\\xad\\xb8\\xe9\\x99\\xa2</a></li>\\n\\r\\n\\t\\t\\t\\t<ul>\\n<li><a href=\"https://www.cjcu.edu.tw/mid?lang=zh-TW\" target=\"_blank\">\\xe8\\xb3\\x87\\xe8\\xa8\\x8a\\xe6\\x9a\\xa8\\xe8\\xa8\\xad\\xe8\\xa8\\x88\\xe7\\xa2\\xa9\\xe5\\xa3\\xab\\xe5\\xad\\xb8\\xe4\\xbd\\x8d\\xe5\\xad\\xb8\\xe7\\xa8\\x8b</a></li>\\n<li><a href=\"https://www.cjcu.edu.tw/bdpid?lang=zh-TW\" target=\"_blank\">\\xe8\\xb3\\x87\\xe8\\xa8\\x8a\\xe6\\x9a\\xa8\\xe8\\xa8\\xad\\xe8\\xa8\\x88\\xe5\\xad\\xb8\\xe9\\x99\\xa2\\xe5\\xad\\xb8\\xe5\\xa3\\xab\\xe7\\x8f\\xad</a></li>\\n<li><a href=\"https://www.cjcu.edu.tw/im?lang=zh-TW\" target=\"_blank\">\\xe8\\xb3\\x87\\xe8\\xa8\\x8a\\xe7\\xae\\xa1\\xe7\\x90\\x86\\xe5\\xad\\xb8\\xe7\\xb3\\xbb</a></li>\\n<li><a href=\"https://www.cjcu.edu.tw/emat?lang=zh-TW\" target=\"_blank\">\\xe7\\xa7\\x91\\xe6\\x8a\\x80\\xe5\\xb7\\xa5\\xe7\\xa8\\x8b\\xe8\\x88\\x87\\xe7\\xae\\xa1\\xe7\\x90\\x86\\xe5\\xad\\xb8\\xe7\\xb3\\xbb</a></li>\\n<li><a href=\"https://www.cjcu.edu.tw/csie?lang=zh-TW\" target=\"_blank\">\\xe8\\xb3\\x87\\xe8\\xa8\\x8a\\xe5\\xb7\\xa5\\xe7\\xa8\\x8b\\xe5\\xad\\xb8\\xe7\\xb3\\xbb</a></li>\\n<li><a href=\"https://www.cjcu.edu.tw/dcd?lang=zh-TW\" target=\"_blank\">\\xe6\\x95\\xb8\\xe4\\xbd\\x8d\\xe5\\x85\\xa7\\xe5\\xae\\xb9\\xe8\\xa8\\xad\\xe8\\xa8\\x88\\xe5\\xad\\xb8\\xe7\\xb3\\xbb</a></li>\\n<li><a href=\"https://www.cjcu.edu.tw/iid?lang=zh-TW\" target=\"_blank\">\\xe4\\xba\\x92\\xe5\\x8b\\x95\\xe8\\xa8\\xad\\xe8\\xa8\\x88\\xe5\\xad\\xb8\\xe7\\xb3\\xbb</a></li>\\n<li><a href=\"https://www.cjcu.edu.tw/camd?lang=zh-TW\" target=\"_blank\">\\xe5\\xaa\\x92\\xe9\\xab\\x94\\xe8\\xa8\\xad\\xe8\\xa8\\x88\\xe7\\xa7\\x91\\xe6\\x8a\\x80\\xe5\\xad\\xb8\\xe7\\xb3\\xbb</a></li>\\n<li><a href=\"https://www.cjcu.edu.tw/iid?lang=zh-TW\" target=\"_blank\">\\xe5\\x89\\xb5\\xe6\\x96\\xb0\\xe4\\xba\\x92\\xe5\\x8b\\x95\\xe8\\xa8\\xad\\xe8\\xa8\\x88\\xe5\\xad\\xb8\\xe5\\xa3\\xab\\xe5\\xad\\xb8\\xe4\\xbd\\x8d\\xe5\\xad\\xb8\\xe7\\xa8\\x8b</a></li>\\n<li><a href=\"https://www.cjcu.edu.tw/sla?lang=zh-TW\" target=\"_blank\">\\xe6\\x99\\xba\\xe6\\x85\\xa7\\xe7\\x94\\x9f\\xe6\\xb4\\xbb\\xe6\\x87\\x89\\xe7\\x94\\xa8\\xe5\\xad\\xb8\\xe5\\xa3\\xab\\xe5\\xad\\xb8\\xe4\\xbd\\x8d\\xe5\\xad\\xb8\\xe7\\xa8\\x8b</a></li>\\n<li><a href=\"https://www.cjcu.edu.tw/rcai?lang=zh-TW\" target=\"_blank\">\\xe4\\xba\\xba\\xe5\\xb7\\xa5\\xe6\\x99\\xba\\xe6\\x85\\xa7\\xe7\\xa0\\x94\\xe7\\xa9\\xb6\\xe4\\xb8\\xad\\xe5\\xbf\\x83</a></li>\\n</ul>\\n</ul></div></div>\\n\\r\\n\\t\\t<div id=\"C0500\" class=\"tab-content open-list clearfix shadow_block\" style=\"display: none;\" >\\r\\n\\t\\t<div class=\"cleaner padded-b5\"></div>\\r\\n\\t\\t<div class=\"col-sm-12 nopadded clearfix\"><ul class=\"list-item font110\">\\n\\r\\n\\t\\t\\t\\t\\t<li class=\"iicon1\"><a href=\"https://www.cjcu.edu.tw/theology?lang=zh-TW\" target=\"_blank\">\\xe7\\xa5\\x9e\\xe5\\xad\\xb8\\xe9\\x99\\xa2</a></li>\\n\\r\\n\\t\\t\\t\\t<ul>\\n<li><a href=\"https://www.cjcu.edu.tw/theology?lang=zh-TW\" target=\"_blank\">\\xe7\\xa5\\x9e\\xe5\\xad\\xb8\\xe7\\xb3\\xbb(\\xe7\\xa2\\xa9)</a></li>\\n</ul>\\n</ul></div></div>\\n\\r\\n\\t\\t<div id=\"C0600\" class=\"tab-content open-list clearfix shadow_block\" style=\"display: none;\" >\\r\\n\\t\\t<div class=\"cleaner padded-b5\"></div>\\r\\n\\t\\t<div class=\"col-sm-12 nopadded clearfix\"><ul class=\"list-item font110\">\\n\\r\\n\\t\\t\\t\\t\\t<li class=\"iicon1\"><a href=\"https://www.cjcu.edu.tw/dce?lang=zh-TW\" target=\"_blank\">\\xe6\\xb0\\xb8\\xe7\\xba\\x8c\\xe6\\x95\\x99\\xe8\\x82\\xb2\\xe5\\xad\\xb8\\xe9\\x99\\xa2</a></li>\\n\\r\\n\\t\\t\\t\\t<ul>\\n<li><a href=\"https://dweb.cjcu.edu.tw/mss?lang=zh-TW\" target=\"_blank\">\\xe6\\x87\\x89\\xe7\\x94\\xa8\\xe7\\xa4\\xbe\\xe6\\x9c\\x83\\xe7\\xa7\\x91\\xe5\\xad\\xb8\\xe7\\xa2\\xa9\\xe5\\xa3\\xab\\xe5\\x9c\\xa8\\xe8\\x81\\xb7\\xe5\\xad\\xb8\\xe4\\xbd\\x8d\\xe5\\xad\\xb8\\xe7\\xa8\\x8b</a></li>\\n<li><a href=\"https://www.cjcu.edu.tw/mana?lang=zh-TW\" target=\"_blank\">\\xe7\\xae\\xa1\\xe7\\x90\\x86\\xe5\\xad\\xb8\\xe5\\xa3\\xab\\xe5\\xad\\xb8\\xe4\\xbd\\x8d\\xe5\\xad\\xb8\\xe7\\xa8\\x8b</a></li>\\n<li><a href=\"https://www.cjcu.edu.tw/lang?lang=zh-TW\" target=\"_blank\">\\xe6\\x97\\xa5\\xe8\\xaa\\x9e\\xe5\\xad\\xb8\\xe5\\xa3\\xab\\xe5\\xad\\xb8\\xe4\\xbd\\x8d\\xe5\\xad\\xb8\\xe7\\xa8\\x8b</a></li>\\n<li><a href=\"https://www.cjcu.edu.tw/art?lang=zh-TW\" target=\"_blank\">\\xe8\\x97\\x9d\\xe8\\xa1\\x93\\xe5\\x89\\xb5\\xe6\\x84\\x8f\\xe8\\x88\\x87\\xe8\\xa8\\xad\\xe8\\xa8\\x88\\xe5\\xad\\xb8\\xe5\\xa3\\xab\\xe5\\xad\\xb8\\xe4\\xbd\\x8d\\xe5\\xad\\xb8\\xe7\\xa8\\x8b</a></li>\\n<li><a href=\"https://www.cjcu.edu.tw/bdpt?lang=zh-TW\" target=\"_blank\">\\xe8\\xa7\\x80\\xe5\\x85\\x89\\xe8\\x88\\x87\\xe9\\xa4\\x90\\xe9\\xa3\\xb2\\xe6\\x9c\\x8d\\xe5\\x8b\\x99\\xe4\\xba\\x8b\\xe6\\xa5\\xad\\xe5\\xad\\xb8\\xe5\\xa3\\xab\\xe5\\xad\\xb8\\xe4\\xbd\\x8d\\xe5\\xad\\xb8\\xe7\\xa8\\x8b</a></li>\\n<li><a href=\"https://www.cjcu.edu.tw/mhc?lang=zh-TW\" target=\"_blank\">\\xe9\\x86\\xab\\xe8\\x97\\xa5\\xe7\\x85\\xa7\\xe8\\xad\\xb7\\xe7\\x94\\xa2\\xe6\\xa5\\xad\\xe9\\x80\\xb2\\xe4\\xbf\\xae\\xe5\\xad\\xb8\\xe5\\xa3\\xab\\xe5\\xad\\xb8\\xe4\\xbd\\x8d\\xe5\\xad\\xb8\\xe7\\xa8\\x8b</a></li>\\n<li><a href=\"https://www.cjcu.edu.tw/ipmp?lang=zh-TW\" target=\"_blank\">\\xe7\\xae\\xa1\\xe7\\x90\\x86\\xe5\\xad\\xb8\\xe9\\x99\\xa2\\xe5\\xad\\xb8\\xe5\\xa3\\xab\\xe7\\x8f\\xad\\xe5\\x8e\\x9f\\xe4\\xbd\\x8f\\xe6\\xb0\\x91\\xe5\\xb0\\x88\\xe7\\x8f\\xad</a></li>\\n<li><a href=\"https://dweb.cjcu.edu.tw/ofs?lang=zh-TW\" target=\"_blank\">\\xe8\\x81\\xb7\\xe5\\xae\\x89\\xe6\\xb6\\x88\\xe9\\x98\\xb2\\xe9\\x80\\xb2\\xe4\\xbf\\xae\\xe5\\xad\\xb8\\xe5\\xa3\\xab\\xe5\\xad\\xb8\\xe4\\xbd\\x8d\\xe5\\xad\\xb8\\xe7\\xa8\\x8b</a></li>\\n</ul>\\n</ul></div></div>\\n\\r\\n\\t\\t<div id=\"C0700\" class=\"tab-content open-list clearfix shadow_block\" style=\"display: none;\" >\\r\\n\\t\\t<div class=\"cleaner padded-b5\"></div>\\r\\n\\t\\t<div class=\"col-sm-12 nopadded clearfix\"><ul class=\"list-item font110\">\\n\\r\\n\\t\\t\\t\\t\\t<li class=\"iicon1\"><a href=\"https://www.cjcu.edu.tw/eicpee?lang=zh-TW\" target=\"_blank\">\\xe7\\x92\\xb0\\xe5\\xa2\\x83\\xe6\\x95\\x99\\xe8\\x82\\xb2\\xe5\\x9c\\x8b\\xe9\\x9a\\x9b\\xe5\\xaf\\xa6\\xe9\\xa9\\x97\\xe5\\xad\\xb8\\xe9\\x99\\xa2</a></li>\\n\\r\\n\\t\\t\\t\\t<ul>\\n<li><a href=\"https://www.cjcu.edu.tw/ipsd?lang=zh-TW\" target=\"_blank\">\\xe6\\xb0\\xb8\\xe7\\xba\\x8c\\xe7\\x99\\xbc\\xe5\\xb1\\x95\\xe5\\x9c\\x8b\\xe9\\x9a\\x9b\\xe5\\xad\\xb8\\xe5\\xa3\\xab\\xe5\\xad\\xb8\\xe4\\xbd\\x8d\\xe5\\xad\\xb8\\xe7\\xa8\\x8b</a></li>\\n<li><a href=\"https://www.cjcu.edu.tw/rsec?lang=zh-TW\" target=\"_blank\">\\xe5\\x9c\\x8b\\xe9\\x9a\\x9b\\xe7\\x8f\\x8d\\xe5\\x8f\\xa4\\xe5\\xbe\\xb7\\xe6\\xa0\\xb9\\xe8\\x88\\x87\\xe8\\x8a\\xbd\\xe7\\x94\\x9f\\xe6\\x85\\x8b\\xe6\\x95\\x99\\xe8\\x82\\xb2\\xe4\\xb8\\xad\\xe5\\xbf\\x83</a></li>\\n</ul>\\n</ul></div></div>\\n\\r\\n\\t\\t<div id=\"C0800\" class=\"tab-content open-list clearfix shadow_block\" style=\"display: none;\" >\\r\\n\\t\\t<div class=\"cleaner padded-b5\"></div>\\r\\n\\t\\t<div class=\"col-sm-12 nopadded clearfix\"><ul class=\"list-item font110\">\\n\\r\\n\\t\\t\\t\\t\\t<li class=\"iicon1\"><a href=\"https://www.cjcu.edu.tw/isb?lang=zh-TW\" target=\"_blank\">\\xe5\\x9c\\x8b\\xe9\\x9a\\x9b\\xe5\\x95\\x86\\xe5\\xad\\xb8\\xe9\\x99\\xa2</a></li>\\n\\r\\n\\t\\t\\t\\t<ul>\\n</ul>\\n</ul></div></div>\\n\\r\\n\\t\\t<div id=\"C0900\" class=\"tab-content open-list clearfix shadow_block\" style=\"display: none;\" >\\r\\n\\t\\t<div class=\"cleaner padded-b5\"></div>\\r\\n\\t\\t<div class=\"col-sm-12 nopadded clearfix\"><ul class=\"list-item font110\">\\n\\r\\n\\t\\t\\t\\t\\t<li class=\"iicon1\"><a href=\"https://www.cjcu.edu.tw/sshs?lang=zh-TW\" target=\"_blank\">\\xe5\\xae\\x89\\xe5\\x85\\xa8\\xe8\\xa1\\x9b\\xe7\\x94\\x9f\\xe7\\xa7\\x91\\xe5\\xad\\xb8\\xe5\\xad\\xb8\\xe9\\x99\\xa2</a></li>\\n\\r\\n\\t\\t\\t\\t<ul>\\n<li><a href=\"https://www.cjcu.edu.tw/osh?lang=zh-TW\" target=\"_blank\">\\xe8\\x81\\xb7\\xe6\\xa5\\xad\\xe5\\xae\\x89\\xe5\\x85\\xa8\\xe8\\x88\\x87\\xe8\\xa1\\x9b\\xe7\\x94\\x9f\\xe5\\xad\\xb8\\xe7\\xb3\\xbb(\\xe7\\xa2\\xa9\\xe3\\x80\\x81\\xe7\\xa2\\xa9\\xe5\\xb0\\x88)</a></li>\\n<li><a href=\"https://dweb.cjcu.edu.tw/geer?lang=zh-TW\" target=\"_blank\">\\xe7\\xb6\\xa0\\xe8\\x83\\xbd\\xe8\\x88\\x87\\xe7\\x92\\xb0\\xe5\\xa2\\x83\\xe8\\xb3\\x87\\xe6\\xba\\x90\\xe5\\xad\\xb8\\xe7\\xb3\\xbb</a></li>\\n<li><a href=\"https://www.cjcu.edu.tw/efs?lang=zh-TW\" target=\"_blank\">\\xe7\\x92\\xb0\\xe5\\xa2\\x83\\xe8\\x88\\x87\\xe9\\xa3\\x9f\\xe5\\x93\\x81\\xe5\\xae\\x89\\xe5\\x85\\xa8\\xe6\\xaa\\xa2\\xe9\\xa9\\x97\\xe5\\xad\\xb8\\xe5\\xa3\\xab\\xe5\\xad\\xb8\\xe4\\xbd\\x8d\\xe5\\xad\\xb8\\xe7\\xa8\\x8b</a></li>\\n<li><a href=\"https://www.cjcu.edu.tw/fss?lang=zh-TW\" target=\"_blank\">\\xe6\\xb6\\x88\\xe9\\x98\\xb2\\xe5\\xae\\x89\\xe5\\x85\\xa8\\xe5\\xad\\xb8\\xe5\\xa3\\xab\\xe5\\xad\\xb8\\xe4\\xbd\\x8d\\xe5\\xad\\xb8\\xe7\\xa8\\x8b</a></li>\\n<li><a href=\"https://www.cjcu.edu.tw/uavapp?lang=zh-TW\" target=\"_blank\">\\xe7\\x84\\xa1\\xe4\\xba\\xba\\xe6\\xa9\\x9f\\xe6\\x87\\x89\\xe7\\x94\\xa8\\xe5\\xad\\xb8\\xe5\\xa3\\xab\\xe5\\xad\\xb8\\xe4\\xbd\\x8d\\xe5\\xad\\xb8\\xe7\\xa8\\x8b</a></li>\\n<li><a href=\"https://www.cjcu.edu.tw/tox?lang=zh-TW\" target=\"_blank\">\\xe8\\x81\\xb7\\xe6\\xa5\\xad\\xe6\\x9a\\xa8\\xe7\\x92\\xb0\\xe5\\xa2\\x83\\xe8\\x88\\x87\\xe9\\xa3\\x9f\\xe5\\x93\\x81\\xe5\\xae\\x89\\xe5\\x85\\xa8\\xe7\\xa0\\x94\\xe7\\xa9\\xb6\\xe4\\xb8\\xad\\xe5\\xbf\\x83</a></li>\\n<li><a href=\"https://www.cjcu.edu.tw/safety?lang=zh-TW\" target=\"_blank\">\\xe8\\x81\\xb7\\xe6\\xa5\\xad\\xe5\\xae\\x89\\xe5\\x85\\xa8\\xe8\\xa1\\x9b\\xe7\\x94\\x9f\\xe8\\x88\\x87\\xe8\\x81\\xb7\\xe6\\xa5\\xad\\xe9\\x86\\xab\\xe5\\xad\\xb8\\xe7\\xa0\\x94\\xe7\\xa9\\xb6\\xe4\\xb8\\xad\\xe5\\xbf\\x83</a></li>\\n<li><a href=\"https://www.cjcu.edu.tw/envircenter?lang=zh-TW\" target=\"_blank\">\\xe7\\x92\\xb0\\xe5\\xa2\\x83\\xe8\\xb3\\x87\\xe8\\xa8\\x8a\\xe7\\xa0\\x94\\xe7\\xa9\\xb6\\xe4\\xb8\\xad\\xe5\\xbf\\x83</a></li>\\n</ul>\\n</ul></div></div>\\n\\r\\n\\t\\t<div id=\"C1000\" class=\"tab-content open-list clearfix shadow_block\" style=\"display: none;\" >\\r\\n\\t\\t<div class=\"cleaner padded-b5\"></div>\\r\\n\\t\\t<div class=\"col-sm-12 nopadded clearfix\"><ul class=\"list-item font110\">\\n\\r\\n\\t\\t\\t\\t\\t<li class=\"iicon1\"><a href=\"https://www.cjcu.edu.tw/cfa?lang=zh-TW\" target=\"_blank\">\\xe7\\xbe\\x8e\\xe8\\xa1\\x93\\xe5\\xad\\xb8\\xe9\\x99\\xa2</a></li>\\n\\r\\n\\t\\t\\t\\t<ul>\\n<li><a href=\"https://www.cjcu.edu.tw/hvr?lang=zh-TW\" target=\"_blank\">\\xe7\\xbe\\x8e\\xe8\\xa1\\x93\\xe5\\xad\\xb8\\xe7\\xb3\\xbb(\\xe7\\xa2\\xa9)</a></li>\\n<li><a href=\"https://www.cjcu.edu.tw/cpa?lang=zh-TW\" target=\"_blank\">\\xe6\\x9b\\xb8\\xe7\\x95\\xab\\xe8\\x97\\x9d\\xe8\\xa1\\x93\\xe5\\xad\\xb8\\xe7\\xb3\\xbb</a></li>\\n<li><a href=\"https://www.cjcu.edu.tw/tcci?lang=zh-TW\" target=\"_blank\">\\xe5\\x8f\\xb0\\xe7\\x81\\xa3\\xe6\\x96\\x87\\xe5\\x8c\\x96\\xe5\\x89\\xb5\\xe6\\x84\\x8f\\xe7\\x94\\xa2\\xe6\\xa5\\xad\\xe5\\xad\\xb8\\xe5\\xa3\\xab\\xe5\\xad\\xb8\\xe4\\xbd\\x8d\\xe5\\xad\\xb8\\xe7\\xa8\\x8b</a></li>\\n</ul>\\n</ul></div></div>\\n\\t\\t\\t</li>\\r\\n\\t\\t\\t<li class=\"fg-acad-item padded-10\" >\\r\\n\\t\\t\\t\\t<div class=\"col-md-12 nopadded topic font120 font-bold\" >\\r\\n\\t\\t\\t\\t\\t<!--<a href=\"academy_db.php#group\">\\xe4\\xbe\\x9d\\xe6\\x93\\x9a\\xe7\\xb3\\xbb\\xe6\\x89\\x80\\xe5\\xad\\xb8\\xe7\\xbe\\xa4\\xe6\\x9f\\xa5\\xe8\\xa9\\xa2</>a-->\\r\\n          \\xe4\\xbe\\x9d\\xe6\\x93\\x9a\\xe7\\xb3\\xbb\\xe6\\x89\\x80\\xe5\\xad\\xb8\\xe7\\xbe\\xa4\\xe6\\x9f\\xa5\\xe8\\xa9\\xa2\\r\\n\\t\\t\\t\\t</div>\\r\\n\\t\\t\\t\\t<!--<div class=\"col-md-12 nopadded fg-dept-tab square\" >\\r\\n\\t\\t\\t\\t\\t\\t\\t\\t\\t</div> -->\\r\\n\\t\\t\\t\\t\\t\\t\\t\\t<div class=\"col-md-12 nopadded fg-dept-tab square\"><button class=\"color-set-0a\" onclick=\"openlist(\\'A01\\')\">\\xe8\\xb3\\x87\\xe8\\xa8\\x8a</button>\\n<button class=\"color-set-0a\" onclick=\"openlist(\\'A02\\')\">\\xe5\\xb7\\xa5\\xe7\\xa8\\x8b</button>\\n<button class=\"color-set-0a\" onclick=\"openlist(\\'A04\\')\">\\xe9\\x86\\xab\\xe8\\x97\\xa5\\xe8\\xa1\\x9b\\xe7\\x94\\x9f</button>\\n<button class=\"color-set-0a\" onclick=\"openlist(\\'A05\\')\">\\xe7\\x94\\x9f\\xe5\\x91\\xbd\\xe7\\xa7\\x91\\xe5\\xad\\xb8</button>\\n<button class=\"color-set-0a\" onclick=\"openlist(\\'A07\\')\">\\xe5\\x9c\\xb0\\xe7\\x90\\x83\\xe7\\x92\\xb0\\xe5\\xa2\\x83</button>\\n<button class=\"color-set-0a\" onclick=\"openlist(\\'A08\\')\">\\xe5\\xbb\\xba\\xe7\\xaf\\x89\\xe8\\xa8\\xad\\xe8\\xa8\\x88</button>\\n<button class=\"color-set-0a\" onclick=\"openlist(\\'A09\\')\">\\xe8\\x97\\x9d\\xe8\\xa1\\x93</button>\\n<button class=\"color-set-0a\" onclick=\"openlist(\\'A10\\')\">\\xe7\\xa4\\xbe\\xe6\\x9c\\x83\\xe5\\xbf\\x83\\xe7\\x90\\x86</button>\\n<button class=\"color-set-0a\" onclick=\"openlist(\\'A11\\')\">\\xe5\\xa4\\xa7\\xe7\\x9c\\xbe\\xe5\\x82\\xb3\\xe6\\x92\\xad</button>\\n<button class=\"color-set-0a\" onclick=\"openlist(\\'A12\\')\">\\xe5\\xa4\\x96\\xe8\\xaa\\x9e</button>\\n<button class=\"color-set-0a\" onclick=\"openlist(\\'A13\\')\">\\xe6\\x96\\x87\\xe5\\x8f\\xb2\\xe5\\x93\\xb2</button>\\n<button class=\"color-set-0a\" onclick=\"openlist(\\'A15\\')\">\\xe6\\xb3\\x95\\xe6\\x94\\xbf</button>\\n<button class=\"color-set-0a\" onclick=\"openlist(\\'A16\\')\">\\xe7\\xae\\xa1\\xe7\\x90\\x86</button>\\n<button class=\"color-set-0a\" onclick=\"openlist(\\'A17\\')\">\\xe8\\xb2\\xa1\\xe7\\xb6\\x93</button>\\n<button class=\"color-set-0a\" onclick=\"openlist(\\'A18\\')\">\\xe9\\x81\\x8a\\xe6\\x86\\xa9\\xe9\\x81\\x8b\\xe5\\x8b\\x95</button>\\n</div><div class=\"cleaner\"> </div>\\r\\n\\t\\t\\t<div id=\"A01\" class=\"tab-content open-list clearfix shadow_block\" style=\"display: none;\" >\\n\\r\\n\\t\\t\\t\\t<div class=\"cleaner padded-b5\"></div>\\n\\r\\n\\t\\t\\t\\t<div class=\"col-sm-12 nopadded clearfix\">\\n\\r\\n\\t\\t\\t\\t\\t<ul class=\"fg-acad-item-sub font110\">\\n\\r\\n\\t\\t\\t\\t\\t\\t<ul>\\n<li><i class=\"fas fa-greater-than\"></i> <a href=\"https://www.cjcu.edu.tw/bdpid?lang=zh-TW\" target=\"_blank\">\\xe8\\xb3\\x87\\xe8\\xa8\\x8a\\xe6\\x9a\\xa8\\xe8\\xa8\\xad\\xe8\\xa8\\x88\\xe5\\xad\\xb8\\xe9\\x99\\xa2\\xe5\\xad\\xb8\\xe5\\xa3\\xab\\xe7\\x8f\\xad</a></li>\\n<li><i class=\"fas fa-greater-than\"></i> <a href=\"https://www.cjcu.edu.tw/im?lang=zh-TW\" target=\"_blank\">\\xe8\\xb3\\x87\\xe8\\xa8\\x8a\\xe7\\xae\\xa1\\xe7\\x90\\x86\\xe5\\xad\\xb8\\xe7\\xb3\\xbb</a></li>\\n<li><i class=\"fas fa-greater-than\"></i> <a href=\"https://www.cjcu.edu.tw/csie?lang=zh-TW\" target=\"_blank\">\\xe8\\xb3\\x87\\xe8\\xa8\\x8a\\xe5\\xb7\\xa5\\xe7\\xa8\\x8b\\xe5\\xad\\xb8\\xe7\\xb3\\xbb</a></li>\\n<li><i class=\"fas fa-greater-than\"></i> <a href=\"https://www.cjcu.edu.tw/dcd?lang=zh-TW\" target=\"_blank\">\\xe6\\x95\\xb8\\xe4\\xbd\\x8d\\xe5\\x85\\xa7\\xe5\\xae\\xb9\\xe8\\xa8\\xad\\xe8\\xa8\\x88\\xe5\\xad\\xb8\\xe7\\xb3\\xbb</a></li>\\n<li><i class=\"fas fa-greater-than\"></i> <a href=\"https://www.cjcu.edu.tw/iid?lang=zh-TW\" target=\"_blank\">\\xe4\\xba\\x92\\xe5\\x8b\\x95\\xe8\\xa8\\xad\\xe8\\xa8\\x88\\xe5\\xad\\xb8\\xe7\\xb3\\xbb</a></li>\\n<li><i class=\"fas fa-greater-than\"></i> <a href=\"https://www.cjcu.edu.tw/camd?lang=zh-TW\" target=\"_blank\">\\xe5\\xaa\\x92\\xe9\\xab\\x94\\xe8\\xa8\\xad\\xe8\\xa8\\x88\\xe7\\xa7\\x91\\xe6\\x8a\\x80\\xe5\\xad\\xb8\\xe7\\xb3\\xbb</a></li>\\n</ul></ul></div></div>\\n\\r\\n\\t\\t\\t<div id=\"A02\" class=\"tab-content open-list clearfix shadow_block\" style=\"display: none;\" >\\n\\r\\n\\t\\t\\t\\t<div class=\"cleaner padded-b5\"></div>\\n\\r\\n\\t\\t\\t\\t<div class=\"col-sm-12 nopadded clearfix\">\\n\\r\\n\\t\\t\\t\\t\\t<ul class=\"fg-acad-item-sub font110\">\\n\\r\\n\\t\\t\\t\\t\\t\\t<ul>\\n<li><i class=\"fas fa-greater-than\"></i> <a href=\"https://www.cjcu.edu.tw/amm?lang=zh-TW\" target=\"_blank\">\\xe8\\x88\\xaa\\xe9\\x81\\x8b\\xe7\\xae\\xa1\\xe7\\x90\\x86\\xe5\\xad\\xb8\\xe7\\xb3\\xbb(\\xe7\\xa2\\xa9)</a></li>\\n<li><i class=\"fas fa-greater-than\"></i> <a href=\"https://www.cjcu.edu.tw/bdpid?lang=zh-TW\" target=\"_blank\">\\xe8\\xb3\\x87\\xe8\\xa8\\x8a\\xe6\\x9a\\xa8\\xe8\\xa8\\xad\\xe8\\xa8\\x88\\xe5\\xad\\xb8\\xe9\\x99\\xa2\\xe5\\xad\\xb8\\xe5\\xa3\\xab\\xe7\\x8f\\xad</a></li>\\n<li><i class=\"fas fa-greater-than\"></i> <a href=\"https://www.cjcu.edu.tw/csie?lang=zh-TW\" target=\"_blank\">\\xe8\\xb3\\x87\\xe8\\xa8\\x8a\\xe5\\xb7\\xa5\\xe7\\xa8\\x8b\\xe5\\xad\\xb8\\xe7\\xb3\\xbb</a></li>\\n<li><i class=\"fas fa-greater-than\"></i> <a href=\"https://dweb.cjcu.edu.tw/geer?lang=zh-TW\" target=\"_blank\">\\xe7\\xb6\\xa0\\xe8\\x83\\xbd\\xe8\\x88\\x87\\xe7\\x92\\xb0\\xe5\\xa2\\x83\\xe8\\xb3\\x87\\xe6\\xba\\x90\\xe5\\xad\\xb8\\xe7\\xb3\\xbb</a></li>\\n<li><i class=\"fas fa-greater-than\"></i> <a href=\"https://www.cjcu.edu.tw/uavapp?lang=zh-TW\" target=\"_blank\">\\xe7\\x84\\xa1\\xe4\\xba\\xba\\xe6\\xa9\\x9f\\xe6\\x87\\x89\\xe7\\x94\\xa8\\xe5\\xad\\xb8\\xe5\\xa3\\xab\\xe5\\xad\\xb8\\xe4\\xbd\\x8d\\xe5\\xad\\xb8\\xe7\\xa8\\x8b</a></li>\\n</ul></ul></div></div>\\n\\r\\n\\t\\t\\t<div id=\"A04\" class=\"tab-content open-list clearfix shadow_block\" style=\"display: none;\" >\\n\\r\\n\\t\\t\\t\\t<div class=\"cleaner padded-b5\"></div>\\n\\r\\n\\t\\t\\t\\t<div class=\"col-sm-12 nopadded clearfix\">\\n\\r\\n\\t\\t\\t\\t\\t<ul class=\"fg-acad-item-sub font110\">\\n\\r\\n\\t\\t\\t\\t\\t\\t<ul>\\n<li><i class=\"fas fa-greater-than\"></i> <a href=\"https://www.cjcu.edu.tw/hca?lang=zh-TW\" target=\"_blank\">\\xe9\\x86\\xab\\xe5\\x8b\\x99\\xe7\\xae\\xa1\\xe7\\x90\\x86\\xe5\\xad\\xb8\\xe7\\xb3\\xbb(\\xe7\\xa2\\xa9\\xe3\\x80\\x81\\xe7\\xa2\\xa9\\xe5\\xb0\\x88)</a></li>\\n<li><i class=\"fas fa-greater-than\"></i> <a href=\"https://www.cjcu.edu.tw/nurse?lang=zh-TW\" target=\"_blank\">\\xe8\\xad\\xb7\\xe7\\x90\\x86\\xe5\\xad\\xb8\\xe7\\xb3\\xbb(\\xe7\\xa2\\xa9)</a></li>\\n<li><i class=\"fas fa-greater-than\"></i> <a href=\"https://www.cjcu.edu.tw/nut?lang=zh-TW\" target=\"_blank\">\\xe4\\xbf\\x9d\\xe5\\x81\\xa5\\xe7\\x87\\x9f\\xe9\\xa4\\x8a\\xe5\\xad\\xb8\\xe7\\xb3\\xbb</a></li>\\n<li><i class=\"fas fa-greater-than\"></i> <a href=\"https://www.cjcu.edu.tw/mshc?lang=zh-TW\" target=\"_blank\">\\xe9\\x86\\xab\\xe5\\xad\\xb8\\xe7\\xa4\\xbe\\xe6\\x9c\\x83\\xe6\\x9a\\xa8\\xe5\\x81\\xa5\\xe5\\xba\\xb7\\xe7\\x85\\xa7\\xe8\\xad\\xb7\\xe5\\xad\\xb8\\xe5\\xa3\\xab\\xe5\\xad\\xb8\\xe4\\xbd\\x8d\\xe5\\xad\\xb8\\xe7\\xa8\\x8b</a></li>\\n<li><i class=\"fas fa-greater-than\"></i> <a href=\"https://www.cjcu.edu.tw/mhc?lang=zh-TW\" target=\"_blank\">\\xe9\\x86\\xab\\xe8\\x97\\xa5\\xe7\\x85\\xa7\\xe8\\xad\\xb7\\xe7\\x94\\xa2\\xe6\\xa5\\xad\\xe9\\x80\\xb2\\xe4\\xbf\\xae\\xe5\\xad\\xb8\\xe5\\xa3\\xab\\xe5\\xad\\xb8\\xe4\\xbd\\x8d\\xe5\\xad\\xb8\\xe7\\xa8\\x8b</a></li>\\n<li><i class=\"fas fa-greater-than\"></i> <a href=\"https://www.cjcu.edu.tw/osh?lang=zh-TW\" target=\"_blank\">\\xe8\\x81\\xb7\\xe6\\xa5\\xad\\xe5\\xae\\x89\\xe5\\x85\\xa8\\xe8\\x88\\x87\\xe8\\xa1\\x9b\\xe7\\x94\\x9f\\xe5\\xad\\xb8\\xe7\\xb3\\xbb(\\xe7\\xa2\\xa9\\xe3\\x80\\x81\\xe7\\xa2\\xa9\\xe5\\xb0\\x88)</a></li>\\n<li><i class=\"fas fa-greater-than\"></i> <a href=\"https://www.cjcu.edu.tw/efs?lang=zh-TW\" target=\"_blank\">\\xe7\\x92\\xb0\\xe5\\xa2\\x83\\xe8\\x88\\x87\\xe9\\xa3\\x9f\\xe5\\x93\\x81\\xe5\\xae\\x89\\xe5\\x85\\xa8\\xe6\\xaa\\xa2\\xe9\\xa9\\x97\\xe5\\xad\\xb8\\xe5\\xa3\\xab\\xe5\\xad\\xb8\\xe4\\xbd\\x8d\\xe5\\xad\\xb8\\xe7\\xa8\\x8b</a></li>\\n</ul></ul></div></div>\\n\\r\\n\\t\\t\\t<div id=\"A05\" class=\"tab-content open-list clearfix shadow_block\" style=\"display: none;\" >\\n\\r\\n\\t\\t\\t\\t<div class=\"cleaner padded-b5\"></div>\\n\\r\\n\\t\\t\\t\\t<div class=\"col-sm-12 nopadded clearfix\">\\n\\r\\n\\t\\t\\t\\t\\t<ul class=\"fg-acad-item-sub font110\">\\n\\r\\n\\t\\t\\t\\t\\t\\t<ul>\\n<li><i class=\"fas fa-greater-than\"></i> <a href=\"https://www.cjcu.edu.tw/biosci?lang=zh-TW\" target=\"_blank\">\\xe7\\x94\\x9f\\xe7\\x89\\xa9\\xe7\\xa7\\x91\\xe6\\x8a\\x80\\xe5\\xad\\xb8\\xe7\\xb3\\xbb</a></li>\\n<li><i class=\"fas fa-greater-than\"></i> <a href=\"https://www.cjcu.edu.tw/pihid?lang=zh-TW\" target=\"_blank\">\\xe9\\x86\\xab\\xe8\\x97\\xa5\\xe7\\xa7\\x91\\xe5\\xad\\xb8\\xe7\\x94\\xa2\\xe6\\xa5\\xad\\xe5\\xad\\xb8\\xe7\\xb3\\xbb</a></li>\\n</ul></ul></div></div>\\n\\r\\n\\t\\t\\t<div id=\"A07\" class=\"tab-content open-list clearfix shadow_block\" style=\"display: none;\" >\\n\\r\\n\\t\\t\\t\\t<div class=\"cleaner padded-b5\"></div>\\n\\r\\n\\t\\t\\t\\t<div class=\"col-sm-12 nopadded clearfix\">\\n\\r\\n\\t\\t\\t\\t\\t<ul class=\"fg-acad-item-sub font110\">\\n\\r\\n\\t\\t\\t\\t\\t\\t<ul>\\n<li><i class=\"fas fa-greater-than\"></i> <a href=\"https://dweb.cjcu.edu.tw/ofs?lang=zh-TW\" target=\"_blank\">\\xe8\\x81\\xb7\\xe5\\xae\\x89\\xe6\\xb6\\x88\\xe9\\x98\\xb2\\xe9\\x80\\xb2\\xe4\\xbf\\xae\\xe5\\xad\\xb8\\xe5\\xa3\\xab\\xe5\\xad\\xb8\\xe4\\xbd\\x8d\\xe5\\xad\\xb8\\xe7\\xa8\\x8b</a></li>\\n<li><i class=\"fas fa-greater-than\"></i> <a href=\"https://dweb.cjcu.edu.tw/geer?lang=zh-TW\" target=\"_blank\">\\xe7\\xb6\\xa0\\xe8\\x83\\xbd\\xe8\\x88\\x87\\xe7\\x92\\xb0\\xe5\\xa2\\x83\\xe8\\xb3\\x87\\xe6\\xba\\x90\\xe5\\xad\\xb8\\xe7\\xb3\\xbb</a></li>\\n<li><i class=\"fas fa-greater-than\"></i> <a href=\"https://www.cjcu.edu.tw/efs?lang=zh-TW\" target=\"_blank\">\\xe7\\x92\\xb0\\xe5\\xa2\\x83\\xe8\\x88\\x87\\xe9\\xa3\\x9f\\xe5\\x93\\x81\\xe5\\xae\\x89\\xe5\\x85\\xa8\\xe6\\xaa\\xa2\\xe9\\xa9\\x97\\xe5\\xad\\xb8\\xe5\\xa3\\xab\\xe5\\xad\\xb8\\xe4\\xbd\\x8d\\xe5\\xad\\xb8\\xe7\\xa8\\x8b</a></li>\\n<li><i class=\"fas fa-greater-than\"></i> <a href=\"https://www.cjcu.edu.tw/fss?lang=zh-TW\" target=\"_blank\">\\xe6\\xb6\\x88\\xe9\\x98\\xb2\\xe5\\xae\\x89\\xe5\\x85\\xa8\\xe5\\xad\\xb8\\xe5\\xa3\\xab\\xe5\\xad\\xb8\\xe4\\xbd\\x8d\\xe5\\xad\\xb8\\xe7\\xa8\\x8b</a></li>\\n</ul></ul></div></div>\\n\\r\\n\\t\\t\\t<div id=\"A08\" class=\"tab-content open-list clearfix shadow_block\" style=\"display: none;\" >\\n\\r\\n\\t\\t\\t\\t<div class=\"cleaner padded-b5\"></div>\\n\\r\\n\\t\\t\\t\\t<div class=\"col-sm-12 nopadded clearfix\">\\n\\r\\n\\t\\t\\t\\t\\t<ul class=\"fg-acad-item-sub font110\">\\n\\r\\n\\t\\t\\t\\t\\t\\t<ul>\\n<li><i class=\"fas fa-greater-than\"></i> <a href=\"https://www.cjcu.edu.tw/bdpid?lang=zh-TW\" target=\"_blank\">\\xe8\\xb3\\x87\\xe8\\xa8\\x8a\\xe6\\x9a\\xa8\\xe8\\xa8\\xad\\xe8\\xa8\\x88\\xe5\\xad\\xb8\\xe9\\x99\\xa2\\xe5\\xad\\xb8\\xe5\\xa3\\xab\\xe7\\x8f\\xad</a></li>\\n<li><i class=\"fas fa-greater-than\"></i> <a href=\"https://www.cjcu.edu.tw/dcd?lang=zh-TW\" target=\"_blank\">\\xe6\\x95\\xb8\\xe4\\xbd\\x8d\\xe5\\x85\\xa7\\xe5\\xae\\xb9\\xe8\\xa8\\xad\\xe8\\xa8\\x88\\xe5\\xad\\xb8\\xe7\\xb3\\xbb</a></li>\\n<li><i class=\"fas fa-greater-than\"></i> <a href=\"https://www.cjcu.edu.tw/iid?lang=zh-TW\" target=\"_blank\">\\xe4\\xba\\x92\\xe5\\x8b\\x95\\xe8\\xa8\\xad\\xe8\\xa8\\x88\\xe5\\xad\\xb8\\xe7\\xb3\\xbb</a></li>\\n<li><i class=\"fas fa-greater-than\"></i> <a href=\"https://www.cjcu.edu.tw/camd?lang=zh-TW\" target=\"_blank\">\\xe5\\xaa\\x92\\xe9\\xab\\x94\\xe8\\xa8\\xad\\xe8\\xa8\\x88\\xe7\\xa7\\x91\\xe6\\x8a\\x80\\xe5\\xad\\xb8\\xe7\\xb3\\xbb</a></li>\\n<li><i class=\"fas fa-greater-than\"></i> <a href=\"https://www.cjcu.edu.tw/art?lang=zh-TW\" target=\"_blank\">\\xe8\\x97\\x9d\\xe8\\xa1\\x93\\xe5\\x89\\xb5\\xe6\\x84\\x8f\\xe8\\x88\\x87\\xe8\\xa8\\xad\\xe8\\xa8\\x88\\xe5\\xad\\xb8\\xe5\\xa3\\xab\\xe5\\xad\\xb8\\xe4\\xbd\\x8d\\xe5\\xad\\xb8\\xe7\\xa8\\x8b</a></li>\\n<li><i class=\"fas fa-greater-than\"></i> <a href=\"https://www.cjcu.edu.tw/tcci?lang=zh-TW\" target=\"_blank\">\\xe5\\x8f\\xb0\\xe7\\x81\\xa3\\xe6\\x96\\x87\\xe5\\x8c\\x96\\xe5\\x89\\xb5\\xe6\\x84\\x8f\\xe7\\x94\\xa2\\xe6\\xa5\\xad\\xe5\\xad\\xb8\\xe5\\xa3\\xab\\xe5\\xad\\xb8\\xe4\\xbd\\x8d\\xe5\\xad\\xb8\\xe7\\xa8\\x8b</a></li>\\n</ul></ul></div></div>\\n\\r\\n\\t\\t\\t<div id=\"A09\" class=\"tab-content open-list clearfix shadow_block\" style=\"display: none;\" >\\n\\r\\n\\t\\t\\t\\t<div class=\"cleaner padded-b5\"></div>\\n\\r\\n\\t\\t\\t\\t<div class=\"col-sm-12 nopadded clearfix\">\\n\\r\\n\\t\\t\\t\\t\\t<ul class=\"fg-acad-item-sub font110\">\\n\\r\\n\\t\\t\\t\\t\\t\\t<ul>\\n<li><i class=\"fas fa-greater-than\"></i> <a href=\"https://www.cjcu.edu.tw/art?lang=zh-TW\" target=\"_blank\">\\xe8\\x97\\x9d\\xe8\\xa1\\x93\\xe5\\x89\\xb5\\xe6\\x84\\x8f\\xe8\\x88\\x87\\xe8\\xa8\\xad\\xe8\\xa8\\x88\\xe5\\xad\\xb8\\xe5\\xa3\\xab\\xe5\\xad\\xb8\\xe4\\xbd\\x8d\\xe5\\xad\\xb8\\xe7\\xa8\\x8b</a></li>\\n<li><i class=\"fas fa-greater-than\"></i> <a href=\"https://www.cjcu.edu.tw/hvr?lang=zh-TW\" target=\"_blank\">\\xe7\\xbe\\x8e\\xe8\\xa1\\x93\\xe5\\xad\\xb8\\xe7\\xb3\\xbb(\\xe7\\xa2\\xa9)</a></li>\\n<li><i class=\"fas fa-greater-than\"></i> <a href=\"https://www.cjcu.edu.tw/cpa?lang=zh-TW\" target=\"_blank\">\\xe6\\x9b\\xb8\\xe7\\x95\\xab\\xe8\\x97\\x9d\\xe8\\xa1\\x93\\xe5\\xad\\xb8\\xe7\\xb3\\xbb</a></li>\\n<li><i class=\"fas fa-greater-than\"></i> <a href=\"https://www.cjcu.edu.tw/tcci?lang=zh-TW\" target=\"_blank\">\\xe5\\x8f\\xb0\\xe7\\x81\\xa3\\xe6\\x96\\x87\\xe5\\x8c\\x96\\xe5\\x89\\xb5\\xe6\\x84\\x8f\\xe7\\x94\\xa2\\xe6\\xa5\\xad\\xe5\\xad\\xb8\\xe5\\xa3\\xab\\xe5\\xad\\xb8\\xe4\\xbd\\x8d\\xe5\\xad\\xb8\\xe7\\xa8\\x8b</a></li>\\n</ul></ul></div></div>\\n\\r\\n\\t\\t\\t<div id=\"A10\" class=\"tab-content open-list clearfix shadow_block\" style=\"display: none;\" >\\n\\r\\n\\t\\t\\t\\t<div class=\"cleaner padded-b5\"></div>\\n\\r\\n\\t\\t\\t\\t<div class=\"col-sm-12 nopadded clearfix\">\\n\\r\\n\\t\\t\\t\\t\\t<ul class=\"fg-acad-item-sub font110\">\\n\\r\\n\\t\\t\\t\\t\\t\\t<ul>\\n<li><i class=\"fas fa-greater-than\"></i> <a href=\"https://www.cjcu.edu.tw/h-dop?lang=zh-TW\" target=\"_blank\">\\xe5\\x81\\xa5\\xe5\\xba\\xb7\\xe5\\xbf\\x83\\xe7\\x90\\x86\\xe5\\xad\\xb8\\xe7\\xb3\\xbb</a></li>\\n<li><i class=\"fas fa-greater-than\"></i> <a href=\"https://www.cjcu.edu.tw/sw?lang=zh-TW\" target=\"_blank\">\\xe7\\xa4\\xbe\\xe6\\x9c\\x83\\xe5\\xb7\\xa5\\xe4\\xbd\\x9c\\xe5\\xad\\xb8\\xe7\\xb3\\xbb(\\xe7\\xa2\\xa9)</a></li>\\n</ul></ul></div></div>\\n\\r\\n\\t\\t\\t<div id=\"A11\" class=\"tab-content open-list clearfix shadow_block\" style=\"display: none;\" >\\n\\r\\n\\t\\t\\t\\t<div class=\"cleaner padded-b5\"></div>\\n\\r\\n\\t\\t\\t\\t<div class=\"col-sm-12 nopadded clearfix\">\\n\\r\\n\\t\\t\\t\\t\\t<ul class=\"fg-acad-item-sub font110\">\\n\\r\\n\\t\\t\\t\\t\\t\\t<ul>\\n<li><i class=\"fas fa-greater-than\"></i> <a href=\"https://www.cjcu.edu.tw/gimc?lang=zh-TW\" target=\"_blank\">\\xe5\\xa4\\xa7\\xe7\\x9c\\xbe\\xe5\\x82\\xb3\\xe6\\x92\\xad\\xe5\\xad\\xb8\\xe7\\xb3\\xbb</a></li>\\n</ul></ul></div></div>\\n\\r\\n\\t\\t\\t<div id=\"A12\" class=\"tab-content open-list clearfix shadow_block\" style=\"display: none;\" >\\n\\r\\n\\t\\t\\t\\t<div class=\"cleaner padded-b5\"></div>\\n\\r\\n\\t\\t\\t\\t<div class=\"col-sm-12 nopadded clearfix\">\\n\\r\\n\\t\\t\\t\\t\\t<ul class=\"fg-acad-item-sub font110\">\\n\\r\\n\\t\\t\\t\\t\\t\\t<ul>\\n<li><i class=\"fas fa-greater-than\"></i> <a href=\"https://www.cjcu.edu.tw/dtis?lang=zh-TW\" target=\"_blank\">\\xe7\\xbf\\xbb\\xe8\\xad\\xaf\\xe5\\xad\\xb8\\xe7\\xb3\\xbb(\\xe7\\xa2\\xa9\\xe3\\x80\\x81\\xe7\\xa2\\xa9\\xe5\\xb0\\x88)</a></li>\\n<li><i class=\"fas fa-greater-than\"></i> <a href=\"https://www.cjcu.edu.tw/japanese?lang=zh-TW\" target=\"_blank\">\\xe6\\x87\\x89\\xe7\\x94\\xa8\\xe6\\x97\\xa5\\xe8\\xaa\\x9e\\xe5\\xad\\xb8\\xe7\\xb3\\xbb(\\xe7\\xa2\\xa9)</a></li>\\n<li><i class=\"fas fa-greater-than\"></i> <a href=\"https://www.cjcu.edu.tw/lang?lang=zh-TW\" target=\"_blank\">\\xe6\\x97\\xa5\\xe8\\xaa\\x9e\\xe5\\xad\\xb8\\xe5\\xa3\\xab\\xe5\\xad\\xb8\\xe4\\xbd\\x8d\\xe5\\xad\\xb8\\xe7\\xa8\\x8b</a></li>\\n</ul></ul></div></div>\\n\\r\\n\\t\\t\\t<div id=\"A13\" class=\"tab-content open-list clearfix shadow_block\" style=\"display: none;\" >\\n\\r\\n\\t\\t\\t\\t<div class=\"cleaner padded-b5\"></div>\\n\\r\\n\\t\\t\\t\\t<div class=\"col-sm-12 nopadded clearfix\">\\n\\r\\n\\t\\t\\t\\t\\t<ul class=\"fg-acad-item-sub font110\">\\n\\r\\n\\t\\t\\t\\t\\t\\t<ul>\\n<li><i class=\"fas fa-greater-than\"></i> <a href=\"https://www.cjcu.edu.tw/dap?lang=zh-TW\" target=\"_blank\">\\xe6\\x87\\x89\\xe7\\x94\\xa8\\xe5\\x93\\xb2\\xe5\\xad\\xb8\\xe7\\xb3\\xbb</a></li>\\n<li><i class=\"fas fa-greater-than\"></i> <a href=\"https://www.cjcu.edu.tw/saci?lang=zh-TW\" target=\"_blank\">\\xe6\\x9d\\xb1\\xe5\\x8d\\x97\\xe4\\xba\\x9e\\xe6\\x96\\x87\\xe5\\x8c\\x96\\xe8\\x88\\x87\\xe7\\x94\\xa2\\xe6\\xa5\\xad\\xe5\\xad\\xb8\\xe5\\xa3\\xab\\xe5\\xad\\xb8\\xe4\\xbd\\x8d\\xe5\\xad\\xb8\\xe7\\xa8\\x8b</a></li>\\n</ul></ul></div></div>\\n\\r\\n\\t\\t\\t<div id=\"A15\" class=\"tab-content open-list clearfix shadow_block\" style=\"display: none;\" >\\n\\r\\n\\t\\t\\t\\t<div class=\"cleaner padded-b5\"></div>\\n\\r\\n\\t\\t\\t\\t<div class=\"col-sm-12 nopadded clearfix\">\\n\\r\\n\\t\\t\\t\\t\\t<ul class=\"fg-acad-item-sub font110\">\\n\\r\\n\\t\\t\\t\\t\\t\\t<ul>\\n<li><i class=\"fas fa-greater-than\"></i> <a href=\"https://www.cjcu.edu.tw/lmd?lang=zh-TW\" target=\"_blank\">\\xe5\\x9c\\x9f\\xe5\\x9c\\xb0\\xe7\\xae\\xa1\\xe7\\x90\\x86\\xe8\\x88\\x87\\xe9\\x96\\x8b\\xe7\\x99\\xbc\\xe5\\xad\\xb8\\xe7\\xb3\\xbb(\\xe7\\xa2\\xa9\\xe3\\x80\\x81\\xe7\\xa2\\xa9\\xe5\\xb0\\x88)</a></li>\\n</ul></ul></div></div>\\n\\r\\n\\t\\t\\t<div id=\"A16\" class=\"tab-content open-list clearfix shadow_block\" style=\"display: none;\" >\\n\\r\\n\\t\\t\\t\\t<div class=\"cleaner padded-b5\"></div>\\n\\r\\n\\t\\t\\t\\t<div class=\"col-sm-12 nopadded clearfix\">\\n\\r\\n\\t\\t\\t\\t\\t<ul class=\"fg-acad-item-sub font110\">\\n\\r\\n\\t\\t\\t\\t\\t\\t<ul>\\n<li><i class=\"fas fa-greater-than\"></i> <a href=\"https://www.cjcu.edu.tw/ba?lang=zh-TW\" target=\"_blank\">\\xe4\\xbc\\x81\\xe6\\xa5\\xad\\xe7\\xae\\xa1\\xe7\\x90\\x86\\xe5\\xad\\xb8\\xe7\\xb3\\xbb</a></li>\\n<li><i class=\"fas fa-greater-than\"></i> <a href=\"https://www.cjcu.edu.tw/ib?lang=zh-TW\" target=\"_blank\">\\xe5\\x9c\\x8b\\xe9\\x9a\\x9b\\xe4\\xbc\\x81\\xe6\\xa5\\xad\\xe5\\xad\\xb8\\xe7\\xb3\\xbb</a></li>\\n<li><i class=\"fas fa-greater-than\"></i> <a href=\"https://www.cjcu.edu.tw/amm?lang=zh-TW\" target=\"_blank\">\\xe8\\x88\\xaa\\xe9\\x81\\x8b\\xe7\\xae\\xa1\\xe7\\x90\\x86\\xe5\\xad\\xb8\\xe7\\xb3\\xbb(\\xe7\\xa2\\xa9)</a></li>\\n<li><i class=\"fas fa-greater-than\"></i> <a href=\"https://www.cjcu.edu.tw/lmd?lang=zh-TW\" target=\"_blank\">\\xe5\\x9c\\x9f\\xe5\\x9c\\xb0\\xe7\\xae\\xa1\\xe7\\x90\\x86\\xe8\\x88\\x87\\xe9\\x96\\x8b\\xe7\\x99\\xbc\\xe5\\xad\\xb8\\xe7\\xb3\\xbb(\\xe7\\xa2\\xa9\\xe3\\x80\\x81\\xe7\\xa2\\xa9\\xe5\\xb0\\x88)</a></li>\\n<li><i class=\"fas fa-greater-than\"></i> <a href=\"https://www.cjcu.edu.tw/iam?lang=zh-TW\" target=\"_blank\">\\xe5\\x89\\xb5\\xe6\\x96\\xb0\\xe6\\x87\\x89\\xe7\\x94\\xa8\\xe7\\xae\\xa1\\xe7\\x90\\x86\\xe5\\xad\\xb8\\xe7\\xb3\\xbb</a></li>\\n<li><i class=\"fas fa-greater-than\"></i> <a href=\"https://www.cjcu.edu.tw/lim?lang=zh-TW\" target=\"_blank\">\\xe8\\xa7\\x80\\xe5\\x85\\x89\\xe8\\x88\\x87\\xe9\\xa4\\x90\\xe9\\xa3\\xb2\\xe7\\xae\\xa1\\xe7\\x90\\x86\\xe5\\xad\\xb8\\xe7\\xb3\\xbb</a></li>\\n<li><i class=\"fas fa-greater-than\"></i> <a href=\"https://www.cjcu.edu.tw/hca?lang=zh-TW\" target=\"_blank\">\\xe9\\x86\\xab\\xe5\\x8b\\x99\\xe7\\xae\\xa1\\xe7\\x90\\x86\\xe5\\xad\\xb8\\xe7\\xb3\\xbb(\\xe7\\xa2\\xa9\\xe3\\x80\\x81\\xe7\\xa2\\xa9\\xe5\\xb0\\x88)</a></li>\\n<li><i class=\"fas fa-greater-than\"></i> <a href=\"https://www.cjcu.edu.tw/oia?lang=zh-TW\" target=\"_blank\">\\xe8\\x98\\xad\\xe8\\x8a\\xb1\\xe7\\x94\\xa2\\xe6\\xa5\\xad\\xe6\\x87\\x89\\xe7\\x94\\xa8\\xe5\\xad\\xb8\\xe5\\xa3\\xab\\xe5\\xad\\xb8\\xe4\\xbd\\x8d\\xe5\\xad\\xb8\\xe7\\xa8\\x8b</a></li>\\n<li><i class=\"fas fa-greater-than\"></i> <a href=\"https://www.cjcu.edu.tw/srm?lang=zh-TW\" target=\"_blank\">\\xe9\\x81\\x8b\\xe5\\x8b\\x95\\xe7\\xab\\xb6\\xe6\\x8a\\x80\\xe5\\xad\\xb8\\xe7\\xb3\\xbb(\\xe9\\x80\\xb2\\xe4\\xbf\\xae\\xe3\\x80\\x81\\xe7\\xa2\\xa9)</a></li>\\n<li><i class=\"fas fa-greater-than\"></i> <a href=\"https://www.cjcu.edu.tw/saci?lang=zh-TW\" target=\"_blank\">\\xe6\\x9d\\xb1\\xe5\\x8d\\x97\\xe4\\xba\\x9e\\xe6\\x96\\x87\\xe5\\x8c\\x96\\xe8\\x88\\x87\\xe7\\x94\\xa2\\xe6\\xa5\\xad\\xe5\\xad\\xb8\\xe5\\xa3\\xab\\xe5\\xad\\xb8\\xe4\\xbd\\x8d\\xe5\\xad\\xb8\\xe7\\xa8\\x8b</a></li>\\n<li><i class=\"fas fa-greater-than\"></i> <a href=\"https://www.cjcu.edu.tw/bdpid?lang=zh-TW\" target=\"_blank\">\\xe8\\xb3\\x87\\xe8\\xa8\\x8a\\xe6\\x9a\\xa8\\xe8\\xa8\\xad\\xe8\\xa8\\x88\\xe5\\xad\\xb8\\xe9\\x99\\xa2\\xe5\\xad\\xb8\\xe5\\xa3\\xab\\xe7\\x8f\\xad</a></li>\\n<li><i class=\"fas fa-greater-than\"></i> <a href=\"https://www.cjcu.edu.tw/im?lang=zh-TW\" target=\"_blank\">\\xe8\\xb3\\x87\\xe8\\xa8\\x8a\\xe7\\xae\\xa1\\xe7\\x90\\x86\\xe5\\xad\\xb8\\xe7\\xb3\\xbb</a></li>\\n<li><i class=\"fas fa-greater-than\"></i> <a href=\"https://www.cjcu.edu.tw/mana?lang=zh-TW\" target=\"_blank\">\\xe7\\xae\\xa1\\xe7\\x90\\x86\\xe5\\xad\\xb8\\xe5\\xa3\\xab\\xe5\\xad\\xb8\\xe4\\xbd\\x8d\\xe5\\xad\\xb8\\xe7\\xa8\\x8b</a></li>\\n<li><i class=\"fas fa-greater-than\"></i> <a href=\"https://www.cjcu.edu.tw/bdpt?lang=zh-TW\" target=\"_blank\">\\xe8\\xa7\\x80\\xe5\\x85\\x89\\xe8\\x88\\x87\\xe9\\xa4\\x90\\xe9\\xa3\\xb2\\xe6\\x9c\\x8d\\xe5\\x8b\\x99\\xe4\\xba\\x8b\\xe6\\xa5\\xad\\xe5\\xad\\xb8\\xe5\\xa3\\xab\\xe5\\xad\\xb8\\xe4\\xbd\\x8d\\xe5\\xad\\xb8\\xe7\\xa8\\x8b</a></li>\\n<li><i class=\"fas fa-greater-than\"></i> <a href=\"https://www.cjcu.edu.tw/ipmp?lang=zh-TW\" target=\"_blank\">\\xe7\\xae\\xa1\\xe7\\x90\\x86\\xe5\\xad\\xb8\\xe9\\x99\\xa2\\xe5\\xad\\xb8\\xe5\\xa3\\xab\\xe7\\x8f\\xad\\xe5\\x8e\\x9f\\xe4\\xbd\\x8f\\xe6\\xb0\\x91\\xe5\\xb0\\x88\\xe7\\x8f\\xad</a></li>\\n</ul></ul></div></div>\\n\\r\\n\\t\\t\\t<div id=\"A17\" class=\"tab-content open-list clearfix shadow_block\" style=\"display: none;\" >\\n\\r\\n\\t\\t\\t\\t<div class=\"cleaner padded-b5\"></div>\\n\\r\\n\\t\\t\\t\\t<div class=\"col-sm-12 nopadded clearfix\">\\n\\r\\n\\t\\t\\t\\t\\t<ul class=\"fg-acad-item-sub font110\">\\n\\r\\n\\t\\t\\t\\t\\t\\t<ul>\\n<li><i class=\"fas fa-greater-than\"></i> <a href=\"https://www.cjcu.edu.tw/ib?lang=zh-TW\" target=\"_blank\">\\xe5\\x9c\\x8b\\xe9\\x9a\\x9b\\xe4\\xbc\\x81\\xe6\\xa5\\xad\\xe5\\xad\\xb8\\xe7\\xb3\\xbb</a></li>\\n<li><i class=\"fas fa-greater-than\"></i> <a href=\"https://www.cjcu.edu.tw/ac?lang=zh-TW\" target=\"_blank\">\\xe6\\x9c\\x83\\xe8\\xa8\\x88\\xe8\\xb3\\x87\\xe8\\xa8\\x8a\\xe5\\xad\\xb8\\xe7\\xb3\\xbb</a></li>\\n<li><i class=\"fas fa-greater-than\"></i> <a href=\"https://www.cjcu.edu.tw/finance?lang=zh-TW\" target=\"_blank\">\\xe8\\xb2\\xa1\\xe5\\x8b\\x99\\xe9\\x87\\x91\\xe8\\x9e\\x8d\\xe5\\xad\\xb8\\xe7\\xb3\\xbb</a></li>\\n</ul></ul></div></div>\\n\\r\\n\\t\\t\\t<div id=\"A18\" class=\"tab-content open-list clearfix shadow_block\" style=\"display: none;\" >\\n\\r\\n\\t\\t\\t\\t<div class=\"cleaner padded-b5\"></div>\\n\\r\\n\\t\\t\\t\\t<div class=\"col-sm-12 nopadded clearfix\">\\n\\r\\n\\t\\t\\t\\t\\t<ul class=\"fg-acad-item-sub font110\">\\n\\r\\n\\t\\t\\t\\t\\t\\t<ul>\\n<li><i class=\"fas fa-greater-than\"></i> <a href=\"https://www.cjcu.edu.tw/lim?lang=zh-TW\" target=\"_blank\">\\xe8\\xa7\\x80\\xe5\\x85\\x89\\xe8\\x88\\x87\\xe9\\xa4\\x90\\xe9\\xa3\\xb2\\xe7\\xae\\xa1\\xe7\\x90\\x86\\xe5\\xad\\xb8\\xe7\\xb3\\xbb</a></li>\\n<li><i class=\"fas fa-greater-than\"></i> <a href=\"https://www.cjcu.edu.tw/srm?lang=zh-TW\" target=\"_blank\">\\xe9\\x81\\x8b\\xe5\\x8b\\x95\\xe7\\xab\\xb6\\xe6\\x8a\\x80\\xe5\\xad\\xb8\\xe7\\xb3\\xbb(\\xe9\\x80\\xb2\\xe4\\xbf\\xae\\xe3\\x80\\x81\\xe7\\xa2\\xa9)</a></li>\\n<li><i class=\"fas fa-greater-than\"></i> <a href=\"https://www.cjcu.edu.tw/bdpt?lang=zh-TW\" target=\"_blank\">\\xe8\\xa7\\x80\\xe5\\x85\\x89\\xe8\\x88\\x87\\xe9\\xa4\\x90\\xe9\\xa3\\xb2\\xe6\\x9c\\x8d\\xe5\\x8b\\x99\\xe4\\xba\\x8b\\xe6\\xa5\\xad\\xe5\\xad\\xb8\\xe5\\xa3\\xab\\xe5\\xad\\xb8\\xe4\\xbd\\x8d\\xe5\\xad\\xb8\\xe7\\xa8\\x8b</a></li>\\n</ul></ul></div></div>\\n\\t\\t\\r\\n\\t\\t\\t</li>\\r\\n\\t\\t</ul>\\r\\n\\r\\n\\t<script>\\r\\n\\tfunction openlist(Name) {\\r\\n\\t  var i;\\r\\n\\t  var x = document.getElementsByClassName(\"open-list\");\\r\\n\\t  for (i = 0; i < x.length; i++) {\\r\\n\\t\\tx[i].style.display = \"none\";  \\r\\n\\t  }\\r\\n\\t  document.getElementById(Name).style.display = \"block\"; \\r\\n\\t\\tdocument.getElementById(Name).focus({preventScroll:false}); \\r\\n\\t}\\r\\n\\t\\r\\n\\t/*function openDeptGroup(GroupName) {\\r\\n\\t  var i;\\r\\n\\t  var x = document.getElementsByClassName(\"group-list\");\\r\\n\\t  for (i = 0; i < x.length; i++) {\\r\\n\\t\\tx[i].style.display = \"none\";  \\r\\n\\t  }\\r\\n\\t  document.getElementById(GroupName).style.display = \"block\";  \\r\\n\\t}\\t\\r\\n\\t\\r\\n\\tfunction openDeptKind(KindName) {\\r\\n\\t  var i;\\r\\n\\t  var x = document.getElementsByClassName(\"kind-list\");\\r\\n\\t  for (i = 0; i < x.length; i++) {\\r\\n\\t\\tx[i].style.display = \"none\";  \\r\\n\\t  }\\r\\n\\t  document.getElementById(KindName).style.display = \"block\";  \\r\\n\\t}*/\\r\\n\\t</script>              </div>\\r\\n\\t\\t\\t\\t\\t\\t</div>\\r\\n            <div class=\"cleaner nopadded enable-mobile-xs\"> </div>\\r\\n\\r\\n\\t\\t\\t\\t\\t</li>\\r\\n\\r\\n\\t\\t\\t\\t\\t\\t\\t\\t\\t\\t<li class=\"fg-block loading clearfix\">\\r\\n            <div class=\"width-1400\">\\r\\n              <div class=\"col-md-12 nopadded \">\\r\\n                <h2 class=\"fg-title f-color-gray\"><span>\\xe5\\x85\\xa5\\xe5\\xad\\xb8\\xe8\\xb3\\x87\\xe8\\xa8\\x8a</span></h2></div>\\r\\n              <div class=\"cleaner nopadded enable-mobile-xs enable-mobile-md\"></div> \\r\\n              <div class=\"col-md-12 nopadded \">\\r\\n                \\t\\t<ul>\\r\\n\\t\\t\\t<li class=\"fg-admiss-item padded-10\" >\\r\\n\\t\\t\\t\\t<div class=\"fg-admiss-list nopadded\" >\\r\\n\\t\\t\\t\\t\\t<ul>\\r\\n\\t\\t\\t\\t\\t\\t<li><i class=\"fas fa-graduation-cap\"></i> <a href=\"http://dweb.cjcu.edu.tw/admission/article/1677\" target=\"_blank\">\\xe5\\xa4\\xa7\\xe5\\xad\\xb8\\xe9\\x83\\xa8\\xe5\\x85\\xa5\\xe5\\xad\\xb8\\xe7\\xae\\xa1\\xe9\\x81\\x93</a></li> \\r\\n\\t\\t\\t\\t\\r\\n\\t\\t\\t\\t\\t\\t<div class=\"show-inline padded-l20\">\\r\\n\\t\\t\\t\\t\\t\\t\\t<ul class=\"fg-admiss-list-sub\">\\r\\n\\t\\t\\t\\t\\t\\t\\t\\t<li class=\"color-set-0a\"><a href=\"https://dweb.cjcu.edu.tw/admission/article/2716\" target=\"_blank\">\\xe7\\xb9\\x81\\xe6\\x98\\x9f\\xe5\\x8f\\x8a\\xe5\\x80\\x8b\\xe4\\xba\\xba\\xe7\\x94\\xb3\\xe8\\xab\\x8b</a></li>\\r\\n\\t\\t\\t\\t\\t\\t\\t\\t<li class=\"color-set-0a\"><a href=\"http://www.uac.edu.tw/\" target=\"_blank\">\\xe5\\xa4\\xa7\\xe5\\xad\\xb8\\xe5\\x85\\xa5\\xe5\\xad\\xb8\\xe8\\x80\\x83\\xe8\\xa9\\xa6</a></li>\\r\\n\\t\\t\\t\\t\\t\\t\\t\\t<li class=\"color-set-0a\"><a href=\"http://admission.cjcu.edu.tw/admissions/WebForms/News/NS0010M.aspx?no=04\" target=\"_blank\">\\xe5\\xa4\\xa7\\xe5\\xad\\xb8\\xe7\\x89\\xb9\\xe6\\xae\\x8a\\xe9\\x81\\xb8\\xe6\\x89\\x8d</a></li>\\r\\n\\t\\t\\t\\t\\t\\t\\t\\t<li class=\"color-set-0a\"><a href=\"https://www.jctv.ntut.edu.tw/enter42/s42/\" target=\"_blank\">\\xe5\\x9b\\x9b\\xe6\\x8a\\x80\\xe4\\xba\\x8c\\xe5\\xb0\\x88\\xe7\\x89\\xb9\\xe6\\xae\\x8a\\xe9\\x81\\xb8\\xe6\\x89\\x8d</a></li>\\r\\n\\t\\t\\t\\t\\t\\t\\t\\t<li class=\"color-set-0a\"><a href=\"https://www.jctv.ntut.edu.tw/enter42/apply/\" target=\"_blank\">\\xe5\\x9b\\x9b\\xe6\\x8a\\x80\\xe4\\xba\\x8c\\xe5\\xb0\\x88\\xe7\\x94\\x84\\xe9\\x81\\xb8</a></li>\\r\\n\\t\\t\\t\\t\\t\\t\\t\\t<li class=\"color-set-0a\"><a href=\"https://www.jctv.ntut.edu.tw/enter42/skill/\" target=\"_blank\">\\xe5\\x9b\\x9b\\xe6\\x8a\\x80\\xe4\\xba\\x8c\\xe5\\xb0\\x88\\xe6\\x8a\\x80\\xe5\\x84\\xaa\\xe7\\x94\\x84\\xe5\\xaf\\xa9</a></li>\\r\\n\\t\\t\\t\\t\\t\\t\\t\\t<li class=\"color-set-0a\"><a href=\"https://dweb.cjcu.edu.tw/admission/article/2716\" target=\"_blank\">\\xe9\\x81\\x8b\\xe5\\x8b\\x95\\xe7\\xb8\\xbe\\xe5\\x84\\xaa\\xe7\\x94\\x9f\\xe7\\x94\\x84\\xe5\\xaf\\xa9</a></li>\\r\\n\\t\\t\\t\\t\\t\\t\\t\\t<li class=\"color-set-0a\"><a href=\"https://dweb.cjcu.edu.tw/admission/article/3803\" target=\"_blank\">\\xe9\\x81\\x8b\\xe5\\x8b\\x95\\xe7\\xb8\\xbe\\xe5\\x84\\xaa\\xe7\\x94\\x9f\\xe7\\x8d\\xa8\\xe6\\x8b\\x9b</a></li>\\r\\n\\t\\t\\t\\t\\t\\t\\t\\t<li class=\"color-set-0a\"><a href=\"https://dweb.cjcu.edu.tw/admission/article/4131\" target=\"_blank\">\\xe8\\xba\\xab\\xe5\\xbf\\x83\\xe9\\x9a\\x9c\\xe7\\xa4\\x99\\xe7\\x94\\x9f\\xe7\\x94\\x84\\xe8\\xa9\\xa6</a></li>\\r\\n\\t\\t\\t\\t\\t\\t\\t\\t<li class=\"color-set-0a\"><a href=\"https://dweb.cjcu.edu.tw/admission/article/3804\" target=\"_blank\">\\xe9\\x80\\xb2\\xe4\\xbf\\xae\\xe5\\xad\\xb8\\xe5\\xa3\\xab\\xe7\\x8f\\xad\\xe7\\x94\\x84\\xe5\\xaf\\xa9</a></li>\\r\\n\\t\\t\\t\\t\\t\\t\\t\\t<li class=\"color-set-0a\"><a href=\"https://dweb.cjcu.edu.tw/admission/article/3807\" target=\"_blank\">\\xe9\\x80\\xb2\\xe4\\xbf\\xae\\xe5\\xad\\xb8\\xe5\\xa3\\xab\\xe7\\x8f\\xad\\xe7\\x94\\xb3\\xe8\\xab\\x8b</a></li>\\r\\n\\t\\t\\t\\t\\t\\t\\t</ul>\\r\\n\\t\\t\\t\\t\\t\\t</div>\\r\\n            <div class=\"cleaner\"> </div>\\r\\n\\t\\t\\t\\t\\t\\t\\r\\n\\t\\t\\t\\t\\t\\t\\r\\n\\t\\t\\t\\t\\t\\t<!--<li><i class=\"fas fa-graduation-cap\"></i> <a href=\"https://dweb.cjcu.edu.tw/admission/article/2716\" target=\"_blank\">\\xe7\\xb9\\x81\\xe6\\x98\\x9f\\xe8\\x88\\x87\\xe5\\x80\\x8b\\xe4\\xba\\xba\\xe7\\x94\\xb3\\xe8\\xab\\x8b\\xe6\\x9c\\x8d\\xe5\\x8b\\x99\\xe7\\xb6\\xb2</a></li>-->\\r\\n\\t\\t\\t\\t\\t\\t<li><i class=\"fas fa-graduation-cap\"></i> <a href=\"https://dweb.cjcu.edu.tw/overseas_student\"  target=\"_blank\">\\xe5\\xa2\\x83\\xe5\\xa4\\x96\\xe5\\xad\\xb8\\xe7\\x94\\x9f\\xe5\\x85\\xa5\\xe5\\xad\\xb8 Overseas Students</a></li>\\r\\n\\t\\t\\t\\t\\t\\t<li><i class=\"fas fa-graduation-cap\"></i> <a href=\"http://dweb.cjcu.edu.tw/admission/article/1690\" target=\"_blank\">\\xe8\\xbd\\x89\\xe5\\xad\\xb8\\xe7\\x94\\x9f</a></li>\\r\\n\\t\\t\\t\\t\\t\\t<li><i class=\"fas fa-graduation-cap\"></i> <a href=\"http://dweb.cjcu.edu.tw/admission/article/1689\" target=\"_blank\">\\xe7\\xa2\\xa9\\xe5\\x8d\\x9a\\xe5\\xa3\\xab\\xe7\\x8f\\xad\\xe6\\x8b\\x9b\\xe7\\x94\\x9f</a></li>\\r\\n\\t\\t\\t\\t\\t</ul>\\r\\n\\t\\t\\t\\t</div>\\r\\n\\r\\n\\t\\t\\t</li>\\r\\n\\t\\t\\t<li class=\"fg-admiss-item nopadded\" >\\r\\n\\t\\t\\t\\t<a href=\"https://ioh.tw/school/%E9%95%B7%E6%A6%AE%E5%A4%A7%E5%AD%B8?utm_source=school&utm_medium=referral&utm_campaign=homebanner&utm_content=cjcu\" target=\"_blank\">\\r\\n\\t\\t\\t\\t<img src=\"images/ioh_vs_cjcu.jpg\" alt=\"IOH vs CJCU\" class=\"grayscale\" ></img>\\r\\n\\t\\t\\t\\t</a>\\r\\n\\t\\t\\t</li>\\r\\n\\t\\t\\t<li class=\"fg-admiss-item nopadded\" >\\r\\n\\t\\t\\t\\t<div class=\"video-wrapper \"> \\r\\n\\t\\t\\t\\t\\t<iframe title=\"\\xe9\\x95\\xb7\\xe6\\xa6\\xae\\xe5\\xa4\\xa7\\xe5\\xad\\xb8\\xe7\\xb0\\xa1\\xe4\\xbb\\x8b\\xe5\\xbd\\xb1\\xe7\\x89\\x87\" class=\"grayscale\" src=\"https://www.youtube.com/embed/M2HDBJJhRkY?rel=0&autoplay=0&showinfo=0&vq=highres&rel=0&controls=0\"\\r\\n\\t\\t\\t\\t\\tallowfullscreen frameborder=\"0\" allow=\"encrypted-media\"\\r\\n\\t\\t\\t\\t\\t></iframe> \\r\\n\\t\\t\\t\\t</div>\\r\\n\\t\\t\\t</li>\\r\\n\\t\\t</ul>\\r\\n\\r\\n\\t              </div>\\r\\n            </div>\\r\\n\\t\\t\\t\\t\\t\\t<div class=\"cleaner nopadded enable-mobile-xs\"> </div>\\t\\t\\t\\t\\t\\t\\r\\n\\t\\t\\t\\t\\t</li>\\r\\n\\t\\t\\t\\t\\t\\r\\n\\t\\t\\t\\t\\r\\n\\t\\t\\t\\t\\t\\t\\t\\t\\t\\t<li class=\"fg-block loading clearfix\">\\r\\n            <div class=\"width-1400\">\\r\\n              <div class=\"col-md-6 nopadded \">\\r\\n                <div class=\"col-md-12 nopadded \">\\r\\n                  <h2 class=\"fg-title f-color-gray\"><span>\\xe5\\xaa\\x92\\xe9\\xab\\x94\\xe5\\xa0\\xb1\\xe5\\xb0\\x8e</span></h2></div>\\r\\n                <div class=\"cleaner nopadded enable-mobile-xs enable-mobile-md\"></div> \\r\\n                <div class=\"col-md-12 nopadded \">\\r\\n                  \\t<ul >\\r\\n\\t\\t\\t\\t\\t<li class=\"fg-media-item border-corner-5 padded-5\" >\\r\\n        <div class=\"col-sm-2 col-cj-2\">\\r\\n          <div class=\"nopadded post-date\">\\r\\n            <span class=\"day\">08</span>\\r\\n            <span class=\"month\">Jan</span>\\r\\n            <span class=\"year\">2021</span>\\r\\n          </div>\\r\\n        </div>\\r\\n        <div class=\"col-sm-10 col-cj-10 nopadded\">\\r\\n          <div class=\"font-black font110\">\\r\\n            <a class=\"font-black\" href=\"newsm.php?id=1324\" target=\"_blank\">\\r\\n            \\xe5\\xad\\xb8\\xe7\\xbf\\x92\\xe7\\x84\\xa1\\xe5\\x9c\\x8b\\xe7\\x95\\x8c\\xe3\\x80\\x80\\xe9\\x95\\xb7\\xe6\\xa6\\xae\\xe5\\xa4\\xa7\\xe5\\xad\\xb87\\xe4\\xbd\\x8d\\xe5\\x8d\\xb0\\xe5\\xb0\\xbc\\xe4\\xba\\xa4\\xe6\\x8f\\x9b\\xe7\\x94\\x9f\\xe9\\xa0\\x86\\xe5\\x88\\xa9\\xe7\\xb5\\x90\\xe6\\xa5\\xad(\\xe5\\x8f\\xb0\\xe7\\x81\\xa3\\xe5\\xa5\\xbd\\xe6\\x96\\xb0\\xe8\\x81\\x9e)</a>\\r\\n                          <span class=\"low-profile hidden\">\\xe3\\x80\\x80[37] </span>\\r\\n                      </div>\\r\\n        </div>\\r\\n\\t\\t\\t\\t<div class=\"cleaner nopadded\"></div>\\r\\n\\t\\t\\t</li>\\r\\n\\t\\t\\t\\r\\n\\t\\t\\t\\t\\t<li class=\"fg-media-item border-corner-5 padded-5\" >\\r\\n        <div class=\"col-sm-2 col-cj-2\">\\r\\n          <div class=\"nopadded post-date\">\\r\\n            <span class=\"day\">06</span>\\r\\n            <span class=\"month\">Jan</span>\\r\\n            <span class=\"year\">2021</span>\\r\\n          </div>\\r\\n        </div>\\r\\n        <div class=\"col-sm-10 col-cj-10 nopadded\">\\r\\n          <div class=\"font-black font110\">\\r\\n            <a class=\"font-black\" href=\"newsm.php?id=1323\" target=\"_blank\">\\r\\n            \\xe9\\xa6\\x96\\xe6\\xac\\xa1\\xe8\\xb7\\xa8\\xe5\\x9f\\x9f\\xe5\\xb1\\x95\\xe6\\xbc\\x94\\xe3\\x80\\x80\\xe9\\x95\\xb7\\xe6\\xa6\\xae\\xe5\\xa4\\xa7\\xe5\\xad\\xb8\\xe6\\x96\\xbc\\xe9\\xab\\x98\\xe5\\xb8\\x82\\xe6\\x96\\x87\\xe5\\x8c\\x96\\xe4\\xb8\\xad\\xe5\\xbf\\x83\\xe8\\xbe\\xa6\\xe6\\x95\\x99\\xe6\\x8e\\x88\\xe4\\xbd\\x9c\\xe5\\x93\\x81\\xe8\\x81\\xaf\\xe5\\xb1\\x95(\\xe5\\x8f\\xb0\\xe7\\x81\\xa3\\xe5\\xa5\\xbd\\xe6\\x96\\xb0\\xe8\\x81\\x9e)</a>\\r\\n                          <span class=\"low-profile hidden\">\\xe3\\x80\\x80[53] </span>\\r\\n                      </div>\\r\\n        </div>\\r\\n\\t\\t\\t\\t<div class=\"cleaner nopadded\"></div>\\r\\n\\t\\t\\t</li>\\r\\n\\t\\t\\t\\r\\n\\t\\t\\t\\t\\t<li class=\"fg-media-item border-corner-5 padded-5\" >\\r\\n        <div class=\"col-sm-2 col-cj-2\">\\r\\n          <div class=\"nopadded post-date\">\\r\\n            <span class=\"day\">31</span>\\r\\n            <span class=\"month\">Dec</span>\\r\\n            <span class=\"year\">2020</span>\\r\\n          </div>\\r\\n        </div>\\r\\n        <div class=\"col-sm-10 col-cj-10 nopadded\">\\r\\n          <div class=\"font-black font110\">\\r\\n            <a class=\"font-black\" href=\"newsm.php?id=1321\" target=\"_blank\">\\r\\n            \\xe5\\x90\\x8c\\xe5\\xb1\\xac\\xe4\\xba\\x8c\\xe4\\xbb\\x81\\xe6\\xba\\xaa\\xe6\\xb5\\x81\\xe5\\x9f\\x9f\\xe7\\xb5\\x90\\xe7\\x9b\\x9f 6\\xe8\\xa1\\x8c\\xe6\\x94\\xbf\\xe5\\x8d\\x80\\xe5\\x81\\x95\\xe9\\x95\\xb7\\xe5\\xa4\\xa7 \\xe5\\x85\\xb1\\xe6\\x8e\\xa8\\xe7\\xb6\\xa0\\xe6\\xb4\\xbb\\xe5\\x9c\\x96\\xe6\\x9c\\x88\\xe6\\x9b\\x86(\\xe4\\xb8\\xad\\xe8\\x8f\\xaf\\xe6\\x97\\xa5\\xe5\\xa0\\xb1)</a>\\r\\n                          <span class=\"low-profile hidden\">\\xe3\\x80\\x80[93] </span>\\r\\n                      </div>\\r\\n        </div>\\r\\n\\t\\t\\t\\t<div class=\"cleaner nopadded\"></div>\\r\\n\\t\\t\\t</li>\\r\\n\\t\\t\\t\\r\\n\\t\\t\\t\\t\\t<li class=\"fg-media-item border-corner-5 padded-5\" >\\r\\n        <div class=\"col-sm-2 col-cj-2\">\\r\\n          <div class=\"nopadded post-date\">\\r\\n            <span class=\"day\">31</span>\\r\\n            <span class=\"month\">Dec</span>\\r\\n            <span class=\"year\">2020</span>\\r\\n          </div>\\r\\n        </div>\\r\\n        <div class=\"col-sm-10 col-cj-10 nopadded\">\\r\\n          <div class=\"font-black font110\">\\r\\n            <a class=\"font-black\" href=\"newsm.php?id=1322\" target=\"_blank\">\\r\\n            \\xe6\\x8f\\x90\\xe4\\xbe\\x9b\\xe5\\xad\\xb8\\xe7\\x94\\x9f\\xe5\\x84\\xaa\\xe8\\xb3\\xaa\\xe5\\xaf\\xa6\\xe7\\xbf\\x92\\xe7\\xa9\\xba\\xe9\\x96\\x93\\xe3\\x80\\x80\\xe9\\x95\\xb7\\xe6\\xa6\\xae\\xe5\\xa4\\xa7\\xe5\\xad\\xb8\\xe8\\x98\\xad\\xe8\\x8a\\xb1\\xe6\\x95\\x99\\xe5\\xad\\xb8\\xe6\\xba\\xab\\xe5\\xae\\xa4\\xe5\\x95\\x9f\\xe7\\x94\\xa8(\\xe5\\x8f\\xb0\\xe7\\x81\\xa3\\xe5\\xa5\\xbd\\xe6\\x96\\xb0\\xe8\\x81\\x9e)</a>\\r\\n                          <span class=\"low-profile hidden\">\\xe3\\x80\\x80[52] </span>\\r\\n                      </div>\\r\\n        </div>\\r\\n\\t\\t\\t\\t<div class=\"cleaner nopadded\"></div>\\r\\n\\t\\t\\t</li>\\r\\n\\t\\t\\t\\r\\n\\t\\t\\t\\t\\t<li class=\"fg-media-item border-corner-5 padded-5\" >\\r\\n        <div class=\"col-sm-2 col-cj-2\">\\r\\n          <div class=\"nopadded post-date\">\\r\\n            <span class=\"day\">29</span>\\r\\n            <span class=\"month\">Dec</span>\\r\\n            <span class=\"year\">2020</span>\\r\\n          </div>\\r\\n        </div>\\r\\n        <div class=\"col-sm-10 col-cj-10 nopadded\">\\r\\n          <div class=\"font-black font110\">\\r\\n            <a class=\"font-black\" href=\"newsm.php?id=1320\" target=\"_blank\">\\r\\n            \\xe9\\x95\\xb7\\xe6\\xa6\\xae\\xe5\\xa4\\xa7\\xe5\\xad\\xb8\\xe8\\x98\\xad\\xe8\\x8a\\xb1\\xe6\\x95\\x99\\xe5\\xad\\xb8\\xe6\\xba\\xab\\xe5\\xae\\xa4\\xe6\\x8f\\xad\\xe7\\x89\\x8c(\\xe4\\xb8\\xad\\xe8\\x8f\\xaf\\xe6\\x97\\xa5\\xe5\\xa0\\xb1)</a>\\r\\n                          <span class=\"low-profile hidden\">\\xe3\\x80\\x80[92] </span>\\r\\n                      </div>\\r\\n        </div>\\r\\n\\t\\t\\t\\t<div class=\"cleaner nopadded\"></div>\\r\\n\\t\\t\\t</li>\\r\\n\\t\\t\\t\\r\\n\\t\\t\\t</ul>\\r\\n                </div>\\r\\n                <div class=\"col-md-12 t-right\">\\r\\n                  <i class=\"fas fa-caret-square-down\"></i> \\r\\n                  <a href=\"news.php?id=NEWS\">more...</a>\\r\\n                </div>\\r\\n              </div>\\r\\n              <div class=\"cleaner padded-10 enable-mobile-xs enable-mobile-sm\"> </div>\\r\\n              <div class=\"col-md-6 nopadded \">\\r\\n                <div class=\"col-md-12 nopadded\">\\r\\n                  <h2 class=\"fg-title f-color-gray\"><span>\\xe8\\xa8\\x8a\\xe6\\x81\\xaf\\xe5\\x85\\xac\\xe5\\x91\\x8a</span></h2>\\r\\n                </div>\\r\\n                <div class=\"cleaner nopadded enable-mobile-xs enable-mobile-md\"></div> \\r\\n                <div class=\"col-md-12 padded-tb10 \">\\r\\n                  \\r\\n<!--\\r\\n<span id=\"tab-1\">1</span>\\r\\n<span id=\"tab-2\">2</span>\\r\\n<span id=\"tab-3\">3</span>\\r\\n<span id=\"tab-4\">4</span>\\r\\n<span id=\"tab-5\">5</span>\\r\\n<span id=\"tab-6\">6</span>\\r\\n<span id=\"tab-7\">7</span>\\r\\n<span id=\"tab-8\">8</span>\\r\\n-->\\r\\n\\r\\n\\t<div class=\"news_tab\">\\r\\n\\t\\t\\t\\t<input type=\"radio\" id=\"tab1\" name=\"tabs\" \\r\\n\\t\\t\\tchecked=\"checked\"\\t\\t\\t>\\r\\n\\t\\t\\t<label for=\"tab1\">\\xe6\\xa0\\xa1\\xe5\\x85\\xa7\\xe8\\xa8\\x8a\\xe6\\x81\\xaf</label>\\r\\n\\t\\t\\t\\t\\t\\t<input type=\"radio\" id=\"tab2\" name=\"tabs\" \\r\\n\\t\\t\\t\\t\\t\\t>\\r\\n\\t\\t\\t<label for=\"tab2\">\\xe8\\xac\\x9b\\xe5\\xba\\xa7\\xe6\\xb4\\xbb\\xe5\\x8b\\x95</label>\\r\\n\\t\\t\\t\\t\\t\\t<input type=\"radio\" id=\"tab3\" name=\"tabs\" \\r\\n\\t\\t\\t\\t\\t\\t>\\r\\n\\t\\t\\t<label for=\"tab3\">\\xe6\\x8b\\x9b\\xe7\\x94\\x9f\\xe8\\x80\\x83\\xe8\\xa9\\xa6</label>\\r\\n\\t\\t\\t\\t\\t\\t<input type=\"radio\" id=\"tab4\" name=\"tabs\" \\r\\n\\t\\t\\t\\t\\t\\t>\\r\\n\\t\\t\\t<label for=\"tab4\">\\xe6\\x8e\\xa8\\xe5\\xbb\\xa3\\xe6\\x95\\x99\\xe8\\x82\\xb2</label>\\r\\n\\t\\t\\t\\t\\t\\t<input type=\"radio\" id=\"tab5\" name=\"tabs\" \\r\\n\\t\\t\\t\\t\\t\\t>\\r\\n\\t\\t\\t<label for=\"tab5\">\\xe6\\xa6\\xae\\xe8\\xad\\xbd\\xe6\\xa6\\x9c</label>\\r\\n\\t\\t\\t\\t\\t\\t<input type=\"radio\" id=\"tab6\" name=\"tabs\" \\r\\n\\t\\t\\t\\t\\t\\t>\\r\\n\\t\\t\\t<label for=\"tab6\">\\xe5\\xbe\\xb5\\xe6\\x89\\x8d</label>\\r\\n\\t\\t\\t\\t\\t\\t<input type=\"radio\" id=\"tab7\" name=\"tabs\" \\r\\n\\t\\t\\t\\t\\t\\t>\\r\\n\\t\\t\\t<label for=\"tab7\">\\xe6\\xa0\\xa1\\xe5\\xa4\\x96\\xe8\\xa8\\x8a\\xe6\\x81\\xaf</label>\\r\\n\\t\\t\\t\\t\\t<input type=\"radio\" id=\"tab9\" name=\"tabs\">\\r\\n\\t\\t<label for=\"tab9\">\\xe5\\x85\\xac\\xe6\\x96\\x87\\xe5\\x85\\xac\\xe5\\x91\\x8a</label>\\r\\n\\t\\t\\t\\t\\r\\n\\t\\t\\t<section id=\"content1\">\\r\\n\\t\\t\\t<div class=\"cleaner padded-b5\"></div>\\r\\n\\t\\t\\t\\t\\r\\n\\t\\t\\t\\t\\t\\t\\t\\t\\t<div class=\"col-sm-12 padded-5\">\\r\\n\\t\\t\\t\\t\\t\\t<div class=\"col-sm-2 col-cj-2 nopadded font90\">2021/01/08</div>\\r\\n\\t\\t\\t\\t\\t\\t<div class=\"col-sm-10 col-cj-10 nopadded font-black font110\">\\r\\n              <span class=\"unit-block\">\\r\\n              \\xe3\\x80\\x90\\xe6\\x8e\\xa1\\xe8\\xb3\\xbc\\xe7\\x87\\x9f\\xe7\\xb9\\x95\\xe7\\xb5\\x84\\xe3\\x80\\x91\\r\\n              <!--\\xe3\\x80\\x90 \\xe6\\x8e\\xa1\\xe8\\xb3\\xbc\\xe7\\x87\\x9f\\xe7\\xb9\\x95\\xe7\\xb5\\x84\\xe3\\x80\\x91-->\\r\\n\\t\\t\\t\\t\\t\\t\\t</span>\\r\\n\\r\\n\\t\\t\\t\\t\\t\\t\\t<a href=\"news-detail.php?id=A,15072\" target=\"_blank\">\\r\\n\\t\\t\\t\\t\\t\\t\\t\\xe5\\x85\\xa8\\xe6\\xa0\\xa1\\xe3\\x80\\x8e\\xe5\\x81\\x9c\\xe9\\x9b\\xbb\\xe3\\x80\\x8f \\xe6\\x96\\xbd\\xe4\\xbd\\x9c\\xe9\\xab\\x98\\xe4\\xbd\\x8e\\xe5\\xa3\\x93\\xe8\\xa8\\xad\\xe5\\x82\\x99\\xe4\\xbe\\x8b\\xe8\\xa1\\x8c\\xe4\\xbf\\x9d\\xe9\\xa4\\x8a\\xe4\\xbd\\x9c\\xe6\\xa5\\xad</a>\\r\\n\\t\\t\\t\\t\\t\\t</div>\\r\\n\\t\\t\\t\\t\\t</div>\\r\\n\\t\\t\\t\\t\\t\\t\\t\\t\\t<div class=\"col-sm-12 padded-5\">\\r\\n\\t\\t\\t\\t\\t\\t<div class=\"col-sm-2 col-cj-2 nopadded font90\">2021/01/08</div>\\r\\n\\t\\t\\t\\t\\t\\t<div class=\"col-sm-10 col-cj-10 nopadded font-black font110\">\\r\\n              <span class=\"unit-block\">\\r\\n              \\xe3\\x80\\x90\\xe8\\xaa\\xb2\\xe5\\xa4\\x96\\xe7\\xb5\\x84\\xe3\\x80\\x91\\r\\n              <!--\\xe3\\x80\\x90 \\xe8\\xaa\\xb2\\xe5\\xa4\\x96\\xe6\\xb4\\xbb\\xe5\\x8b\\x95\\xe7\\xb5\\x84\\xe3\\x80\\x91-->\\r\\n\\t\\t\\t\\t\\t\\t\\t</span>\\r\\n\\r\\n\\t\\t\\t\\t\\t\\t\\t<a href=\"news-detail.php?id=A,15069\" target=\"_blank\">\\r\\n\\t\\t\\t\\t\\t\\t\\t\\xe9\\x95\\xb7\\xe6\\xa6\\xae\\xe5\\xa4\\xa7\\xe5\\xad\\xb8110\\xe5\\xb9\\xb42\\xe6\\x9c\\x88\\xe4\\xbb\\xbd\\xe6\\x84\\x9b\\xe7\\x84\\xa1\\xe7\\xa4\\x99\\xe5\\x9f\\xb9\\xe5\\x8a\\x9b\\xe5\\x8a\\xa9\\xe5\\xad\\xb8\\xe8\\xa8\\x88\\xe7\\x95\\xab\\xe8\\x87\\xaa\\xe5\\x8d\\xb3\\xe6\\x97\\xa5\\xe8\\xb5\\xb7\\xe9\\x96\\x8b\\xe6\\x94\\xbe\\xe7\\x94\\xb3\\xe8\\xab\\x8b\\xef\\xbc\\x81(\\xe8\\x87\\xb31/20\\xe6\\x98\\x9f\\xe6\\x9c\\x9f\\xe4\\xb8\\x8923:59)</a>\\r\\n\\t\\t\\t\\t\\t\\t</div>\\r\\n\\t\\t\\t\\t\\t</div>\\r\\n\\t\\t\\t\\t\\t\\t\\t\\t\\t<div class=\"col-sm-12 padded-5\">\\r\\n\\t\\t\\t\\t\\t\\t<div class=\"col-sm-2 col-cj-2 nopadded font90\">2021/01/07</div>\\r\\n\\t\\t\\t\\t\\t\\t<div class=\"col-sm-10 col-cj-10 nopadded font-black font110\">\\r\\n              <span class=\"unit-block\">\\r\\n              \\xe3\\x80\\x90\\xe6\\xb5\\xb7\\xe5\\xa4\\x96\\xe4\\xbc\\x81\\xe6\\xa5\\xad\\xe5\\xaf\\xa6\\xe7\\xbf\\x92\\xe7\\xb5\\x84\\xe3\\x80\\x91\\r\\n              <!--\\xe3\\x80\\x90 \\xe6\\xb5\\xb7\\xe5\\xa4\\x96\\xe4\\xbc\\x81\\xe6\\xa5\\xad\\xe5\\xaf\\xa6\\xe7\\xbf\\x92\\xe7\\xb5\\x84\\xe3\\x80\\x91-->\\r\\n\\t\\t\\t\\t\\t\\t\\t</span>\\r\\n\\r\\n\\t\\t\\t\\t\\t\\t\\t<a href=\"news-detail.php?id=A,15058\" target=\"_blank\">\\r\\n\\t\\t\\t\\t\\t\\t\\t\\xe3\\x80\\x90\\xe5\\x85\\xac\\xe5\\x91\\x8a\\xe3\\x80\\x91109-2\\xe6\\xb5\\xb7\\xe5\\xa4\\x96\\xe5\\xaf\\xa6\\xe7\\xbf\\x92\\xe7\\x94\\x9f\\xe8\\x81\\xb7\\xe5\\x89\\x8d\\xe5\\x9f\\xb9\\xe8\\xa8\\x93\\xe8\\xaa\\xb2\\xe7\\xa8\\x8b\\xe9\\x96\\x8b\\xe6\\x94\\xbe\\xe5\\xa0\\xb1\\xe5\\x90\\x8d</a>\\r\\n\\t\\t\\t\\t\\t\\t</div>\\r\\n\\t\\t\\t\\t\\t</div>\\r\\n\\t\\t\\t\\t\\t\\t\\t\\t\\t<div class=\"col-sm-12 padded-5\">\\r\\n\\t\\t\\t\\t\\t\\t<div class=\"col-sm-2 col-cj-2 nopadded font90\">2021/01/07</div>\\r\\n\\t\\t\\t\\t\\t\\t<div class=\"col-sm-10 col-cj-10 nopadded font-black font110\">\\r\\n              <span class=\"unit-block\">\\r\\n              \\xe3\\x80\\x90\\xe6\\x8e\\xa1\\xe8\\xb3\\xbc\\xe7\\x87\\x9f\\xe7\\xb9\\x95\\xe7\\xb5\\x84\\xe3\\x80\\x91\\r\\n              <!--\\xe3\\x80\\x90 \\xe6\\x8e\\xa1\\xe8\\xb3\\xbc\\xe7\\x87\\x9f\\xe7\\xb9\\x95\\xe7\\xb5\\x84\\xe3\\x80\\x91-->\\r\\n\\t\\t\\t\\t\\t\\t\\t</span>\\r\\n\\r\\n\\t\\t\\t\\t\\t\\t\\t<a href=\"news-detail.php?id=A,15057\" target=\"_blank\">\\r\\n\\t\\t\\t\\t\\t\\t\\t\\xe6\\xb1\\xa1\\xe6\\xb0\\xb4\\xe8\\x99\\x95\\xe7\\x90\\x86\\xe5\\xa0\\xb4\\xe6\\x9d\\xb1\\xe5\\x81\\xb4\\xe6\\xa9\\x9f\\xe8\\xbb\\x8a\\xe5\\x81\\x9c\\xe8\\xbb\\x8a\\xe5\\x8d\\x80\\xe5\\x9c\\xb0\\xe9\\x9d\\xa2\\xe6\\x95\\xb4\\xe5\\xb9\\xb3\\xe5\\xb7\\xa5\\xe7\\xa8\\x8b\\xef\\xbc\\x8c\\xe6\\xa5\\xad\\xe5\\xb7\\xb2\\xe5\\xae\\x8c\\xe5\\xb7\\xa5\\xe4\\xb8\\xa6\\xe6\\x96\\xbc110/1/7\\xe9\\x87\\x8d\\xe6\\x96\\xb0\\xe9\\x96\\x8b\\xe6\\x94\\xbe\\xe5\\x81\\x9c\\xe8\\xbb\\x8a</a>\\r\\n\\t\\t\\t\\t\\t\\t</div>\\r\\n\\t\\t\\t\\t\\t</div>\\r\\n\\t\\t\\t\\t\\t\\t\\t\\t\\t<div class=\"col-sm-12 padded-5\">\\r\\n\\t\\t\\t\\t\\t\\t<div class=\"col-sm-2 col-cj-2 nopadded font90\">2021/01/07</div>\\r\\n\\t\\t\\t\\t\\t\\t<div class=\"col-sm-10 col-cj-10 nopadded font-black font110\">\\r\\n              <span class=\"unit-block\">\\r\\n              \\xe3\\x80\\x90\\xe6\\xb5\\xb7\\xe5\\xa4\\x96\\xe4\\xbc\\x81\\xe6\\xa5\\xad\\xe5\\xaf\\xa6\\xe7\\xbf\\x92\\xe7\\xb5\\x84\\xe3\\x80\\x91\\r\\n              <!--\\xe3\\x80\\x90 \\xe6\\xb5\\xb7\\xe5\\xa4\\x96\\xe4\\xbc\\x81\\xe6\\xa5\\xad\\xe5\\xaf\\xa6\\xe7\\xbf\\x92\\xe7\\xb5\\x84\\xe3\\x80\\x91-->\\r\\n\\t\\t\\t\\t\\t\\t\\t</span>\\r\\n\\r\\n\\t\\t\\t\\t\\t\\t\\t<a href=\"news-detail.php?id=A,15052\" target=\"_blank\">\\r\\n\\t\\t\\t\\t\\t\\t\\t\\xe3\\x80\\x90\\xe8\\xbd\\x89\\xe7\\x9f\\xa5\\xe3\\x80\\x91\\xe3\\x80\\x8c\\xe4\\xba\\x9e\\xe5\\xa4\\xaa\\xe7\\xb6\\x93\\xe6\\xbf\\x9f\\xe5\\x90\\x88\\xe4\\xbd\\x9c\\xe3\\x80\\x8d\\xef\\xbc\\x88APEC\\xef\\xbc\\x89\\xe3\\x80\\x8c\\xe6\\x94\\xbf\\xe7\\xad\\x96\\xe6\\x94\\xaf\\xe6\\x8f\\xb4\\xe5\\xb0\\x8f\\xe7\\xb5\\x84\\xe3\\x80\\x8d\\xef\\xbc\\x88PSU\\xef\\xbc\\x89\\xe5\\xbe\\xb5\\xe8\\x81\\x98\\xe8\\xa5\\xbf\\xe5\\x85\\x832021\\xe5\\xb9\\xb4\\xe5\\xba\\xa6\\xe5\\xaf\\xa6\\xe7\\xbf\\x92\\xe7\\x94\\x9f</a>\\r\\n\\t\\t\\t\\t\\t\\t</div>\\r\\n\\t\\t\\t\\t\\t</div>\\r\\n\\t\\t\\t\\t\\t\\t\\t\\t<div class=\"col-md-12 t-right\">\\r\\n\\t\\t\\t\\t\\t<i class=\"fas fa-caret-square-down\"></i> <a href=\"news.php?id=ALL\">ALL...</a>\\r\\n\\t\\t\\t\\t\\t<i class=\"fas fa-caret-square-down\"></i> <a href=\"news.php?id=A\">more...</a></div>\\t\\t\\r\\n\\t\\t</section>\\r\\n\\r\\n\\t\\t\\t<section id=\"content2\">\\r\\n\\t\\t\\t<div class=\"cleaner padded-b5\"></div>\\r\\n\\t\\t\\t\\t\\r\\n\\t\\t\\t\\t\\t\\t\\t\\t\\t<div class=\"col-sm-12 padded-5\">\\r\\n\\t\\t\\t\\t\\t\\t<div class=\"col-sm-2 col-cj-2 nopadded font90\">2020/12/09</div>\\r\\n\\t\\t\\t\\t\\t\\t<div class=\"col-sm-10 col-cj-10 nopadded font-black font110\">\\r\\n              <span class=\"unit-block\">\\r\\n              \\xe3\\x80\\x90\\xe5\\x9c\\x8b\\xe9\\x9a\\x9b\\xe7\\x8f\\x8d\\xe5\\x8f\\xa4\\xe5\\xbe\\xb7\\xe6\\xa0\\xb9\\xe8\\x88\\x87\\xe8\\x8a\\xbd\\xe7\\x94\\x9f\\xe6\\x85\\x8b\\xe6\\x95\\x99\\xe8\\x82\\xb2\\xe4\\xb8\\xad\\xe5\\xbf\\x83\\xe3\\x80\\x91\\r\\n              <!--\\xe3\\x80\\x90 \\xe5\\x9c\\x8b\\xe9\\x9a\\x9b\\xe7\\x8f\\x8d\\xe5\\x8f\\xa4\\xe5\\xbe\\xb7\\xe6\\xa0\\xb9\\xe8\\x88\\x87\\xe8\\x8a\\xbd\\xe7\\x94\\x9f\\xe6\\x85\\x8b\\xe6\\x95\\x99\\xe8\\x82\\xb2\\xe4\\xb8\\xad\\xe5\\xbf\\x83\\xe3\\x80\\x91-->\\r\\n\\t\\t\\t\\t\\t\\t\\t</span>\\r\\n\\r\\n\\t\\t\\t\\t\\t\\t\\t<a href=\"news-detail.php?id=B,14747\" target=\"_blank\">\\r\\n\\t\\t\\t\\t\\t\\t\\t\\xe3\\x80\\x90\\xe7\\x94\\x9f\\xe6\\x85\\x8b\\xe4\\xb8\\xad\\xe5\\xbf\\x83\\xe8\\xac\\x9b\\xe5\\xba\\xa7\\xe3\\x80\\x9112/23(\\xe4\\xb8\\x89)\\xe7\\x8f\\x8d\\xe5\\x8f\\xa4\\xe5\\xbe\\xb7\\xe5\\x8d\\x9a\\xe5\\xa3\\xab\\xe7\\xb3\\xbb\\xe5\\x88\\x97\\xe8\\xac\\x9b\\xe5\\xba\\xa7\\xef\\xbc\\x9a\\xe6\\xa3\\xae\\xe5\\xa2\\x83\\xe5\\xa4\\xaa\\xe9\\xad\\xaf\\xe9\\x96\\xa3-\\xe8\\xab\\x87\\xe5\\x8f\\xb0\\xe7\\x81\\xa3\\xe7\\x94\\x9f\\xe6\\x85\\x8b</a>\\r\\n\\t\\t\\t\\t\\t\\t</div>\\r\\n\\t\\t\\t\\t\\t</div>\\r\\n\\t\\t\\t\\t\\t\\t\\t\\t\\t<div class=\"col-sm-12 padded-5\">\\r\\n\\t\\t\\t\\t\\t\\t<div class=\"col-sm-2 col-cj-2 nopadded font90\">2020/12/04</div>\\r\\n\\t\\t\\t\\t\\t\\t<div class=\"col-sm-10 col-cj-10 nopadded font-black font110\">\\r\\n              <span class=\"unit-block\">\\r\\n              \\xe3\\x80\\x90\\xe8\\xa1\\x8c\\xe6\\x94\\xbf\\xe6\\x95\\x99\\xe5\\xad\\xb8\\xe7\\xb5\\x84\\xe3\\x80\\x91\\r\\n              <!--\\xe3\\x80\\x90 \\xe5\\x9c\\x96\\xe6\\x9b\\xb8\\xe8\\xb3\\x87\\xe8\\xa8\\x8a\\xe8\\x99\\x95 (\\xe8\\xa8\\x88\\xe7\\xae\\x97\\xe6\\xa9\\x9f\\xe8\\x88\\x87\\xe7\\xb6\\xb2\\xe8\\xb7\\xaf\\xe4\\xb8\\xad\\xe5\\xbf\\x83)\\xe3\\x80\\x91-->\\r\\n\\t\\t\\t\\t\\t\\t\\t</span>\\r\\n\\r\\n\\t\\t\\t\\t\\t\\t\\t<a href=\"news-detail.php?id=B,14649\" target=\"_blank\">\\r\\n\\t\\t\\t\\t\\t\\t\\t\\xe6\\x95\\xac\\xe9\\x82\\x80\\xe5\\x8f\\x83\\xe5\\x8a\\xa0109\\xe5\\xb9\\xb412\\xe6\\x9c\\x8828\\xe6\\x97\\xa5(\\xe4\\xb8\\x80)\\xe3\\x80\\x8c\\xe9\\x99\\x90\\xe6\\x99\\x82\\xe5\\x8b\\x95\\xe6\\x85\\x8b\\xe6\\x8f\\x90\\xe5\\x95\\x8f - \\xe4\\xb8\\x80\\xe8\\xb5\\xb7\\xe4\\xbe\\x86\\xe5\\xa0\\xb4\\xe4\\xb8\\x8b\\xe5\\x8d\\x88\\xe8\\x8c\\xb6\\xe5\\x90\\xa7\\xe3\\x80\\x82\\xe3\\x80\\x8d</a>\\r\\n\\t\\t\\t\\t\\t\\t</div>\\r\\n\\t\\t\\t\\t\\t</div>\\r\\n\\t\\t\\t\\t\\t\\t\\t\\t\\t<div class=\"col-sm-12 padded-5\">\\r\\n\\t\\t\\t\\t\\t\\t<div class=\"col-sm-2 col-cj-2 nopadded font90\">2020/11/10</div>\\r\\n\\t\\t\\t\\t\\t\\t<div class=\"col-sm-10 col-cj-10 nopadded font-black font110\">\\r\\n              <span class=\"unit-block\">\\r\\n              \\xe3\\x80\\x90\\xe8\\x8f\\xaf\\xe8\\xaa\\x9e\\xe6\\x96\\x87\\xe6\\x95\\x99\\xe8\\x82\\xb2\\xe4\\xb8\\xad\\xe5\\xbf\\x83\\xe3\\x80\\x91\\r\\n              <!--\\xe3\\x80\\x90 \\xe8\\x8f\\xaf\\xe8\\xaa\\x9e\\xe6\\x96\\x87\\xe6\\x95\\x99\\xe8\\x82\\xb2\\xe4\\xb8\\xad\\xe5\\xbf\\x83\\xe3\\x80\\x91-->\\r\\n\\t\\t\\t\\t\\t\\t\\t</span>\\r\\n\\r\\n\\t\\t\\t\\t\\t\\t\\t<a href=\"news-detail.php?id=B,14235\" target=\"_blank\">\\r\\n\\t\\t\\t\\t\\t\\t\\t\\xe3\\x80\\x90\\xe8\\xac\\x9b\\xe5\\xba\\xa7\\xe3\\x80\\x91109-1\\xe8\\x8f\\xaf\\xe8\\xaa\\x9e\\xe5\\xbf\\x97\\xe5\\xb7\\xa5\\xe5\\x9f\\xb9\\xe8\\xa8\\x93\\xe8\\xaa\\xb2\\xe7\\xa8\\x8b\\xef\\xbc\\xa9\\xef\\xbc\\x8d\\xe5\\xaa\\xbd\\xe5\\xaa\\xbd\\xe5\\x92\\xaa\\xe5\\x91\\x80\\xef\\xbc\\x81\\xe6\\x80\\x8e\\xe9\\xba\\xbc\\xe5\\xb8\\xb6\\xe5\\xa4\\x96\\xe5\\x9c\\x8b\\xe4\\xba\\xba\\xe7\\x8e\\xa9\\xe5\\x8f\\xb0\\xe5\\x8d\\x97</a>\\r\\n\\t\\t\\t\\t\\t\\t</div>\\r\\n\\t\\t\\t\\t\\t</div>\\r\\n\\t\\t\\t\\t\\t\\t\\t\\t\\t<div class=\"col-sm-12 padded-5\">\\r\\n\\t\\t\\t\\t\\t\\t<div class=\"col-sm-2 col-cj-2 nopadded font90\">2020/11/10</div>\\r\\n\\t\\t\\t\\t\\t\\t<div class=\"col-sm-10 col-cj-10 nopadded font-black font110\">\\r\\n              <span class=\"unit-block\">\\r\\n              \\xe3\\x80\\x90\\xe6\\xb0\\xb8\\xe7\\xba\\x8c\\xe7\\x99\\xbc\\xe5\\xb1\\x95\\xe5\\x9c\\x8b\\xe9\\x9a\\x9b\\xe5\\xad\\xb8\\xe5\\xa3\\xab\\xe5\\xad\\xb8\\xe4\\xbd\\x8d\\xe5\\xad\\xb8\\xe7\\xa8\\x8b\\xe3\\x80\\x91\\r\\n              <!--\\xe3\\x80\\x90 \\xe6\\xb0\\xb8\\xe7\\xba\\x8c\\xe7\\x99\\xbc\\xe5\\xb1\\x95\\xe5\\x9c\\x8b\\xe9\\x9a\\x9b\\xe5\\xad\\xb8\\xe5\\xa3\\xab\\xe5\\xad\\xb8\\xe4\\xbd\\x8d\\xe5\\xad\\xb8\\xe7\\xa8\\x8b\\xe3\\x80\\x91-->\\r\\n\\t\\t\\t\\t\\t\\t\\t</span>\\r\\n\\r\\n\\t\\t\\t\\t\\t\\t\\t<a href=\"news-detail.php?id=B,14226\" target=\"_blank\">\\r\\n\\t\\t\\t\\t\\t\\t\\tForum for Psychological Counseling</a>\\r\\n\\t\\t\\t\\t\\t\\t</div>\\r\\n\\t\\t\\t\\t\\t</div>\\r\\n\\t\\t\\t\\t\\t\\t\\t\\t\\t<div class=\"col-sm-12 padded-5\">\\r\\n\\t\\t\\t\\t\\t\\t<div class=\"col-sm-2 col-cj-2 nopadded font90\">2020/10/08</div>\\r\\n\\t\\t\\t\\t\\t\\t<div class=\"col-sm-10 col-cj-10 nopadded font-black font110\">\\r\\n              <span class=\"unit-block\">\\r\\n              \\xe3\\x80\\x90\\xe6\\x95\\x99\\xe5\\xad\\xb8\\xe5\\x93\\x81\\xe4\\xbf\\x9d\\xe7\\xb5\\x84\\xe3\\x80\\x91\\r\\n              <!--\\xe3\\x80\\x90 \\xe6\\x95\\x99\\xe5\\xad\\xb8\\xe5\\x93\\x81\\xe4\\xbf\\x9d\\xe7\\xb5\\x84\\xe3\\x80\\x91-->\\r\\n\\t\\t\\t\\t\\t\\t\\t</span>\\r\\n\\r\\n\\t\\t\\t\\t\\t\\t\\t<a href=\"news-detail.php?id=B,13683\" target=\"_blank\">\\r\\n\\t\\t\\t\\t\\t\\t\\t\\xe6\\x95\\xac\\xe9\\x82\\x80\\xe5\\x8f\\x83\\xe5\\x8a\\xa0109\\xe5\\xb9\\xb410\\xe6\\x9c\\x8815\\xe6\\x97\\xa5(\\xe5\\x9b\\x9b)\\xe7\\xa8\\x8b\\xe5\\xbc\\x8f\\xe8\\xa8\\xad\\xe8\\xa8\\x88\\xe5\\xb0\\x8e\\xe5\\x85\\xa5\\xe5\\xb0\\x88\\xe6\\xa5\\xad\\xe8\\xaa\\xb2\\xe7\\xa8\\x8b\\xe6\\x95\\x99\\xe5\\xad\\xb8\\xe7\\xb6\\x93\\xe9\\xa9\\x97\\xe5\\x88\\x86\\xe4\\xba\\xab\\xe5\\xba\\xa7\\xe8\\xab\\x87\\xe6\\x9c\\x83(II)</a>\\r\\n\\t\\t\\t\\t\\t\\t</div>\\r\\n\\t\\t\\t\\t\\t</div>\\r\\n\\t\\t\\t\\t\\t\\t\\t\\t<div class=\"col-md-12 t-right\">\\r\\n\\t\\t\\t\\t\\t<i class=\"fas fa-caret-square-down\"></i> <a href=\"news.php?id=ALL\">ALL...</a>\\r\\n\\t\\t\\t\\t\\t<i class=\"fas fa-caret-square-down\"></i> <a href=\"news.php?id=B\">more...</a></div>\\t\\t\\r\\n\\t\\t</section>\\r\\n\\r\\n\\t\\t\\t<section id=\"content3\">\\r\\n\\t\\t\\t<div class=\"cleaner padded-b5\"></div>\\r\\n\\t\\t\\t\\t\\r\\n\\t\\t\\t\\t\\t\\t\\t\\t\\t<div class=\"col-sm-12 padded-5\">\\r\\n\\t\\t\\t\\t\\t\\t<div class=\"col-sm-2 col-cj-2 nopadded font90\">2020/09/14</div>\\r\\n\\t\\t\\t\\t\\t\\t<div class=\"col-sm-10 col-cj-10 nopadded font-black font110\">\\r\\n              <span class=\"unit-block\">\\r\\n              \\xe3\\x80\\x90\\xe6\\x95\\x99\\xe5\\xb8\\xab\\xe7\\x99\\xbc\\xe5\\xb1\\x95\\xe7\\xb5\\x84\\xe3\\x80\\x91\\r\\n              <!--\\xe3\\x80\\x90 \\xe6\\x95\\x99\\xe5\\xb8\\xab\\xe7\\x99\\xbc\\xe5\\xb1\\x95\\xe7\\xb5\\x84\\xe3\\x80\\x91-->\\r\\n\\t\\t\\t\\t\\t\\t\\t</span>\\r\\n\\r\\n\\t\\t\\t\\t\\t\\t\\t<a href=\"news-detail.php?id=C,13268\" target=\"_blank\">\\r\\n\\t\\t\\t\\t\\t\\t\\t109\\xe5\\xb9\\xb4\\xe6\\x95\\xb8\\xe4\\xbd\\x8d\\xe5\\xad\\xb8\\xe4\\xbc\\xb4\\xe8\\xa8\\x88\\xe7\\x95\\xab__109-1 \\xe5\\xa4\\xa7\\xe5\\xad\\xb8\\xe4\\xbc\\xb4\\xe6\\x8b\\x9b\\xe5\\x8b\\x9f\\xe8\\xaa\\xaa\\xe6\\x98\\x8e</a>\\r\\n\\t\\t\\t\\t\\t\\t</div>\\r\\n\\t\\t\\t\\t\\t</div>\\r\\n\\t\\t\\t\\t\\t\\t\\t\\t\\t<div class=\"col-sm-12 padded-5\">\\r\\n\\t\\t\\t\\t\\t\\t<div class=\"col-sm-2 col-cj-2 nopadded font90\">2020/03/06</div>\\r\\n\\t\\t\\t\\t\\t\\t<div class=\"col-sm-10 col-cj-10 nopadded font-black font110\">\\r\\n              <span class=\"unit-block\">\\r\\n              \\xe3\\x80\\x90\\xe9\\x81\\x8b\\xe6\\x8a\\x80\\xe7\\xb3\\xbb(\\xe7\\xa2\\xa9)\\xe3\\x80\\x91\\r\\n              <!--\\xe3\\x80\\x90 \\xe9\\x81\\x8b\\xe5\\x8b\\x95\\xe7\\xab\\xb6\\xe6\\x8a\\x80\\xe5\\xad\\xb8\\xe7\\xb3\\xbb\\xe3\\x80\\x91-->\\r\\n\\t\\t\\t\\t\\t\\t\\t</span>\\r\\n\\r\\n\\t\\t\\t\\t\\t\\t\\t<a href=\"news-detail.php?id=C,10655\" target=\"_blank\">\\r\\n\\t\\t\\t\\t\\t\\t\\t\\xe6\\x9c\\xac\\xe6\\xa0\\xa1109 \\xe5\\xad\\xb8\\xe5\\xb9\\xb4\\xe5\\xba\\xa6\\xe9\\x87\\x8d\\xe9\\xbb\\x9e\\xe9\\x81\\x8b\\xe5\\x8b\\x95\\xe9\\xa0\\x85\\xe7\\x9b\\xae\\xe7\\xb8\\xbe\\xe5\\x84\\xaa\\xe5\\xad\\xb8\\xe7\\x94\\x9f\\xe5\\x96\\xae\\xe7\\x8d\\xa8\\xe6\\x8b\\x9b\\xe7\\x94\\x9f\\xe4\\xb9\\x8b\\xe6\\xb3\\xa8\\xe6\\x84\\x8f\\xe4\\xba\\x8b\\xe9\\xa0\\x85\\xe5\\x8f\\x8a\\xe5\\xa0\\xb1\\xe5\\x88\\xb0\\xe6\\x99\\x82\\xe9\\x96\\x93</a>\\r\\n\\t\\t\\t\\t\\t\\t</div>\\r\\n\\t\\t\\t\\t\\t</div>\\r\\n\\t\\t\\t\\t\\t\\t\\t\\t\\t<div class=\"col-sm-12 padded-5\">\\r\\n\\t\\t\\t\\t\\t\\t<div class=\"col-sm-2 col-cj-2 nopadded font90\">2020/02/13</div>\\r\\n\\t\\t\\t\\t\\t\\t<div class=\"col-sm-10 col-cj-10 nopadded font-black font110\">\\r\\n              <span class=\"unit-block\">\\r\\n              \\xe3\\x80\\x90\\xe5\\x85\\xa5\\xe5\\xad\\xb8\\xe6\\x9c\\x8d\\xe5\\x8b\\x99\\xe8\\x99\\x95\\xe3\\x80\\x91\\r\\n              <!--\\xe3\\x80\\x90 \\xe5\\x85\\xa5\\xe5\\xad\\xb8\\xe6\\x9c\\x8d\\xe5\\x8b\\x99\\xe8\\x99\\x95\\xe3\\x80\\x91-->\\r\\n\\t\\t\\t\\t\\t\\t\\t</span>\\r\\n\\r\\n\\t\\t\\t\\t\\t\\t\\t<a href=\"news-detail.php?id=C,10319\" target=\"_blank\">\\r\\n\\t\\t\\t\\t\\t\\t\\t109\\xe5\\xad\\xb8\\xe5\\xb9\\xb4\\xe5\\xba\\xa6\\xe7\\xa7\\x91\\xe6\\x8a\\x80\\xe6\\xa0\\xa1\\xe9\\x99\\xa2\\xe5\\x9b\\x9b\\xe5\\xb9\\xb4\\xe5\\x88\\xb6\\xe5\\x8f\\x8a\\xe5\\xb0\\x88\\xe7\\xa7\\x91\\xe5\\xad\\xb8\\xe6\\xa0\\xa1\\xe4\\xba\\x8c\\xe5\\xb9\\xb4\\xe5\\x88\\xb6\\xe7\\x89\\xb9\\xe6\\xae\\x8a\\xe9\\x81\\xb8\\xe6\\x89\\x8d\\xe5\\x85\\xa5\\xe5\\xad\\xb8\\xe8\\x81\\xaf\\xe5\\x90\\x88\\xe6\\x8b\\x9b\\xe7\\x94\\x9f\\xe7\\x94\\x84\\xe5\\xaf\\xa9\\xe7\\xb5\\x90\\xe6\\x9e\\x9c\\xe5\\x85\\xac\\xe5\\x91\\x8a</a>\\r\\n\\t\\t\\t\\t\\t\\t</div>\\r\\n\\t\\t\\t\\t\\t</div>\\r\\n\\t\\t\\t\\t\\t\\t\\t\\t\\t<div class=\"col-sm-12 padded-5\">\\r\\n\\t\\t\\t\\t\\t\\t<div class=\"col-sm-2 col-cj-2 nopadded font90\">2020/02/13</div>\\r\\n\\t\\t\\t\\t\\t\\t<div class=\"col-sm-10 col-cj-10 nopadded font-black font110\">\\r\\n              <span class=\"unit-block\">\\r\\n              \\xe3\\x80\\x90\\xe5\\x85\\xa5\\xe5\\xad\\xb8\\xe6\\x9c\\x8d\\xe5\\x8b\\x99\\xe8\\x99\\x95\\xe3\\x80\\x91\\r\\n              <!--\\xe3\\x80\\x90 \\xe5\\x85\\xa5\\xe5\\xad\\xb8\\xe6\\x9c\\x8d\\xe5\\x8b\\x99\\xe8\\x99\\x95\\xe3\\x80\\x91-->\\r\\n\\t\\t\\t\\t\\t\\t\\t</span>\\r\\n\\r\\n\\t\\t\\t\\t\\t\\t\\t<a href=\"news-detail.php?id=C,10312\" target=\"_blank\">\\r\\n\\t\\t\\t\\t\\t\\t\\t\\xe6\\xad\\xa1\\xe8\\xbf\\x8e\\xe5\\xa0\\xb1\\xe5\\x90\\x8d109\\xe5\\xad\\xb8\\xe5\\xb9\\xb4\\xe5\\xba\\xa6\\xe5\\x8d\\x9a\\xe7\\xa2\\xa9\\xe5\\xa3\\xab\\xe7\\x8f\\xad\\xe8\\x80\\x83\\xe8\\xa9\\xa6\\xe5\\x85\\xa5\\xe5\\xad\\xb8</a>\\r\\n\\t\\t\\t\\t\\t\\t</div>\\r\\n\\t\\t\\t\\t\\t</div>\\r\\n\\t\\t\\t\\t\\t\\t\\t\\t\\t<div class=\"col-sm-12 padded-5\">\\r\\n\\t\\t\\t\\t\\t\\t<div class=\"col-sm-2 col-cj-2 nopadded font90\">2020/01/16</div>\\r\\n\\t\\t\\t\\t\\t\\t<div class=\"col-sm-10 col-cj-10 nopadded font-black font110\">\\r\\n              <span class=\"unit-block\">\\r\\n              \\xe3\\x80\\x90\\xe5\\x85\\xa5\\xe5\\xad\\xb8\\xe6\\x9c\\x8d\\xe5\\x8b\\x99\\xe8\\x99\\x95\\xe3\\x80\\x91\\r\\n              <!--\\xe3\\x80\\x90 \\xe5\\x85\\xa5\\xe5\\xad\\xb8\\xe6\\x9c\\x8d\\xe5\\x8b\\x99\\xe8\\x99\\x95\\xe3\\x80\\x91-->\\r\\n\\t\\t\\t\\t\\t\\t\\t</span>\\r\\n\\r\\n\\t\\t\\t\\t\\t\\t\\t<a href=\"news-detail.php?id=C,10058\" target=\"_blank\">\\r\\n\\t\\t\\t\\t\\t\\t\\t109\\xe5\\xad\\xb8\\xe5\\xb9\\xb4\\xe5\\xba\\xa6\\xe5\\x9b\\x9b\\xe6\\x8a\\x80\\xe4\\xba\\x8c\\xe5\\xb0\\x88\\xe7\\x89\\xb9\\xe6\\xae\\x8a\\xe9\\x81\\xb8\\xe6\\x89\\x8d\\xe7\\xac\\xac\\xe4\\xba\\x8c\\xe9\\x9a\\x8e\\xe6\\xae\\xb5\\xe9\\x9d\\xa2\\xe8\\xa9\\xa6\\xe8\\xb3\\x87\\xe8\\xa8\\x8a\\xe5\\x85\\xac\\xe5\\x91\\x8a</a>\\r\\n\\t\\t\\t\\t\\t\\t</div>\\r\\n\\t\\t\\t\\t\\t</div>\\r\\n\\t\\t\\t\\t\\t\\t\\t\\t<div class=\"col-md-12 t-right\">\\r\\n\\t\\t\\t\\t\\t<i class=\"fas fa-caret-square-down\"></i> <a href=\"news.php?id=ALL\">ALL...</a>\\r\\n\\t\\t\\t\\t\\t<i class=\"fas fa-caret-square-down\"></i> <a href=\"news.php?id=C\">more...</a></div>\\t\\t\\r\\n\\t\\t</section>\\r\\n\\r\\n\\t\\t\\t<section id=\"content4\">\\r\\n\\t\\t\\t<div class=\"cleaner padded-b5\"></div>\\r\\n\\t\\t\\t\\t\\r\\n\\t\\t\\t\\t\\t\\t\\t\\t\\t<div class=\"col-sm-12 padded-5\">\\r\\n\\t\\t\\t\\t\\t\\t<div class=\"col-sm-2 col-cj-2 nopadded font90\">2020/11/26</div>\\r\\n\\t\\t\\t\\t\\t\\t<div class=\"col-sm-10 col-cj-10 nopadded font-black font110\">\\r\\n              <span class=\"unit-block\">\\r\\n              \\xe3\\x80\\x90\\xe6\\x8e\\xa8\\xe6\\x95\\x99\\xe4\\xb8\\xad\\xe5\\xbf\\x83\\xe3\\x80\\x91\\r\\n              <!--\\xe3\\x80\\x90 \\xe6\\x8e\\xa8\\xe5\\xbb\\xa3\\xe6\\x95\\x99\\xe8\\x82\\xb2\\xe4\\xb8\\xad\\xe5\\xbf\\x83\\xe3\\x80\\x91-->\\r\\n\\t\\t\\t\\t\\t\\t\\t</span>\\r\\n\\r\\n\\t\\t\\t\\t\\t\\t\\t<a href=\"news-detail.php?id=D,14491\" target=\"_blank\">\\r\\n\\t\\t\\t\\t\\t\\t\\t1091205TQC\\xe9\\x9b\\xbb\\xe8\\x85\\xa6\\xe6\\x8a\\x80\\xe8\\x83\\xbd\\xe8\\xaa\\x8d\\xe8\\xad\\x89\\xe8\\x80\\x83\\xe5\\xa0\\xb4\\xe5\\x85\\xac\\xe5\\x91\\x8a</a>\\r\\n\\t\\t\\t\\t\\t\\t</div>\\r\\n\\t\\t\\t\\t\\t</div>\\r\\n\\t\\t\\t\\t\\t\\t\\t\\t\\t<div class=\"col-sm-12 padded-5\">\\r\\n\\t\\t\\t\\t\\t\\t<div class=\"col-sm-2 col-cj-2 nopadded font90\">2020/10/19</div>\\r\\n\\t\\t\\t\\t\\t\\t<div class=\"col-sm-10 col-cj-10 nopadded font-black font110\">\\r\\n              <span class=\"unit-block\">\\r\\n              \\xe3\\x80\\x90\\xe8\\xaa\\x9e\\xe6\\x96\\x87\\xe4\\xb8\\xad\\xe5\\xbf\\x83\\xe3\\x80\\x91\\r\\n              <!--\\xe3\\x80\\x90 \\xe8\\xaa\\x9e\\xe6\\x96\\x87\\xe6\\x95\\x99\\xe8\\x82\\xb2\\xe4\\xb8\\xad\\xe5\\xbf\\x83 Language Education Center\\xe3\\x80\\x91-->\\r\\n\\t\\t\\t\\t\\t\\t\\t</span>\\r\\n\\r\\n\\t\\t\\t\\t\\t\\t\\t<a href=\"news-detail.php?id=D,13826\" target=\"_blank\">\\r\\n\\t\\t\\t\\t\\t\\t\\tTOEIC \\xe6\\xa0\\xa1\\xe5\\x9c\\x92\\xe8\\x80\\x8311/28(\\xe5\\x85\\xad) \\xef\\xbc\\x8c\\xe5\\x8f\\xaf\\xe7\\xb7\\x9a\\xe4\\xb8\\x8a\\xe5\\xa0\\xb1\\xe5\\x90\\x8d</a>\\r\\n\\t\\t\\t\\t\\t\\t</div>\\r\\n\\t\\t\\t\\t\\t</div>\\r\\n\\t\\t\\t\\t\\t\\t\\t\\t\\t<div class=\"col-sm-12 padded-5\">\\r\\n\\t\\t\\t\\t\\t\\t<div class=\"col-sm-2 col-cj-2 nopadded font90\">2020/09/16</div>\\r\\n\\t\\t\\t\\t\\t\\t<div class=\"col-sm-10 col-cj-10 nopadded font-black font110\">\\r\\n              <span class=\"unit-block\">\\r\\n              \\xe3\\x80\\x90\\xe6\\x8e\\xa8\\xe6\\x95\\x99\\xe4\\xb8\\xad\\xe5\\xbf\\x83\\xe3\\x80\\x91\\r\\n              <!--\\xe3\\x80\\x90 \\xe6\\x8e\\xa8\\xe5\\xbb\\xa3\\xe6\\x95\\x99\\xe8\\x82\\xb2\\xe4\\xb8\\xad\\xe5\\xbf\\x83\\xe3\\x80\\x91-->\\r\\n\\t\\t\\t\\t\\t\\t\\t</span>\\r\\n\\r\\n\\t\\t\\t\\t\\t\\t\\t<a href=\"news-detail.php?id=D,13323\" target=\"_blank\">\\r\\n\\t\\t\\t\\t\\t\\t\\t109\\xe5\\xad\\xb8\\xe5\\xb9\\xb4\\xe5\\xba\\xa6\\xe7\\xac\\xac\\xe4\\xb8\\x80\\xe5\\xad\\xb8\\xe6\\x9c\\x9fTQC\\xe9\\x9b\\xbb\\xe8\\x85\\xa6\\xe6\\x8a\\x80\\xe8\\x83\\xbd\\xe6\\xaa\\xa2\\xe5\\xae\\x9a\\xef\\xbc\\x8c\\xe9\\x96\\x8b\\xe5\\xa7\\x8b\\xe5\\xa0\\xb1\\xe5\\x90\\x8d~</a>\\r\\n\\t\\t\\t\\t\\t\\t</div>\\r\\n\\t\\t\\t\\t\\t</div>\\r\\n\\t\\t\\t\\t\\t\\t\\t\\t\\t<div class=\"col-sm-12 padded-5\">\\r\\n\\t\\t\\t\\t\\t\\t<div class=\"col-sm-2 col-cj-2 nopadded font90\">2020/07/31</div>\\r\\n\\t\\t\\t\\t\\t\\t<div class=\"col-sm-10 col-cj-10 nopadded font-black font110\">\\r\\n              <span class=\"unit-block\">\\r\\n              \\xe3\\x80\\x90\\xe5\\xaa\\x92\\xe9\\xab\\x94\\xe7\\xb3\\xbb\\xe3\\x80\\x91\\r\\n              <!--\\xe3\\x80\\x90 \\xe5\\xaa\\x92\\xe9\\xab\\x94\\xe8\\xa8\\xad\\xe8\\xa8\\x88\\xe7\\xa7\\x91\\xe6\\x8a\\x80\\xe5\\xad\\xb8\\xe7\\xb3\\xbb\\xe3\\x80\\x91-->\\r\\n\\t\\t\\t\\t\\t\\t\\t</span>\\r\\n\\r\\n\\t\\t\\t\\t\\t\\t\\t<a href=\"news-detail.php?id=D,12774\" target=\"_blank\">\\r\\n\\t\\t\\t\\t\\t\\t\\tXR\\xe4\\xba\\x92\\xe5\\x8b\\x95\\xe5\\xa4\\x9a\\xe5\\xaa\\x92\\xe9\\xab\\x94\\xe6\\x95\\xb8\\xe4\\xbd\\x8d\\xe5\\x85\\xa7\\xe5\\xae\\xb9\\xe9\\x96\\x8b\\xe7\\x99\\xbc\\xe4\\xba\\xba\\xe6\\x89\\x8d\\xe5\\x9f\\xb9\\xe8\\xa8\\x93\\xe7\\x8f\\xad8/2\\xe6\\x88\\xaa\\xe6\\xad\\xa2\\xe5\\xa0\\xb1\\xe5\\x90\\x8d</a>\\r\\n\\t\\t\\t\\t\\t\\t</div>\\r\\n\\t\\t\\t\\t\\t</div>\\r\\n\\t\\t\\t\\t\\t\\t\\t\\t\\t<div class=\"col-sm-12 padded-5\">\\r\\n\\t\\t\\t\\t\\t\\t<div class=\"col-sm-2 col-cj-2 nopadded font90\">2020/06/10</div>\\r\\n\\t\\t\\t\\t\\t\\t<div class=\"col-sm-10 col-cj-10 nopadded font-black font110\">\\r\\n              <span class=\"unit-block\">\\r\\n              \\xe3\\x80\\x90\\xe6\\x8e\\xa8\\xe6\\x95\\x99\\xe4\\xb8\\xad\\xe5\\xbf\\x83\\xe3\\x80\\x91\\r\\n              <!--\\xe3\\x80\\x90 \\xe6\\x8e\\xa8\\xe5\\xbb\\xa3\\xe6\\x95\\x99\\xe8\\x82\\xb2\\xe4\\xb8\\xad\\xe5\\xbf\\x83\\xe3\\x80\\x91-->\\r\\n\\t\\t\\t\\t\\t\\t\\t</span>\\r\\n\\r\\n\\t\\t\\t\\t\\t\\t\\t<a href=\"news-detail.php?id=D,12070\" target=\"_blank\">\\r\\n\\t\\t\\t\\t\\t\\t\\t1090620TQC\\xe9\\x9b\\xbb\\xe8\\x85\\xa6\\xe6\\x8a\\x80\\xe8\\x83\\xbd\\xe8\\xaa\\x8d\\xe8\\xad\\x89\\xe8\\x80\\x83\\xe5\\xa0\\xb4\\xe5\\x85\\xac\\xe5\\x91\\x8a</a>\\r\\n\\t\\t\\t\\t\\t\\t</div>\\r\\n\\t\\t\\t\\t\\t</div>\\r\\n\\t\\t\\t\\t\\t\\t\\t\\t<div class=\"col-md-12 t-right\">\\r\\n\\t\\t\\t\\t\\t<i class=\"fas fa-caret-square-down\"></i> <a href=\"news.php?id=ALL\">ALL...</a>\\r\\n\\t\\t\\t\\t\\t<i class=\"fas fa-caret-square-down\"></i> <a href=\"news.php?id=D\">more...</a></div>\\t\\t\\r\\n\\t\\t</section>\\r\\n\\r\\n\\t\\t\\t<section id=\"content5\">\\r\\n\\t\\t\\t<div class=\"cleaner padded-b5\"></div>\\r\\n\\t\\t\\t\\t\\r\\n\\t\\t\\t\\t\\t\\t\\t\\t\\t<div class=\"col-sm-12 padded-5\">\\r\\n\\t\\t\\t\\t\\t\\t<div class=\"col-sm-2 col-cj-2 nopadded font90\">2020/12/30</div>\\r\\n\\t\\t\\t\\t\\t\\t<div class=\"col-sm-10 col-cj-10 nopadded font-black font110\">\\r\\n              <span class=\"unit-block\">\\r\\n              \\xe3\\x80\\x90\\xe5\\xaa\\x92\\xe9\\xab\\x94\\xe7\\xb3\\xbb\\xe3\\x80\\x91\\r\\n              <!--\\xe3\\x80\\x90 \\xe5\\xaa\\x92\\xe9\\xab\\x94\\xe8\\xa8\\xad\\xe8\\xa8\\x88\\xe7\\xa7\\x91\\xe6\\x8a\\x80\\xe5\\xad\\xb8\\xe7\\xb3\\xbb\\xe3\\x80\\x91-->\\r\\n\\t\\t\\t\\t\\t\\t\\t</span>\\r\\n\\r\\n\\t\\t\\t\\t\\t\\t\\t<a href=\"news-detail.php?id=E,15005\" target=\"_blank\">\\r\\n\\t\\t\\t\\t\\t\\t\\t\\xe8\\xb3\\x80 \\xe6\\x9c\\xac\\xe7\\xb3\\xbb\\xe5\\xbb\\xa3\\xe5\\x91\\x8a\\xe7\\x89\\x87\\xe8\\xa3\\xbd\\xe4\\xbd\\x9c\\xe8\\xaa\\xb2\\xe7\\xa8\\x8b\\xe5\\xad\\xb8\\xe7\\x94\\x9f\\xe4\\xbd\\x9c\\xe5\\x93\\x81\\xe3\\x80\\x8c\\xe6\\x88\\x91\\xe3\\x80\\x8e\\xe6\\x8c\\xba\\xe3\\x80\\x8f\\xe6\\x9c\\x89\\xe6\\xa9\\x9f\\xe3\\x80\\x8d\\xe6\\xa6\\xae\\xe7\\x8d\\xb2 \\xe4\\xbd\\xb3\\xe4\\xbd\\x9c</a>\\r\\n\\t\\t\\t\\t\\t\\t</div>\\r\\n\\t\\t\\t\\t\\t</div>\\r\\n\\t\\t\\t\\t\\t\\t\\t\\t\\t<div class=\"col-sm-12 padded-5\">\\r\\n\\t\\t\\t\\t\\t\\t<div class=\"col-sm-2 col-cj-2 nopadded font90\">2020/12/22</div>\\r\\n\\t\\t\\t\\t\\t\\t<div class=\"col-sm-10 col-cj-10 nopadded font-black font110\">\\r\\n              <span class=\"unit-block\">\\r\\n              \\xe3\\x80\\x90\\xe5\\xaa\\x92\\xe9\\xab\\x94\\xe7\\xb3\\xbb\\xe3\\x80\\x91\\r\\n              <!--\\xe3\\x80\\x90 \\xe5\\xaa\\x92\\xe9\\xab\\x94\\xe8\\xa8\\xad\\xe8\\xa8\\x88\\xe7\\xa7\\x91\\xe6\\x8a\\x80\\xe5\\xad\\xb8\\xe7\\xb3\\xbb\\xe3\\x80\\x91-->\\r\\n\\t\\t\\t\\t\\t\\t\\t</span>\\r\\n\\r\\n\\t\\t\\t\\t\\t\\t\\t<a href=\"news-detail.php?id=E,14927\" target=\"_blank\">\\r\\n\\t\\t\\t\\t\\t\\t\\t\\xe9\\x95\\xb7\\xe6\\xa6\\xae\\xe5\\xa4\\xa7\\xe5\\xad\\xb8\\xe5\\xaa\\x92\\xe9\\xab\\x94\\xe8\\xa8\\xad\\xe8\\xa8\\x88\\xe7\\xa7\\x91\\xe6\\x8a\\x80\\xe5\\xad\\xb8\\xe7\\xb3\\xbb\\xe5\\xad\\xb8\\xe7\\x94\\x9f\\xe5\\x8f\\x83\\xe5\\x8a\\xa0\\xe7\\xac\\xac29\\xe5\\xb1\\x86\\xe9\\x87\\x91\\xe7\\x8a\\xa2\\xe7\\x8d\\x8e\\xe5\\x84\\xaa\\xe7\\xa7\\x80\\xe8\\xa1\\xa8\\xe7\\x8f\\xbe</a>\\r\\n\\t\\t\\t\\t\\t\\t</div>\\r\\n\\t\\t\\t\\t\\t</div>\\r\\n\\t\\t\\t\\t\\t\\t\\t\\t\\t<div class=\"col-sm-12 padded-5\">\\r\\n\\t\\t\\t\\t\\t\\t<div class=\"col-sm-2 col-cj-2 nopadded font90\">2020/11/30</div>\\r\\n\\t\\t\\t\\t\\t\\t<div class=\"col-sm-10 col-cj-10 nopadded font-black font110\">\\r\\n              <span class=\"unit-block\">\\r\\n              \\xe3\\x80\\x90\\xe8\\xa7\\x80\\xe9\\xa4\\x90\\xe7\\xb3\\xbb\\xe3\\x80\\x91\\r\\n              <!--\\xe3\\x80\\x90 \\xe8\\xa7\\x80\\xe5\\x85\\x89\\xe8\\x88\\x87\\xe9\\xa4\\x90\\xe9\\xa3\\xb2\\xe7\\xae\\xa1\\xe7\\x90\\x86\\xe5\\xad\\xb8\\xe7\\xb3\\xbb\\xe3\\x80\\x91-->\\r\\n\\t\\t\\t\\t\\t\\t\\t</span>\\r\\n\\r\\n\\t\\t\\t\\t\\t\\t\\t<a href=\"news-detail.php?id=E,14544\" target=\"_blank\">\\r\\n\\t\\t\\t\\t\\t\\t\\t\\xe8\\xa7\\x80\\xe9\\xa4\\x90\\xe7\\xb3\\xbb\\xe5\\xad\\xb8\\xe7\\x94\\x9f\\xe8\\x90\\xbd\\xe5\\xaf\\xa6\\xe5\\xa4\\xa7\\xe5\\xad\\xb8\\xe7\\xa4\\xbe\\xe6\\x9c\\x83\\xe8\\xb2\\xac\\xe4\\xbb\\xbb_\\xe9\\x81\\x87\\xe8\\xa6\\x8b\\xe6\\x96\\xb0\\xe5\\x8c\\x96\\xe4\\xba\\x94\\xe5\\xaf\\xb6!!</a>\\r\\n\\t\\t\\t\\t\\t\\t</div>\\r\\n\\t\\t\\t\\t\\t</div>\\r\\n\\t\\t\\t\\t\\t\\t\\t\\t\\t<div class=\"col-sm-12 padded-5\">\\r\\n\\t\\t\\t\\t\\t\\t<div class=\"col-sm-2 col-cj-2 nopadded font90\">2020/11/27</div>\\r\\n\\t\\t\\t\\t\\t\\t<div class=\"col-sm-10 col-cj-10 nopadded font-black font110\">\\r\\n              <span class=\"unit-block\">\\r\\n              \\xe3\\x80\\x90\\xe8\\x81\\xb7\\xe6\\xb6\\xaf\\xe4\\xb8\\xad\\xe5\\xbf\\x83\\xe3\\x80\\x91\\r\\n              <!--\\xe3\\x80\\x90 \\xe8\\x81\\xb7\\xe6\\xb6\\xaf\\xe7\\x99\\xbc\\xe5\\xb1\\x95\\xe8\\x88\\x87\\xe6\\xa0\\xa1\\xe5\\x8f\\x8b\\xe4\\xb8\\xad\\xe5\\xbf\\x83\\xe3\\x80\\x91-->\\r\\n\\t\\t\\t\\t\\t\\t\\t</span>\\r\\n\\r\\n\\t\\t\\t\\t\\t\\t\\t<a href=\"news-detail.php?id=E,14539\" target=\"_blank\">\\r\\n\\t\\t\\t\\t\\t\\t\\t2020\\xe8\\x81\\xb7\\xe8\\xb7\\xaf\\xef\\xbc\\x9b\\xe8\\xb6\\xb3\\xe8\\xb7\\xa1\\xe6\\x94\\x9d\\xe5\\xbd\\xb1\\xe6\\xaf\\x94\\xe8\\xb3\\xbd\\xe3\\x80\\x80\\xe7\\x8d\\xb2\\xe7\\x8d\\x8e\\xe5\\x90\\x8d\\xe5\\x96\\xae</a>\\r\\n\\t\\t\\t\\t\\t\\t</div>\\r\\n\\t\\t\\t\\t\\t</div>\\r\\n\\t\\t\\t\\t\\t\\t\\t\\t\\t<div class=\"col-sm-12 padded-5\">\\r\\n\\t\\t\\t\\t\\t\\t<div class=\"col-sm-2 col-cj-2 nopadded font90\">2020/10/30</div>\\r\\n\\t\\t\\t\\t\\t\\t<div class=\"col-sm-10 col-cj-10 nopadded font-black font110\">\\r\\n              <span class=\"unit-block\">\\r\\n              \\xe3\\x80\\x90\\xe5\\xad\\xab\\xe5\\x89\\xaf\\xe6\\xa0\\xa1\\xe9\\x95\\xb7\\xe5\\xae\\xa4\\xe3\\x80\\x91\\r\\n              <!--\\xe3\\x80\\x90 \\xe5\\x89\\xaf\\xe6\\xa0\\xa1\\xe9\\x95\\xb7\\xe5\\xae\\xa4\\xe3\\x80\\x91-->\\r\\n\\t\\t\\t\\t\\t\\t\\t</span>\\r\\n\\r\\n\\t\\t\\t\\t\\t\\t\\t<a href=\"news-detail.php?id=E,14029\" target=\"_blank\">\\r\\n\\t\\t\\t\\t\\t\\t\\t\\xe3\\x80\\x90\\xe9\\x95\\xb7\\xe6\\xa6\\xae\\xe5\\xa4\\xa7\\xe5\\xad\\xb82020\\xe8\\x81\\x96\\xe8\\xaa\\x95\\xe4\\xbd\\x88\\xe7\\xbd\\xae\\xe4\\xb8\\xbb\\xe7\\x87\\x88\\xe9\\x90\\xb5\\xe9\\x9b\\x95\\xe8\\xa8\\xad\\xe8\\xa8\\x88\\xe3\\x80\\x91\\xe5\\xbe\\x97\\xe7\\x8d\\x8e\\xe5\\x90\\x8d\\xe5\\x96\\xae</a>\\r\\n\\t\\t\\t\\t\\t\\t</div>\\r\\n\\t\\t\\t\\t\\t</div>\\r\\n\\t\\t\\t\\t\\t\\t\\t\\t<div class=\"col-md-12 t-right\">\\r\\n\\t\\t\\t\\t\\t<i class=\"fas fa-caret-square-down\"></i> <a href=\"news.php?id=ALL\">ALL...</a>\\r\\n\\t\\t\\t\\t\\t<i class=\"fas fa-caret-square-down\"></i> <a href=\"news.php?id=E\">more...</a></div>\\t\\t\\r\\n\\t\\t</section>\\r\\n\\r\\n\\t\\t\\t<section id=\"content6\">\\r\\n\\t\\t\\t<div class=\"cleaner padded-b5\"></div>\\r\\n\\t\\t\\t\\t\\r\\n\\t\\t\\t\\t\\t\\t\\t\\t\\t<div class=\"col-sm-12 padded-5\">\\r\\n\\t\\t\\t\\t\\t\\t<div class=\"col-sm-2 col-cj-2 nopadded font90\">2021/01/05</div>\\r\\n\\t\\t\\t\\t\\t\\t<div class=\"col-sm-10 col-cj-10 nopadded font-black font110\">\\r\\n              <span class=\"unit-block\">\\r\\n              \\xe3\\x80\\x90\\xe4\\xba\\xba\\xe5\\x8a\\x9b\\xe8\\xb3\\x87\\xe6\\xba\\x90\\xe7\\x99\\xbc\\xe5\\xb1\\x95\\xe8\\x99\\x95\\xe3\\x80\\x91\\r\\n              <!--\\xe3\\x80\\x90 \\xe4\\xba\\xba\\xe5\\x8a\\x9b\\xe8\\xb3\\x87\\xe6\\xba\\x90\\xe7\\x99\\xbc\\xe5\\xb1\\x95\\xe8\\x99\\x95\\xe3\\x80\\x91-->\\r\\n\\t\\t\\t\\t\\t\\t\\t</span>\\r\\n\\r\\n\\t\\t\\t\\t\\t\\t\\t<a href=\"news-detail.php?id=F,15040\" target=\"_blank\">\\r\\n\\t\\t\\t\\t\\t\\t\\t\\xe6\\x9c\\xac\\xe6\\xa0\\xa1\\xe6\\xa0\\xa1\\xe5\\x8b\\x99\\xe7\\xa0\\x94\\xe7\\xa9\\xb6\\xe4\\xb8\\xad\\xe5\\xbf\\x83\\xe6\\x95\\x99\\xe5\\xad\\xb8\\xe5\\x93\\x81\\xe4\\xbf\\x9d\\xe7\\xb5\\x84\\xe8\\xaa\\xa0\\xe5\\xbe\\xb5\\xe5\\xb0\\x88\\xe6\\xa1\\x88\\xe5\\x8a\\xa9\\xe7\\x90\\x86(\\xe7\\xa2\\xa9\\xe5\\xa3\\xab\\xe7\\xb4\\x9a)1\\xe5\\x90\\x8d\\xef\\xbc\\x8c\\xe5\\xbe\\xb5\\xe8\\x81\\x98\\xe8\\x87\\xb3110.1.22\\xe6\\xad\\xa2\\xe3\\x80\\x82</a>\\r\\n\\t\\t\\t\\t\\t\\t</div>\\r\\n\\t\\t\\t\\t\\t</div>\\r\\n\\t\\t\\t\\t\\t\\t\\t\\t\\t<div class=\"col-sm-12 padded-5\">\\r\\n\\t\\t\\t\\t\\t\\t<div class=\"col-sm-2 col-cj-2 nopadded font90\">2020/12/31</div>\\r\\n\\t\\t\\t\\t\\t\\t<div class=\"col-sm-10 col-cj-10 nopadded font-black font110\">\\r\\n              <span class=\"unit-block\">\\r\\n              \\xe3\\x80\\x90\\xe4\\xba\\xba\\xe5\\x8a\\x9b\\xe8\\xb3\\x87\\xe6\\xba\\x90\\xe7\\x99\\xbc\\xe5\\xb1\\x95\\xe8\\x99\\x95\\xe3\\x80\\x91\\r\\n              <!--\\xe3\\x80\\x90 \\xe4\\xba\\xba\\xe5\\x8a\\x9b\\xe8\\xb3\\x87\\xe6\\xba\\x90\\xe7\\x99\\xbc\\xe5\\xb1\\x95\\xe8\\x99\\x95\\xe3\\x80\\x91-->\\r\\n\\t\\t\\t\\t\\t\\t\\t</span>\\r\\n\\r\\n\\t\\t\\t\\t\\t\\t\\t<a href=\"news-detail.php?id=F,15014\" target=\"_blank\">\\r\\n\\t\\t\\t\\t\\t\\t\\t\\xe6\\x9c\\xac\\xe6\\xa0\\xa1\\xe5\\x81\\xa5\\xe5\\xba\\xb7\\xe7\\xa7\\x91\\xe5\\xad\\xb8\\xe5\\xad\\xb8\\xe9\\x99\\xa2\\xe8\\xad\\xb7\\xe7\\x90\\x86\\xe5\\xad\\xb8\\xe7\\xb3\\xbb\\xe8\\xaa\\xa0\\xe5\\xbe\\xb5\\xe5\\x8a\\xa9\\xe7\\x90\\x86\\xe7\\xae\\xa1\\xe7\\x90\\x86\\xe5\\xb8\\xab1\\xe5\\x90\\x8d(\\xe5\\xbe\\xb5\\xe8\\x81\\x98\\xe8\\x87\\xb3110.01.15\\xe6\\xad\\xa2)</a>\\r\\n\\t\\t\\t\\t\\t\\t</div>\\r\\n\\t\\t\\t\\t\\t</div>\\r\\n\\t\\t\\t\\t\\t\\t\\t\\t\\t<div class=\"col-sm-12 padded-5\">\\r\\n\\t\\t\\t\\t\\t\\t<div class=\"col-sm-2 col-cj-2 nopadded font90\">2020/12/21</div>\\r\\n\\t\\t\\t\\t\\t\\t<div class=\"col-sm-10 col-cj-10 nopadded font-black font110\">\\r\\n              <span class=\"unit-block\">\\r\\n              \\xe3\\x80\\x90\\xe4\\xba\\xba\\xe5\\x8a\\x9b\\xe8\\xb3\\x87\\xe6\\xba\\x90\\xe7\\x99\\xbc\\xe5\\xb1\\x95\\xe8\\x99\\x95\\xe3\\x80\\x91\\r\\n              <!--\\xe3\\x80\\x90 \\xe4\\xba\\xba\\xe5\\x8a\\x9b\\xe8\\xb3\\x87\\xe6\\xba\\x90\\xe7\\x99\\xbc\\xe5\\xb1\\x95\\xe8\\x99\\x95\\xe3\\x80\\x91-->\\r\\n\\t\\t\\t\\t\\t\\t\\t</span>\\r\\n\\r\\n\\t\\t\\t\\t\\t\\t\\t<a href=\"news-detail.php?id=F,14901\" target=\"_blank\">\\r\\n\\t\\t\\t\\t\\t\\t\\t\\xe6\\x9c\\xac\\xe6\\xa0\\xa1\\xe7\\xa0\\x94\\xe7\\xa9\\xb6\\xe7\\x99\\xbc\\xe5\\xb1\\x95\\xe8\\x99\\x95\\xe5\\x89\\xb5\\xe6\\x96\\xb0\\xe8\\x82\\xb2\\xe6\\x88\\x90\\xe4\\xb8\\xad\\xe5\\xbf\\x83\\xe8\\xaa\\xa0\\xe5\\xbe\\xb5\\xe5\\x8a\\xa9\\xe7\\x90\\x86\\xe7\\xae\\xa1\\xe7\\x90\\x86\\xe5\\xb8\\xab1\\xe5\\x90\\x8d(\\xe5\\xbe\\xb5\\xe8\\x81\\x98\\xe8\\x87\\xb3109.12.31\\xe6\\xad\\xa2)</a>\\r\\n\\t\\t\\t\\t\\t\\t</div>\\r\\n\\t\\t\\t\\t\\t</div>\\r\\n\\t\\t\\t\\t\\t\\t\\t\\t\\t<div class=\"col-sm-12 padded-5\">\\r\\n\\t\\t\\t\\t\\t\\t<div class=\"col-sm-2 col-cj-2 nopadded font90\">2020/12/18</div>\\r\\n\\t\\t\\t\\t\\t\\t<div class=\"col-sm-10 col-cj-10 nopadded font-black font110\">\\r\\n              <span class=\"unit-block\">\\r\\n              \\xe3\\x80\\x90\\xe4\\xba\\xba\\xe5\\x8a\\x9b\\xe8\\xb3\\x87\\xe6\\xba\\x90\\xe7\\x99\\xbc\\xe5\\xb1\\x95\\xe8\\x99\\x95\\xe3\\x80\\x91\\r\\n              <!--\\xe3\\x80\\x90 \\xe4\\xba\\xba\\xe5\\x8a\\x9b\\xe8\\xb3\\x87\\xe6\\xba\\x90\\xe7\\x99\\xbc\\xe5\\xb1\\x95\\xe8\\x99\\x95\\xe3\\x80\\x91-->\\r\\n\\t\\t\\t\\t\\t\\t\\t</span>\\r\\n\\r\\n\\t\\t\\t\\t\\t\\t\\t<a href=\"news-detail.php?id=F,14873\" target=\"_blank\">\\r\\n\\t\\t\\t\\t\\t\\t\\t\\xe6\\x9c\\xac\\xe6\\xa0\\xa1\\xe5\\xad\\xb8\\xe7\\x94\\x9f\\xe4\\xba\\x8b\\xe5\\x8b\\x99\\xe8\\x99\\x95\\xe6\\xa0\\xa1\\xe5\\xae\\x89\\xe4\\xb8\\xad\\xe5\\xbf\\x83\\xe8\\xaa\\xa0\\xe5\\xbe\\xb5\\xe5\\xa4\\x9c\\xe9\\x96\\x93\\xe5\\xb7\\xa1\\xe5\\xae\\x88\\xe4\\xba\\xba\\xe5\\x93\\xa13\\xe5\\x90\\x8d(\\xe5\\xbe\\xb5\\xe8\\x81\\x98\\xe8\\x87\\xb3109.12.31\\xe6\\xad\\xa2)</a>\\r\\n\\t\\t\\t\\t\\t\\t</div>\\r\\n\\t\\t\\t\\t\\t</div>\\r\\n\\t\\t\\t\\t\\t\\t\\t\\t\\t<div class=\"col-sm-12 padded-5\">\\r\\n\\t\\t\\t\\t\\t\\t<div class=\"col-sm-2 col-cj-2 nopadded font90\">2020/12/08</div>\\r\\n\\t\\t\\t\\t\\t\\t<div class=\"col-sm-10 col-cj-10 nopadded font-black font110\">\\r\\n              <span class=\"unit-block\">\\r\\n              \\xe3\\x80\\x90\\xe4\\xba\\xba\\xe5\\x8a\\x9b\\xe8\\xb3\\x87\\xe6\\xba\\x90\\xe7\\x99\\xbc\\xe5\\xb1\\x95\\xe8\\x99\\x95\\xe3\\x80\\x91\\r\\n              <!--\\xe3\\x80\\x90 \\xe4\\xba\\xba\\xe5\\x8a\\x9b\\xe8\\xb3\\x87\\xe6\\xba\\x90\\xe7\\x99\\xbc\\xe5\\xb1\\x95\\xe8\\x99\\x95\\xe3\\x80\\x91-->\\r\\n\\t\\t\\t\\t\\t\\t\\t</span>\\r\\n\\r\\n\\t\\t\\t\\t\\t\\t\\t<a href=\"news-detail.php?id=F,14715\" target=\"_blank\">\\r\\n\\t\\t\\t\\t\\t\\t\\t\\xe9\\x95\\xb7\\xe6\\xa6\\xae\\xe5\\xa4\\xa7\\xe5\\xad\\xb8\\xe7\\x84\\xa1\\xe4\\xba\\xba\\xe6\\xa9\\x9f\\xe6\\x87\\x89\\xe7\\x94\\xa8\\xe5\\xad\\xb8\\xe5\\xa3\\xab\\xe5\\xad\\xb8\\xe4\\xbd\\x8d\\xe5\\xad\\xb8\\xe7\\xa8\\x8b\\xe5\\xbe\\xb5\\xe8\\x81\\x98\\xe5\\xb8\\xab\\xe8\\xb3\\x87\\xe5\\x85\\xac\\xe5\\x91\\x8a20210130\\xe6\\xad\\xa2</a>\\r\\n\\t\\t\\t\\t\\t\\t</div>\\r\\n\\t\\t\\t\\t\\t</div>\\r\\n\\t\\t\\t\\t\\t\\t\\t\\t<div class=\"col-md-12 t-right\">\\r\\n\\t\\t\\t\\t\\t<i class=\"fas fa-caret-square-down\"></i> <a href=\"news.php?id=ALL\">ALL...</a>\\r\\n\\t\\t\\t\\t\\t<i class=\"fas fa-caret-square-down\"></i> <a href=\"news.php?id=F\">more...</a></div>\\t\\t\\r\\n\\t\\t</section>\\r\\n\\r\\n\\t\\t\\t<section id=\"content7\">\\r\\n\\t\\t\\t<div class=\"cleaner padded-b5\"></div>\\r\\n\\t\\t\\t\\t\\r\\n\\t\\t\\t\\t\\t\\t\\t\\t\\t<div class=\"col-sm-12 padded-5\">\\r\\n\\t\\t\\t\\t\\t\\t<div class=\"col-sm-2 col-cj-2 nopadded font90\">2021/01/08</div>\\r\\n\\t\\t\\t\\t\\t\\t<div class=\"col-sm-10 col-cj-10 nopadded font-black font110\">\\r\\n              <span class=\"unit-block\">\\r\\n              \\xe3\\x80\\x90\\xe8\\xaa\\xb2\\xe5\\xa4\\x96\\xe7\\xb5\\x84\\xe3\\x80\\x91\\r\\n              <!--\\xe3\\x80\\x90 \\xe8\\xaa\\xb2\\xe5\\xa4\\x96\\xe6\\xb4\\xbb\\xe5\\x8b\\x95\\xe7\\xb5\\x84\\xe3\\x80\\x91-->\\r\\n\\t\\t\\t\\t\\t\\t\\t</span>\\r\\n\\r\\n\\t\\t\\t\\t\\t\\t\\t<a href=\"news-detail.php?id=G,15090\" target=\"_blank\">\\r\\n\\t\\t\\t\\t\\t\\t\\t\\xe6\\xa1\\x83\\xe5\\x9c\\x92\\xe5\\xb8\\x82\\xe6\\x94\\xbf\\xe5\\xba\\x9c\\xe4\\xbf\\xae\\xe6\\xad\\xa3\\xe7\\x99\\xbc\\xe5\\xb8\\x83\\xe3\\x80\\x8c\\xe6\\xa1\\x83\\xe5\\x9c\\x92\\xe5\\xb8\\x82\\xe6\\x94\\xbf\\xe5\\xba\\x9c\\xe4\\xbf\\x83\\xe9\\x80\\xb2\\xe9\\x9d\\x92\\xe5\\xb9\\xb4\\xe7\\xa4\\xbe\\xe6\\x9c\\x83\\xe5\\x8f\\x83\\xe8\\x88\\x87\\xe8\\xa3\\x9c\\xe5\\x8a\\xa9\\xe4\\xbd\\x9c\\xe6\\xa5\\xad\\xe8\\xa6\\x81\\xe9\\xbb\\x9e\\xe3\\x80\\x8d</a>\\r\\n\\t\\t\\t\\t\\t\\t</div>\\r\\n\\t\\t\\t\\t\\t</div>\\r\\n\\t\\t\\t\\t\\t\\t\\t\\t\\t<div class=\"col-sm-12 padded-5\">\\r\\n\\t\\t\\t\\t\\t\\t<div class=\"col-sm-2 col-cj-2 nopadded font90\">2021/01/08</div>\\r\\n\\t\\t\\t\\t\\t\\t<div class=\"col-sm-10 col-cj-10 nopadded font-black font110\">\\r\\n              <span class=\"unit-block\">\\r\\n              \\xe3\\x80\\x90\\xe8\\xaa\\xb2\\xe5\\xa4\\x96\\xe7\\xb5\\x84\\xe3\\x80\\x91\\r\\n              <!--\\xe3\\x80\\x90 \\xe8\\xaa\\xb2\\xe5\\xa4\\x96\\xe6\\xb4\\xbb\\xe5\\x8b\\x95\\xe7\\xb5\\x84\\xe3\\x80\\x91-->\\r\\n\\t\\t\\t\\t\\t\\t\\t</span>\\r\\n\\r\\n\\t\\t\\t\\t\\t\\t\\t<a href=\"news-detail.php?id=G,15068\" target=\"_blank\">\\r\\n\\t\\t\\t\\t\\t\\t\\t\\xe8\\xa1\\x9b\\xe7\\x94\\x9f\\xe7\\xa6\\x8f\\xe5\\x88\\xa9\\xe9\\x83\\xa8\\xe5\\x9c\\x8b\\xe6\\xb0\\x91\\xe5\\x81\\xa5\\xe5\\xba\\xb7\\xe7\\xbd\\xb2\\xe8\\xbe\\xa6\\xe7\\x90\\x86\\xe3\\x80\\x8c\\xe8\\xb7\\x9f\\xe8\\x91\\x97\\xe6\\x88\\x91\\xe7\\x9a\\x84\\xe9\\xa4\\x90\\xe7\\x9b\\xa4 \\xe4\\xb8\\x80\\xe8\\xb5\\xb7\\xe5\\x96\\x9d\\xe5\\xa5\\xb6\\xe5\\x90\\xa7\\xe3\\x80\\x8d\\xe7\\x85\\xa7\\xe7\\x89\\x87\\xe5\\xbe\\xb5\\xe9\\x9b\\x86\\xe6\\x95\\xb8\\xe4\\xbd\\x8d\\xe6\\xb4\\xbb\\xe5\\x8b\\x95\\xe8\\xa8\\x8a\\xe6\\x81\\xaf</a>\\r\\n\\t\\t\\t\\t\\t\\t</div>\\r\\n\\t\\t\\t\\t\\t</div>\\r\\n\\t\\t\\t\\t\\t\\t\\t\\t\\t<div class=\"col-sm-12 padded-5\">\\r\\n\\t\\t\\t\\t\\t\\t<div class=\"col-sm-2 col-cj-2 nopadded font90\">2021/01/08</div>\\r\\n\\t\\t\\t\\t\\t\\t<div class=\"col-sm-10 col-cj-10 nopadded font-black font110\">\\r\\n              <span class=\"unit-block\">\\r\\n              \\xe3\\x80\\x90\\xe8\\xaa\\xb2\\xe5\\xa4\\x96\\xe7\\xb5\\x84\\xe3\\x80\\x91\\r\\n              <!--\\xe3\\x80\\x90 \\xe8\\xaa\\xb2\\xe5\\xa4\\x96\\xe6\\xb4\\xbb\\xe5\\x8b\\x95\\xe7\\xb5\\x84\\xe3\\x80\\x91-->\\r\\n\\t\\t\\t\\t\\t\\t\\t</span>\\r\\n\\r\\n\\t\\t\\t\\t\\t\\t\\t<a href=\"news-detail.php?id=G,15067\" target=\"_blank\">\\r\\n\\t\\t\\t\\t\\t\\t\\t\\xe6\\xb3\\x95\\xe8\\x97\\x8d\\xe7\\x93\\xb7\\xe8\\x82\\xa1\\xe4\\xbb\\xbd\\xe6\\x9c\\x89\\xe9\\x99\\x90\\xe5\\x85\\xac\\xe5\\x8f\\xb8\\xe8\\xbe\\xa6\\xe7\\x90\\x86\\xe3\\x80\\x8c2021\\xe7\\xac\\xac\\xe5\\x85\\xad\\xe5\\xb1\\x86\\xe6\\x83\\xb3\\xe5\\x83\\x8f\\xe8\\xa8\\x88\\xe7\\x95\\xab\\xe3\\x80\\x8d\\xe5\\x81\\x8f\\xe9\\x84\\x89\\xe5\\x89\\xb5\\xe6\\x84\\x8f\\xe6\\x95\\x99\\xe8\\x82\\xb2\\xe6\\x8f\\x90\\xe6\\xa1\\x88</a>\\r\\n\\t\\t\\t\\t\\t\\t</div>\\r\\n\\t\\t\\t\\t\\t</div>\\r\\n\\t\\t\\t\\t\\t\\t\\t\\t\\t<div class=\"col-sm-12 padded-5\">\\r\\n\\t\\t\\t\\t\\t\\t<div class=\"col-sm-2 col-cj-2 nopadded font90\">2021/01/08</div>\\r\\n\\t\\t\\t\\t\\t\\t<div class=\"col-sm-10 col-cj-10 nopadded font-black font110\">\\r\\n              <span class=\"unit-block\">\\r\\n              \\xe3\\x80\\x90\\xe7\\x94\\xa2\\xe5\\xad\\xb8\\xe5\\x90\\x88\\xe4\\xbd\\x9c\\xe7\\xb8\\xbd\\xe4\\xb8\\xad\\xe5\\xbf\\x83\\xe3\\x80\\x91\\r\\n              <!--\\xe3\\x80\\x90 \\xe7\\x94\\xa2\\xe5\\xad\\xb8\\xe5\\x90\\x88\\xe4\\xbd\\x9c\\xe7\\xb8\\xbd\\xe4\\xb8\\xad\\xe5\\xbf\\x83\\xe3\\x80\\x91-->\\r\\n\\t\\t\\t\\t\\t\\t\\t</span>\\r\\n\\r\\n\\t\\t\\t\\t\\t\\t\\t<a href=\"news-detail.php?id=G,15066\" target=\"_blank\">\\r\\n\\t\\t\\t\\t\\t\\t\\t[\\xe8\\xa8\\x8a\\xe6\\x81\\xaf\\xe5\\x85\\xac\\xe5\\x91\\x8a] \\xe7\\xa7\\x91\\xe6\\x8a\\x80\\xe9\\x83\\xa8 \\xe8\\x88\\x89\\xe8\\xbe\\xa6\\xe3\\x80\\x8c110\\xe5\\xb9\\xb4\\xe5\\xba\\xa6\\xe7\\xa7\\x91\\xe6\\x99\\xae\\xe6\\xb4\\xbb\\xe5\\x8b\\x95\\xe5\\x8f\\x8a\\xe7\\x94\\xa2\\xe5\\x93\\x81\\xe8\\xa3\\xbd\\xe6\\x92\\xad\\xe6\\x8e\\xa8\\xe5\\xbb\\xa3\\xe8\\xa8\\x88\\xe7\\x95\\xab\\xe5\\xbe\\xb5\\xe6\\xb1\\x82\\xe8\\xaa\\xaa\\xe6\\x98\\x8e\\xe6\\x9c\\x83\\xe3\\x80\\x8d</a>\\r\\n\\t\\t\\t\\t\\t\\t</div>\\r\\n\\t\\t\\t\\t\\t</div>\\r\\n\\t\\t\\t\\t\\t\\t\\t\\t\\t<div class=\"col-sm-12 padded-5\">\\r\\n\\t\\t\\t\\t\\t\\t<div class=\"col-sm-2 col-cj-2 nopadded font90\">2021/01/07</div>\\r\\n\\t\\t\\t\\t\\t\\t<div class=\"col-sm-10 col-cj-10 nopadded font-black font110\">\\r\\n              <span class=\"unit-block\">\\r\\n              \\xe3\\x80\\x90\\xe5\\x8f\\xb0\\xe7\\x81\\xa3\\xe6\\x89\\x80\\xe3\\x80\\x91\\r\\n              <!--\\xe3\\x80\\x90 \\xe5\\x8f\\xb0\\xe7\\x81\\xa3\\xe7\\xa0\\x94\\xe7\\xa9\\xb6\\xe6\\x89\\x80\\xe3\\x80\\x91-->\\r\\n\\t\\t\\t\\t\\t\\t\\t</span>\\r\\n\\r\\n\\t\\t\\t\\t\\t\\t\\t<a href=\"news-detail.php?id=G,15060\" target=\"_blank\">\\r\\n\\t\\t\\t\\t\\t\\t\\t\\xe3\\x80\\x90\\xe8\\xbd\\x89\\xe7\\x9f\\xa5\\xe3\\x80\\x91\\xe5\\x9c\\x8b\\xe5\\x8f\\xb2\\xe9\\xa4\\xa8\\xe8\\x87\\xba\\xe7\\x81\\xa3\\xe6\\x96\\x87\\xe7\\x8d\\xbb\\xe9\\xa4\\xa8\\xe8\\xbe\\xa6\\xe7\\x90\\x86110\\xe5\\xb9\\xb4\\xe5\\xba\\xa6\\xe3\\x80\\x8c\\xe8\\x87\\xba\\xe7\\x81\\xa3\\xe5\\x8e\\x9f\\xe4\\xbd\\x8f\\xe6\\xb0\\x91\\xe6\\x97\\x8f\\xe5\\x8f\\xb2\\xe5\\xb0\\x88\\xe9\\xa1\\x8c\\xe8\\xa8\\x88\\xe7\\x95\\xab\\xe3\\x80\\x8d2\\xe9\\xa0\\x85\\xe9\\x83\\xa8\\xe8\\x90\\xbd\\xe6\\xad\\xb7\\xe5\\x8f\\xb2\\xe7\\xa0\\x94\\xe7\\xa9\\xb6\\xe5\\xa7\\x94\\xe8\\xa8\\x97\\xe5\\xb0\\x88\\xe6\\xa5\\xad\\xe6\\x9c\\x8d\\xe5\\x8b\\x99\\xe6\\xa1\\x88</a>\\r\\n\\t\\t\\t\\t\\t\\t</div>\\r\\n\\t\\t\\t\\t\\t</div>\\r\\n\\t\\t\\t\\t\\t\\t\\t\\t<div class=\"col-md-12 t-right\">\\r\\n\\t\\t\\t\\t\\t<i class=\"fas fa-caret-square-down\"></i> <a href=\"news.php?id=ALL\">ALL...</a>\\r\\n\\t\\t\\t\\t\\t<i class=\"fas fa-caret-square-down\"></i> <a href=\"news.php?id=G\">more...</a></div>\\t\\t\\r\\n\\t\\t</section>\\r\\n\\r\\n\\t\\t\\t<section id=\"content9\"> <!--\\xe5\\x85\\xac\\xe6\\x96\\x87\\xe5\\x85\\xac\\xe5\\x91\\x8a -->\\r\\n\\t\\r\\n\\t\\t\\t<div class=\"cleaner padded-b5\"></div>\\r\\n\\r\\n\\t\\t\\t\\t\\t\\t\\t<div class=\"col-sm-12 padded-5\">\\r\\n\\t\\t\\t\\t\\t<div class=\"col-sm-2 col-cj-2 nopadded font90\">2021/01/08</div>\\r\\n          <div class=\"col-sm-10 col-cj-10 nopadded font-black font110\">\\r\\n\\t\\t\\t\\t\\t\\t<a href=\"news-detail.php?id=DC,3666\" target=\"_blank\">\\r\\n\\t\\t\\t\\t\\t\\t\\xe5\\x85\\xac\\xe5\\x91\\x8a\\xe3\\x80\\x8c\\xe9\\x95\\xb7\\xe6\\xa6\\xae\\xe5\\xa4\\xa7\\xe5\\xad\\xb8\\xe6\\x85\\x8e\\xe8\\xa1\\x8c\\xe9\\x90\\x98\\xe6\\x95\\xb2\\xe9\\x90\\x98\\xe5\\x8b\\x9f\\xe6\\xac\\xbe\\xe7\\xae\\xa1\\xe7\\x90\\x86\\xe8\\xbe\\xa6\\xe6\\xb3\\x95\\xe3\\x80\\x8d\\xe5\\x85\\xa8\\xe6\\x96\\x87\\xef\\xbc\\x8c\\xe4\\xb8\\xa6\\xe8\\x87\\xaa\\xe5\\x85\\xac\\xe5\\x91\\x8a\\xe6\\x97\\xa5\\xe8\\xb5\\xb7\\xe5\\xaf\\xa6\\xe6\\x96\\xbd\\xe3\\x80\\x82</a>\\r\\n\\t\\t\\t\\t\\t</div>\\r\\n\\t\\t\\t\\t</div>\\r\\n\\t\\t\\t\\t\\t\\t\\t<div class=\"col-sm-12 padded-5\">\\r\\n\\t\\t\\t\\t\\t<div class=\"col-sm-2 col-cj-2 nopadded font90\">2021/01/07</div>\\r\\n          <div class=\"col-sm-10 col-cj-10 nopadded font-black font110\">\\r\\n\\t\\t\\t\\t\\t\\t<a href=\"news-detail.php?id=DC,3665\" target=\"_blank\">\\r\\n\\t\\t\\t\\t\\t\\t\\xe5\\x85\\xac\\xe5\\x91\\x8a\\xe6\\x9c\\xac\\xe6\\xa0\\xa1\\xe4\\xbf\\xae\\xe8\\xa8\\x82\\xe5\\xbe\\x8c\\xe3\\x80\\x8c\\xe9\\x95\\xb7\\xe6\\xa6\\xae\\xe5\\xa4\\xa7\\xe5\\xad\\xb8\\xe9\\xa4\\x90\\xe9\\xa3\\xb2\\xe8\\xa1\\x9b\\xe7\\x94\\x9f\\xe7\\xae\\xa1\\xe7\\x90\\x86\\xe8\\xbe\\xa6\\xe6\\xb3\\x95\\xe3\\x80\\x8d\\xef\\xbc\\x8c\\xe4\\xb8\\xa6\\xe8\\x87\\xaa\\xe5\\x85\\xac\\xe5\\x91\\x8a\\xe6\\x97\\xa5\\xe8\\xb5\\xb7\\xe5\\xaf\\xa6\\xe6\\x96\\xbd\\xe3\\x80\\x82</a>\\r\\n\\t\\t\\t\\t\\t</div>\\r\\n\\t\\t\\t\\t</div>\\r\\n\\t\\t\\t\\t\\t\\t\\t<div class=\"col-sm-12 padded-5\">\\r\\n\\t\\t\\t\\t\\t<div class=\"col-sm-2 col-cj-2 nopadded font90\">2021/01/07</div>\\r\\n          <div class=\"col-sm-10 col-cj-10 nopadded font-black font110\">\\r\\n\\t\\t\\t\\t\\t\\t<a href=\"news-detail.php?id=DC,3664\" target=\"_blank\">\\r\\n\\t\\t\\t\\t\\t\\t\\xe5\\x85\\xac\\xe5\\x91\\x8a\\xe6\\x9c\\xac\\xe6\\xa0\\xa1\\xe7\\xb8\\xbd\\xe5\\x8b\\x99\\xe8\\x99\\x95\\xe4\\xbf\\x9d\\xe7\\xae\\xa1\\xe4\\xba\\x8b\\xe5\\x8b\\x99\\xe7\\xb5\\x84\\xe9\\xbb\\x83OO\\xe7\\xb4\\x84\\xe8\\x81\\x98\\xe8\\xad\\xa6\\xe8\\xa1\\x9b\\xe4\\xba\\xba\\xe5\\x93\\xa1\\xe6\\x87\\xb2\\xe8\\x99\\x95\\xe6\\xa1\\x88\\xe3\\x80\\x82</a>\\r\\n\\t\\t\\t\\t\\t</div>\\r\\n\\t\\t\\t\\t</div>\\r\\n\\t\\t\\t\\t\\t\\t\\t<div class=\"col-sm-12 padded-5\">\\r\\n\\t\\t\\t\\t\\t<div class=\"col-sm-2 col-cj-2 nopadded font90\">2021/01/06</div>\\r\\n          <div class=\"col-sm-10 col-cj-10 nopadded font-black font110\">\\r\\n\\t\\t\\t\\t\\t\\t<a href=\"news-detail.php?id=DC,3663\" target=\"_blank\">\\r\\n\\t\\t\\t\\t\\t\\t\\xe5\\x85\\xac\\xe5\\x91\\x8a\\xe6\\x9c\\xac\\xe6\\xa0\\xa1109\\xe5\\xad\\xb8\\xe5\\xb9\\xb4\\xe5\\xba\\xa6\\xe7\\xa0\\x94\\xe7\\xa9\\xb6\\xe7\\x99\\xbc\\xe5\\xb1\\x95\\xe5\\xa7\\x94\\xe5\\x93\\xa1\\xe6\\x9c\\x83\\xe5\\xa7\\x94\\xe5\\x93\\xa1\\xe7\\x95\\xb0\\xe5\\x8b\\x95\\xe5\\x90\\x8d\\xe5\\x96\\xae\\xe3\\x80\\x82</a>\\r\\n\\t\\t\\t\\t\\t</div>\\r\\n\\t\\t\\t\\t</div>\\r\\n\\t\\t\\t\\t\\t\\t\\t<div class=\"col-sm-12 padded-5\">\\r\\n\\t\\t\\t\\t\\t<div class=\"col-sm-2 col-cj-2 nopadded font90\">2021/01/06</div>\\r\\n          <div class=\"col-sm-10 col-cj-10 nopadded font-black font110\">\\r\\n\\t\\t\\t\\t\\t\\t<a href=\"news-detail.php?id=DC,3662\" target=\"_blank\">\\r\\n\\t\\t\\t\\t\\t\\t\\xe5\\x85\\xac\\xe5\\x91\\x8a\\xe6\\x9c\\xac\\xe6\\xa0\\xa1109\\xe5\\xad\\xb8\\xe5\\xb9\\xb4\\xe5\\xba\\xa6\\xe6\\x95\\x99\\xe5\\xad\\xb8\\xe5\\x96\\xae\\xe4\\xbd\\x8d\\xe5\\x9f\\xb7\\xe8\\xa1\\x8c\\xe9\\x95\\xb7\\xe7\\x95\\xb0\\xe5\\x8b\\x95\\xe6\\xa1\\x88\\xe3\\x80\\x82</a>\\r\\n\\t\\t\\t\\t\\t</div>\\r\\n\\t\\t\\t\\t</div>\\r\\n\\t\\t\\t\\t\\t\\t<div class=\"col-md-12 t-right\"><i class=\"fas fa-caret-square-down\"></i> <a href=\"news.php?id=DC\">more...</a></div>\\t\\r\\n\\t\\t</section>\\r\\n\\t</div>                </div>\\r\\n              </div>\\r\\n              <div class=\"cleaner nopadded enable-mobile-xs\"> </div>\\r\\n            </div>\\r\\n\\t\\t\\t\\t\\t</li>\\t\\r\\n\\t\\t\\t\\t\\t\\t\\t\\t\\t\\r\\n\\t\\t\\t\\t\\t\\t\\t\\t\\t\\t<li class=\"fg-block loading clearfix\"> \\r\\n            <div class=\"width-1400\">\\r\\n              <div class=\"col-md-6 nopadded \">\\r\\n                <div class=\"col-md-12 nopadded \">\\r\\n                  <h2 class=\"fg-title f-color-gray\"><span>\\xe5\\xbf\\xab\\xe9\\x80\\x9f\\xe9\\x80\\xa3\\xe7\\xb5\\x90</span></h2></div>\\r\\n                <div class=\"cleaner nopadded enable-mobile-xs enable-mobile-md\"></div> \\r\\n                <div class=\"col-md-12 nopadded \">\\r\\n                  \\r\\n\\r\\n\\t<div class=\"cleaner padded-b5\"></div>\\r\\n\\t<ul class=\"hotlink-fg \">\\r\\n\\t\\t\\t<li class=\"color-set-0a\" ><a href=\"hotlink_go.php?id=26\" target=\"_blank\"><i class=\"fas fa-landmark\"></i> \\xe9\\xab\\x98\\xe6\\x95\\x99\\xe6\\xb7\\xb1\\xe8\\x80\\x95</a></li>\\r\\n\\t\\t\\t<li class=\"color-set-0a\" ><a href=\"hotlink_go.php?id=18\" target=\"_blank\"><i class=\"fas fa-book\"></i> \\xe9\\x95\\xb7\\xe6\\xa6\\xae\\xe5\\xb9\\xb4\\xe5\\xa0\\xb1</a></li>\\r\\n\\t\\t\\t<li class=\"color-set-0a\" ><a href=\"hotlink_go.php?id=31\" target=\"_blank\"><i class=\"fab fa-line\"></i>\\xe8\\x99\\x8e\\xe7\\x9a\\xae\\xe5\\x90\\x8c\\xe5\\xad\\xb8 \\xe6\\x88\\x91\\xe5\\x95\\x8f\\xe4\\xbd\\xa0</a></li>\\r\\n\\t\\t\\t<li class=\"color-set-0a\" ><a href=\"hotlink_go.php?id=19\" target=\"_blank\"><i class=\"fas fa-award\"></i> \\xe6\\xb0\\xb8\\xe7\\xba\\x8c\\xe5\\xa0\\xb1\\xe5\\x91\\x8a</a></li>\\r\\n\\t\\t\\t<li class=\"color-set-0a\" ><a href=\"hotlink_go.php?id=12\" target=\"_blank\"><i class=\"fas fa-building\"></i> \\xe6\\x8e\\xa8\\xe5\\xbb\\xa3\\xe6\\x95\\x99\\xe8\\x82\\xb2</a></li>\\r\\n\\t\\t\\t<li class=\"color-set-0a\" ><a href=\"hotlink_go.php?id=9\" target=\"_blank\"><i class=\"fas fa-clipboard-list\"></i> \\xe7\\xa4\\xbe\\xe6\\x9c\\x83\\xe8\\xb2\\xac\\xe4\\xbb\\xbb</a></li>\\r\\n\\t\\t\\t<li class=\"color-set-0a\" ><a href=\"hotlink_go.php?id=14\" target=\"_blank\"><i class=\"fas fa-heart\"></i> \\xe5\\xae\\xb6\\xe9\\x95\\xb7\\xe9\\x97\\x9c\\xe6\\x87\\xb7</a></li>\\r\\n\\t\\t\\t<li class=\"color-set-0a\" ><a href=\"hotlink_go.php?id=10\" target=\"_blank\"><i class=\"fas fa-gift\"></i> \\xe8\\xb4\\x8a\\xe5\\x8a\\xa9\\xe9\\x95\\xb7\\xe6\\xa6\\xae</a></li>\\r\\n\\t\\t\\t<li class=\"color-set-0a\" ><a href=\"hotlink_go.php?id=22\" target=\"_blank\"><i class=\"fas fa-play-circle\"></i> CJCU Online</a></li>\\r\\n\\t\\t\\t<li class=\"color-set-0a\" ><a href=\"hotlink_go.php?id=15\" target=\"_blank\"><i class=\"fas fa-star\"></i>\\xe7\\x8d\\x8e\\xe5\\x8a\\xa9\\xe5\\xad\\xb8\\xe9\\x87\\x91\\xe8\\xb3\\x87\\xe8\\xa8\\x8a</a></li>\\r\\n\\t\\t\\t<li class=\"color-set-0a\" ><a href=\"hotlink_go.php?id=17\" target=\"_blank\"><i class=\"fas fa-bookmark\"></i> \\xe6\\xb4\\xbb\\xe5\\x8b\\x95\\xe6\\xad\\xb7\\xe7\\xa8\\x8b</a></li>\\r\\n\\t\\t\\t<li class=\"color-set-0a\" ><a href=\"hotlink_go.php?id=25\" target=\"_blank\"><i class=\"fab fa-windows\"></i> Office 365</a></li>\\r\\n\\t\\t\\t<li class=\"color-set-0a\" ><a href=\"hotlink_go.php?id=16\" target=\"_blank\"><i class=\"fas fa-user\"></i> \\xe6\\x9c\\x8d\\xe5\\x8b\\x99\\xe5\\x8a\\xa9\\xe5\\xad\\xb8(\\xe5\\xb7\\xa5\\xe8\\xae\\x80)\\xe5\\xb0\\x88\\xe5\\x8d\\x80</a></li>\\r\\n\\t\\t\\t<li class=\"color-set-0a\" ><a href=\"hotlink_go.php?id=20\" target=\"_blank\"><i class=\"fas fa-graduation-cap\"></i>\\xe7\\x8e\\x8b\\xe5\\xad\\x90\\xe6\\xbf\\xb1\\xe5\\x85\\x88\\xe7\\x94\\x9f\\xe7\\xae\\xa1\\xe7\\x90\\x86\\xe8\\xac\\x9b\\xe5\\xba\\xa7</a></li>\\r\\n\\t\\t</ul>\\r\\n                </div>\\r\\n              </div>\\r\\n                  <div class=\"cleaner nopadded enable-mobile-xs enable-mobile-sm\"></div> \\r\\n  \\r\\n              <div class=\"col-md-6 nopadded \">\\r\\n                <div class=\"col-md-12 nopadded\">\\r\\n                  <div class=\"col-md-12 nopadded\">\\r\\n                    <h2 class=\"fg-title f-color-gray\"><span>\\xe6\\xa0\\xa1\\xe5\\x85\\xa7\\xe9\\x80\\xa3\\xe7\\xb5\\x90</span></h2>\\r\\n                  </div>\\r\\n                  <div class=\"cleaner nopadded enable-mobile-xs enable-mobile-md\"></div> \\r\\n                  <div class=\"col-md-12 nopadded \">\\r\\n                    \\r\\n\\r\\n\\t<div class=\"cleaner padded-b5\"></div>\\r\\n\\t<ul class=\" hotlink-fg\">\\r\\n\\t\\t\\t<li class=\"color-set-0a\"><a href=\"hotlink_go.php?id=47\" target=\"_blank\">\\xe6\\xa0\\xa1\\xe5\\x9c\\x92\\xe5\\xae\\x89\\xe5\\x85\\xa8\\xe5\\xb0\\x88\\xe5\\x8d\\x80</a></li>\\r\\n\\t\\t\\t<li class=\"color-set-0a\"><a href=\"hotlink_go.php?id=42\" target=\"_blank\">\\xe6\\x99\\xba\\xe8\\xb2\\xa1\\xe6\\xac\\x8a\\xe5\\xae\\xa3\\xe5\\xb0\\x8e\\xe7\\xb6\\xb2</a></li>\\r\\n\\t\\t\\t<li class=\"color-set-0a\"><a href=\"hotlink_go.php?id=43\" target=\"_blank\">\\xe6\\x80\\xa7\\xe5\\x88\\xa5\\xe5\\xb9\\xb3\\xe7\\xad\\x89\\xe5\\xa7\\x94\\xe5\\x93\\xa1\\xe6\\x9c\\x83</a></li>\\r\\n\\t\\t\\t<li class=\"color-set-0a\"><a href=\"hotlink_go.php?id=44\" target=\"_blank\">\\xe6\\xa0\\xa1\\xe5\\x8b\\x99\\xe8\\x88\\x87\\xe8\\xb2\\xa1\\xe5\\x8b\\x99\\xe8\\xb3\\x87\\xe8\\xa8\\x8a</a></li>\\r\\n\\t\\t\\t<li class=\"color-set-0a\"><a href=\"hotlink_go.php?id=45\" target=\"_blank\">\\xe5\\xad\\xb8\\xe9\\x9b\\x9c\\xe8\\xb2\\xbb\\xe5\\xb0\\x88\\xe5\\x8d\\x80</a></li>\\r\\n\\t\\t\\t<li class=\"color-set-0a\"><a href=\"hotlink_go.php?id=46\" target=\"_blank\">\\xe6\\xa0\\xa1\\xe5\\x9c\\x92AED</a></li>\\r\\n\\t\\t\\t<li class=\"color-set-0a\"><a href=\"hotlink_go.php?id=48\" target=\"_blank\">\\xe9\\x95\\xb7\\xe6\\xa6\\xae\\xe7\\xad\\x96\\xe7\\x95\\xa5\\xe8\\x81\\xaf\\xe7\\x9b\\x9f</a></li>\\r\\n\\t\\t</ul>\\r\\n \\r\\n                  </div>\\r\\n                </div>\\r\\n                <div class=\"cleaner nopadded\"></div> \\r\\n                <div class=\"col-md-12 nopadded\">\\r\\n                  <div class=\"col-md-12 nopadded\">\\r\\n                    <h2 class=\"fg-title f-color-gray\"><span>\\xe5\\x85\\xb6\\xe4\\xbb\\x96\\xe9\\x80\\xa3\\xe7\\xb5\\x90</span></h2>\\r\\n                  </div>\\r\\n                  <div class=\"cleaner nopadded enable-mobile-xs enable-mobile-md\"></div> \\r\\n                  <div class=\"col-md-12 nopadded \">\\r\\n                    \\r\\n\\r\\n\\t<div class=\"cleaner padded-b5\"></div>\\r\\n\\t<ul class=\"hotlink-fg \">\\r\\n\\t\\t\\t<li class=\"color-set-0a\"><a href=\"hotlink_go.php?id=60\" target=\"_blank\">TWCERT/CC</a></li>\\r\\n\\t\\t\\t<li class=\"color-set-0a\"><a href=\"hotlink_go.php?id=61\" target=\"_blank\">\\xe5\\x9c\\x8b\\xe9\\x9a\\x9b\\xe5\\xad\\xb8\\xe7\\x94\\x9f\\xe8\\xad\\x89</a></li>\\r\\n\\t\\t\\t<li class=\"color-set-0a\"><a href=\"hotlink_go.php?id=62\" target=\"_blank\">\\xe9\\xab\\x98\\xe6\\x95\\x99\\xe5\\x89\\xb5\\xe6\\x96\\xb0\\xe8\\xbd\\x89\\xe5\\x9e\\x8b</a></li>\\r\\n\\t\\t\\t<li class=\"color-set-0a\"><a href=\"hotlink_go.php?id=63\" target=\"_blank\">\\xe5\\xad\\xb8\\xe7\\x94\\x9f\\xe8\\x97\\xa5\\xe7\\x89\\xa9\\xe6\\xbf\\xab\\xe7\\x94\\xa8\\xe5\\xb0\\x88\\xe5\\x8d\\x80</a></li>\\r\\n\\t\\t\\t<li class=\"color-set-0a\"><a href=\"hotlink_go.php?id=64\" target=\"_blank\">\\xe9\\x9d\\x92\\xe5\\xb9\\xb4\\xe5\\x9c\\x93\\xe5\\xa4\\xa2\\xe7\\xb6\\xb2</a></li>\\r\\n\\t\\t\\t<li class=\"color-set-0a\"><a href=\"hotlink_go.php?id=65\" target=\"_blank\">\\xe5\\x93\\x81\\xe6\\xa0\\xbc\\xe6\\x95\\x99\\xe8\\x82\\xb2\\xe8\\xb3\\x87\\xe6\\xba\\x90\\xe7\\xb6\\xb2</a></li>\\r\\n\\t\\t\\t<li class=\"color-set-0a\"><a href=\"hotlink_go.php?id=66\" target=\"_blank\">\\xe7\\xb6\\xa0\\xe8\\x89\\xb2\\xe7\\x94\\x9f\\xe6\\xb4\\xbb\\xe8\\xb3\\x87\\xe8\\xa8\\x8a\\xe7\\xb6\\xb2</a></li>\\r\\n\\t\\t\\t<li class=\"color-set-0a\"><a href=\"hotlink_go.php?id=67\" target=\"_blank\">RICH\\xe8\\x81\\xb7\\xe5\\xa0\\xb4\\xe9\\xab\\x94\\xe9\\xa9\\x97\\xe7\\xb6\\xb2</a></li>\\r\\n\\t\\t</ul>\\t\\r\\n \\r\\n                  </div>\\r\\n                </div>\\t\\t\\t\\t\\t\\t\\t\\r\\n                <div class=\"cleaner nopadded\"></div> \\r\\n              </div>\\r\\n             </div>\\r\\n\\t\\t\\t\\t\\t\\t<div class=\"cleaner nopadded enable-mobile-xs\"> </div>\\r\\n\\t\\t\\t\\t\\t\\t\\r\\n\\t\\t\\t\\t\\t</li>\\t\\t\\t\\t\\t\\r\\n\\t\\t\\t\\t</ul>\\r\\n\\t\\t\\t\\t<div class=\"cleaner nopadded\"></div>\\r\\n\\r\\n\\t\\t\\t</div>\\r\\n\\t\\t\\t<!--<div class=\"col-sm-1 nopadded\"> </div>-->\\r\\n\\t\\t</div>\\r\\n\\t\\t<div class=\"cleaner nopadded\"></div>\\r\\n\\r\\n\\t\\t<div class=\"color-bg-gray fg-mobile-menu\"> <!--  -->\\r\\n\\t\\t\\t<div class=\"width footer-menu\">\\r\\n\\t\\t\\t\\t<ul class=\"fg-menu menu-at-footer\"> <!-- fg-menu -->\\r\\n\\t\\t\\t\\t<li><a id=\\'nav_1\\' href=\"./about01.php\" >\\xe9\\x97\\x9c\\xe6\\x96\\xbc\\xe9\\x95\\xb7\\xe6\\xa6\\xae</a></li>\\r\\n<li><a id=\\'nav_2\\' href=\"./feature01.php\">\\xe7\\x89\\xb9\\xe8\\x89\\xb2\\xe9\\x95\\xb7\\xe6\\xa6\\xae</a></li>\\r\\n<li><a id=\\'nav_3\\' href=\"./academy_db.php\">\\xe6\\x95\\x99\\xe5\\xad\\xb8\\xe7\\xa0\\x94\\xe7\\xa9\\xb6</a></li>\\r\\n<li><a id=\\'nav_4\\' href=\"./administrative_db.php\">\\xe8\\xa1\\x8c\\xe6\\x94\\xbf\\xe6\\x94\\xaf\\xe6\\x8f\\xb4</a></li>\\r\\n<li><a id=\\'nav_5\\' href=\"http://dweb.cjcu.edu.tw/intl\"  target=\"_blank\">\\xe5\\x9c\\x8b\\xe9\\x9a\\x9b\\xe4\\xba\\xa4\\xe6\\xb5\\x81</a></li>\\r\\n<li><a id=\\'nav_6\\' href=\"http://dweb.cjcu.edu.tw/admission\"  target=\"_blank\">\\xe6\\x8b\\x9b\\xe7\\x94\\x9f\\xe8\\xb3\\x87\\xe8\\xa8\\x8a</a></li>\\r\\n<!--<li><a id=\\'nav_7\\' href=\"news.php\">\\xe6\\x96\\xb0\\xe8\\x81\\x9e\\xe4\\xb8\\xad\\xe5\\xbf\\x83</a></li>-->\\r\\n<li><a id=\\'nav_8\\' href=\"https://dweb.cjcu.edu.tw/security?lang=zh-TW\"  target=\"_blank\">\\xe6\\xa0\\xa1\\xe5\\x9c\\x92\\xe5\\xae\\x89\\xe5\\x85\\xa8</a></li>\\r\\n<li><a id=\\'nav_9\\' href=\"./service.php\">\\xe6\\xa0\\xa1\\xe5\\x9c\\x92\\xe6\\x9c\\x8d\\xe5\\x8b\\x99</a></li>\\r\\n\\r\\n<li><a id=\\'nav_10\\' href=\"/newstu\"  target=\"_blank\">\\xe6\\x96\\xb0\\xe7\\x94\\x9f\\xe5\\xb0\\x88\\xe5\\x8d\\x80</a></li>\\r\\n<li><a id=\\'nav_11\\' href=\"https://dweb.cjcu.edu.tw/containment/\"  target=\"_blank\">\\xe9\\x98\\xb2\\xe7\\x96\\xab\\xe5\\xb0\\x88\\xe5\\x8d\\x80</a></li>\\r\\n<li><a id=\\'nav_12\\' href=\"./public.php\">\\xe5\\x85\\xac\\xe9\\x96\\x8b\\xe8\\xb3\\x87\\xe8\\xa8\\x8a</a></li>\\r\\n<li><a id=\\'nav_13\\' href=\"./guest03.php\">\\xe8\\xa8\\xaa\\xe5\\xae\\xa2\\xe5\\x85\\xa5\\xe5\\x8f\\xa3</a></li>\\r\\n\\t\\t\\t\\t</ul>\\t\\t\\r\\n\\t\\t\\t</div>\\r\\n\\t\\t</div>\\r\\n\\t\\t<div class=\"cleaner nopadded\"></div>\\r\\n\\t\\t<footer class=\"footer-block color-bg-gray bottom-line\">\\r\\n\\t\\r\\n\\r\\n\\t\\t<div class=\"col-sm-6 col-cj-6 col-xs-12 nopadded-lr-xs\">\\r\\n\\t\\t\\t<div class=\"foot-left enable-mobile-sm\"> \\r\\n\\t\\t\\t\\t<ul class=\"common-footer kind-at-footer\">\\r\\n\\t\\t\\t\\t\\t\\r\\n\\t\\t\\t\\t\\t\\t<li><a href=\"./service.php\">\\xe5\\x9c\\xa8\\xe6\\xa0\\xa1\\xe5\\xad\\xb8\\xe7\\x94\\x9f</a></li>\\r\\n\\t\\t\\t\\t\\t\\t<li><a href=\"./newstu\">\\xe6\\x96\\xb0\\xe7\\x94\\x9f\\xe5\\xb0\\x88\\xe5\\x8d\\x80</a></li>\\r\\n\\t\\t\\t\\t\\t\\t<li><a href=\"/en/overseas_student.php\">Overseas Students</a></li>\\r\\n\\t\\t\\t\\t\\t\\t<li><a href=\"./service01.php\">\\xe6\\x95\\x99\\xe8\\x81\\xb7\\xe5\\x93\\xa1\\xe5\\xb7\\xa5</a></li>\\r\\n\\t\\t\\t\\t\\t\\t<li><a href=\"./guest03.php\">\\xe8\\xa8\\xaa\\xe5\\xae\\xa2\\xe5\\x85\\xa5\\xe5\\x8f\\xa3</a></li>\\r\\n\\t\\t\\t\\t</ul>\\r\\n\\t\\t\\t</div>\\r\\n\\t\\t\\t<div class=\"foot-left enable-mobile-sm\"> \\r\\n\\t\\t\\t\\t<ul class=\"common-footer\">\\r\\n        \\t\\r\\n\\t\\t\\t\\t\\t<li><a class href=\"calendar.php\"><i class=\"far fa-calendar-alt\"></i> \\xe8\\xa1\\x8c\\xe4\\xba\\x8b\\xe6\\x9b\\x86</a>\\t</li>\\r\\n          <li><a href=\"about06.php\"><i class=\"fas fa-map-marker-alt\"></i> \\xe9\\x95\\xb7\\xe6\\xa6\\xae\\xe4\\xbd\\x8d\\xe7\\xbd\\xae</a></li>\\r\\n\\t\\t\\t\\t\\t<li><a href=\"/shalom\" target=\"_blank\"><i class=\"far fa-heart\"></i> \\xe6\\x95\\x99\\xe8\\x81\\xb7\\xe5\\x93\\xa1\\xe9\\x97\\x9c\\xe6\\x87\\xb7</a></li>\\r\\n          <li><a href=\\'http://cjcu.tw/s/cjcutv\\' target=\"_blank\"><i class=\"fas fa-tv\"></i> CJCUTV</a></li>\\r\\n\\t\\t\\t\\t\\t<li><a href=\"lang.php\"><i class=\"fas fa-globe-asia\"></i> Language</a></li>\\r\\n\\t\\t\\t\\t</ul>\\r\\n\\t\\t\\t</div>\\r\\n\\t\\t\\t<div class=\"foot-left\">\\r\\n\\t\\t\\t\\t<ul>\\r\\n\\t\\t\\t\\t\\t<li>\\r\\n\\t\\t\\t\\t\\t\\t<i class=\"fas fa-map-marked-alt\"></i>\\r\\n\\t\\t\\t\\t\\t\\t<span class=\"hidden-xs\">\\xe5\\x9c\\xb0\\xe5\\x9d\\x80:</span>\\r\\n\\t\\t\\t\\t\\t\\t<span>711301 \\xe5\\x8f\\xb0\\xe5\\x8d\\x97\\xe5\\xb8\\x82\\xe6\\xad\\xb8\\xe4\\xbb\\x81\\xe5\\x8d\\x80\\xe9\\x95\\xb7\\xe5\\xa4\\xa7\\xe8\\xb7\\xaf\\xe4\\xb8\\x80\\xe8\\x99\\x9f</span>\\r\\n\\t\\t\\t\\t\\t</li>\\r\\n\\t\\t\\t\\t\\t<li>\\r\\n\\t\\t\\t\\t\\t\\t<i class=\"fas fa-phone-square\"></i>\\r\\n\\t\\t\\t\\t\\t\\t<span class=\"hidden-xs\">\\xe9\\x9b\\xbb\\xe8\\xa9\\xb1:</span>\\r\\n\\t\\t\\t\\t\\t\\t<span>(06)2785123 </span>\\r\\n\\t\\t\\t\\t\\t\\t\\r\\n\\t\\t\\t\\t\\t</li>\\r\\n\\t\\t\\t\\t\\t<li>\\r\\n\\t\\t\\t\\t\\t\\t<i class=\"fas fa-envelope\"></i>\\r\\n\\t\\t\\t\\t\\t\\t<span class=\"hidden-xs\">\\xe7\\xb6\\xb2\\xe7\\xab\\x99\\xe7\\xae\\xa1\\xe7\\x90\\x86\\xe5\\x93\\xa1:</span>\\r\\n\\t\\t\\t\\t\\t\\t<span>webinfo@cjcu.edu.tw</span>\\r\\n\\t\\t\\t\\t\\t</li>\\r\\n\\t\\t\\t\\t\\t<li>\\r\\n\\t\\t\\t\\t\\t\\t<i class=\"fas fa-comment-alt\"></i>\\r\\n\\t\\t\\t\\t\\t\\t<a href=\"emergency.php\">\\xe7\\xb7\\x8a\\xe6\\x80\\xa5\\xe9\\x80\\xa3\\xe7\\xb5\\xa1</a>\\r\\n\\t\\t\\t\\t\\t\\t<i class=\"fas fa-shield-alt\"></i>\\r\\n\\t\\t\\t\\t\\t\\t<a href=\"https://dweb.cjcu.edu.tw/security?lang=zh-TW\" target=\"_blank\">\\r\\n\\t\\t\\t\\t\\t\\t\\xe6\\xa0\\xa1\\xe5\\x9c\\x92\\xe5\\xae\\x89\\xe5\\x85\\xa8 Campus Security</a>\\r\\n\\t\\t\\t\\t\\t</li>\\r\\n\\t\\t\\t\\t\\t<li><a target=\"_blank\" href=\"/isms/\">\\xe8\\xb3\\x87\\xe8\\xa8\\x8a\\xe5\\xae\\x89\\xe5\\x85\\xa8\\xe6\\x94\\xbf\\xe7\\xad\\x96</a>\\r\\n\\t\\t\\t\\t\\t\\t<span>\\xe2\\x80\\xa7</span>\\r\\n\\t\\t\\t\\t\\t\\t<a target=\"_blank\" href=\"/pims/\">\\xe5\\x80\\x8b\\xe8\\xb3\\x87\\xe4\\xbf\\x9d\\xe8\\xad\\xb7\\xe6\\x94\\xbf\\xe7\\xad\\x96</a>\\r\\n\\t\\t\\t\\t\\t</li>\\r\\n\\t\\t\\t\\t\\t<li>Copyright \\xc2\\xa9 \\xe9\\x95\\xb7\\xe6\\xa6\\xae\\xe5\\xa4\\xa7\\xe5\\xad\\xb8  <a href=\"http://cjcu.tw\">cjcu.tw</a></li>\\t\\t\\t\\t</ul>\\r\\n\\t\\t\\t</div>\\r\\n\\t\\t</div>\\r\\n\\t\\t<div class=\"col-sm-6 col-cj-6 col-xs-12 nopadded-lr-xs\">\\r\\n\\t\\t\\t<div class=\"right hidden-mobile-sm\"> \\r\\n\\t\\t\\t\\t<ul class=\"common-footer kind-at-footer\">\\r\\n\\t\\t\\t\\t\\t\\r\\n\\t\\t\\t\\t\\t\\t<li><a href=\"./service.php\">\\xe5\\x9c\\xa8\\xe6\\xa0\\xa1\\xe5\\xad\\xb8\\xe7\\x94\\x9f</a></li>\\r\\n\\t\\t\\t\\t\\t\\t<li><a href=\"./newstu\">\\xe6\\x96\\xb0\\xe7\\x94\\x9f\\xe5\\xb0\\x88\\xe5\\x8d\\x80</a></li>\\r\\n\\t\\t\\t\\t\\t\\t<li><a href=\"/en/overseas_student.php\">Overseas Students</a></li>\\r\\n\\t\\t\\t\\t\\t\\t<li><a href=\"./service01.php\">\\xe6\\x95\\x99\\xe8\\x81\\xb7\\xe5\\x93\\xa1\\xe5\\xb7\\xa5</a></li>\\r\\n\\t\\t\\t\\t\\t\\t<li><a href=\"./guest03.php\">\\xe8\\xa8\\xaa\\xe5\\xae\\xa2\\xe5\\x85\\xa5\\xe5\\x8f\\xa3</a></li>\\r\\n\\t\\t\\t\\t</ul>\\r\\n\\t\\t\\t</div>\\r\\n\\t\\t\\t<div class=\"right hidden-mobile-sm\"> \\r\\n\\t\\t\\t\\t<ul class=\"common-footer\">\\r\\n        \\t\\r\\n\\t\\t\\t\\t\\t<li><a class href=\"calendar.php\"><i class=\"far fa-calendar-alt\"></i> \\xe8\\xa1\\x8c\\xe4\\xba\\x8b\\xe6\\x9b\\x86</a>\\t</li>\\r\\n          <li><a href=\"about06.php\"><i class=\"fas fa-map-marker-alt\"></i> \\xe9\\x95\\xb7\\xe6\\xa6\\xae\\xe4\\xbd\\x8d\\xe7\\xbd\\xae</a></li>\\r\\n\\t\\t\\t\\t\\t<li><a href=\"/shalom\" target=\"_blank\"><i class=\"far fa-heart\"></i> \\xe6\\x95\\x99\\xe8\\x81\\xb7\\xe5\\x93\\xa1\\xe9\\x97\\x9c\\xe6\\x87\\xb7</a></li>\\r\\n          <li><a href=\\'http://cjcu.tw/s/cjcutv\\' target=\"_blank\"><i class=\"fas fa-tv\"></i> CJCUTV</a></li>\\r\\n\\t\\t\\t\\t\\t<li><a href=\"lang.php\"><i class=\"fas fa-globe-asia\"></i> Language</a></li>\\r\\n\\t\\t\\t\\t</ul>\\r\\n\\t\\t\\t</div>\\r\\n\\t\\t\\t<div class=\"foot-right\">\\r\\n\\t\\t\\t\\t\\t\\t\\t\\t<div class=\"common\">\\r\\n\\t\\t\\t\\t\\t<form method=\"get\" action=\"https://google.com/search\" id=\"searchForm\">\\r\\n\\t\\t\\t\\t\\t\\t<div>\\r\\n\\t\\t\\t\\t\\t\\t\\t<font color=\"\"><i class=\"fas fa-search\"></i></font>\\r\\n\\t\\t\\t\\t\\t\\t\\t<input type=\"hidden\" name=\"sitesearch\" value=\"cjcu.edu.tw\" />\\r\\n\\t\\t\\t\\t\\t\\t\\t<label class=\"hidden-all\">Search</label>\\r\\n\\t\\t\\t\\t\\t\\t\\t<div class=\"hidden-all\">Search</div>\\r\\n\\t\\t\\t\\t\\t\\t\\t<input name=\"q\" type=\"text\" placeholder=\"\\xe9\\x97\\x9c\\xe9\\x8d\\xb5\\xe5\\xad\\x97\\xe6\\x90\\x9c\\xe5\\xb0\\x8b\\xe9\\x95\\xb7\\xe6\\xa6\\xae\\xe5\\xa4\\xa7\\xe5\\xad\\xb8...\" />\\r\\n\\t\\t\\t\\t\\t\\t</div>\\r\\n\\t\\t\\t\\t\\t</form>\\r\\n\\t\\t\\t\\t</div>\\t\\t\\t\\t<ul>\\r\\n\\t\\t\\t\\t\\t<li>\\r\\n\\t\\t\\t\\t\\t\\t<a href=\"https://www.facebook.com/cjcu.tw\" target=\"_blank\"><span class=\"fab fa-facebook-square fa-3x\"></span></a>\\xe3\\x80\\x80\\r\\n\\t\\t\\t\\t\\t\\t<a href=\"https://www.youtube.com/channel/UC5lyBO4Z-psxnHxVcb3Vn3Q/\" target=\"_blank\"><span class=\"fab fa-youtube-square fa-3x\"></span></a>\\xe3\\x80\\x80\\t\\t<a href=\"https://www.instagram.com/cjcuuniversity/\" target=\"_blank\"><i class=\"fab fa-instagram-square fa-3x\"></i></a>\\xe3\\x80\\x80\\r\\n\\t\\t\\t\\t\\t\\t<a href=\"https://line.me/R/ti/p/%40xiw8189l\"><span class=\"fab fa-line fa-3x\"></span></a>\\xe3\\x80\\x80\\r\\n\\t\\t\\t\\t\\t</li>\\r\\n\\t\\t\\t\\t</ul>\\r\\n\\t\\t\\t</div>\\r\\n\\t\\t</div>\\r\\n\\r\\n\\t<div class=\"cleaner\"></div>\\r\\n</footer>\\r\\n\\t</div>\\r\\n\\r\\n    <a id=\"top\"><div class=\"hidden-all\">Gotop Top</div></a>\\r\\n</body>\\r\\n</html>'\n"
          ],
          "name": "stdout"
        }
      ]
    },
    {
      "cell_type": "code",
      "metadata": {
        "id": "df4y-5e5EMux"
      },
      "source": [
        "with request.urlopen(src)as response:\n",
        "    data=response.read().decode(\"utf-8\") #utf-8解碼\n",
        "print(data)"
      ],
      "execution_count": null,
      "outputs": []
    },
    {
      "cell_type": "markdown",
      "metadata": {
        "id": "ek1zEUFwQVh2"
      },
      "source": [
        "#讀取台南市政府opendata"
      ]
    },
    {
      "cell_type": "code",
      "metadata": {
        "id": "Ry3Q5wRVEMux",
        "colab": {
          "base_uri": "https://localhost:8080/"
        },
        "outputId": "5161bb11-0474-4459-dec2-833cfacf8694"
      },
      "source": [
        "#串接、擷以公開資料 \n",
        "import urllib .request as request\n",
        "src=\"https://data.tainan.gov.tw/api/3/action/datastore_search?resource_id=1512f06a-e8d3-4e14-a34a-cc8c4d259744&limit=5\"\n",
        "with request.urlopen(src)as response:\n",
        "    data=response.read().decode(\"utf-8\") \n",
        "pprint(data)"
      ],
      "execution_count": null,
      "outputs": [
        {
          "output_type": "stream",
          "text": [
            "('{\"help\": '\n",
            " '\"https://data.tainan.gov.tw/api/3/action/help_show?name=datastore_search\", '\n",
            " '\"success\": true, \"result\": {\"include_total\": true, \"resource_id\": '\n",
            " '\"1512f06a-e8d3-4e14-a34a-cc8c4d259744\", \"fields\": [{\"type\": \"int\", \"id\": '\n",
            " '\"_id\"}, {\"type\": \"text\", \"id\": \"\\\\u6c42\\\\u624d\\\\u5ee0\\\\u5546\"}, {\"type\": '\n",
            " '\"text\", \"id\": \"\\\\u5730\\\\u5740\"}, {\"type\": \"text\", \"id\": \"\\\\u8077\\\\u7a31\"}, '\n",
            " '{\"type\": \"text\", \"id\": \"\\\\u5de5\\\\u4f5c\\\\u6642\\\\u9593\"}, {\"type\": \"text\", '\n",
            " '\"id\": \"\\\\u5de5\\\\u4f5c\\\\u5167\\\\u5bb9/\\\\u61c9\\\\u5fb5\\\\u65b9\\\\u5f0f\"}, {\"type\": '\n",
            " '\"text\", \"id\": \"\\\\u5f85\\\\u9047\"}, {\"type\": \"text\", \"id\": '\n",
            " '\"\\\\u6559\\\\u80b2\\\\u7a0b\\\\u5ea6\"}, {\"type\": \"numeric\", \"id\": '\n",
            " '\"\\\\u7f3a\\\\u984d\"}, {\"type\": \"text\", \"id\": \"\\\\u806f\\\\u7d61\\\\u4eba\"}, {\"type\": '\n",
            " '\"text\", \"id\": \"\\\\u96fb\\\\u8a71\"}], \"records_format\": \"objects\", \"records\": '\n",
            " '[{\"_id\":1,\"求才廠商\":\"大新營加油站有限公司\",\"地址\":\"台南市新營區復興路299號\",\"職稱\":\"加油服務生\",\"工作時間\":\"日班:06時30分-14時30分\",\"工作內容/應徵方式\":\"加油員\",\"待遇\":\"時薪160元\",\"教育程度\":\"高職\",\"缺額\":1,\"聯絡人\":\"歐小姐\",\"電話\":\"06-6566878\"},{\"_id\":2,\"求才廠商\":\"宇申工程有限公司\",\"地址\":\"台南市新營區新芳街5號\",\"職稱\":\"焊接、切割工\",\"工作時間\":\"日班:08時-17時30分\",\"工作內容/應徵方式\":\"焊接半技工切割鋼材，中午休息1.5小時\",\"待遇\":\"月薪24000-30000元\",\"教育程度\":\"不拘\",\"缺額\":3,\"聯絡人\":\"張小姐\",\"電話\":\"06-6533782\"},{\"_id\":3,\"求才廠商\":\"成浤塑膠股份有限公司\",\"地址\":\"台南市新營區新工路二九號\",\"職稱\":\"手工組裝體力工\",\"工作時間\":\"夜班:00時-08時;中班:16時-24時\",\"工作內容/應徵方式\":\"塑膠製品作業人員，精修毛邊、裝箱，備履歷表親洽(不接受電洽)\",\"待遇\":\"月薪24000元\",\"教育程度\":\"國中\",\"缺額\":2,\"聯絡人\":\"黃小姐\",\"電話\":\"請親洽\"},{\"_id\":4,\"求才廠商\":\"吳淑芬記帳士事務所\",\"地址\":\"台南市新營區新東里東興六街30號\",\"職稱\":\"會計助理\",\"工作時間\":\"日班:08時30分-17時30分\",\"工作內容/應徵方式\":\"外帳會計人員\",\"待遇\":\"月薪24000-26000元\",\"教育程度\":\"高職\",\"缺額\":1,\"聯絡人\":\"吳小姐\",\"電話\":\"0988317289\"},{\"_id\":5,\"求才廠商\":\"樺煒汽車修護廠\",\"地址\":\"台南市新營區中營里東山路138號1樓\",\"職稱\":\"品管檢驗人員\",\"工作時間\":\"日班:08時-17時\",\"工作內容/應徵方式\":\"檢驗大小車、汙煙牌，需汽車大型檢驗執照、排氣檢驗執照\",\"待遇\":\"月薪30000-35000元\",\"教育程度\":\"高職\",\"缺額\":2,\"聯絡人\":\"李小姐\",\"電話\":\"06-6357259\"}], '\n",
            " '\"limit\": 5, \"_links\": {\"start\": '\n",
            " '\"/api/3/action/datastore_search?limit=5&resource_id=1512f06a-e8d3-4e14-a34a-cc8c4d259744\", '\n",
            " '\"next\": '\n",
            " '\"/api/3/action/datastore_search?offset=5&limit=5&resource_id=1512f06a-e8d3-4e14-a34a-cc8c4d259744\"}, '\n",
            " '\"total\": 133}}')\n"
          ],
          "name": "stdout"
        }
      ]
    },
    {
      "cell_type": "code",
      "metadata": {
        "id": "4-kF_EmIEMuy",
        "colab": {
          "base_uri": "https://localhost:8080/"
        },
        "outputId": "bbaeea79-a612-4097-a47c-3e2df87f8dfe"
      },
      "source": [
        "import urllib .request as request\n",
        "import json#使用JASON格式讀取\n",
        "src=\"https://data.tainan.gov.tw/api/3/action/datastore_search?resource_id=1512f06a-e8d3-4e14-a34a-cc8c4d259744&limit=5\"\n",
        "with request.urlopen(src) as response:\n",
        "    data=json.load(response)#使用JASON格式讀取 \n",
        "pprint(data)"
      ],
      "execution_count": null,
      "outputs": [
        {
          "output_type": "stream",
          "text": [
            "{'help': 'https://data.tainan.gov.tw/api/3/action/help_show?name=datastore_search',\n",
            " 'result': {'_links': {'next': '/api/3/action/datastore_search?offset=5&limit=5&resource_id=1512f06a-e8d3-4e14-a34a-cc8c4d259744',\n",
            "                       'start': '/api/3/action/datastore_search?limit=5&resource_id=1512f06a-e8d3-4e14-a34a-cc8c4d259744'},\n",
            "            'fields': [{'id': '_id', 'type': 'int'},\n",
            "                       {'id': '求才廠商', 'type': 'text'},\n",
            "                       {'id': '地址', 'type': 'text'},\n",
            "                       {'id': '職稱', 'type': 'text'},\n",
            "                       {'id': '工作時間', 'type': 'text'},\n",
            "                       {'id': '工作內容/應徵方式', 'type': 'text'},\n",
            "                       {'id': '待遇', 'type': 'text'},\n",
            "                       {'id': '教育程度', 'type': 'text'},\n",
            "                       {'id': '缺額', 'type': 'numeric'},\n",
            "                       {'id': '聯絡人', 'type': 'text'},\n",
            "                       {'id': '電話', 'type': 'text'}],\n",
            "            'include_total': True,\n",
            "            'limit': 5,\n",
            "            'records': [{'_id': 1,\n",
            "                         '地址': '台南市新營區復興路299號',\n",
            "                         '工作內容/應徵方式': '加油員',\n",
            "                         '工作時間': '日班:06時30分-14時30分',\n",
            "                         '待遇': '時薪160元',\n",
            "                         '教育程度': '高職',\n",
            "                         '求才廠商': '大新營加油站有限公司',\n",
            "                         '缺額': 1,\n",
            "                         '聯絡人': '歐小姐',\n",
            "                         '職稱': '加油服務生',\n",
            "                         '電話': '06-6566878'},\n",
            "                        {'_id': 2,\n",
            "                         '地址': '台南市新營區新芳街5號',\n",
            "                         '工作內容/應徵方式': '焊接半技工切割鋼材，中午休息1.5小時',\n",
            "                         '工作時間': '日班:08時-17時30分',\n",
            "                         '待遇': '月薪24000-30000元',\n",
            "                         '教育程度': '不拘',\n",
            "                         '求才廠商': '宇申工程有限公司',\n",
            "                         '缺額': 3,\n",
            "                         '聯絡人': '張小姐',\n",
            "                         '職稱': '焊接、切割工',\n",
            "                         '電話': '06-6533782'},\n",
            "                        {'_id': 3,\n",
            "                         '地址': '台南市新營區新工路二九號',\n",
            "                         '工作內容/應徵方式': '塑膠製品作業人員，精修毛邊、裝箱，備履歷表親洽(不接受電洽)',\n",
            "                         '工作時間': '夜班:00時-08時;中班:16時-24時',\n",
            "                         '待遇': '月薪24000元',\n",
            "                         '教育程度': '國中',\n",
            "                         '求才廠商': '成浤塑膠股份有限公司',\n",
            "                         '缺額': 2,\n",
            "                         '聯絡人': '黃小姐',\n",
            "                         '職稱': '手工組裝體力工',\n",
            "                         '電話': '請親洽'},\n",
            "                        {'_id': 4,\n",
            "                         '地址': '台南市新營區新東里東興六街30號',\n",
            "                         '工作內容/應徵方式': '外帳會計人員',\n",
            "                         '工作時間': '日班:08時30分-17時30分',\n",
            "                         '待遇': '月薪24000-26000元',\n",
            "                         '教育程度': '高職',\n",
            "                         '求才廠商': '吳淑芬記帳士事務所',\n",
            "                         '缺額': 1,\n",
            "                         '聯絡人': '吳小姐',\n",
            "                         '職稱': '會計助理',\n",
            "                         '電話': '0988317289'},\n",
            "                        {'_id': 5,\n",
            "                         '地址': '台南市新營區中營里東山路138號1樓',\n",
            "                         '工作內容/應徵方式': '檢驗大小車、汙煙牌，需汽車大型檢驗執照、排氣檢驗執照',\n",
            "                         '工作時間': '日班:08時-17時',\n",
            "                         '待遇': '月薪30000-35000元',\n",
            "                         '教育程度': '高職',\n",
            "                         '求才廠商': '樺煒汽車修護廠',\n",
            "                         '缺額': 2,\n",
            "                         '聯絡人': '李小姐',\n",
            "                         '職稱': '品管檢驗人員',\n",
            "                         '電話': '06-6357259'}],\n",
            "            'records_format': 'objects',\n",
            "            'resource_id': '1512f06a-e8d3-4e14-a34a-cc8c4d259744',\n",
            "            'total': 133},\n",
            " 'success': True}\n"
          ],
          "name": "stdout"
        }
      ]
    },
    {
      "cell_type": "code",
      "metadata": {
        "id": "IQhUhmUGEMuy",
        "colab": {
          "base_uri": "https://localhost:8080/"
        },
        "outputId": "cb1339e3-9ad1-4cce-fee5-7c1a7fbe58bb"
      },
      "source": [
        "#將公司名稱列表出來 \n",
        "clist = data[\"result\"][\"records\"] \n",
        "with open(\"data.txt\",\"w\",encoding=\"utf-8\") as file:\n",
        "    for company in clist:\n",
        "        print(company[\"求才廠商\"]+\"\\n\")"
      ],
      "execution_count": null,
      "outputs": [
        {
          "output_type": "stream",
          "text": [
            "大新營加油站有限公司\n",
            "\n",
            "宇申工程有限公司\n",
            "\n",
            "成浤塑膠股份有限公司\n",
            "\n",
            "吳淑芬記帳士事務所\n",
            "\n",
            "樺煒汽車修護廠\n",
            "\n"
          ],
          "name": "stdout"
        }
      ]
    },
    {
      "cell_type": "code",
      "metadata": {
        "id": "RPesylxUVUxe"
      },
      "source": [
        ""
      ],
      "execution_count": null,
      "outputs": []
    }
  ]
}